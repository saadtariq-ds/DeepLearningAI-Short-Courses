{
 "cells": [
  {
   "cell_type": "markdown",
   "id": "efe5f83f-ac3f-4cc6-a80e-04f9fbb340f9",
   "metadata": {},
   "source": [
    "## Setup and Import Libraries"
   ]
  },
  {
   "cell_type": "code",
   "execution_count": 2,
   "id": "60e2b488-96c9-4da7-8112-e6c9e2e95083",
   "metadata": {},
   "outputs": [],
   "source": [
    "import os\n",
    "import chromadb\n",
    "from utils import word_wrap\n",
    "from pypdf import PdfReader\n",
    "from openai import OpenAI\n",
    "from langchain_text_splitters import (\n",
    "    RecursiveCharacterTextSplitter,\n",
    "    SentenceTransformersTokenTextSplitter\n",
    ")\n",
    "from chromadb.utils.embedding_functions import SentenceTransformerEmbeddingFunction\n",
    "from chromadb.config import DEFAULT_TENANT, DEFAULT_DATABASE, Settings\n",
    "from dotenv import load_dotenv"
   ]
  },
  {
   "cell_type": "code",
   "execution_count": 3,
   "id": "700cb9a9-3fa4-49c2-838d-94617cdbe21b",
   "metadata": {},
   "outputs": [
    {
     "data": {
      "text/plain": [
       "True"
      ]
     },
     "execution_count": 3,
     "metadata": {},
     "output_type": "execute_result"
    }
   ],
   "source": [
    "load_dotenv()"
   ]
  },
  {
   "cell_type": "code",
   "execution_count": 4,
   "id": "7e173aa5-8813-4c70-8657-d7e28e33ed60",
   "metadata": {},
   "outputs": [],
   "source": [
    "os.environ[\"OPENAI_API_KEY\"] = os.getenv(\"OPENAI_API_KEY\")"
   ]
  },
  {
   "cell_type": "code",
   "execution_count": 7,
   "id": "d405a2ab-471e-40ce-8088-54bd349032c2",
   "metadata": {},
   "outputs": [],
   "source": [
    "openai_client = OpenAI()"
   ]
  },
  {
   "cell_type": "code",
   "execution_count": 8,
   "id": "e664c8a4-975a-4c0b-b568-946968781260",
   "metadata": {},
   "outputs": [],
   "source": [
    "chroma_client = chromadb.Client()"
   ]
  },
  {
   "cell_type": "markdown",
   "id": "b83b632c-fb5f-480f-94e2-b3126e3a0533",
   "metadata": {},
   "source": [
    "## Reading from PDF"
   ]
  },
  {
   "cell_type": "code",
   "execution_count": 9,
   "id": "b7c91f8d-e52f-49e9-af67-d75804e7a53e",
   "metadata": {},
   "outputs": [],
   "source": [
    "reader = PdfReader(\"data/microsoft_annual_report_2022.pdf\")"
   ]
  },
  {
   "cell_type": "code",
   "execution_count": 10,
   "id": "302b5333-3bb4-425b-9eba-eaf6e1373319",
   "metadata": {},
   "outputs": [],
   "source": [
    "pdf_texts = [p.extract_text().strip() for p in reader.pages]"
   ]
  },
  {
   "cell_type": "code",
   "execution_count": 11,
   "id": "e15b5597-38dc-4487-b266-19b9a2cca83d",
   "metadata": {},
   "outputs": [],
   "source": [
    "pdf_texts = [text for text in pdf_texts if text]"
   ]
  },
  {
   "cell_type": "code",
   "execution_count": 12,
   "id": "b36a299d-2e44-4a5b-b4fe-c25e15a9f1b7",
   "metadata": {},
   "outputs": [
    {
     "name": "stdout",
     "output_type": "stream",
     "text": [
      "1 \n",
      "Dear shareholders, colleagues, customers, and partners:  \n",
      "We are\n",
      "living through a period of historic economic, societal, and\n",
      "geopolitical change. The world in 2022 looks nothing like \n",
      "the world in\n",
      "2019. As I write this, inflation is at a 40 -year high, supply chains\n",
      "are stretched, and the war in Ukraine is \n",
      "ongoing. At the same time, we\n",
      "are entering a technological era with the potential to power awesome\n",
      "advancements \n",
      "across every sector of our economy and society. As the\n",
      "world’s largest software company, this places us at a historic\n",
      "\n",
      "intersection of opportunity and responsibility to the world around us.\n",
      " \n",
      "Our mission to empower every person and every organization on the\n",
      "planet to achieve more has never been more \n",
      "urgent or more necessary.\n",
      "For all the uncertainty in the world, one thing is clear: People and\n",
      "organizations in every \n",
      "industry are increasingly looking to digital\n",
      "technology to overcome today’s challenges and emerge stronger. And no\n",
      "\n",
      "company is better positioned to help them than Microsoft.  \n",
      "Every day\n",
      "this past fiscal year I have had the privilege to witness our customers\n",
      "use our platforms and tools to connect \n",
      "what technology can do with\n",
      "what the world needs it to do.  \n",
      "Here are just a few examples:  \n",
      "•\n",
      "Ferrovial, which builds and manages some of the world’s busiest\n",
      "airports and highways, is using our cloud \n",
      "infrastructure to build\n",
      "safer roads as it prepares for a future of autonomous transportation. \n",
      "\n",
      "• Peace Parks Foundation, a nonprofit helping protect natural\n",
      "ecosystems in Southern Africa, is using Microsoft \n",
      "Dynamics 365 and\n",
      "Power BI to secure essential funding, as well as our Azure AI and IoT\n",
      "solutions to help \n",
      "rangers scale their park maintenance and wildlife\n",
      "crime prevention work.  \n",
      "• One of the world’s largest robotics\n",
      "companies, Kawasaki Heavy Industries, is using the breadth of our tools\n",
      "—\n",
      "from Azure IoT and HoloLens—to create an industrial metaverse\n",
      "solution that brings its distributed workforce \n",
      "together with its\n",
      "network of connected equipment to improve productivity and keep\n",
      "employees safe.  \n",
      "• Globo, the biggest media and TV company in Brazil,\n",
      "is using Power Platform to empower its employees to \n",
      "build their own\n",
      "solutions for everything from booking sets to setting schedules.  \n",
      "•\n",
      "And Ørsted, which produces a quarter of the world’s wind energy, is\n",
      "using the Microsoft Intelligent Data \n",
      "Platform to turn data from its\n",
      "offshore turbines into insights for predictive maintenance.  \n",
      "Amid this\n",
      "dynamic environment, we delivered record results in fiscal year 2022:\n",
      "We reported $198  billion in revenue and \n",
      "$83 billion in operating\n",
      "income. And the Microsoft Cloud surpassed $100 billion in annualized\n",
      "revenue for the first time.  \n",
      "OUR RESPONSIBILITY  \n",
      "As a corporation,\n",
      "our purpose and actions must be aligned with addressing the world’s\n",
      "problems, not creating new ones. \n",
      "At our very core, we need to deliver\n",
      "innovation that helps drive broad economic growth. We, as a company,\n",
      "will do well \n",
      "when the world around us does well.  \n",
      "That’s what I\n",
      "believe will lead to widespread human progress and ultimately improve\n",
      "the lives of everyone. There is no \n",
      "more powerful input than digital\n",
      "technology to drive the world’s economic output. This is the core\n",
      "thesis for our being as a \n",
      "company, but it’s not enough. As we drive\n",
      "global economic growth, we must also commit to creating a more\n",
      "inclusive, \n",
      "equitable, sustainable, and trusted future.  \n",
      "Support\n",
      "inclusive economic growth  \n",
      "We must ensure the growth we drive reaches\n",
      "every person, organization, community, and country. This starts with\n",
      "\n",
      "increasing access to digital skills. This year alone, more than 23 \n",
      "million people accessed digital skills training as part of \n",
      "our global\n",
      "skills initiative.\n"
     ]
    }
   ],
   "source": [
    "print(word_wrap(pdf_texts[0]))"
   ]
  },
  {
   "cell_type": "markdown",
   "id": "ce5ad0e8-7625-4098-bbcb-e14621bd293f",
   "metadata": {},
   "source": [
    "## Applying Text Splitting"
   ]
  },
  {
   "cell_type": "markdown",
   "id": "bd0f7343-caa4-4441-8877-7f24405d195d",
   "metadata": {},
   "source": [
    "### RecursiveCharacterTextSplitter"
   ]
  },
  {
   "cell_type": "code",
   "execution_count": 13,
   "id": "f017aede-d0d6-4e9f-adef-71ed003d7f38",
   "metadata": {},
   "outputs": [
    {
     "name": "stdout",
     "output_type": "stream",
     "text": [
      "increased, due in large part to significant global datacenter\n",
      "expansions and the growth in Xbox sales and usage. Despite \n",
      "these\n",
      "increases, we remain dedicated to achieving a net -zero future. We\n",
      "recognize that progress won’t always be linear, \n",
      "and the rate at which\n",
      "we can implement emissions reductions is dependent on many factors that\n",
      "can fluctuate over time.  \n",
      "On the path to becoming water positive, we\n",
      "invested in 21 water replenishment projects that are expected to\n",
      "generate \n",
      "over 1.3 million cubic meters of volumetric benefits in nine\n",
      "water basins around the world. Progress toward our zero waste\n",
      "\n",
      "commitment included diverting more than 15,200 metric tons of solid\n",
      "waste otherwise headed to landfills and incinerators, \n",
      "as well as\n",
      "launching new Circular Centers to increase reuse and reduce e-waste at\n",
      "our datacenters.  \n",
      "We contracted to protect over 17,000 acres of land\n",
      "(50% more than the land we use to operate), thus achieving our\n",
      "\n",
      "Total chunks: 344\n"
     ]
    }
   ],
   "source": [
    "character_splitter = RecursiveCharacterTextSplitter(\n",
    "    separators=[\"\\n\\n\", \"\\n\", \". \", \" \", \"\"],\n",
    "    chunk_size=1000,\n",
    "    chunk_overlap=0\n",
    ")\n",
    "\n",
    "character_split_texts = character_splitter.split_text('\\n\\n'.join(pdf_texts))\n",
    "\n",
    "print(word_wrap(character_split_texts[10]))\n",
    "print(f\"\\nTotal chunks: {len(character_split_texts)}\")"
   ]
  },
  {
   "cell_type": "markdown",
   "id": "ff54eec9-6635-4718-a1ea-1147696157cf",
   "metadata": {},
   "source": [
    "### SentenceTransformersTokenTextSplitter"
   ]
  },
  {
   "cell_type": "code",
   "execution_count": 15,
   "id": "72edfa44-d75f-4a52-87a1-01a64ff699ac",
   "metadata": {},
   "outputs": [
    {
     "name": "stdout",
     "output_type": "stream",
     "text": [
      "increased, due in large part to significant global datacenter\n",
      "expansions and the growth in xbox sales and usage. despite these\n",
      "increases, we remain dedicated to achieving a net - zero future. we\n",
      "recognize that progress won ’ t always be linear, and the rate at which\n",
      "we can implement emissions reductions is dependent on many factors that\n",
      "can fluctuate over time. on the path to becoming water positive, we\n",
      "invested in 21 water replenishment projects that are expected to\n",
      "generate over 1. 3 million cubic meters of volumetric benefits in nine\n",
      "water basins around the world. progress toward our zero waste\n",
      "commitment included diverting more than 15, 200 metric tons of solid\n",
      "waste otherwise headed to landfills and incinerators, as well as\n",
      "launching new circular centers to increase reuse and reduce e - waste\n",
      "at our datacenters. we contracted to protect over 17, 000 acres of land\n",
      "( 50 % more than the land we use to operate ), thus achieving our\n",
      "\n",
      "Total chunks: 349\n"
     ]
    }
   ],
   "source": [
    "token_splitter = SentenceTransformersTokenTextSplitter(chunk_overlap=0, tokens_per_chunk=256)\n",
    "\n",
    "token_split_texts = []\n",
    "for text in character_split_texts:\n",
    "    token_split_texts += token_splitter.split_text(text)\n",
    "\n",
    "print(word_wrap(token_split_texts[10]))\n",
    "print(f\"\\nTotal chunks: {len(token_split_texts)}\")"
   ]
  },
  {
   "cell_type": "markdown",
   "id": "397659d8-e46c-4c8e-89d6-752ad6672564",
   "metadata": {},
   "source": [
    "## Adding Retriever"
   ]
  },
  {
   "cell_type": "code",
   "execution_count": 16,
   "id": "3e0e5004-0ea5-49ec-bc06-242ff6317846",
   "metadata": {},
   "outputs": [],
   "source": [
    "embedding_function = SentenceTransformerEmbeddingFunction()"
   ]
  },
  {
   "cell_type": "code",
   "execution_count": 17,
   "id": "fff44e30-52ce-4859-a901-7c962a3147f4",
   "metadata": {
    "scrolled": true
   },
   "outputs": [
    {
     "name": "stdout",
     "output_type": "stream",
     "text": [
      "[array([ 4.25626226e-02,  3.32118124e-02,  3.03401463e-02, -3.48665826e-02,\n",
      "        6.84165135e-02, -8.09091106e-02, -1.54743111e-02, -1.45090523e-03,\n",
      "       -1.67444386e-02,  6.77077025e-02, -5.05414009e-02, -4.91953939e-02,\n",
      "        5.13999686e-02,  9.19272453e-02, -7.17784464e-02,  3.95196751e-02,\n",
      "       -1.28334910e-02, -2.49474477e-02, -4.62286361e-02, -2.43575070e-02,\n",
      "        3.39497030e-02,  2.55024303e-02,  2.73171961e-02, -4.12621256e-03,\n",
      "       -3.63383293e-02,  3.69089562e-03, -2.74304431e-02,  4.79672197e-03,\n",
      "       -2.88962573e-02, -1.88707039e-02,  3.66662927e-02,  2.56958231e-02,\n",
      "        3.13128568e-02, -6.39343858e-02,  5.39440587e-02,  8.22534710e-02,\n",
      "       -4.17568088e-02, -6.99582696e-03, -2.34860461e-02, -3.07479613e-02,\n",
      "       -2.97916541e-03, -7.79094100e-02,  9.35311429e-03,  3.16285598e-03,\n",
      "       -2.22570635e-02, -1.82946678e-02, -9.61243641e-03, -3.15068662e-02,\n",
      "       -5.51971328e-03, -3.27030569e-02,  1.68029815e-01, -4.74596359e-02,\n",
      "       -5.00168130e-02, -2.65959441e-03, -4.10472192e-02, -7.00394884e-02,\n",
      "        1.82959866e-02, -3.14310975e-02, -4.74111661e-02, -2.36636177e-02,\n",
      "        5.94495423e-02, -7.20144361e-02,  4.94520785e-03, -5.53269908e-02,\n",
      "        8.74548480e-02,  2.78727170e-02, -3.97725776e-02,  3.45299542e-02,\n",
      "       -9.99202728e-02,  3.28976028e-02, -5.78042679e-02,  2.45468877e-03,\n",
      "       -2.78922897e-02, -4.99470234e-02, -4.05824892e-02,  1.19174924e-02,\n",
      "        2.04190891e-02,  7.76539221e-02,  6.35161847e-02,  1.75468978e-02,\n",
      "        2.34609134e-02, -7.91663025e-03,  1.70742925e-02,  8.64119455e-03,\n",
      "       -6.81534111e-02,  3.42961363e-02,  6.46490138e-04,  2.27354579e-02,\n",
      "        5.27936406e-02, -5.85731976e-02, -9.78411213e-02, -1.47182448e-03,\n",
      "        1.37398899e-01,  2.07938207e-03, -7.58151338e-02,  5.78657277e-02,\n",
      "       -6.06963933e-02, -6.59575537e-02, -3.36505622e-02, -3.18592824e-02,\n",
      "        1.22666582e-02,  9.37330425e-02,  6.79950640e-02, -8.43403488e-02,\n",
      "        4.40247469e-02, -4.26387340e-02,  1.11630606e-02,  1.05052136e-01,\n",
      "        2.95058321e-02, -1.85211301e-02, -2.96882633e-02, -3.37703228e-02,\n",
      "        1.49674807e-03,  3.73237059e-02, -2.02497691e-02,  5.84207959e-02,\n",
      "       -3.97916511e-02, -2.12196913e-02,  6.41811593e-03, -1.02901896e-02,\n",
      "        1.96261276e-02,  3.67974187e-03, -5.03109060e-02, -1.68970972e-02,\n",
      "        4.85449657e-02,  6.68230504e-02,  1.95363220e-02,  2.72274724e-33,\n",
      "       -3.59341055e-02,  1.56618655e-02,  9.67765525e-02, -2.85193673e-04,\n",
      "       -9.76848882e-03, -9.06847343e-02,  1.44862728e-02,  1.25907604e-02,\n",
      "        2.54358258e-02, -3.44348177e-02,  4.26290091e-03,  2.71213632e-02,\n",
      "       -2.04099603e-02,  7.68848509e-02,  3.57209481e-02, -1.34925306e-01,\n",
      "        5.65785095e-02,  1.83645133e-02,  2.25778781e-02, -3.58903147e-02,\n",
      "       -1.14567066e-02, -4.99382950e-02, -1.60123818e-02, -6.33536652e-02,\n",
      "        1.04639553e-01, -8.80160928e-02, -4.46234923e-03, -1.03009781e-02,\n",
      "       -1.76307373e-02, -2.02922951e-02,  6.70418143e-03,  9.17234495e-02,\n",
      "       -7.79504096e-03,  5.94942318e-03, -1.53488666e-02,  1.82795692e-02,\n",
      "       -1.89215019e-02,  3.98752987e-02, -3.96733265e-03,  3.34192514e-02,\n",
      "       -5.60772307e-02,  7.58126006e-02, -5.62547660e-03, -5.44552058e-02,\n",
      "        6.69844151e-02, -2.59744134e-02,  1.11995533e-01, -3.64214629e-02,\n",
      "        5.01261326e-03,  3.20099890e-02,  4.96369079e-02,  9.71159637e-02,\n",
      "       -1.15469404e-01,  6.41327351e-02, -3.39788012e-02, -9.29155946e-02,\n",
      "        4.97547761e-02, -8.61342028e-02, -8.36637989e-03, -1.37037663e-02,\n",
      "       -7.88280144e-02,  1.96544230e-02, -3.71504687e-02,  1.44761521e-02,\n",
      "       -4.94031049e-02,  5.34924492e-02,  9.13901478e-02,  3.10028959e-02,\n",
      "        3.02875992e-02,  2.13428065e-02, -4.39377539e-02, -4.29744050e-02,\n",
      "       -2.26507802e-03, -2.19441298e-02,  5.47459815e-03, -1.02438955e-02,\n",
      "        2.16780268e-02, -2.73236986e-02, -7.88217876e-04,  3.30892019e-02,\n",
      "       -7.40233483e-03,  9.82994027e-03,  1.35441246e-02, -3.27448286e-02,\n",
      "        5.60190454e-02, -6.01164736e-02,  3.11219599e-02,  3.44224237e-02,\n",
      "        2.65505090e-02, -6.80795452e-03, -1.10541638e-02, -1.44398762e-02,\n",
      "        2.27853172e-02, -2.79520266e-02, -1.62089858e-02, -3.68925045e-33,\n",
      "        2.92037558e-02,  4.67048362e-02, -4.96441536e-02,  6.32449090e-02,\n",
      "        2.84380056e-02, -2.23571714e-02,  3.34798209e-02, -1.84786897e-02,\n",
      "        1.87801030e-02,  2.41166749e-03, -8.16783458e-02,  1.00841641e-01,\n",
      "        4.90231030e-02,  3.64672653e-02, -4.55603898e-02, -7.04919398e-02,\n",
      "        2.53404081e-02, -3.26794125e-02, -4.29650098e-02, -7.25102499e-02,\n",
      "        4.13071103e-02,  5.04972115e-02,  6.47721579e-03, -3.32498644e-03,\n",
      "       -8.23566914e-02,  8.00771341e-02, -3.46538387e-02,  8.47049244e-03,\n",
      "        4.13894840e-02, -1.01476656e-02, -1.02896534e-01,  4.56712954e-02,\n",
      "        1.27960574e-02, -6.01776689e-02, -2.66277902e-02, -9.72523391e-02,\n",
      "        1.57986060e-02,  7.21913204e-02, -1.53258294e-02,  1.80712610e-03,\n",
      "        6.03953376e-02, -7.07764179e-02, -2.12787353e-02, -3.85162421e-02,\n",
      "       -5.74111454e-02, -4.25380282e-03,  3.28076631e-02, -1.75956581e-02,\n",
      "        4.97576706e-02, -7.37905176e-03, -8.35458748e-03,  4.31378223e-02,\n",
      "       -5.42915985e-02,  4.31621410e-02,  2.36886106e-02,  1.81715712e-02,\n",
      "        9.28220823e-02, -4.22290899e-03, -2.25145761e-02,  1.92882791e-02,\n",
      "       -3.68443467e-02,  1.00151941e-01,  1.77648198e-02,  2.28495635e-02,\n",
      "       -3.96768674e-02,  1.68086390e-03,  5.06691970e-02,  8.56493339e-02,\n",
      "       -2.64135320e-02, -3.26686315e-02, -3.69495898e-02, -2.09940653e-02,\n",
      "        1.77660920e-02, -7.41307437e-02, -2.46881451e-02, -3.99488918e-02,\n",
      "       -2.47680526e-02, -2.41940469e-02, -1.08164418e-02,  1.08160013e-02,\n",
      "       -3.05517353e-02,  1.05193667e-01, -8.02177191e-03, -3.28963026e-02,\n",
      "        1.48043886e-01, -7.09429607e-02, -5.02191484e-02, -1.52318850e-01,\n",
      "        2.27674171e-02,  1.38459593e-01, -7.92330727e-02, -4.16010395e-02,\n",
      "       -9.37167034e-02,  6.60182759e-02,  4.35203202e-02, -4.99797075e-08,\n",
      "       -1.05480775e-02,  6.00802638e-02,  2.88235024e-02,  7.07224384e-02,\n",
      "        3.15752998e-02, -5.91379702e-02,  5.48833758e-02,  1.63166463e-01,\n",
      "        3.47594842e-02,  2.78754346e-02,  7.12676719e-02, -6.94637280e-03,\n",
      "       -5.29043488e-02,  1.16189942e-02, -2.68350057e-02,  2.89543420e-02,\n",
      "        4.34468836e-02, -7.01200515e-02, -5.87939769e-02, -3.92193645e-02,\n",
      "       -1.72939058e-02, -3.00544892e-02, -8.11252743e-02, -4.50621322e-02,\n",
      "        5.24961539e-02, -4.92357425e-02,  8.05212483e-02,  6.58550933e-02,\n",
      "       -6.08066679e-04, -4.56641540e-02,  3.05870194e-02, -6.38606306e-03,\n",
      "       -3.17557901e-02,  8.22880957e-03,  1.07610011e-02,  1.04127720e-03,\n",
      "        1.90787222e-02,  3.22798491e-02, -1.44087439e-02,  3.57979536e-02,\n",
      "       -7.22818896e-02,  3.36329266e-02,  6.66355388e-03, -1.82062145e-02,\n",
      "       -2.04362981e-02, -2.63532926e-03, -1.85477108e-01,  1.24493549e-02,\n",
      "        2.97313407e-02, -3.85484733e-02, -9.75330174e-03, -1.36943022e-02,\n",
      "        9.18336213e-03,  8.48891884e-02,  1.27218723e-01,  5.54600060e-02,\n",
      "       -4.93616350e-02, -1.19120153e-02, -5.69792986e-02,  1.04200788e-01,\n",
      "        5.71806990e-02, -1.03950530e-01, -2.37678383e-02, -2.71690171e-02],\n",
      "      dtype=float32)]\n"
     ]
    }
   ],
   "source": [
    "print(embedding_function([token_split_texts[10]]))"
   ]
  },
  {
   "cell_type": "code",
   "execution_count": 18,
   "id": "3ec94de0-cda3-4145-bcd3-642e74816586",
   "metadata": {},
   "outputs": [],
   "source": [
    "chroma_collection = chroma_client.create_collection(\n",
    "    \"microsoft_annual_report_2022\", \n",
    "    embedding_function=embedding_function\n",
    ")"
   ]
  },
  {
   "cell_type": "code",
   "execution_count": 19,
   "id": "1ff859e8-aeac-4f31-88ae-6a5766c68df3",
   "metadata": {},
   "outputs": [
    {
     "data": {
      "text/plain": [
       "349"
      ]
     },
     "execution_count": 19,
     "metadata": {},
     "output_type": "execute_result"
    }
   ],
   "source": [
    "ids = [str(i) for i in range(len(token_split_texts))]\n",
    "\n",
    "chroma_collection.add(ids=ids, documents=token_split_texts)\n",
    "chroma_collection.count()"
   ]
  },
  {
   "cell_type": "markdown",
   "id": "86edfe1b-f838-4f76-859b-e76c70de0615",
   "metadata": {},
   "source": [
    "## Querying Retriever"
   ]
  },
  {
   "cell_type": "code",
   "execution_count": 20,
   "id": "f32bd717-408b-4509-ac3d-8de4ef6b5f26",
   "metadata": {},
   "outputs": [],
   "source": [
    "query = \"What was the total revenue?\""
   ]
  },
  {
   "cell_type": "code",
   "execution_count": 21,
   "id": "0a3c090d-9bd7-46f9-971d-5f91013e28fe",
   "metadata": {},
   "outputs": [
    {
     "name": "stdout",
     "output_type": "stream",
     "text": [
      "74 note 13 — unearned revenue unearned revenue by segment was as\n",
      "follows : ( in millions ) june 30, 2022 2021 productivity and business\n",
      "processes $ 24, 558 $ 22, 120 intelligent cloud 19, 371 17, 710 more\n",
      "personal computing 4, 479 4, 311 total $ 48, 408 $ 44, 141 changes in\n",
      "unearned revenue were as follows : ( in millions ) year ended june 30,\n",
      "2022 balance, beginning of period $ 44, 141 deferral of revenue 110,\n",
      "455 recognition of unearned revenue ( 106, 188 ) balance, end of period\n",
      "$ 48, 408 revenue allocated to remaining performance obligations, which\n",
      "includes unearned revenue and amounts that will be invoiced and\n",
      "recognized as revenue in future periods, was $ 193 billion as of june\n",
      "30, 2022, of which $ 189 billion is related to the commercial portion\n",
      "of revenue. we expect to recognize approximately 45 % of this revenue\n",
      "over the next 12 months and the remainder thereafter. note 14 — leases\n",
      "\n",
      "\n",
      "that are not sold separately. • we tested the mathematical accuracy of\n",
      "management ’ s calculations of revenue and the associated timing of\n",
      "revenue recognized in the financial statements.\n",
      "\n",
      "\n",
      "82 in addition, certain costs incurred at a corporate level that are\n",
      "identifiable and that benefit our segments are allocated to them. these\n",
      "allocated costs include legal, including settlements and fines,\n",
      "information technology, human resources, finance, excise taxes, field\n",
      "selling, shared facilities services, and customer service and support.\n",
      "each allocation is measured differently based on the specific facts and\n",
      "circumstances of the costs being allocated. segment revenue and\n",
      "operating income were as follows during the periods presented : ( in\n",
      "millions ) year ended june 30, 2022 2021 2020 revenue productivity and\n",
      "business processes $ 63, 364 $ 53, 915 $ 46, 398 intelligent cloud 75,\n",
      "251 60, 080 48, 366 more personal computing 59, 655 54, 093 48, 251\n",
      "total $ 198, 270 $ 168, 088 $ 143, 015 operating income productivity\n",
      "and business processes $ 29, 687 $ 24, 351 $ 18, 724\n",
      "\n",
      "\n",
      "47 financial statements and supplementary data income statements ( in\n",
      "millions, except per share amounts ) year ended june 30, 2022 2021 2020\n",
      "revenue : product $ 72, 732 $ 71, 074 $ 68, 041 service and other 125,\n",
      "538 97, 014 74, 974 total revenue 198, 270 168, 088 143, 015 cost of\n",
      "revenue : product 19, 064 18, 219 16, 017 service and other 43, 586 34,\n",
      "013 30, 061 total cost of revenue 62, 650 52, 232 46, 078 gross margin\n",
      "135, 620 115, 856 96, 937 research and development 24, 512 20, 716 19,\n",
      "269 sales and marketing 21, 825 20, 117 19, 598 general and\n",
      "administrative 5, 900 5, 107 5, 111 operating income 83, 383 69, 916\n",
      "52, 959 other income, net 333 1, 186 77 income before income taxes 83,\n",
      "716 71, 102 53, 036 provision for income taxes 10, 978 9, 831 8, 755\n",
      "net income $ 72, 738 $ 61, 271 $ 44, 281\n",
      "\n",
      "\n",
      "intelligent cloud 32, 721 26, 126 18, 324 more personal computing 20,\n",
      "975 19, 439 15, 911 total $ 83, 383 $ 69, 916 $ 52, 959 no sales to an\n",
      "individual customer or country other than the united states accounted\n",
      "for more than 10 % of revenue for fiscal years 2022, 2021, or 2020.\n",
      "revenue, classified by the major geographic areas in which our\n",
      "customers were located, was as follows : ( in millions ) year ended\n",
      "june 30, 2022 2021 2020 united states ( a ) $ 100, 218 $ 83, 953 $ 73,\n",
      "160 other countries 98, 052 84, 135 69, 855 total $ 198, 270 $ 168, 088\n",
      "$ 143, 015 ( a ) includes billings to oems and certain multinational\n",
      "organizations because of the nature of these businesses and the\n",
      "impracticability of determining the geographic source of the revenue.\n",
      "revenue, classified by significant product and service offerings, was\n",
      "as follows : ( in millions ) year ended june 30, 2022 2021 2020\n",
      "\n",
      "\n"
     ]
    }
   ],
   "source": [
    "results = chroma_collection.query(query_texts=[query], n_results=5)\n",
    "retrieved_documents = results['documents'][0]\n",
    "\n",
    "for document in retrieved_documents:\n",
    "    print(word_wrap(document))\n",
    "    print('\\n')"
   ]
  },
  {
   "cell_type": "markdown",
   "id": "1fa73e0f-de58-48fa-89b1-06294a931774",
   "metadata": {},
   "source": [
    "## Building RAG"
   ]
  },
  {
   "cell_type": "code",
   "execution_count": 23,
   "id": "a312eca8-74d5-4775-824d-305f916034e1",
   "metadata": {},
   "outputs": [],
   "source": [
    "def rag(query, retrieved_documents, model=\"gpt-3.5-turbo\"):\n",
    "    information = \"\\n\\n\".join(retrieved_documents)\n",
    "\n",
    "    messages = [\n",
    "        {\n",
    "            \"role\": \"system\",\n",
    "            \"content\": \"\"\"You are a helpful expert financial research assistant. Your users are asking questions about \n",
    "            information contained in an annual report. You will be shown the user's question, and the relevant information \n",
    "            from the annual report. Answer the user's question using only this information.\"\"\"\n",
    "        },\n",
    "        {\n",
    "            \"role\": \"user\", \n",
    "            \"content\": f\"Question: {query}. \\n Information: {information}\"\n",
    "        }\n",
    "    ]\n",
    "    \n",
    "    response = openai_client.chat.completions.create(\n",
    "        model=model,\n",
    "        messages=messages,\n",
    "    )\n",
    "\n",
    "    content = response.choices[0].message.content\n",
    "    return content"
   ]
  },
  {
   "cell_type": "code",
   "execution_count": 24,
   "id": "f22ec698-5906-478e-bfba-11cc30a53037",
   "metadata": {},
   "outputs": [
    {
     "name": "stdout",
     "output_type": "stream",
     "text": [
      "The total revenue for the year ended June 30, 2022, was $198,270\n",
      "million.\n"
     ]
    }
   ],
   "source": [
    "query = \"What was the total revenue?\"\n",
    "\n",
    "output = rag(query=query, retrieved_documents=retrieved_documents)\n",
    "\n",
    "print(word_wrap(output))"
   ]
  },
  {
   "cell_type": "code",
   "execution_count": null,
   "id": "d4a98f15-9d9d-4e09-8780-10e588bca868",
   "metadata": {},
   "outputs": [],
   "source": []
  }
 ],
 "metadata": {
  "kernelspec": {
   "display_name": "Python 3 (ipykernel)",
   "language": "python",
   "name": "python3"
  },
  "language_info": {
   "codemirror_mode": {
    "name": "ipython",
    "version": 3
   },
   "file_extension": ".py",
   "mimetype": "text/x-python",
   "name": "python",
   "nbconvert_exporter": "python",
   "pygments_lexer": "ipython3",
   "version": "3.10.18"
  }
 },
 "nbformat": 4,
 "nbformat_minor": 5
}
