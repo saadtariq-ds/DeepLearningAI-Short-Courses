{
 "cells": [
  {
   "cell_type": "markdown",
   "id": "5f56e6e5-0429-489b-a297-ed4aa252ecc6",
   "metadata": {},
   "source": [
    "## Setup and Import Libraries"
   ]
  },
  {
   "cell_type": "code",
   "execution_count": 2,
   "id": "506f329d-0060-4d9d-bc70-c6fb5b86e963",
   "metadata": {},
   "outputs": [],
   "source": [
    "import os\n",
    "import umap\n",
    "import matplotlib.pyplot as plt\n",
    "from openai import OpenAI\n",
    "from chromadb.utils.embedding_functions import SentenceTransformerEmbeddingFunction\n",
    "from utils import load_chroma, word_wrap, project_embeddings\n",
    "from dotenv import load_dotenv\n",
    "\n",
    "import warnings\n",
    "warnings.filterwarnings('ignore')"
   ]
  },
  {
   "cell_type": "code",
   "execution_count": 3,
   "id": "dfa49873-17cd-41e1-97b8-a4ab3f133dba",
   "metadata": {},
   "outputs": [
    {
     "data": {
      "text/plain": [
       "True"
      ]
     },
     "execution_count": 3,
     "metadata": {},
     "output_type": "execute_result"
    }
   ],
   "source": [
    "load_dotenv()"
   ]
  },
  {
   "cell_type": "code",
   "execution_count": 4,
   "id": "34edbabb-c5ca-4173-a335-ad367566c9aa",
   "metadata": {},
   "outputs": [],
   "source": [
    "os.environ[\"OPENAI_API_KEY\"] = os.getenv(\"OPENAI_API_KEY\")"
   ]
  },
  {
   "cell_type": "code",
   "execution_count": 5,
   "id": "16dee616-dfea-4a7e-ac08-c2a2a4c17804",
   "metadata": {},
   "outputs": [],
   "source": [
    "openai_client = OpenAI()"
   ]
  },
  {
   "cell_type": "markdown",
   "id": "ea87b5e0-8688-4cc1-b043-25f2f875f5a5",
   "metadata": {},
   "source": [
    "## Loading Chroma"
   ]
  },
  {
   "cell_type": "code",
   "execution_count": 6,
   "id": "97cf9b78-21a5-4268-ac6f-70e5fbcb2b5e",
   "metadata": {},
   "outputs": [],
   "source": [
    "embedding_function = SentenceTransformerEmbeddingFunction()"
   ]
  },
  {
   "cell_type": "code",
   "execution_count": 7,
   "id": "bbbb4a30-9c75-4203-8395-abbeac523355",
   "metadata": {},
   "outputs": [
    {
     "data": {
      "text/plain": [
       "349"
      ]
     },
     "execution_count": 7,
     "metadata": {},
     "output_type": "execute_result"
    }
   ],
   "source": [
    "chroma_collection = load_chroma(\n",
    "    filename='data/microsoft_annual_report_2022.pdf',\n",
    "    collection_name='microsoft_annual_report_2022', \n",
    "    embedding_function=embedding_function\n",
    ")\n",
    "\n",
    "chroma_collection.count()"
   ]
  },
  {
   "cell_type": "markdown",
   "id": "97a81fa2-ec75-469a-a732-b205abd75bec",
   "metadata": {},
   "source": [
    "## Projecting Embeddings"
   ]
  },
  {
   "cell_type": "code",
   "execution_count": 8,
   "id": "66be7f9d-dbd5-4546-9dcb-01252fdfe660",
   "metadata": {},
   "outputs": [],
   "source": [
    "embeddings = chroma_collection.get(include=['embeddings'])['embeddings']\n",
    "\n",
    "umap_transform = umap.UMAP(random_state=0, transform_seed=0).fit(embeddings)"
   ]
  },
  {
   "cell_type": "code",
   "execution_count": 9,
   "id": "6ff64b47-0b8a-4106-a026-d492695ccb52",
   "metadata": {},
   "outputs": [
    {
     "name": "stderr",
     "output_type": "stream",
     "text": [
      "100%|██████████| 349/349 [00:04<00:00, 71.01it/s] \n"
     ]
    }
   ],
   "source": [
    "projected_dataset_embeddings = project_embeddings(embeddings, umap_transform)"
   ]
  },
  {
   "cell_type": "markdown",
   "id": "f97420a2-494a-4002-a28b-f112d14c5e44",
   "metadata": {},
   "source": [
    "## Expansion with Generated Answer"
   ]
  },
  {
   "cell_type": "code",
   "execution_count": 10,
   "id": "e2cd71e8-3139-44f4-a4a7-51d981576b08",
   "metadata": {},
   "outputs": [],
   "source": [
    "def augment_query_generated(query, model=\"gpt-3.5-turbo\"):\n",
    "    messages = [\n",
    "        {\n",
    "            \"role\": \"system\",\n",
    "            \"content\": \"\"\"You are a helpful expert financial research assistant. \n",
    "            Provide an example answer to the given question, that might be found in a document like an annual report. \"\"\"\n",
    "        },\n",
    "        {\n",
    "            \"role\": \"user\",\n",
    "            \"content\": query\n",
    "        }\n",
    "    ] \n",
    "\n",
    "    response = openai_client.chat.completions.create(\n",
    "        model=model,\n",
    "        messages=messages,\n",
    "    )\n",
    "    \n",
    "    content = response.choices[0].message.content\n",
    "    return content"
   ]
  },
  {
   "cell_type": "code",
   "execution_count": 11,
   "id": "ff8d8df2-08bd-4465-be8a-534662387348",
   "metadata": {},
   "outputs": [
    {
     "name": "stdout",
     "output_type": "stream",
     "text": [
      "Was there significant turnover in the executive team? In the past\n",
      "fiscal year, our executive team experienced minimal turnover. There\n",
      "were no departures of any key senior executives during this period. Our\n",
      "leadership team remained stable, providing continuity in strategic\n",
      "decision-making and ensuring a seamless execution of our business\n",
      "plans.\n"
     ]
    }
   ],
   "source": [
    "original_query = \"Was there significant turnover in the executive team?\"\n",
    "hypothetical_answer = augment_query_generated(original_query)\n",
    "\n",
    "joint_query = f\"{original_query} {hypothetical_answer}\"\n",
    "print(word_wrap(joint_query))"
   ]
  },
  {
   "cell_type": "code",
   "execution_count": 12,
   "id": "17cf8dc3-2f60-4bf1-aa10-08b8c49c42bb",
   "metadata": {},
   "outputs": [
    {
     "name": "stdout",
     "output_type": "stream",
     "text": [
      "to be their authentic selves and do their best work every day. we\n",
      "support multiple highly active employee resource groups for women,\n",
      "families, racial and ethnic minorities, military, people with\n",
      "disabilities, and employees who identify as lgbtqia +, where employees\n",
      "can go for support, networking, and community - building. as described\n",
      "in our 2021 proxy statement, annual performance and compensation\n",
      "reviews of our senior leadership team include an evaluation of their\n",
      "contributions to employee culture and diversity. to ensure\n",
      "accountability over time, we publicly disclose our progress on a\n",
      "multitude of workforce metrics including : • detailed breakdowns of\n",
      "gender, racial, and ethnic minority representation in our employee\n",
      "population, with data by job types, levels, and segments of our\n",
      "business. • our eeo - 1 report ( equal employment opportunity ). •\n",
      "disability representation. • pay equity ( see details below ).\n",
      "\n",
      "unresolved with the irs, evaluating management ’ s estimates relating\n",
      "to their determination of uncertain tax positions required extensive\n",
      "audit effort and a high degree of auditor judgment, including\n",
      "involvement of our tax specialists. how the critical audit matter was\n",
      "addressed in the audit our principal audit procedures to evaluate\n",
      "management ’ s estimates of uncertain tax positions related to\n",
      "unresolved transfer pricing issues included the following : • we\n",
      "evaluated the appropriateness and consistency of management ’ s methods\n",
      "and assumptions used in the identification, recognition, measurement,\n",
      "and disclosure of uncertain tax positions, which included testing the\n",
      "effectiveness of the related internal controls. • we read and evaluated\n",
      "management ’ s documentation, including relevant accounting policies\n",
      "and information obtained by management from outside tax specialists,\n",
      "that detailed the basis of the uncertain tax positions.\n",
      "\n",
      "30 management ’ s discussion and analysis of financial condition and\n",
      "results of operations the following management ’ s discussion and\n",
      "analysis of financial condition and results of operations ( “ md & a ”\n",
      ") is intended to help the reader understand the results of operations\n",
      "and financial condition of microsoft corporation. md & a is provided as\n",
      "a supplement to, and should be read in conjunction with, our\n",
      "consolidated financial statements and the accompanying notes to\n",
      "financial statements in our fiscal year 2022 form 10 - k. this section\n",
      "generally discusses the results of our operations for the year ended\n",
      "june 30, 2022 compared to the year ended june 30, 2021. for a\n",
      "discussion of the year ended june 30, 2021 compared to the year ended\n",
      "june 30, 2020, please refer to in our fiscal year 2022 form 10 - k, “\n",
      "management ’ s discussion and analysis of financial condition and\n",
      "results of operations ” in our annual report on form 10 - k for the\n",
      "year ended june 30, 2021. overview\n",
      "\n",
      "growth in our cloud offerings. we have operating and finance leases for\n",
      "datacenters, corporate offices, research and development facilities,\n",
      "microsoft experience centers, and certain equipment. we have not\n",
      "engaged in any related party transactions or arrangements with\n",
      "unconsolidated entities or other persons that are reasonably likely to\n",
      "materially affect liquidity or the availability of capital resources.\n",
      "\n",
      "86 income taxes — uncertain tax positions — refer to note 12 to the\n",
      "financial statements critical audit matter description the company ’ s\n",
      "long - term income taxes liability includes uncertain tax positions\n",
      "related to transfer pricing issues that remain unresolved with the\n",
      "internal revenue service ( “ irs ” ). the company remains under irs\n",
      "audit, or subject to irs audit, for tax years subsequent to 2003. while\n",
      "the company has settled a portion of the irs audits, resolution of the\n",
      "remaining matters could have a material impact on the company ’ s\n",
      "financial statements. conclusions on recognizing and measuring\n",
      "uncertain tax positions involve significant estimates and management\n",
      "judgment and include complex considerations of the internal revenue\n",
      "code, related regulations, tax case laws, and prior - year audit\n",
      "settlements. given the complexity and the subjective nature of the\n",
      "transfer pricing issues that remain\n",
      "\n"
     ]
    }
   ],
   "source": [
    "results = chroma_collection.query(\n",
    "    query_texts=joint_query,\n",
    "    n_results=5,\n",
    "    include=['documents', 'embeddings']\n",
    ")\n",
    "\n",
    "retrieved_documents = results['documents'][0]\n",
    "\n",
    "for doc in retrieved_documents:\n",
    "    print(word_wrap(doc))\n",
    "    print('')"
   ]
  },
  {
   "cell_type": "code",
   "execution_count": 13,
   "id": "b1a25f8b-9411-437d-929c-81f81731b67e",
   "metadata": {},
   "outputs": [
    {
     "name": "stderr",
     "output_type": "stream",
     "text": [
      "100%|██████████| 1/1 [00:00<00:00, 304.49it/s]\n",
      "100%|██████████| 1/1 [00:00<00:00, 333.38it/s]\n",
      "100%|██████████| 5/5 [00:00<00:00, 475.83it/s]\n"
     ]
    }
   ],
   "source": [
    "retrieved_embeddings = results['embeddings'][0]\n",
    "original_query_embedding = embedding_function([original_query])\n",
    "augmented_query_embedding = embedding_function([joint_query])\n",
    "\n",
    "projected_original_query_embedding = project_embeddings(original_query_embedding, umap_transform)\n",
    "projected_augmented_query_embedding = project_embeddings(augmented_query_embedding, umap_transform)\n",
    "projected_retrieved_embeddings = project_embeddings(retrieved_embeddings, umap_transform)"
   ]
  },
  {
   "cell_type": "code",
   "execution_count": 14,
   "id": "b9fbced8-dd0c-468b-8ac4-c9cc1082710a",
   "metadata": {},
   "outputs": [
    {
     "data": {
      "text/plain": [
       "(np.float64(-0.18404115810990335),\n",
       " np.float64(9.099320054799318),\n",
       " np.float64(4.4927960395812985),\n",
       " np.float64(13.121015453338623))"
      ]
     },
     "execution_count": 14,
     "metadata": {},
     "output_type": "execute_result"
    },
    {
     "data": {
      "image/png": "[encoded data removed]",
      "text/plain": [
       "<Figure size 640x480 with 1 Axes>"
      ]
     },
     "metadata": {},
     "output_type": "display_data"
    }
   ],
   "source": [
    "plt.figure()\n",
    "plt.scatter(projected_dataset_embeddings[:, 0], projected_dataset_embeddings[:, 1], s=10, color='gray')\n",
    "plt.scatter(projected_retrieved_embeddings[:, 0], projected_retrieved_embeddings[:, 1], s=100, facecolors='none', edgecolors='g')\n",
    "plt.scatter(projected_original_query_embedding[:, 0], projected_original_query_embedding[:, 1], s=150, marker='X', color='r')\n",
    "plt.scatter(projected_augmented_query_embedding[:, 0], projected_augmented_query_embedding[:, 1], s=150, marker='X', color='orange')\n",
    "\n",
    "plt.gca().set_aspect('equal', 'datalim')\n",
    "plt.title(f'{original_query}')\n",
    "plt.axis('off')"
   ]
  },
  {
   "cell_type": "markdown",
   "id": "2dfae557-9328-4c67-a94a-2e606a73262f",
   "metadata": {},
   "source": [
    "## Expansion with Multiple Queries"
   ]
  },
  {
   "cell_type": "code",
   "execution_count": 15,
   "id": "e3088e01-e851-487b-97a8-80b2cbe66d63",
   "metadata": {},
   "outputs": [],
   "source": [
    "def augment_multiple_query(query, model=\"gpt-3.5-turbo\"):\n",
    "    messages = [\n",
    "        {\n",
    "            \"role\": \"system\",\n",
    "            \"content\": \"You are a helpful expert financial research assistant. Your users are asking questions about an annual report. \"\n",
    "            \"Suggest up to five additional related questions to help them find the information they need, for the provided question. \"\n",
    "            \"Suggest only short questions without compound sentences. Suggest a variety of questions that cover different aspects of the topic.\"\n",
    "            \"Make sure they are complete questions, and that they are related to the original question.\"\n",
    "            \"Output one question per line. Do not number the questions.\"\n",
    "        },\n",
    "        {\n",
    "            \"role\": \"user\",\n",
    "            \"content\": query}\n",
    "    ]\n",
    "\n",
    "    response = openai_client.chat.completions.create(\n",
    "        model=model,\n",
    "        messages=messages,\n",
    "    )\n",
    "    \n",
    "    content = response.choices[0].message.content\n",
    "    content = content.split(\"\\n\")\n",
    "    \n",
    "    return content"
   ]
  },
  {
   "cell_type": "code",
   "execution_count": 16,
   "id": "d31ffa85-b968-4b7f-8c68-65e1004e5e94",
   "metadata": {},
   "outputs": [
    {
     "name": "stdout",
     "output_type": "stream",
     "text": [
      "What were the key highlights in the company's financial performance for the year?  \n",
      "Can you provide details on the revenue breakdown by segments or regions?  \n",
      "What strategies did the company implement to drive revenue growth?  \n",
      "What were the main drivers behind the increase in revenue for the year?  \n",
      "How did changes in market conditions impact the company's revenue performance?  \n"
     ]
    }
   ],
   "source": [
    "original_query = \"What were the most important factors that contributed to increases in revenue?\"\n",
    "augmented_queries = augment_multiple_query(original_query)\n",
    "\n",
    "for query in augmented_queries:\n",
    "    print(query)"
   ]
  },
  {
   "cell_type": "code",
   "execution_count": 17,
   "id": "b936f7e7-8643-414f-9968-944c46ccfbc2",
   "metadata": {},
   "outputs": [],
   "source": [
    "queries = [original_query] + augmented_queries\n",
    "results = chroma_collection.query(query_texts=queries, n_results=5, include=['documents', 'embeddings'])"
   ]
  },
  {
   "cell_type": "code",
   "execution_count": 18,
   "id": "7540d605-3a9c-406d-b692-4be9882ca064",
   "metadata": {},
   "outputs": [],
   "source": [
    "retrieved_documents = results['documents']"
   ]
  },
  {
   "cell_type": "code",
   "execution_count": 19,
   "id": "9452d213-01e2-4a4a-b979-0c023cf75624",
   "metadata": {},
   "outputs": [],
   "source": [
    "unique_documents = set()\n",
    "\n",
    "for documents in retrieved_documents:\n",
    "    for document in documents:\n",
    "        unique_documents.add(document)"
   ]
  },
  {
   "cell_type": "code",
   "execution_count": 20,
   "id": "80bf4e71-feb9-429e-9dbe-0a5a914ae4a8",
   "metadata": {},
   "outputs": [
    {
     "name": "stdout",
     "output_type": "stream",
     "text": [
      "Query: What were the most important factors that contributed to increases in revenue?\n",
      "\n",
      "Results:\n",
      "engineering, gaming, and linkedin. • sales and marketing expenses\n",
      "increased $ 1. 7 billion or 8 % driven by investments in commercial\n",
      "sales and linkedin. sales and marketing included a favorable foreign\n",
      "currency impact of 2 %. • general and administrative expenses increased\n",
      "$ 793 million or 16 % driven by investments in corporate functions.\n",
      "operating income increased $ 13. 5 billion or 19 % driven by growth\n",
      "across each of our segments. current year net income and diluted eps\n",
      "were positively impacted by the net tax benefit related to the transfer\n",
      "of intangible properties, which resulted in an increase to net income\n",
      "and diluted eps of $ 3. 3 billion and $ 0. 44, respectively. prior year\n",
      "net income and diluted eps were positively impacted by the net tax\n",
      "benefit related to the india supreme court decision on withholding\n",
      "taxes, which resulted in an increase to net income and diluted eps of $\n",
      "620 million and $ 0. 08, respectively.\n",
      "\n",
      "independent recalculation of prices where appropriate. cash flows cash\n",
      "from operations increased $ 12. 3 billion to $ 89. 0 billion for fiscal\n",
      "year 2022, mainly due to an increase in cash received from customers,\n",
      "offset in part by an increase in cash paid to suppliers and employees.\n",
      "cash used in financing increased $ 10. 4 billion to $ 58. 9 billion for\n",
      "fiscal year 2022, mainly due to a $ 5. 3 billion increase in common\n",
      "stock repurchases and a $ 5. 3 billion increase in repayments of debt.\n",
      "cash used in investing increased $ 2. 7 billion to $ 30. 3 billion for\n",
      "fiscal year 2022, mainly due to a $ 13. 1 billion increase in cash used\n",
      "for acquisitions of companies, net of cash acquired, and purchases of\n",
      "intangible and other assets, and a $ 3. 3 billion increase in additions\n",
      "to property and equipment, offset in part by a $ 15. 6 billion increase\n",
      "in cash from net investment purchases, sales, and maturities.\n",
      "\n",
      "37 general and administrative expenses include payroll, employee\n",
      "benefits, stock - based compensation expense, and other headcount -\n",
      "related expenses associated with finance, legal, facilities, certain\n",
      "human resources and other administrative personnel, certain taxes, and\n",
      "legal and other administrative fees. general and administrative\n",
      "expenses increased $ 793 million or 16 % driven by investments in\n",
      "corporate functions. other income ( expense ), net the components of\n",
      "other income ( expense ), net were as follows : ( in millions ) year\n",
      "ended june 30, 2022 2021 interest and dividends income $ 2, 094 $ 2,\n",
      "131 interest expense ( 2, 063 ) ( 2, 346 ) net recognized gains on\n",
      "investments 461 1, 232 net gains ( losses ) on derivatives ( 52 ) 17\n",
      "net gains ( losses ) on foreign currency remeasurements ( 75 ) 54\n",
      "other, net ( 32 ) 98 total $ 333 $ 1, 186\n",
      "\n",
      "product revenue includes sales from operating systems, cross - device\n",
      "productivity applications, server applications, business solution\n",
      "applications, desktop and server management tools, software development\n",
      "tools, video games, and hardware such as pcs, tablets, gaming and\n",
      "entertainment consoles, other intelligent devices, and related\n",
      "accessories.\n",
      "\n",
      "• windows revenue increased $ 2. 3 billion or 10 % driven by growth in\n",
      "windows oem and windows commercial. windows oem revenue increased 11 %\n",
      "driven by continued strength in the commercial pc market, which has\n",
      "higher revenue per license. windows commercial products and cloud\n",
      "services revenue increased 11 % driven by demand for microsoft 365.\n",
      "\n",
      "----------------------------------------------------------------------------------------------------\n",
      "Query: What were the key highlights in the company's financial performance for the year?  \n",
      "\n",
      "Results:\n",
      "30 management ’ s discussion and analysis of financial condition and\n",
      "results of operations the following management ’ s discussion and\n",
      "analysis of financial condition and results of operations ( “ md & a ”\n",
      ") is intended to help the reader understand the results of operations\n",
      "and financial condition of microsoft corporation. md & a is provided as\n",
      "a supplement to, and should be read in conjunction with, our\n",
      "consolidated financial statements and the accompanying notes to\n",
      "financial statements in our fiscal year 2022 form 10 - k. this section\n",
      "generally discusses the results of our operations for the year ended\n",
      "june 30, 2022 compared to the year ended june 30, 2021. for a\n",
      "discussion of the year ended june 30, 2021 compared to the year ended\n",
      "june 30, 2020, please refer to in our fiscal year 2022 form 10 - k, “\n",
      "management ’ s discussion and analysis of financial condition and\n",
      "results of operations ” in our annual report on form 10 - k for the\n",
      "year ended june 30, 2021. overview\n",
      "\n",
      "refer to risk factors in our fiscal year 2022 form 10 - k for a\n",
      "discussion of these factors and other risks. seasonality our revenue\n",
      "fluctuates quarterly and is generally higher in the second and fourth\n",
      "quarters of our fiscal year. second quarter revenue is driven by\n",
      "corporate year - end spending trends in our major markets and holiday\n",
      "season spending by consumers, and fourth quarter revenue is driven by\n",
      "the volume of multi - year on - premises contracts executed during the\n",
      "period. reportable segments we report our financial performance based\n",
      "on the following segments : productivity and business processes,\n",
      "intelligent cloud, and more personal computing. the segment amounts\n",
      "included in md & a are presented on a basis consistent with our\n",
      "internal management reporting. additional information on our reportable\n",
      "segments is contained in note 19 – segment information and geographic\n",
      "data of the notes to financial statements in our fiscal year 2022 form\n",
      "10 - k. metrics\n",
      "\n",
      "10 stock performance comparison of 5 year cumulative total return *\n",
      "among microsoft corporation, the s & p 500 index and the nasdaq\n",
      "computer index 6 / 17 6 / 18 6 / 19 6 / 20 6 / 21 6 / 22 microsoft\n",
      "corporation 100. 00 145. 84 201. 36 309. 69 416. 25 397. 90 s & p 500\n",
      "100. 00 114. 37 126. 29 135. 77 191. 15 170. 86 nasdaq computer 100. 00\n",
      "131. 27 139. 29 196. 40 288. 13 228. 71 * $ 100 invested on 6 / 30 / 17\n",
      "in stock or index, including reinvestment of dividends. fiscal year\n",
      "ending june 30.\n",
      "\n",
      "recognition, determining the nature and timing of satisfaction of\n",
      "performance obligations, and determining the standalone selling price (\n",
      "“ ssp ” ) of performance obligations, variable consideration, and other\n",
      "obligations such as product returns and refunds ; loss contingencies ;\n",
      "product warranties ; the fair value of and / or potential impairment of\n",
      "goodwill and intangible assets for our reporting units ; product life\n",
      "cycles ; useful lives of our tangible and intangible assets ;\n",
      "allowances for doubt ful accounts ; the market value of, and demand\n",
      "for, our inventory ; stock - based compensation forfeiture rates ; when\n",
      "technological feasibility is achieved for our products ; the potential\n",
      "outcome of uncertain tax positions that have been recognized in our\n",
      "consolidated financial statements or tax returns ; and determining the\n",
      "timing and amount of impairments for investments. actual results and\n",
      "outcomes may differ from management ’ s estimates and assumptions due\n",
      "to risks and uncertainties.\n",
      "\n",
      "84 report of independent registered public accounting firm to the\n",
      "stockholders and the board of directors of microsoft corporation\n",
      "opinion on the financial statements we have audited the accompanying\n",
      "consolidated balance sheets of microsoft corporation and subsidiaries (\n",
      "the “ company ” ) as of june 30, 2022 and 2021, the related\n",
      "consolidated statements of income, comprehensive income, cash flows,\n",
      "and stockholders ’ equity, for each of the three years in the period\n",
      "ended june 30, 2022, and the related notes ( collectively referred to\n",
      "as the “ financial statements ” ). in our opinion, the financial\n",
      "statements present fairly, in all mat erial respects, the financial\n",
      "position of the company as of june 30, 2022 and 2021, and the results\n",
      "of its operations and its cash flows for each of the three years in the\n",
      "period ended june 30, 2022, in conformity with accounting principles\n",
      "generally accepted in the united states of america.\n",
      "\n",
      "----------------------------------------------------------------------------------------------------\n",
      "Query: Can you provide details on the revenue breakdown by segments or regions?  \n",
      "\n",
      "Results:\n",
      "82 in addition, certain costs incurred at a corporate level that are\n",
      "identifiable and that benefit our segments are allocated to them. these\n",
      "allocated costs include legal, including settlements and fines,\n",
      "information technology, human resources, finance, excise taxes, field\n",
      "selling, shared facilities services, and customer service and support.\n",
      "each allocation is measured differently based on the specific facts and\n",
      "circumstances of the costs being allocated. segment revenue and\n",
      "operating income were as follows during the periods presented : ( in\n",
      "millions ) year ended june 30, 2022 2021 2020 revenue productivity and\n",
      "business processes $ 63, 364 $ 53, 915 $ 46, 398 intelligent cloud 75,\n",
      "251 60, 080 48, 366 more personal computing 59, 655 54, 093 48, 251\n",
      "total $ 198, 270 $ 168, 088 $ 143, 015 operating income productivity\n",
      "and business processes $ 29, 687 $ 24, 351 $ 18, 724\n",
      "\n",
      "our business can deliver success. operating segments we operate our\n",
      "business and report our financial performance using three segments :\n",
      "productivity and business processes, intelligent cloud, and more\n",
      "personal computing. our segments provide management with a\n",
      "comprehensive financial view of our key businesses. the segments enable\n",
      "the alignment of strategies and objectives across the development,\n",
      "sales, marketing, and services organizations, and they provide a\n",
      "framework for timely and rational allocation of resources within\n",
      "businesses. additional information on our operating segments and\n",
      "geographic and product information is contained in note 19 – segment\n",
      "information and geographic data of the notes to financial statements in\n",
      "our fiscal year 2022 form 10 - k. our reportable segments are described\n",
      "below.\n",
      "\n",
      "( including games and in - game content ), xbox game pass and other\n",
      "subscriptions, xbox cloud gaming, third - party disc royalties,\n",
      "advertising, and other cloud services. • search and news advertising.\n",
      "revenue and costs are generally directly attributed to our segments.\n",
      "however, due to the integrated structure of our business, certain\n",
      "revenue recognized and costs incurred by one segment may benefit other\n",
      "segments. revenue from certain contracts is allocated among the\n",
      "segments based on the relative value of the underlying products and\n",
      "services, which can include allocation based on actual prices charged,\n",
      "prices when sold separately, or estimated costs plus a profit margin.\n",
      "cost of revenue is allocated in certain cases based on a relative\n",
      "revenue methodology. operating expenses that are allocated primarily\n",
      "include those relating to marketing of products and services from which\n",
      "multiple segments benefit and are generally allocated based on relative\n",
      "gross margin.\n",
      "\n",
      "intelligent cloud 32, 721 26, 126 18, 324 more personal computing 20,\n",
      "975 19, 439 15, 911 total $ 83, 383 $ 69, 916 $ 52, 959 no sales to an\n",
      "individual customer or country other than the united states accounted\n",
      "for more than 10 % of revenue for fiscal years 2022, 2021, or 2020.\n",
      "revenue, classified by the major geographic areas in which our\n",
      "customers were located, was as follows : ( in millions ) year ended\n",
      "june 30, 2022 2021 2020 united states ( a ) $ 100, 218 $ 83, 953 $ 73,\n",
      "160 other countries 98, 052 84, 135 69, 855 total $ 198, 270 $ 168, 088\n",
      "$ 143, 015 ( a ) includes billings to oems and certain multinational\n",
      "organizations because of the nature of these businesses and the\n",
      "impracticability of determining the geographic source of the revenue.\n",
      "revenue, classified by significant product and service offerings, was\n",
      "as follows : ( in millions ) year ended june 30, 2022 2021 2020\n",
      "\n",
      "81 note 19 — segment information and geographic data in its operation\n",
      "of the business, management, including our chief operating decision\n",
      "maker, who is also our chief executive officer, reviews certain\n",
      "financial information, including segmented internal profit and loss\n",
      "statements prepared on a basis not consistent with gaap. during the\n",
      "periods presented, we reported our financial performance based on the\n",
      "following segments : productivity and business processes, intelligent\n",
      "cloud, and more personal computing. our reportable segments are\n",
      "described below. productivity and business processes our productivity\n",
      "and business processes segment consists of products and services in our\n",
      "portfolio of productivity, communication, and information services,\n",
      "spanning a variety of devices and platforms. this segment primarily\n",
      "comprises : • office commercial ( office 365 subscriptions, the office\n",
      "365 portion of microsoft 365 commercial\n",
      "\n",
      "----------------------------------------------------------------------------------------------------\n",
      "Query: What strategies did the company implement to drive revenue growth?  \n",
      "\n",
      "Results:\n",
      "35 reportable segments fiscal year 2022 compared with fiscal year 2021\n",
      "productivity and business processes revenue increased $ 9. 4 billion or\n",
      "18 %. • office commercial products and cloud services revenue increased\n",
      "$ 4. 4 billion or 13 %. office 365 commercial revenue grew 18 % driven\n",
      "by seat growth of 14 %, with continued momentum in small and medium\n",
      "business and frontline worker offerings, as well as growth in revenue\n",
      "per user. office commercial products revenue declined 22 % driven by\n",
      "continued customer shift to cloud offerings. • office consumer products\n",
      "and cloud services revenue increased $ 641 million or 11 % driven by\n",
      "microsoft 365 consumer subscription revenue. microsoft 365 consumer\n",
      "subscribers grew 15 % to 59. 7 million. • linkedin revenue increased $\n",
      "3. 5 billion or 34 % driven by a strong job market in our talent\n",
      "solutions business and advertising demand in our marketing solutions\n",
      "business.\n",
      "\n",
      "engineering, gaming, and linkedin. • sales and marketing expenses\n",
      "increased $ 1. 7 billion or 8 % driven by investments in commercial\n",
      "sales and linkedin. sales and marketing included a favorable foreign\n",
      "currency impact of 2 %. • general and administrative expenses increased\n",
      "$ 793 million or 16 % driven by investments in corporate functions.\n",
      "operating income increased $ 13. 5 billion or 19 % driven by growth\n",
      "across each of our segments. current year net income and diluted eps\n",
      "were positively impacted by the net tax benefit related to the transfer\n",
      "of intangible properties, which resulted in an increase to net income\n",
      "and diluted eps of $ 3. 3 billion and $ 0. 44, respectively. prior year\n",
      "net income and diluted eps were positively impacted by the net tax\n",
      "benefit related to the india supreme court decision on withholding\n",
      "taxes, which resulted in an increase to net income and diluted eps of $\n",
      "620 million and $ 0. 08, respectively.\n",
      "\n",
      "36 • search and news advertising revenue increased $ 2. 3 billion or 25\n",
      "%. search and news advertising revenue excluding traffic acquisition\n",
      "costs increased 27 % driven by higher revenue per search and search\n",
      "volume. • gaming revenue increased $ 860 million or 6 % on a strong\n",
      "prior year comparable that benefited from xbox series x | s launches\n",
      "and stay - at - home scenarios, driven by growth in xbox hardware and\n",
      "xbox content and services. xbox hardware revenue increased 16 % due to\n",
      "continued demand for xbox series x | s. xbox content and services\n",
      "revenue increased 3 % driven by growth in xbox game pass subscriptions\n",
      "and first - party content, offset in part by a decline in third - party\n",
      "content. • surface revenue increased $ 226 million or 3 %. operating\n",
      "income increased $ 1. 5 billion or 8 %. • gross margin increased $ 3. 1\n",
      "billion or 10 % driven by growth in windows and search and news\n",
      "advertising. gross margin percentage was relatively unchanged.\n",
      "\n",
      "• dynamics products and cloud services revenue increased 25 % driven by\n",
      "dynamics 365 growth of 39 %. operating income increased $ 5. 3 billion\n",
      "or 22 %. • gross margin increased $ 7. 3 billion or 17 % driven by\n",
      "growth in office 365 commercial and linkedin. gross margin percentage\n",
      "was relatively unchanged. excluding the impact of the change in\n",
      "accounting estimate, gross margin percentage increased 2 points driven\n",
      "by improvement across all cloud services. • operating expenses\n",
      "increased $ 2. 0 billion or 11 % driven by investments in linkedin and\n",
      "cloud engineering. gross margin and operating income both included an\n",
      "unfavorable foreign currency impact of 2 %. intelligent cloud revenue\n",
      "increased $ 15. 2 billion or 25 %. • server products and cloud services\n",
      "revenue increased $ 14. 7 billion or 28 % driven by azure and other\n",
      "cloud services. azure and other cloud services revenue grew 45 % driven\n",
      "by growth in our consumption - based\n",
      "\n",
      "34 net income tax benefit related to an india supreme court decision on\n",
      "withholding taxes in the third quarter of fiscal year 2021. refer to\n",
      "the non - gaap financial measures section below for a reconciliation of\n",
      "our financial results reported in accordance with gaap to non - gaap\n",
      "financial results. see note 12 – income taxes of the notes to financial\n",
      "statements in our fiscal year 2022 form 10 - k for further discussion.\n",
      "fiscal year 2022 compared with fiscal year 2021 revenue increased $ 30.\n",
      "2 billion or 18 % driven by growth across each of our segments.\n",
      "intelligent cloud revenue increased driven by azure and other cloud\n",
      "services. productivity and business processes revenue increased driven\n",
      "by office 365 commercial and linkedin. more personal computing revenue\n",
      "increased driven by search and news advertising and windows. cost of\n",
      "revenue increased $ 10. 4 billion or 20 % driven by growth in microsoft\n",
      "cloud.\n",
      "\n",
      "----------------------------------------------------------------------------------------------------\n",
      "Query: What were the main drivers behind the increase in revenue for the year?  \n",
      "\n",
      "Results:\n",
      "change will increase our fiscal year 2023 operating income by $ 3. 7\n",
      "billion. we had previously increased the estimated useful lives of both\n",
      "server and network equipment in july 2020.\n",
      "\n",
      "engineering, gaming, and linkedin. • sales and marketing expenses\n",
      "increased $ 1. 7 billion or 8 % driven by investments in commercial\n",
      "sales and linkedin. sales and marketing included a favorable foreign\n",
      "currency impact of 2 %. • general and administrative expenses increased\n",
      "$ 793 million or 16 % driven by investments in corporate functions.\n",
      "operating income increased $ 13. 5 billion or 19 % driven by growth\n",
      "across each of our segments. current year net income and diluted eps\n",
      "were positively impacted by the net tax benefit related to the transfer\n",
      "of intangible properties, which resulted in an increase to net income\n",
      "and diluted eps of $ 3. 3 billion and $ 0. 44, respectively. prior year\n",
      "net income and diluted eps were positively impacted by the net tax\n",
      "benefit related to the india supreme court decision on withholding\n",
      "taxes, which resulted in an increase to net income and diluted eps of $\n",
      "620 million and $ 0. 08, respectively.\n",
      "\n",
      "independent recalculation of prices where appropriate. cash flows cash\n",
      "from operations increased $ 12. 3 billion to $ 89. 0 billion for fiscal\n",
      "year 2022, mainly due to an increase in cash received from customers,\n",
      "offset in part by an increase in cash paid to suppliers and employees.\n",
      "cash used in financing increased $ 10. 4 billion to $ 58. 9 billion for\n",
      "fiscal year 2022, mainly due to a $ 5. 3 billion increase in common\n",
      "stock repurchases and a $ 5. 3 billion increase in repayments of debt.\n",
      "cash used in investing increased $ 2. 7 billion to $ 30. 3 billion for\n",
      "fiscal year 2022, mainly due to a $ 13. 1 billion increase in cash used\n",
      "for acquisitions of companies, net of cash acquired, and purchases of\n",
      "intangible and other assets, and a $ 3. 3 billion increase in additions\n",
      "to property and equipment, offset in part by a $ 15. 6 billion increase\n",
      "in cash from net investment purchases, sales, and maturities.\n",
      "\n",
      "35 reportable segments fiscal year 2022 compared with fiscal year 2021\n",
      "productivity and business processes revenue increased $ 9. 4 billion or\n",
      "18 %. • office commercial products and cloud services revenue increased\n",
      "$ 4. 4 billion or 13 %. office 365 commercial revenue grew 18 % driven\n",
      "by seat growth of 14 %, with continued momentum in small and medium\n",
      "business and frontline worker offerings, as well as growth in revenue\n",
      "per user. office commercial products revenue declined 22 % driven by\n",
      "continued customer shift to cloud offerings. • office consumer products\n",
      "and cloud services revenue increased $ 641 million or 11 % driven by\n",
      "microsoft 365 consumer subscription revenue. microsoft 365 consumer\n",
      "subscribers grew 15 % to 59. 7 million. • linkedin revenue increased $\n",
      "3. 5 billion or 34 % driven by a strong job market in our talent\n",
      "solutions business and advertising demand in our marketing solutions\n",
      "business.\n",
      "\n",
      "34 net income tax benefit related to an india supreme court decision on\n",
      "withholding taxes in the third quarter of fiscal year 2021. refer to\n",
      "the non - gaap financial measures section below for a reconciliation of\n",
      "our financial results reported in accordance with gaap to non - gaap\n",
      "financial results. see note 12 – income taxes of the notes to financial\n",
      "statements in our fiscal year 2022 form 10 - k for further discussion.\n",
      "fiscal year 2022 compared with fiscal year 2021 revenue increased $ 30.\n",
      "2 billion or 18 % driven by growth across each of our segments.\n",
      "intelligent cloud revenue increased driven by azure and other cloud\n",
      "services. productivity and business processes revenue increased driven\n",
      "by office 365 commercial and linkedin. more personal computing revenue\n",
      "increased driven by search and news advertising and windows. cost of\n",
      "revenue increased $ 10. 4 billion or 20 % driven by growth in microsoft\n",
      "cloud.\n",
      "\n",
      "----------------------------------------------------------------------------------------------------\n",
      "Query: How did changes in market conditions impact the company's revenue performance?  \n",
      "\n",
      "Results:\n",
      "engineering, gaming, and linkedin. • sales and marketing expenses\n",
      "increased $ 1. 7 billion or 8 % driven by investments in commercial\n",
      "sales and linkedin. sales and marketing included a favorable foreign\n",
      "currency impact of 2 %. • general and administrative expenses increased\n",
      "$ 793 million or 16 % driven by investments in corporate functions.\n",
      "operating income increased $ 13. 5 billion or 19 % driven by growth\n",
      "across each of our segments. current year net income and diluted eps\n",
      "were positively impacted by the net tax benefit related to the transfer\n",
      "of intangible properties, which resulted in an increase to net income\n",
      "and diluted eps of $ 3. 3 billion and $ 0. 44, respectively. prior year\n",
      "net income and diluted eps were positively impacted by the net tax\n",
      "benefit related to the india supreme court decision on withholding\n",
      "taxes, which resulted in an increase to net income and diluted eps of $\n",
      "620 million and $ 0. 08, respectively.\n",
      "\n",
      "recognition, determining the nature and timing of satisfaction of\n",
      "performance obligations, and determining the standalone selling price (\n",
      "“ ssp ” ) of performance obligations, variable consideration, and other\n",
      "obligations such as product returns and refunds ; loss contingencies ;\n",
      "product warranties ; the fair value of and / or potential impairment of\n",
      "goodwill and intangible assets for our reporting units ; product life\n",
      "cycles ; useful lives of our tangible and intangible assets ;\n",
      "allowances for doubt ful accounts ; the market value of, and demand\n",
      "for, our inventory ; stock - based compensation forfeiture rates ; when\n",
      "technological feasibility is achieved for our products ; the potential\n",
      "outcome of uncertain tax positions that have been recognized in our\n",
      "consolidated financial statements or tax returns ; and determining the\n",
      "timing and amount of impairments for investments. actual results and\n",
      "outcomes may differ from management ’ s estimates and assumptions due\n",
      "to risks and uncertainties.\n",
      "\n",
      "percentage change sales and marketing $ 21, 825 $ 20, 117 8 % as a\n",
      "percent of revenue 11 % 12 % ( 1 ) ppt sales and marketing expenses\n",
      "include payroll, employee benefits, stock - based compensation expense,\n",
      "and other headcount - related expenses associated with sales and\n",
      "marketing personnel, and the costs of advertising, promotions, trade\n",
      "shows, seminars, and other programs. sales and marketing expenses\n",
      "increased $ 1. 7 billion or 8 % driven by investments in commercial\n",
      "sales and linkedin. sales and marketing included a favorable foreign\n",
      "currency impact of 2 %. general and administrative ( in millions,\n",
      "except percentages ) 2022 2021 percentage change general and\n",
      "administrative $ 5, 900 $ 5, 107 16 % as a percent of revenue 3 % 3 %\n",
      "0ppt\n",
      "\n",
      "30 management ’ s discussion and analysis of financial condition and\n",
      "results of operations the following management ’ s discussion and\n",
      "analysis of financial condition and results of operations ( “ md & a ”\n",
      ") is intended to help the reader understand the results of operations\n",
      "and financial condition of microsoft corporation. md & a is provided as\n",
      "a supplement to, and should be read in conjunction with, our\n",
      "consolidated financial statements and the accompanying notes to\n",
      "financial statements in our fiscal year 2022 form 10 - k. this section\n",
      "generally discusses the results of our operations for the year ended\n",
      "june 30, 2022 compared to the year ended june 30, 2021. for a\n",
      "discussion of the year ended june 30, 2021 compared to the year ended\n",
      "june 30, 2020, please refer to in our fiscal year 2022 form 10 - k, “\n",
      "management ’ s discussion and analysis of financial condition and\n",
      "results of operations ” in our annual report on form 10 - k for the\n",
      "year ended june 30, 2021. overview\n",
      "\n",
      "that are not sold separately. • we tested the mathematical accuracy of\n",
      "management ’ s calculations of revenue and the associated timing of\n",
      "revenue recognized in the financial statements.\n",
      "\n",
      "----------------------------------------------------------------------------------------------------\n"
     ]
    }
   ],
   "source": [
    "for i, documents in enumerate(retrieved_documents):\n",
    "    print(f\"Query: {queries[i]}\")\n",
    "    print('')\n",
    "    print(\"Results:\")\n",
    "    for doc in documents:\n",
    "        print(word_wrap(doc))\n",
    "        print('')\n",
    "    print('-'*100)"
   ]
  },
  {
   "cell_type": "code",
   "execution_count": 21,
   "id": "1b98e8f6-be11-490c-8dc5-6ab6e512c5f7",
   "metadata": {},
   "outputs": [
    {
     "name": "stderr",
     "output_type": "stream",
     "text": [
      "100%|██████████| 1/1 [00:00<00:00, 250.00it/s]\n",
      "100%|██████████| 5/5 [00:00<00:00, 423.21it/s]\n"
     ]
    }
   ],
   "source": [
    "original_query_embedding = embedding_function([original_query])\n",
    "augmented_query_embeddings = embedding_function(augmented_queries)\n",
    "\n",
    "project_original_query = project_embeddings(original_query_embedding, umap_transform)\n",
    "project_augmented_queries = project_embeddings(augmented_query_embeddings, umap_transform)"
   ]
  },
  {
   "cell_type": "code",
   "execution_count": 22,
   "id": "e2852cde-d35d-48c7-999c-ade584e8746a",
   "metadata": {},
   "outputs": [
    {
     "name": "stderr",
     "output_type": "stream",
     "text": [
      "100%|██████████| 30/30 [00:00<00:00, 525.99it/s]\n"
     ]
    }
   ],
   "source": [
    "result_embeddings = results['embeddings']\n",
    "result_embeddings = [item for sublist in result_embeddings for item in sublist]\n",
    "projected_result_embeddings = project_embeddings(result_embeddings, umap_transform)"
   ]
  },
  {
   "cell_type": "code",
   "execution_count": 23,
   "id": "510901fd-f15e-41d4-882d-92c90fbda4a1",
   "metadata": {},
   "outputs": [
    {
     "data": {
      "text/plain": [
       "(np.float64(-0.18404115810990335),\n",
       " np.float64(9.099320054799318),\n",
       " np.float64(4.4927960395812985),\n",
       " np.float64(13.121015453338623))"
      ]
     },
     "execution_count": 23,
     "metadata": {},
     "output_type": "execute_result"
    },
    {
     "data": {
      "image/png": "[encoded data removed]",
      "text/plain": [
       "<Figure size 640x480 with 1 Axes>"
      ]
     },
     "metadata": {},
     "output_type": "display_data"
    }
   ],
   "source": [
    "plt.figure()\n",
    "plt.scatter(projected_dataset_embeddings[:, 0], projected_dataset_embeddings[:, 1], s=10, color='gray')\n",
    "plt.scatter(project_augmented_queries[:, 0], project_augmented_queries[:, 1], s=150, marker='X', color='orange')\n",
    "plt.scatter(projected_result_embeddings[:, 0], projected_result_embeddings[:, 1], s=100, facecolors='none', edgecolors='g')\n",
    "plt.scatter(project_original_query[:, 0], project_original_query[:, 1], s=150, marker='X', color='r')\n",
    "\n",
    "plt.gca().set_aspect('equal', 'datalim')\n",
    "plt.title(f'{original_query}')\n",
    "plt.axis('off')"
   ]
  },
  {
   "cell_type": "code",
   "execution_count": null,
   "id": "bf1920de-cfb8-4080-847f-08c0a902dd51",
   "metadata": {},
   "outputs": [],
   "source": []
  }
 ],
 "metadata": {
  "kernelspec": {
   "display_name": "Python 3 (ipykernel)",
   "language": "python",
   "name": "python3"
  },
  "language_info": {
   "codemirror_mode": {
    "name": "ipython",
    "version": 3
   },
   "file_extension": ".py",
   "mimetype": "text/x-python",
   "name": "python",
   "nbconvert_exporter": "python",
   "pygments_lexer": "ipython3",
   "version": "3.10.18"
  }
 },
 "nbformat": 4,
 "nbformat_minor": 5
}
