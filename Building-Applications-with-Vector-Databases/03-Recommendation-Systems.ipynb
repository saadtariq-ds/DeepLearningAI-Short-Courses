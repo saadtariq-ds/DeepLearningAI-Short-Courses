{
 "cells": [
  {
   "cell_type": "markdown",
   "id": "65877d83-2bd7-4900-af4f-89d129125eee",
   "metadata": {},
   "source": [
    "## Setup and Import Libraries"
   ]
  },
  {
   "cell_type": "code",
   "execution_count": 2,
   "id": "813757dd-95ee-4d83-a5ff-26e6c9d0d23c",
   "metadata": {},
   "outputs": [],
   "source": [
    "import time\n",
    "import os\n",
    "import pandas as pd\n",
    "from langchain.text_splitter import RecursiveCharacterTextSplitter\n",
    "from openai import OpenAI\n",
    "from pinecone import Pinecone, ServerlessSpec\n",
    "from tqdm.auto import tqdm, trange\n",
    "from utils import Utils\n",
    "\n",
    "import warnings\n",
    "warnings.filterwarnings('ignore')"
   ]
  },
  {
   "cell_type": "code",
   "execution_count": 3,
   "id": "fafa0cae-921f-4dc2-9de3-169c3caa03a4",
   "metadata": {},
   "outputs": [],
   "source": [
    "utils = Utils()\n",
    "PINECONE_API_KEY = utils.get_pinecone_api_key()\n",
    "OPENAI_API_KEY = utils.get_openai_api_key()"
   ]
  },
  {
   "cell_type": "markdown",
   "id": "bc83e290-6be6-406c-bf5e-b740f6b92e0c",
   "metadata": {},
   "source": [
    "### Load the Dataset\n",
    "\n",
    "!wget -q --show-progress -O all-the-news-3.zip \"https://www.dropbox.com/scl/fi/wruzj2bwyg743d0jzd7ku/all-the-news-3.zip?rlkey=rgwtwpeznbdadpv3f01sznwxa&dl=1\"\n",
    "\n",
    "!unzip all-the-news-3.zip"
   ]
  },
  {
   "cell_type": "code",
   "execution_count": 4,
   "id": "58cf8aca-b233-4e7e-baba-a2094f9bd5dd",
   "metadata": {},
   "outputs": [
    {
     "name": "stdout",
     "output_type": "stream",
     "text": [
      "date,year,month,day,author,title,article,url,section,publication\n",
      "\n"
     ]
    }
   ],
   "source": [
    "with open('data/all-the-news-3.csv', 'r') as f:\n",
    "    header = f.readline()\n",
    "    print(header)"
   ]
  },
  {
   "cell_type": "code",
   "execution_count": 5,
   "id": "2175fb9b-0a51-4bc1-993e-4e40b4fad7d5",
   "metadata": {},
   "outputs": [
    {
     "data": {
      "text/html": [
       "<div>\n",
       "<style scoped>\n",
       "    .dataframe tbody tr th:only-of-type {\n",
       "        vertical-align: middle;\n",
       "    }\n",
       "\n",
       "    .dataframe tbody tr th {\n",
       "        vertical-align: top;\n",
       "    }\n",
       "\n",
       "    .dataframe thead th {\n",
       "        text-align: right;\n",
       "    }\n",
       "</style>\n",
       "<table border=\"1\" class=\"dataframe\">\n",
       "  <thead>\n",
       "    <tr style=\"text-align: right;\">\n",
       "      <th></th>\n",
       "      <th>date</th>\n",
       "      <th>year</th>\n",
       "      <th>month</th>\n",
       "      <th>day</th>\n",
       "      <th>author</th>\n",
       "      <th>title</th>\n",
       "      <th>article</th>\n",
       "      <th>url</th>\n",
       "      <th>section</th>\n",
       "      <th>publication</th>\n",
       "    </tr>\n",
       "  </thead>\n",
       "  <tbody>\n",
       "    <tr>\n",
       "      <th>0</th>\n",
       "      <td>2016-12-09 18:31:00</td>\n",
       "      <td>2016</td>\n",
       "      <td>12.0</td>\n",
       "      <td>9</td>\n",
       "      <td>Lee Drutman</td>\n",
       "      <td>We should take concerns about the health of li...</td>\n",
       "      <td>This post is part of Polyarchy, an independent...</td>\n",
       "      <td>https://www.vox.com/polyarchy/2016/12/9/138983...</td>\n",
       "      <td>NaN</td>\n",
       "      <td>Vox</td>\n",
       "    </tr>\n",
       "    <tr>\n",
       "      <th>1</th>\n",
       "      <td>2016-10-07 21:26:46</td>\n",
       "      <td>2016</td>\n",
       "      <td>10.0</td>\n",
       "      <td>7</td>\n",
       "      <td>Scott Davis</td>\n",
       "      <td>Colts GM Ryan Grigson says Andrew Luck's contr...</td>\n",
       "      <td>The Indianapolis Colts made Andrew Luck the h...</td>\n",
       "      <td>https://www.businessinsider.com/colts-gm-ryan-...</td>\n",
       "      <td>NaN</td>\n",
       "      <td>Business Insider</td>\n",
       "    </tr>\n",
       "    <tr>\n",
       "      <th>2</th>\n",
       "      <td>2018-01-26 00:00:00</td>\n",
       "      <td>2018</td>\n",
       "      <td>1.0</td>\n",
       "      <td>26</td>\n",
       "      <td>NaN</td>\n",
       "      <td>Trump denies report he ordered Mueller fired</td>\n",
       "      <td>DAVOS, Switzerland (Reuters) - U.S. President ...</td>\n",
       "      <td>https://www.reuters.com/article/us-davos-meeti...</td>\n",
       "      <td>Davos</td>\n",
       "      <td>Reuters</td>\n",
       "    </tr>\n",
       "    <tr>\n",
       "      <th>3</th>\n",
       "      <td>2019-06-27 00:00:00</td>\n",
       "      <td>2019</td>\n",
       "      <td>6.0</td>\n",
       "      <td>27</td>\n",
       "      <td>NaN</td>\n",
       "      <td>France's Sarkozy reveals his 'Passions' but in...</td>\n",
       "      <td>PARIS (Reuters) - Former French president Nico...</td>\n",
       "      <td>https://www.reuters.com/article/france-politic...</td>\n",
       "      <td>World News</td>\n",
       "      <td>Reuters</td>\n",
       "    </tr>\n",
       "    <tr>\n",
       "      <th>4</th>\n",
       "      <td>2016-01-27 00:00:00</td>\n",
       "      <td>2016</td>\n",
       "      <td>1.0</td>\n",
       "      <td>27</td>\n",
       "      <td>NaN</td>\n",
       "      <td>Paris Hilton: Woman In Black For Uncle Monty's...</td>\n",
       "      <td>Paris Hilton arrived at LAX Wednesday dressed ...</td>\n",
       "      <td>https://www.tmz.com/2016/01/27/paris-hilton-mo...</td>\n",
       "      <td>NaN</td>\n",
       "      <td>TMZ</td>\n",
       "    </tr>\n",
       "  </tbody>\n",
       "</table>\n",
       "</div>"
      ],
      "text/plain": [
       "                  date  year  month  day       author  \\\n",
       "0  2016-12-09 18:31:00  2016   12.0    9  Lee Drutman   \n",
       "1  2016-10-07 21:26:46  2016   10.0    7  Scott Davis   \n",
       "2  2018-01-26 00:00:00  2018    1.0   26          NaN   \n",
       "3  2019-06-27 00:00:00  2019    6.0   27          NaN   \n",
       "4  2016-01-27 00:00:00  2016    1.0   27          NaN   \n",
       "\n",
       "                                               title  \\\n",
       "0  We should take concerns about the health of li...   \n",
       "1  Colts GM Ryan Grigson says Andrew Luck's contr...   \n",
       "2       Trump denies report he ordered Mueller fired   \n",
       "3  France's Sarkozy reveals his 'Passions' but in...   \n",
       "4  Paris Hilton: Woman In Black For Uncle Monty's...   \n",
       "\n",
       "                                             article  \\\n",
       "0  This post is part of Polyarchy, an independent...   \n",
       "1   The Indianapolis Colts made Andrew Luck the h...   \n",
       "2  DAVOS, Switzerland (Reuters) - U.S. President ...   \n",
       "3  PARIS (Reuters) - Former French president Nico...   \n",
       "4  Paris Hilton arrived at LAX Wednesday dressed ...   \n",
       "\n",
       "                                                 url     section  \\\n",
       "0  https://www.vox.com/polyarchy/2016/12/9/138983...         NaN   \n",
       "1  https://www.businessinsider.com/colts-gm-ryan-...         NaN   \n",
       "2  https://www.reuters.com/article/us-davos-meeti...       Davos   \n",
       "3  https://www.reuters.com/article/france-politic...  World News   \n",
       "4  https://www.tmz.com/2016/01/27/paris-hilton-mo...         NaN   \n",
       "\n",
       "        publication  \n",
       "0               Vox  \n",
       "1  Business Insider  \n",
       "2           Reuters  \n",
       "3           Reuters  \n",
       "4               TMZ  "
      ]
     },
     "execution_count": 5,
     "metadata": {},
     "output_type": "execute_result"
    }
   ],
   "source": [
    "df = pd.read_csv('data/all-the-news-3.csv', nrows=99)\n",
    "df.head()"
   ]
  },
  {
   "cell_type": "markdown",
   "id": "39b262f9-7646-4aad-b358-6d50b22e596d",
   "metadata": {},
   "source": [
    "## Setup Pinecone"
   ]
  },
  {
   "cell_type": "code",
   "execution_count": 6,
   "id": "a78e97a6-4cc9-43d7-a07d-7e8c61df7835",
   "metadata": {},
   "outputs": [],
   "source": [
    "openai_client = OpenAI(api_key=OPENAI_API_KEY)\n",
    "\n",
    "INDEX_NAME = utils.create_index_name('t-ind')\n",
    "\n",
    "pinecone = Pinecone(api_key=PINECONE_API_KEY)\n",
    "\n",
    "if INDEX_NAME in [index.name for index in pinecone.list_indexes()]:\n",
    "  pinecone.delete_index(INDEX_NAME)\n",
    "\n",
    "pinecone.create_index(name=INDEX_NAME, dimension=1536, metric='cosine',\n",
    "  spec=ServerlessSpec(cloud='aws', region='us-east-1'))\n",
    "\n",
    "index = pinecone.Index(INDEX_NAME)"
   ]
  },
  {
   "cell_type": "code",
   "execution_count": 7,
   "id": "308d42c1-14b4-4400-be9a-c43bddcd5415",
   "metadata": {},
   "outputs": [
    {
     "data": {
      "text/plain": [
       "'t-ind-thpugi5b8qynkab8tfzq0ae9gcrijw7ctqaa'"
      ]
     },
     "execution_count": 7,
     "metadata": {},
     "output_type": "execute_result"
    }
   ],
   "source": [
    "INDEX_NAME"
   ]
  },
  {
   "cell_type": "markdown",
   "id": "2e41cb70-9456-41cc-a6e7-a32e8465106a",
   "metadata": {},
   "source": [
    "## Create Embeddings of the News Titles"
   ]
  },
  {
   "cell_type": "code",
   "execution_count": 8,
   "id": "63056485-7fc5-48e8-bd61-bf58c36c4d97",
   "metadata": {},
   "outputs": [],
   "source": [
    "def get_embeddings(articles, model=\"text-embedding-ada-002\"):\n",
    "    return openai_client.embeddings.create(input = articles, model=model)"
   ]
  },
  {
   "cell_type": "code",
   "execution_count": 9,
   "id": "eb23e25a-7cde-47ba-9fe7-db8fd9ac9d97",
   "metadata": {},
   "outputs": [
    {
     "name": "stderr",
     "output_type": "stream",
     "text": [
      "100%|██████████| 10000/10000 [04:01<00:00, 26.65it/s]"
     ]
    }
   ],
   "source": [
    "CHUNK_SIZE=400\n",
    "TOTAL_ROWS=10000\n",
    "\n",
    "progress_bar = tqdm(total=TOTAL_ROWS)\n",
    "chunks = pd.read_csv('data/all-the-news-3.csv', chunksize=CHUNK_SIZE, nrows=TOTAL_ROWS)\n",
    "\n",
    "chunk_num = 0\n",
    "for chunk in chunks:\n",
    "    titles = chunk['title'].tolist()\n",
    "    embeddings = get_embeddings(titles)\n",
    "    prepped = [{'id':str(chunk_num*CHUNK_SIZE+i), 'values':embeddings.data[i].embedding,\n",
    "                'metadata':{'title':titles[i]},} for i in range(0,len(titles))]\n",
    "    chunk_num = chunk_num + 1\n",
    "    if len(prepped) >= 200:\n",
    "        index.upsert(prepped)\n",
    "        prepped = []\n",
    "    progress_bar.update(len(chunk))"
   ]
  },
  {
   "cell_type": "code",
   "execution_count": 10,
   "id": "2b241a08-181b-4493-a754-114fdbd5dc48",
   "metadata": {},
   "outputs": [
    {
     "data": {
      "text/plain": [
       "{'dimension': 1536,\n",
       " 'index_fullness': 0.0,\n",
       " 'namespaces': {'': {'vector_count': 10000}},\n",
       " 'total_vector_count': 10000}"
      ]
     },
     "execution_count": 10,
     "metadata": {},
     "output_type": "execute_result"
    },
    {
     "name": "stderr",
     "output_type": "stream",
     "text": [
      "100%|██████████| 10000/10000 [04:20<00:00, 26.65it/s]"
     ]
    }
   ],
   "source": [
    "index.describe_index_stats()"
   ]
  },
  {
   "cell_type": "markdown",
   "id": "b4e90d4a-2da0-4bea-a9fe-c648c523f7ca",
   "metadata": {},
   "source": [
    "### Build the Recommender System"
   ]
  },
  {
   "cell_type": "code",
   "execution_count": 11,
   "id": "b1edfe93-f128-4aa8-a6da-c181df3531ed",
   "metadata": {},
   "outputs": [],
   "source": [
    "def get_recommendations(pinecone_index, search_term, top_k=10):\n",
    "    embed = get_embeddings([search_term]).data[0].embedding\n",
    "    res = pinecone_index.query(vector=embed, top_k=top_k, include_metadata=True)\n",
    "    return res"
   ]
  },
  {
   "cell_type": "code",
   "execution_count": 12,
   "id": "e02bcd0f-d19d-477d-b793-16d7ac250935",
   "metadata": {},
   "outputs": [
    {
     "name": "stdout",
     "output_type": "stream",
     "text": [
      "0.848942161 : Barack Obama just stepped off the sidelines to defend Obamacare\n",
      "0.847827375 : President Obama has a new plan to fight the opioid epidemic\n",
      "0.847774625 : “Our democracy is at stake”: Obama delivers his first post-presidency campaign speech\n",
      "0.847268581 : Obama: if you were fine with big government until it served black people, rethink your biases\n",
      "0.846126914 : President Obama: Michelle & I Are Gonna Be Renters\n",
      "0.843110383 : Vox Sentences: Obama got a warmer welcome in Hiroshima than the Japanese prime minister\n",
      "0.84294188 : Obama meets with national security team on Syria, Islamic State\n",
      "0.842331529 : Watch President Obama dance the tango in Argentina\n",
      "0.840474308 : Barack Obama in talks to create shows for Netflix: New York Times\n",
      "0.839662194 : Obama and Supreme Court Tag Team on Juvenile Justice Reform\n"
     ]
    }
   ],
   "source": [
    "reco = get_recommendations(index, 'obama')\n",
    "\n",
    "for r in reco.matches:\n",
    "    print(f'{r.score} : {r.metadata[\"title\"]}')"
   ]
  },
  {
   "cell_type": "markdown",
   "id": "1ea41ddc-b11c-4df4-915f-20952b9ad147",
   "metadata": {},
   "source": [
    "## Create Embeddings of All News Content"
   ]
  },
  {
   "cell_type": "code",
   "execution_count": 13,
   "id": "46dab8e6-4ee5-4894-afe4-4aa5da929bc7",
   "metadata": {},
   "outputs": [],
   "source": [
    "if INDEX_NAME in [index.name for index in pinecone.list_indexes()]:\n",
    "  pinecone.delete_index(name=INDEX_NAME)\n",
    "\n",
    "pinecone.create_index(name=INDEX_NAME, dimension=1536, metric='cosine',\n",
    "  spec=ServerlessSpec(cloud='aws', region='us-east-1'))\n",
    "\n",
    "articles_index = pinecone.Index(INDEX_NAME)"
   ]
  },
  {
   "cell_type": "code",
   "execution_count": 14,
   "id": "2a9e08b3-67d9-463c-aa3a-f63cea0497bf",
   "metadata": {},
   "outputs": [],
   "source": [
    "def embed(embeddings, title, prepped, embed_num):\n",
    "    for embedding in embeddings.data:\n",
    "        prepped.append({'id':str(embed_num), 'values':embedding.embedding, 'metadata':{'title':title}})\n",
    "        embed_num += 1\n",
    "        if len(prepped) >= 100:\n",
    "            articles_index.upsert(prepped)\n",
    "            prepped.clear()\n",
    "    return embed_num"
   ]
  },
  {
   "cell_type": "code",
   "execution_count": 15,
   "id": "081b627e-9968-4ff5-a65c-e30b39d7d17d",
   "metadata": {},
   "outputs": [
    {
     "name": "stdout",
     "output_type": "stream",
     "text": [
      "...................................................................................................."
     ]
    }
   ],
   "source": [
    "news_data_rows_num = 100\n",
    "\n",
    "embed_num = 0 #keep track of embedding number for 'id'\n",
    "text_splitter = RecursiveCharacterTextSplitter(chunk_size=400, chunk_overlap=20)\n",
    "\n",
    "prepped = []\n",
    "df = pd.read_csv('data/all-the-news-3.csv', nrows=news_data_rows_num)\n",
    "articles_list = df['article'].tolist()\n",
    "titles_list = df['title'].tolist()\n",
    "\n",
    "for i in range(0, len(articles_list)):\n",
    "    print(\".\",end=\"\")\n",
    "    art = articles_list[i]\n",
    "    title = titles_list[i]\n",
    "    if art is not None and isinstance(art, str):\n",
    "        texts = text_splitter.split_text(art)\n",
    "        embeddings = get_embeddings(texts)\n",
    "        embed_num = embed(embeddings, title, prepped, embed_num)"
   ]
  },
  {
   "cell_type": "code",
   "execution_count": 16,
   "id": "697899f7-d6d6-4390-98c5-4faf81e62240",
   "metadata": {},
   "outputs": [
    {
     "data": {
      "text/plain": [
       "{'dimension': 1536,\n",
       " 'index_fullness': 0.0,\n",
       " 'namespaces': {'': {'vector_count': 1000}},\n",
       " 'total_vector_count': 1000}"
      ]
     },
     "execution_count": 16,
     "metadata": {},
     "output_type": "execute_result"
    }
   ],
   "source": [
    "articles_index.describe_index_stats()"
   ]
  },
  {
   "cell_type": "markdown",
   "id": "c4fc553e-a429-4720-9b99-15a0b09c458c",
   "metadata": {},
   "source": [
    "### Build the Recommender System"
   ]
  },
  {
   "cell_type": "code",
   "execution_count": 17,
   "id": "f1f7cff9-a476-4355-ad19-bc13740fcab4",
   "metadata": {},
   "outputs": [
    {
     "name": "stdout",
     "output_type": "stream",
     "text": [
      "0.821350217 : Why Obama is vetting Nevada's Republican governor for the Supreme Court\n",
      "0.818117857 : U.S. lawmakers ask for disclosure of number of Americans under surveillance\n",
      "0.811663449 : NYPD Honcho Insulted by 'Hamilton' Star Lin-Manuel Miranda Celebrating Obama's Controversial Prisoner Release\n",
      "0.805786252 : Why Jews Are Getting Themselves Arrested at ICE Centers Around the Country\n",
      "0.805666924 : Trump keeping options open as Republican feud rages\n",
      "0.800964475 : Michael Bloomberg Is Seriously Considering a Presidential Run\n",
      "0.798702419 : The most revealing Republican ad of the election is an attack ad against Tim Kaine\n",
      "0.798462033 : Exclusive: Trump considering fracking mogul Harold Hamm as energy secretary - sources\n",
      "0.797424436 : Trump tells anti-abortion marchers he will support them\n",
      "0.79741168 : The government official in charge of ethics just harshly condemned Trump’s plan\n",
      "0.793310285 : Exclusive: China shuns U.S. request for talks on airline website dispute over Taiwan\n",
      "0.791569173 : “Elizabeth Warren called me!” is turning into a Twitter meme\n",
      "0.789119244 : Nancy Pelosi says a Clinton landslide could put the House in play. The math backs her up.\n",
      "0.785999775 : Republicans totally outsmarted the mainstream media on Obamacare repeal\n",
      "0.783142209 : Peter Thiel vs. the FDA\n",
      "0.782470822 : It's 2018, and these white supremacists are running for office\n",
      "0.7820701 : China is dismissing unfavorable media reports as fake because that's what Trump does\n",
      "0.781677 : We should take concerns about the health of liberal democracy seriously\n",
      "0.780437469 : France's Sarkozy reveals his 'Passions' but insists no come-back on cards\n",
      "0.779490709 : How the Clinton campaign is making #ThatMexicanThing a thing, explained\n",
      "0.779201269 : How one woman used fashion to reclaim her Muslim American identity\n",
      "0.778798044 : IEA concerned about Middle East tensions, stands ready to act\n",
      "0.778015 : Mass protests have erupted in Poland \n",
      "0.775806725 : How love and marriage are changing, according to 63,000 New York Times wedding announcements\n"
     ]
    }
   ],
   "source": [
    "reco = get_recommendations(articles_index, 'obama', top_k=100)\n",
    "seen = {}\n",
    "\n",
    "for r in reco.matches:\n",
    "    title = r.metadata['title']\n",
    "    if title not in seen:\n",
    "        print(f'{r.score} : {title}')\n",
    "        seen[title] = '.'"
   ]
  },
  {
   "cell_type": "code",
   "execution_count": null,
   "id": "e503b419-c289-4e8e-8e6f-17bd9c8ae27a",
   "metadata": {},
   "outputs": [],
   "source": []
  }
 ],
 "metadata": {
  "kernelspec": {
   "display_name": "Python 3 (ipykernel)",
   "language": "python",
   "name": "python3"
  },
  "language_info": {
   "codemirror_mode": {
    "name": "ipython",
    "version": 3
   },
   "file_extension": ".py",
   "mimetype": "text/x-python",
   "name": "python",
   "nbconvert_exporter": "python",
   "pygments_lexer": "ipython3",
   "version": "3.10.18"
  }
 },
 "nbformat": 4,
 "nbformat_minor": 5
}
