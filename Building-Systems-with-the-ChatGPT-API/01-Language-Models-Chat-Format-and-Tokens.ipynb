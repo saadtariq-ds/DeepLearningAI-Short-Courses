{
 "cells": [
  {
   "cell_type": "markdown",
   "id": "edbb04ed-a3dc-48aa-a7f9-074d0ed189c6",
   "metadata": {},
   "source": [
    "## Libraries and Setup"
   ]
  },
  {
   "cell_type": "code",
   "execution_count": 2,
   "id": "105d6d4f-2830-4ae2-9d14-a83c52d6102b",
   "metadata": {},
   "outputs": [],
   "source": [
    "import os\n",
    "import openai\n",
    "import tiktoken\n",
    "from dotenv import load_dotenv, find_dotenv"
   ]
  },
  {
   "cell_type": "code",
   "execution_count": 3,
   "id": "442c0ef8-85a5-41f6-b599-b4bc9950ff9a",
   "metadata": {},
   "outputs": [],
   "source": [
    "_ = load_dotenv(find_dotenv())\n",
    "\n",
    "openai_api_key = os.getenv(\"OPENAI_API_KEY\")"
   ]
  },
  {
   "cell_type": "code",
   "execution_count": 4,
   "id": "f1365102-5d41-4757-ae62-310f3cfbaf25",
   "metadata": {},
   "outputs": [],
   "source": [
    "client = openai.OpenAI()"
   ]
  },
  {
   "cell_type": "code",
   "execution_count": 5,
   "id": "005a606b-3aa5-49fd-be15-ee5bdf5dc24f",
   "metadata": {},
   "outputs": [],
   "source": [
    "def get_completion(prompt, model=\"gpt-3.5-turbo\"):\n",
    "    messages = [{\"role\": \"user\", \"content\": prompt}]\n",
    "    response = client.chat.completions.create(\n",
    "        model=model,\n",
    "        messages=messages,\n",
    "        temperature=0\n",
    "    )\n",
    "    return response.choices[0].message.content"
   ]
  },
  {
   "cell_type": "code",
   "execution_count": 6,
   "id": "5121eb75-6e35-497d-b399-7e779a592cdd",
   "metadata": {},
   "outputs": [],
   "source": [
    "def get_completion_from_messages(\n",
    "    messages, \n",
    "    model=\"gpt-3.5-turbo\", \n",
    "    temperature=0,\n",
    "    max_tokens=500):\n",
    "    \n",
    "    response = client.chat.completions.create(\n",
    "        model=model,\n",
    "        messages=messages,\n",
    "        temperature=temperature,\n",
    "        max_tokens=max_tokens\n",
    "    )\n",
    "    # print(str(response.choices[0].message)\n",
    "    return response.choices[0].message.content"
   ]
  },
  {
   "cell_type": "code",
   "execution_count": 7,
   "id": "30781954-66e6-4ad0-8402-57daca6b46c2",
   "metadata": {},
   "outputs": [],
   "source": [
    "def get_completion_and_token_count(messages, \n",
    "                                   model=\"gpt-3.5-turbo\", \n",
    "                                   temperature=0, \n",
    "                                   max_tokens=500):\n",
    "    \n",
    "    response = client.chat.completions.create(\n",
    "        model=model,\n",
    "        messages=messages,\n",
    "        temperature=temperature, \n",
    "        max_tokens=max_tokens,\n",
    "    )\n",
    "    \n",
    "    content = response.choices[0].message.content\n",
    "    \n",
    "    token_dict = {\n",
    "        'prompt_tokens':response.usage.prompt_tokens,\n",
    "        'completion_tokens':response.usage.completion_tokens,\n",
    "        'total_tokens':response.usage.total_tokens,\n",
    "    }\n",
    "\n",
    "    return content, token_dict"
   ]
  },
  {
   "cell_type": "markdown",
   "id": "a3e41c61-daf6-46fe-80bb-86523affdc00",
   "metadata": {},
   "source": [
    "## Prompt the Model and get a Completion"
   ]
  },
  {
   "cell_type": "code",
   "execution_count": 8,
   "id": "d7f90319-ff37-4972-bf98-f2653fae1e5b",
   "metadata": {},
   "outputs": [
    {
     "name": "stdout",
     "output_type": "stream",
     "text": [
      "The capital of France is Paris.\n"
     ]
    }
   ],
   "source": [
    "response = get_completion(\"What is the capital of France?\")\n",
    "print(response)"
   ]
  },
  {
   "cell_type": "markdown",
   "id": "dfba327c-6870-4033-981a-db4abee94b5d",
   "metadata": {},
   "source": [
    "## Tokens"
   ]
  },
  {
   "cell_type": "code",
   "execution_count": 9,
   "id": "5fabae3e-f9ba-4f42-8e17-3e27063d3ed0",
   "metadata": {},
   "outputs": [
    {
     "name": "stdout",
     "output_type": "stream",
     "text": [
      "pilpolol\n"
     ]
    }
   ],
   "source": [
    "response = get_completion(\"Take the letters in lollipop and reverse them\")\n",
    "print(response)"
   ]
  },
  {
   "cell_type": "code",
   "execution_count": 10,
   "id": "ce6a13f6-e560-43b2-a7fa-0ee3470ac4e1",
   "metadata": {},
   "outputs": [
    {
     "name": "stdout",
     "output_type": "stream",
     "text": [
      "p-o-p-i-l-l-o-l\n"
     ]
    }
   ],
   "source": [
    "response = get_completion(\"\"\"Take the letters in l-o-l-l-i-p-o-p and reverse them\"\"\")\n",
    "print(response)"
   ]
  },
  {
   "cell_type": "markdown",
   "id": "2e51bc56-dceb-4c83-95d0-d88c7c4cae7c",
   "metadata": {},
   "source": [
    "## Chat Format"
   ]
  },
  {
   "cell_type": "code",
   "execution_count": 11,
   "id": "33868fc1-35b1-4399-ab43-4a72bbe870f4",
   "metadata": {},
   "outputs": [
    {
     "name": "stdout",
     "output_type": "stream",
     "text": [
      "Once was a carrot so bright and merry,\n",
      "In the garden, never did he tarry.\n",
      "Orange and tall, with leafy green top,\n",
      "He smiled at the sun, never did he stop.\n",
      "\n",
      "With a skip and a hop, he danced all day,\n",
      "In the soil, he loved to play.\n",
      "Oh happy carrot, shining so bright,\n",
      "Bringing joy with all your might!\n"
     ]
    }
   ],
   "source": [
    "messages =  [  \n",
    "    {'role':'system', 'content':\"\"\"You are an assistant who responds in the style of Dr Seuss.\"\"\"},    \n",
    "    {'role':'user', 'content':\"\"\"write me a very short poem about a happy carrot\"\"\"},  \n",
    "]\n",
    "\n",
    "response = get_completion_from_messages(messages, temperature=1)\n",
    "print(response)"
   ]
  },
  {
   "cell_type": "markdown",
   "id": "59f09484-f35f-4cd3-a92a-b3914b3ec4e3",
   "metadata": {},
   "source": [
    "## Length"
   ]
  },
  {
   "cell_type": "code",
   "execution_count": 12,
   "id": "9bc7e05b-5dec-4abb-ba41-33ab3501fe2b",
   "metadata": {},
   "outputs": [
    {
     "name": "stdout",
     "output_type": "stream",
     "text": [
      "Once upon a time, a vibrant carrot named Charlie danced joyfully in the sun, feeling grateful for the soil that nourished him.\n"
     ]
    }
   ],
   "source": [
    "messages =  [\n",
    "    {'role':'system', 'content':'All your responses must be one sentence long.'},\n",
    "    {'role':'user', 'content':'write me a story about a happy carrot'}\n",
    "]\n",
    "\n",
    "response = get_completion_from_messages(messages, temperature=1)\n",
    "print(response)"
   ]
  },
  {
   "cell_type": "code",
   "execution_count": 13,
   "id": "dd6ecbf3-7abf-49e0-b744-0a803f09a821",
   "metadata": {},
   "outputs": [
    {
     "name": "stdout",
     "output_type": "stream",
     "text": [
      "In a garden so bright, a carrot took flight, bouncing in delight under the moonlight.\n"
     ]
    }
   ],
   "source": [
    "messages =  [\n",
    "    {'role':'system', 'content':\"\"\"You are an assistant who responds in the style of Dr Seuss. \\ \n",
    "    All your responses must be one sentence long.\"\"\"},\n",
    "    {'role':'user', 'content':\"\"\"write me a story about a happy carrot\"\"\"}\n",
    "]\n",
    "\n",
    "response = get_completion_from_messages(messages, temperature=1)\n",
    "print(response)"
   ]
  },
  {
   "cell_type": "markdown",
   "id": "941f852c-2ffd-4ecc-8330-8d010d4dbab8",
   "metadata": {},
   "source": [
    "# Completion and Token Count"
   ]
  },
  {
   "cell_type": "code",
   "execution_count": 14,
   "id": "6ec4f9ef-370b-4094-9562-4ca213337a69",
   "metadata": {},
   "outputs": [],
   "source": [
    "messages = [\n",
    "    {'role':'system', 'content':\"\"\"You are an assistant who responds in the style of Dr Seuss.\"\"\"},    \n",
    "    {'role':'user', 'content':\"\"\"write me a very short poem about a happy carrot\"\"\"},  \n",
    "] \n",
    "\n",
    "response, token_dict = get_completion_and_token_count(messages)"
   ]
  },
  {
   "cell_type": "code",
   "execution_count": 15,
   "id": "92997565-4085-4241-8440-f3da1f5bc9e7",
   "metadata": {},
   "outputs": [
    {
     "data": {
      "text/plain": [
       "\"Oh, the happy carrot, so bright and so orange,\\nIn the garden, it grows without any storage.\\nWith a leafy green top and a crunchy sweet taste,\\nIt brings joy to all, no time to waste.\\nSo let's celebrate this veggie so fine,\\nThe happy carrot, a friend of mine!\""
      ]
     },
     "execution_count": 15,
     "metadata": {},
     "output_type": "execute_result"
    }
   ],
   "source": [
    "response"
   ]
  },
  {
   "cell_type": "code",
   "execution_count": 16,
   "id": "58f1466a-7f6b-44be-badb-60e53e64ffb6",
   "metadata": {},
   "outputs": [
    {
     "data": {
      "text/plain": [
       "{'prompt_tokens': 35, 'completion_tokens': 65, 'total_tokens': 100}"
      ]
     },
     "execution_count": 16,
     "metadata": {},
     "output_type": "execute_result"
    }
   ],
   "source": [
    "token_dict"
   ]
  },
  {
   "cell_type": "code",
   "execution_count": null,
   "id": "b62709e6-7415-4c25-9866-87c4ddc02c34",
   "metadata": {},
   "outputs": [],
   "source": []
  }
 ],
 "metadata": {
  "kernelspec": {
   "display_name": "Python 3 (ipykernel)",
   "language": "python",
   "name": "python3"
  },
  "language_info": {
   "codemirror_mode": {
    "name": "ipython",
    "version": 3
   },
   "file_extension": ".py",
   "mimetype": "text/x-python",
   "name": "python",
   "nbconvert_exporter": "python",
   "pygments_lexer": "ipython3",
   "version": "3.11.11"
  }
 },
 "nbformat": 4,
 "nbformat_minor": 5
}
