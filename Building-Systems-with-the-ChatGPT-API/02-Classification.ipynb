{
 "cells": [
  {
   "cell_type": "markdown",
   "id": "baaf9d71-67bf-4e4e-bf0c-b50a47ce71d8",
   "metadata": {},
   "source": [
    "## Libraries and Setup"
   ]
  },
  {
   "cell_type": "code",
   "execution_count": 1,
   "id": "fea6b0d6-cc1c-4456-a588-2a443ebe54ef",
   "metadata": {},
   "outputs": [],
   "source": [
    "import os\n",
    "import openai\n",
    "import tiktoken\n",
    "from dotenv import load_dotenv, find_dotenv"
   ]
  },
  {
   "cell_type": "code",
   "execution_count": 2,
   "id": "e1944396-e96f-4ce1-9f9f-5d24958ff443",
   "metadata": {},
   "outputs": [],
   "source": [
    "_ = load_dotenv(find_dotenv()) # read local .env file\n",
    "\n",
    "openai.api_key  = os.environ['OPENAI_API_KEY']"
   ]
  },
  {
   "cell_type": "code",
   "execution_count": 3,
   "id": "2d096ba4-ac46-49cb-b8cb-c013b5f1f92b",
   "metadata": {},
   "outputs": [],
   "source": [
    "client = openai.OpenAI()"
   ]
  },
  {
   "cell_type": "code",
   "execution_count": 4,
   "id": "05206b7d-562b-44b3-a065-bf1f7cc6f80b",
   "metadata": {},
   "outputs": [],
   "source": [
    "def get_completion_from_messages(\n",
    "    messages, \n",
    "    model=\"gpt-3.5-turbo\", \n",
    "    temperature=0,\n",
    "    max_tokens=500):\n",
    "    \n",
    "    response = client.chat.completions.create(\n",
    "        model=model,\n",
    "        messages=messages,\n",
    "        temperature=temperature,\n",
    "        max_tokens=max_tokens\n",
    "    )\n",
    "    # print(str(response.choices[0].message)\n",
    "    return response.choices[0].message.content"
   ]
  },
  {
   "cell_type": "markdown",
   "id": "a76d22f0-168e-43cf-be26-7c3e24d7b20e",
   "metadata": {},
   "source": [
    "## Classify Customer Queries to Handle Different Cases"
   ]
  },
  {
   "cell_type": "code",
   "execution_count": 5,
   "id": "8b49ff11-9a49-4d64-b32c-8d68ca5b1dc2",
   "metadata": {},
   "outputs": [],
   "source": [
    "delimiter = \"####\""
   ]
  },
  {
   "cell_type": "code",
   "execution_count": 6,
   "id": "c2f6e7a7-d737-4d57-985b-1e1b2019e249",
   "metadata": {},
   "outputs": [],
   "source": [
    "system_message = f\"\"\"\n",
    "You will be provided with customer service queries. The customer service query will be delimited with {delimiter} characters.\n",
    "Classify each query into a primary category and a secondary category. \n",
    "Provide your output in json format with the keys: primary and secondary.\n",
    "\n",
    "Primary categories: Billing, Technical Support, Account Management, or General Inquiry.\n",
    "\n",
    "Billing secondary categories:\n",
    "Unsubscribe or upgrade\n",
    "Add a payment method\n",
    "Explanation for charge\n",
    "Dispute a charge\n",
    "\n",
    "Technical Support secondary categories:\n",
    "General troubleshooting\n",
    "Device compatibility\n",
    "Software updates\n",
    "\n",
    "Account Management secondary categories:\n",
    "Password reset\n",
    "Update personal information\n",
    "Close account\n",
    "Account security\n",
    "\n",
    "General Inquiry secondary categories:\n",
    "Product information\n",
    "Pricing\n",
    "Feedback\n",
    "Speak to a human\n",
    "\"\"\""
   ]
  },
  {
   "cell_type": "code",
   "execution_count": 7,
   "id": "83484d23-d491-4ee1-bdeb-f7939f2095e9",
   "metadata": {},
   "outputs": [
    {
     "name": "stdout",
     "output_type": "stream",
     "text": [
      "{\n",
      "  \"primary\": \"Account Management\",\n",
      "  \"secondary\": \"Close account\"\n",
      "}\n"
     ]
    }
   ],
   "source": [
    "user_message = f\"\"\"I want you to delete my profile and all of my user data\"\"\"\n",
    "\n",
    "messages =  [\n",
    "    {'role':'system', 'content': system_message},\n",
    "    {'role':'user', 'content': f\"{delimiter}{user_message}{delimiter}\"}\n",
    "]\n",
    "\n",
    "response = get_completion_from_messages(messages)\n",
    "print(response)"
   ]
  },
  {
   "cell_type": "code",
   "execution_count": 8,
   "id": "29f04d63-1ef7-4956-a884-b8ffee04fb33",
   "metadata": {},
   "outputs": [
    {
     "name": "stdout",
     "output_type": "stream",
     "text": [
      "{\n",
      "  \"primary\": \"General Inquiry\",\n",
      "  \"secondary\": \"Product information\"\n",
      "}  \n",
      "\n"
     ]
    }
   ],
   "source": [
    "user_message = f\"\"\"Tell me more about your flat screen tvs\"\"\"\n",
    "\n",
    "messages =  [\n",
    "    {'role':'system', 'content': system_message},\n",
    "    {'role':'user', 'content': f\"{delimiter}{user_message}{delimiter}\"}\n",
    "] \n",
    "\n",
    "response = get_completion_from_messages(messages)\n",
    "print(response)"
   ]
  },
  {
   "cell_type": "code",
   "execution_count": null,
   "id": "1b9e7eac-a338-46a6-bd2c-225950cc3899",
   "metadata": {},
   "outputs": [],
   "source": []
  }
 ],
 "metadata": {
  "kernelspec": {
   "display_name": "Python 3 (ipykernel)",
   "language": "python",
   "name": "python3"
  },
  "language_info": {
   "codemirror_mode": {
    "name": "ipython",
    "version": 3
   },
   "file_extension": ".py",
   "mimetype": "text/x-python",
   "name": "python",
   "nbconvert_exporter": "python",
   "pygments_lexer": "ipython3",
   "version": "3.11.11"
  }
 },
 "nbformat": 4,
 "nbformat_minor": 5
}
