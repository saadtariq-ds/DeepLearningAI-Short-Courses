{
 "cells": [
  {
   "cell_type": "markdown",
   "id": "18a0f7d9-de0e-4f0e-8788-ca907ae73a2e",
   "metadata": {},
   "source": [
    "## Libraries and Setup"
   ]
  },
  {
   "cell_type": "code",
   "execution_count": 1,
   "id": "f0e1dbd3-b241-4c32-8a64-86a8258e139a",
   "metadata": {},
   "outputs": [],
   "source": [
    "import os\n",
    "import openai\n",
    "import utils\n",
    "import json\n",
    "\n",
    "from dotenv import load_dotenv, find_dotenv"
   ]
  },
  {
   "cell_type": "code",
   "execution_count": 2,
   "id": "a6d38407-a607-4961-a16d-4f1e05e63001",
   "metadata": {},
   "outputs": [],
   "source": [
    "_ = load_dotenv(find_dotenv())\n",
    "\n",
    "openai.api_key  = os.environ['OPENAI_API_KEY']"
   ]
  },
  {
   "cell_type": "code",
   "execution_count": 3,
   "id": "9b04ece9-2b9b-42ef-bce7-1858c83f0b46",
   "metadata": {},
   "outputs": [],
   "source": [
    "client = openai.OpenAI()"
   ]
  },
  {
   "cell_type": "code",
   "execution_count": 4,
   "id": "eba37c56-5873-42c6-813c-2e4c6687d4b6",
   "metadata": {},
   "outputs": [],
   "source": [
    "def get_completion_from_messages(\n",
    "    messages, \n",
    "    model=\"gpt-3.5-turbo\", \n",
    "    temperature=0,\n",
    "    max_tokens=500):\n",
    "    \n",
    "    response = client.chat.completions.create(\n",
    "        model=model,\n",
    "        messages=messages,\n",
    "        temperature=temperature,\n",
    "        max_tokens=max_tokens\n",
    "    )\n",
    "    # print(str(response.choices[0].message)\n",
    "    return response.choices[0].message.content"
   ]
  },
  {
   "cell_type": "markdown",
   "id": "ad524bc9-4cb4-4164-89ea-f579495b0e80",
   "metadata": {},
   "source": [
    "## Run through the end-to-end system to answer the user query"
   ]
  },
  {
   "cell_type": "code",
   "execution_count": 5,
   "id": "7a968267-008d-4a0d-96c9-90ec12608893",
   "metadata": {},
   "outputs": [],
   "source": [
    "customer_msg = f\"\"\"\n",
    "tell me about the smartx pro phone and the fotosnap camera, the dslr one.\n",
    "Also, what TVs or TV related products do you have?\"\"\"\n",
    "\n",
    "products_by_category = utils.get_products_from_query(customer_msg)\n",
    "category_and_product_list = utils.read_string_to_list(products_by_category)\n",
    "product_info = utils.get_mentioned_product_info(category_and_product_list)\n",
    "assistant_answer = utils.answer_user_msg(user_msg=customer_msg, product_info=product_info)"
   ]
  },
  {
   "cell_type": "code",
   "execution_count": 6,
   "id": "450c32e0-de7d-44e9-a915-98007a2a093d",
   "metadata": {},
   "outputs": [
    {
     "name": "stdout",
     "output_type": "stream",
     "text": [
      "The SmartX ProPhone is a powerful smartphone with a 6.1-inch display, 128GB storage, 12MP dual camera, and 5G capability. It is priced at $899.99 and comes with a 1-year warranty. The FotoSnap DSLR Camera features a 24.2MP sensor, 1080p video recording, 3-inch LCD screen, and interchangeable lenses. Priced at $599.99 with a 1-year warranty.\n",
      "\n",
      "For TVs and related products, we have the CineView 4K TV (55-inch, 4K resolution, HDR, Smart TV) for $599.99, the CineView 8K TV (65-inch, 8K resolution, HDR, Smart TV) for $2999.99, the SoundMax Home Theater system (5.1 channel, 1000W output, wireless subwoofer, Bluetooth) for $399.99, the SoundMax Soundbar (2.1 channel, 300W output, wireless subwoofer, Bluetooth) for $199.99, and the CineView OLED TV (55-inch, 4K resolution, HDR, Smart TV) for $1499.99.\n",
      "\n",
      "Do you have any specific questions about these products or would you like more details on any of them?\n"
     ]
    }
   ],
   "source": [
    "print(assistant_answer)"
   ]
  },
  {
   "cell_type": "markdown",
   "id": "9e97c9c0-db3e-43ac-8839-619faaeadcd5",
   "metadata": {},
   "source": [
    "## Evaluate the LLM's answer to the user with a rubric, based on the extracted product information"
   ]
  },
  {
   "cell_type": "code",
   "execution_count": 7,
   "id": "f4e89974-9d29-4f30-8f79-cfa528bf3713",
   "metadata": {},
   "outputs": [],
   "source": [
    "cust_prod_info = {\n",
    "    'customer_msg': customer_msg,\n",
    "    'context': product_info\n",
    "}"
   ]
  },
  {
   "cell_type": "code",
   "execution_count": 8,
   "id": "da715e79-7855-404b-8f70-2913fea5b57e",
   "metadata": {},
   "outputs": [],
   "source": [
    "def eval_with_rubric(test_set, assistant_answer):\n",
    "    cust_msg = test_set['customer_msg']\n",
    "    context = test_set['context']\n",
    "    completion = assistant_answer\n",
    "    \n",
    "    system_message = \"\"\"\\\n",
    "    You are an assistant that evaluates how well the customer service agent \\\n",
    "    answers a user question by looking at the context that the customer service \\\n",
    "    agent is using to generate its response. \n",
    "    \"\"\"\n",
    "\n",
    "    user_message = f\"\"\"\\\n",
    "    You are evaluating a submitted answer to a question based on the context \\\n",
    "    that the agent uses to answer the question.\n",
    "    Here is the data:\n",
    "    [BEGIN DATA]\n",
    "    ************\n",
    "    [Question]: {cust_msg}\n",
    "    ************\n",
    "    [Context]: {context}\n",
    "    ************\n",
    "    [Submission]: {completion}\n",
    "    ************\n",
    "    [END DATA]\n",
    "\n",
    "    Compare the factual content of the submitted answer with the context. \\\n",
    "    Ignore any differences in style, grammar, or punctuation.\n",
    "    Answer the following questions:\n",
    "    - Is the Assistant response based only on the context provided? (Y or N)\n",
    "    - Does the answer include information that is not provided in the context? (Y or N)\n",
    "    - Is there any disagreement between the response and the context? (Y or N)\n",
    "    - Count how many questions the user asked. (output a number)\n",
    "    - For each question that the user asked, is there a corresponding answer to it?\n",
    "      Question 1: (Y or N)\n",
    "      Question 2: (Y or N)\n",
    "      ...\n",
    "      Question N: (Y or N)\n",
    "    - Of the number of questions asked, how many of these questions were addressed by the answer? (output a number)\n",
    "    \"\"\"\n",
    "\n",
    "    messages = [\n",
    "        {'role': 'system', 'content': system_message},\n",
    "        {'role': 'user', 'content': user_message}\n",
    "    ]\n",
    "\n",
    "    response = get_completion_from_messages(messages)\n",
    "    return response"
   ]
  },
  {
   "cell_type": "code",
   "execution_count": 9,
   "id": "23d37e39-e80e-4263-99e5-bddc9c4f3445",
   "metadata": {},
   "outputs": [
    {
     "name": "stdout",
     "output_type": "stream",
     "text": [
      "- Is the Assistant response based only on the context provided? (Y or N)  \n",
      "Y\n",
      "\n",
      "- Does the answer include information that is not provided in the context? (Y or N)  \n",
      "N\n",
      "\n",
      "- Is there any disagreement between the response and the context? (Y or N)  \n",
      "N\n",
      "\n",
      "- Count how many questions the user asked. (output a number)  \n",
      "2\n",
      "\n",
      "- For each question that the user asked, is there a corresponding answer to it?  \n",
      "Question 1: Y  \n",
      "Question 2: Y  \n",
      "\n",
      "- Of the number of questions asked, how many of these questions were addressed by the answer? (output a number)  \n",
      "2\n"
     ]
    }
   ],
   "source": [
    "evaluation_output = eval_with_rubric(cust_prod_info, assistant_answer)\n",
    "print(evaluation_output)"
   ]
  },
  {
   "cell_type": "markdown",
   "id": "b373532a-117d-44f6-b5a6-92ff37d600a2",
   "metadata": {},
   "source": [
    "## Evaluate the LLM's answer to the user based on an \"ideal\" / \"expert\" (human generated) answer."
   ]
  },
  {
   "cell_type": "code",
   "execution_count": 10,
   "id": "5cca378a-5139-4bb4-b965-8322c4ee6079",
   "metadata": {},
   "outputs": [],
   "source": [
    "test_set_ideal = {\n",
    "    'customer_msg': \"\"\"\\\n",
    "    tell me about the smartx pro phone and the fotosnap camera, the dslr one.\n",
    "    Also, what TVs or TV related products do you have?\"\"\",\n",
    "    \n",
    "    'ideal_answer':\"\"\"\\\n",
    "    Of course!  \n",
    "    The SmartX ProPhone is a powerful smartphone with advanced camera features. \\\n",
    "    For instance, it has a 12MP dual camera. \\\n",
    "    Other features include 5G wireless and 128GB storage. \\\n",
    "    It also has a 6.1-inch display.  The price is $899.99.\n",
    "    \n",
    "    The FotoSnap DSLR Camera is great for \\\n",
    "    capturing stunning photos and videos. \\\n",
    "    Some features include 1080p video, \\\n",
    "    3-inch LCD, a 24.2MP sensor, \\\n",
    "    and interchangeable lenses. \\\n",
    "    The price is 599.99.\n",
    "    \n",
    "    For TVs and TV related products, we offer 3 TVs \\\n",
    "    \n",
    "    \n",
    "    All TVs offer HDR and Smart TV.\n",
    "    \n",
    "    The CineView 4K TV has vibrant colors and smart features. \\\n",
    "    Some of these features include a 55-inch display, \\\n",
    "    '4K resolution. It's priced at 599.\n",
    "    \n",
    "    The CineView 8K TV is a stunning 8K TV. \\\n",
    "    Some features include a 65-inch display and \\\n",
    "    8K resolution.  It's priced at 2999.99\n",
    "    \n",
    "    The CineView OLED TV lets you experience vibrant colors. \\\n",
    "    Some features include a 55-inch display and 4K resolution. \\\n",
    "    It's priced at 1499.99.\n",
    "    \n",
    "    We also offer 2 home theater products, both which include bluetooth.\\\n",
    "    The SoundMax Home Theater is a powerful home theater system for \\\n",
    "    an immmersive audio experience.\n",
    "    Its features include 5.1 channel, 1000W output, and wireless subwoofer.\n",
    "    It's priced at 399.99.\n",
    "    \n",
    "    The SoundMax Soundbar is a sleek and powerful soundbar.\n",
    "    It's features include 2.1 channel, 300W output, and wireless subwoofer.\n",
    "    It's priced at 199.99\n",
    "    \n",
    "    Are there any questions additional you may have about these products \\\n",
    "    that you mentioned here?\n",
    "    Or may do you have other questions I can help you with?\n",
    "    \"\"\"\n",
    "}"
   ]
  },
  {
   "cell_type": "markdown",
   "id": "0f995fd2-302d-42ca-b8db-365981ad9c75",
   "metadata": {},
   "source": [
    "### Check if the LLM's response agrees with or disagrees with the expert answer\n",
    "\n",
    "This evaluation prompt is from the [OpenAI evals](https://github.com/openai/evals/blob/main/evals/registry/modelgraded/fact.yaml) project.\n",
    "\r\n",
    "[\r\n",
    "BLEU sco](https://en.wikipedia.org/wiki/BLEU)re: another way to evaluate whether two pieces of text are similar or not."
   ]
  },
  {
   "cell_type": "code",
   "execution_count": 11,
   "id": "cda9609e-2105-4f42-bc67-7f512c30be38",
   "metadata": {},
   "outputs": [],
   "source": [
    "def eval_vs_ideal(test_set, assistant_answer):\n",
    "\n",
    "    cust_msg = test_set['customer_msg']\n",
    "    ideal = test_set['ideal_answer']\n",
    "    completion = assistant_answer\n",
    "    \n",
    "    system_message = \"\"\"\\\n",
    "    You are an assistant that evaluates how well the customer service agent \\\n",
    "    answers a user question by comparing the response to the ideal (expert) response\n",
    "    Output a single letter and nothing else. \n",
    "    \"\"\"\n",
    "\n",
    "    user_message = f\"\"\"\\\n",
    "    You are comparing a submitted answer to an expert answer on a given question. Here is the data:\n",
    "        [BEGIN DATA]\n",
    "        ************\n",
    "        [Question]: {cust_msg}\n",
    "        ************\n",
    "        [Expert]: {ideal}\n",
    "        ************\n",
    "        [Submission]: {completion}\n",
    "        ************\n",
    "        [END DATA]\n",
    "    \n",
    "    Compare the factual content of the submitted answer with the expert answer. Ignore any differences in style, grammar, or punctuation.\n",
    "        The submitted answer may either be a subset or superset of the expert answer, or it may conflict with it. Determine which case applies. Answer the question by selecting one of the following options:\n",
    "        (A) The submitted answer is a subset of the expert answer and is fully consistent with it.\n",
    "        (B) The submitted answer is a superset of the expert answer and is fully consistent with it.\n",
    "        (C) The submitted answer contains all the same details as the expert answer.\n",
    "        (D) There is a disagreement between the submitted answer and the expert answer.\n",
    "        (E) The answers differ, but these differences don't matter from the perspective of factuality.\n",
    "      choice_strings: ABCDE\n",
    "    \"\"\"\n",
    "\n",
    "    messages = [\n",
    "        {'role': 'system', 'content': system_message},\n",
    "        {'role': 'user', 'content': user_message}\n",
    "    ]\n",
    "\n",
    "    response = get_completion_from_messages(messages)\n",
    "    return response"
   ]
  },
  {
   "cell_type": "code",
   "execution_count": 12,
   "id": "ea527609-01f8-4894-85aa-9229ebb88370",
   "metadata": {},
   "outputs": [
    {
     "name": "stdout",
     "output_type": "stream",
     "text": [
      "The SmartX ProPhone is a powerful smartphone with a 6.1-inch display, 128GB storage, 12MP dual camera, and 5G capability. It is priced at $899.99 and comes with a 1-year warranty. The FotoSnap DSLR Camera features a 24.2MP sensor, 1080p video recording, 3-inch LCD screen, and interchangeable lenses. Priced at $599.99 with a 1-year warranty.\n",
      "\n",
      "For TVs and related products, we have the CineView 4K TV (55-inch, 4K resolution, HDR, Smart TV) for $599.99, the CineView 8K TV (65-inch, 8K resolution, HDR, Smart TV) for $2999.99, the SoundMax Home Theater system (5.1 channel, 1000W output, wireless subwoofer, Bluetooth) for $399.99, the SoundMax Soundbar (2.1 channel, 300W output, wireless subwoofer, Bluetooth) for $199.99, and the CineView OLED TV (55-inch, 4K resolution, HDR, Smart TV) for $1499.99.\n",
      "\n",
      "Do you have any specific questions about these products or would you like more details on any of them?\n"
     ]
    }
   ],
   "source": [
    "print(assistant_answer)"
   ]
  },
  {
   "cell_type": "code",
   "execution_count": 13,
   "id": "5cbbd281-16d2-426c-a786-ba26e04c3f4f",
   "metadata": {},
   "outputs": [
    {
     "data": {
      "text/plain": [
       "'D'"
      ]
     },
     "execution_count": 13,
     "metadata": {},
     "output_type": "execute_result"
    }
   ],
   "source": [
    "eval_vs_ideal(test_set_ideal, assistant_answer)"
   ]
  },
  {
   "cell_type": "code",
   "execution_count": 14,
   "id": "589d67ad-3ae7-4379-aada-0bf0f3f6d709",
   "metadata": {},
   "outputs": [],
   "source": [
    "assistant_answer_2 = \"life is like a box of chocolates\""
   ]
  },
  {
   "cell_type": "code",
   "execution_count": 15,
   "id": "b5734739-9903-4c51-b5b4-5000b251ba62",
   "metadata": {},
   "outputs": [
    {
     "data": {
      "text/plain": [
       "'D'"
      ]
     },
     "execution_count": 15,
     "metadata": {},
     "output_type": "execute_result"
    }
   ],
   "source": [
    "eval_vs_ideal(test_set_ideal, assistant_answer_2)"
   ]
  },
  {
   "cell_type": "code",
   "execution_count": null,
   "id": "96191d15-2ff3-4e53-875a-80be26d5f0ad",
   "metadata": {},
   "outputs": [],
   "source": []
  }
 ],
 "metadata": {
  "kernelspec": {
   "display_name": "Python 3 (ipykernel)",
   "language": "python",
   "name": "python3"
  },
  "language_info": {
   "codemirror_mode": {
    "name": "ipython",
    "version": 3
   },
   "file_extension": ".py",
   "mimetype": "text/x-python",
   "name": "python",
   "nbconvert_exporter": "python",
   "pygments_lexer": "ipython3",
   "version": "3.11.11"
  }
 },
 "nbformat": 4,
 "nbformat_minor": 5
}
