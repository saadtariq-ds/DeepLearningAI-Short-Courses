{
 "cells": [
  {
   "cell_type": "markdown",
   "id": "501daa90-dabf-4fc2-b6d9-d75b3c41c043",
   "metadata": {},
   "source": [
    "## Setup and Import Libraries"
   ]
  },
  {
   "cell_type": "code",
   "execution_count": 2,
   "id": "c3ac10e9-4bec-469e-8512-53299c703222",
   "metadata": {},
   "outputs": [],
   "source": [
    "import os\n",
    "import pandas as pd\n",
    "import numpy as np\n",
    "import nest_asyncio\n",
    "from llama_index.core.schema import Document\n",
    "from llama_index.llms.openai import OpenAI\n",
    "from llama_index.core import SimpleDirectoryReader, VectorStoreIndex, Settings\n",
    "from llama_index.embeddings.huggingface import HuggingFaceEmbedding\n",
    "from trulens_eval.feedback import GroundTruthAgreement\n",
    "from trulens_eval import TruLlama, Tru\n",
    "from trulens.core import Feedback, FeedbackMode\n",
    "from trulens_eval import OpenAI as fOpenAI\n",
    "from utils import build_sentence_window_index, get_sentence_window_query_engine\n",
    "from dotenv import load_dotenv\n",
    "\n",
    "import warnings\n",
    "warnings.filterwarnings('ignore')"
   ]
  },
  {
   "cell_type": "code",
   "execution_count": 3,
   "id": "0770d82e-c448-413a-8e7f-4fdbc920a885",
   "metadata": {},
   "outputs": [
    {
     "data": {
      "text/plain": [
       "True"
      ]
     },
     "execution_count": 3,
     "metadata": {},
     "output_type": "execute_result"
    }
   ],
   "source": [
    "load_dotenv()"
   ]
  },
  {
   "cell_type": "code",
   "execution_count": 4,
   "id": "9404e158-3c93-49f5-a82f-e7ce1daecae1",
   "metadata": {},
   "outputs": [],
   "source": [
    "os.environ[\"OPENAI_API_KEY\"] = os.getenv(\"OPENAI_API_KEY\")\n",
    "os.environ[\"HUGGINGFACE_API_KEY\"] = os.getenv(\"HUGGINGFACE_API_KEY\")"
   ]
  },
  {
   "cell_type": "code",
   "execution_count": 5,
   "id": "afc89044-d52d-4a80-b808-1a539164e5da",
   "metadata": {},
   "outputs": [
    {
     "name": "stdout",
     "output_type": "stream",
     "text": [
      "🦑 Initialized with db url sqlite:///default.sqlite .\n",
      "🛑 Secret keys may be written to the database. See the `database_redact_keys` option of `TruSession` to prevent this.\n"
     ]
    },
    {
     "name": "stderr",
     "output_type": "stream",
     "text": [
      "Updating app_name and app_version in apps table: 0it [00:00, ?it/s]\n",
      "Updating app_id in records table: 0it [00:00, ?it/s]\n",
      "Updating app_json in apps table: 0it [00:00, ?it/s]\n"
     ]
    }
   ],
   "source": [
    "tru = Tru()\n",
    "tru.reset_database()"
   ]
  },
  {
   "cell_type": "code",
   "execution_count": 6,
   "id": "c9a6ea6a-e736-410b-930f-33be5b75bb98",
   "metadata": {},
   "outputs": [],
   "source": [
    "documents = SimpleDirectoryReader(\n",
    "    input_files=[\"./eBook-How-to-Build-a-Career-in-AI.pdf\"]\n",
    ").load_data()"
   ]
  },
  {
   "cell_type": "code",
   "execution_count": 7,
   "id": "9b6f4e42-3a69-430c-a43e-f51ec5977f6d",
   "metadata": {},
   "outputs": [],
   "source": [
    "document = Document(text=\"\\n\\n\".join([doc.text for doc in documents]))"
   ]
  },
  {
   "cell_type": "code",
   "execution_count": 11,
   "id": "463404dd-2734-47a0-a267-63b4e3a6631c",
   "metadata": {},
   "outputs": [],
   "source": [
    "llm = OpenAI(model=\"gpt-3.5-turbo\", temperature=0.1)"
   ]
  },
  {
   "cell_type": "code",
   "execution_count": 12,
   "id": "14d24414-5de6-4701-8aa6-92b1feacdfff",
   "metadata": {},
   "outputs": [],
   "source": [
    "Settings.embed_model = HuggingFaceEmbedding(\n",
    "    model_name=\"BAAI/bge-small-en-v1.5\"\n",
    ")"
   ]
  },
  {
   "cell_type": "code",
   "execution_count": 13,
   "id": "3d67c226-8175-4b0b-812b-44535b4ca969",
   "metadata": {},
   "outputs": [
    {
     "name": "stdout",
     "output_type": "stream",
     "text": [
      "Loading llama_index.core.storage.kvstore.simple_kvstore from sentence_index\\docstore.json.\n",
      "Loading llama_index.core.storage.kvstore.simple_kvstore from sentence_index\\index_store.json.\n"
     ]
    }
   ],
   "source": [
    "sentence_index = build_sentence_window_index(\n",
    "    document,\n",
    "    llm,\n",
    "    embed_model_name=\"BAAI/bge-small-en-v1.5\",\n",
    "    save_dir=\"sentence_index\"\n",
    ")"
   ]
  },
  {
   "cell_type": "code",
   "execution_count": 14,
   "id": "4287df73-1c6b-4c29-bab5-5cff181e79c3",
   "metadata": {},
   "outputs": [],
   "source": [
    "sentence_window_engine = get_sentence_window_query_engine(sentence_index)"
   ]
  },
  {
   "cell_type": "code",
   "execution_count": 15,
   "id": "eaebe95e-e32c-41f9-b68b-198259fd10c3",
   "metadata": {},
   "outputs": [
    {
     "name": "stdout",
     "output_type": "stream",
     "text": [
      "Start by working on projects that show progress over time from simple to complex undertakings. Communicate the value of your work clearly to others to gain their trust and support. As you complete projects, be able to explain clearly what you accomplished to convince others of your capabilities. Additionally, consider taking on leadership roles in projects to demonstrate your ability to lead and apply deep technical insights. By building a portfolio that showcases skill progression and a variety of projects, you will be better positioned when looking for a job in AI.\n"
     ]
    }
   ],
   "source": [
    "output = sentence_window_engine.query(\"How do you create your AI portfolio?\")\n",
    "\n",
    "print(output.response)"
   ]
  },
  {
   "cell_type": "markdown",
   "id": "01375682-ebe1-49d0-9ccf-6cfb2863f3d8",
   "metadata": {},
   "source": [
    "## Feedback Functions"
   ]
  },
  {
   "cell_type": "code",
   "execution_count": 16,
   "id": "0f7daf7b-41ec-4304-96f9-119f77adff6a",
   "metadata": {},
   "outputs": [],
   "source": [
    "nest_asyncio.apply()"
   ]
  },
  {
   "cell_type": "code",
   "execution_count": 17,
   "id": "e3d26f71-e40d-4d25-9a5a-a17be4412d68",
   "metadata": {},
   "outputs": [],
   "source": [
    "provider = fOpenAI()"
   ]
  },
  {
   "cell_type": "markdown",
   "id": "2e0429e5-046f-42b9-9921-37660f2f923d",
   "metadata": {},
   "source": [
    "### 1. Answer Relevance"
   ]
  },
  {
   "cell_type": "code",
   "execution_count": 18,
   "id": "300df88e-1e48-45db-a67f-40242237f90b",
   "metadata": {},
   "outputs": [
    {
     "name": "stdout",
     "output_type": "stream",
     "text": [
      "✅ In Answer Relevance, input prompt will be set to __record__.main_input or `Select.RecordInput` .\n",
      "✅ In Answer Relevance, input response will be set to __record__.main_output or `Select.RecordOutput` .\n"
     ]
    }
   ],
   "source": [
    "f_qa_relevance = Feedback(\n",
    "    provider.relevance_with_cot_reasons,\n",
    "    name=\"Answer Relevance\"\n",
    ").on_input_output()"
   ]
  },
  {
   "cell_type": "markdown",
   "id": "990e03e0-723d-4a74-95ef-2a68277fa9de",
   "metadata": {},
   "source": [
    "### 2. Context Relevance"
   ]
  },
  {
   "cell_type": "code",
   "execution_count": 19,
   "id": "30c13abb-4e93-41c4-a2c3-32dac621c34c",
   "metadata": {},
   "outputs": [],
   "source": [
    "context_selection = TruLlama.select_source_nodes().node.text"
   ]
  },
  {
   "cell_type": "code",
   "execution_count": 20,
   "id": "8b63f5dd-e10e-4131-a514-a087de9239f6",
   "metadata": {},
   "outputs": [
    {
     "name": "stdout",
     "output_type": "stream",
     "text": [
      "✅ In Context Relevance, input args will be set to __record__.main_input or `Select.RecordInput` .\n",
      "✅ In Context Relevance, input kwargs will be set to __record__.calls[-1].rets.source_nodes[:].node.text .\n"
     ]
    }
   ],
   "source": [
    "f_qs_relevance = (\n",
    "    Feedback(provider.qs_relevance,\n",
    "             name=\"Context Relevance\")\n",
    "    .on_input()\n",
    "    .on(context_selection)\n",
    "    .aggregate(np.mean)\n",
    ")"
   ]
  },
  {
   "cell_type": "code",
   "execution_count": 21,
   "id": "877e3d31-f8a8-4309-b43b-2a02f2ab252f",
   "metadata": {},
   "outputs": [
    {
     "name": "stdout",
     "output_type": "stream",
     "text": [
      "✅ In Context Relevance, input args will be set to __record__.main_input or `Select.RecordInput` .\n",
      "✅ In Context Relevance, input kwargs will be set to __record__.calls[-1].rets.source_nodes[:].node.text .\n"
     ]
    }
   ],
   "source": [
    "f_qs_relevance = (\n",
    "    Feedback(provider.qs_relevance_with_cot_reasons,\n",
    "             name=\"Context Relevance\")\n",
    "    .on_input()\n",
    "    .on(context_selection)\n",
    "    .aggregate(np.mean)\n",
    ")"
   ]
  },
  {
   "cell_type": "markdown",
   "id": "e9931698-efbf-4892-9a65-83daf782234a",
   "metadata": {},
   "source": [
    "### 3. Groundedness"
   ]
  },
  {
   "cell_type": "code",
   "execution_count": 25,
   "id": "2b877e9e-23da-4f65-9e21-2f41c00157a9",
   "metadata": {},
   "outputs": [
    {
     "name": "stdout",
     "output_type": "stream",
     "text": [
      "✅ In Groundedness, input source will be set to __record__.calls[-1].rets.source_nodes[:].node.text .\n",
      "✅ In Groundedness, input statement will be set to __record__.main_output or `Select.RecordOutput` .\n"
     ]
    }
   ],
   "source": [
    "f_groundedness = (\n",
    "    Feedback(\n",
    "        provider.groundedness_measure_with_cot_reasons,\n",
    "        name=\"Groundedness\"\n",
    "    )\n",
    "    .on(context_selection)\n",
    "    .on_output()\n",
    ")"
   ]
  },
  {
   "cell_type": "markdown",
   "id": "9a518b53-3165-49ed-bb38-f7d245b96e57",
   "metadata": {},
   "source": [
    "## Evaluation of RAG Application"
   ]
  },
  {
   "cell_type": "code",
   "execution_count": 26,
   "id": "7fbbbe84-63f5-44a4-a9da-a86dd49acea9",
   "metadata": {
    "scrolled": true
   },
   "outputs": [
    {
     "name": "stdout",
     "output_type": "stream",
     "text": [
      "instrumenting <class 'llama_index.embeddings.huggingface.base.HuggingFaceEmbedding'> for base <class 'llama_index.embeddings.huggingface.base.HuggingFaceEmbedding'>\n",
      "instrumenting <class 'llama_index.embeddings.huggingface.base.HuggingFaceEmbedding'> for base <class 'llama_index.core.embeddings.multi_modal_base.MultiModalEmbedding'>\n",
      "instrumenting <class 'llama_index.embeddings.huggingface.base.HuggingFaceEmbedding'> for base <class 'llama_index.core.base.embeddings.base.BaseEmbedding'>\n",
      "instrumenting <class 'llama_index.embeddings.huggingface.base.HuggingFaceEmbedding'> for base <class 'llama_index.core.schema.TransformComponent'>\n",
      "instrumenting <class 'llama_index.embeddings.huggingface.base.HuggingFaceEmbedding'> for base <class 'llama_index.core.schema.BaseComponent'>\n",
      "instrumenting <class 'llama_index.embeddings.huggingface.base.HuggingFaceEmbedding'> for base <class 'pydantic.main.BaseModel'>\n",
      "instrumenting <class 'llama_index.embeddings.huggingface.base.HuggingFaceEmbedding'> for base <class 'llama_index_instrumentation.DispatcherSpanMixin'>\n",
      "instrumenting <class 'llama_index.embeddings.huggingface.base.HuggingFaceEmbedding'> for base <class 'abc.ABC'>\n",
      "instrumenting <class 'llama_index.embeddings.huggingface.base.HuggingFaceEmbedding'> for base <class 'object'>\n",
      "instrumenting <class 'llama_index.core.callbacks.base.CallbackManager'> for base <class 'llama_index.core.callbacks.base_handler.BaseCallbackHandler'>\n",
      "instrumenting <class 'llama_index.core.callbacks.base.CallbackManager'> for base <class 'abc.ABC'>\n",
      "instrumenting <class 'llama_index.core.callbacks.base.CallbackManager'> for base <class 'object'>\n",
      "instrumenting <class 'tuple'> for base <class 'tuple'>\n",
      "instrumenting <class 'tuple'> for base <class 'object'>\n",
      "instrumenting <class 'llama_index.core.vector_stores.simple.SimpleVectorStore'> for base <class 'llama_index.core.vector_stores.simple.SimpleVectorStore'>\n",
      "instrumenting <class 'llama_index.core.vector_stores.simple.SimpleVectorStore'> for base <class 'llama_index.core.vector_stores.types.BasePydanticVectorStore'>\n",
      "instrumenting <class 'llama_index.core.vector_stores.simple.SimpleVectorStore'> for base <class 'llama_index.core.schema.BaseComponent'>\n",
      "instrumenting <class 'llama_index.core.vector_stores.simple.SimpleVectorStore'> for base <class 'pydantic.main.BaseModel'>\n",
      "instrumenting <class 'llama_index.core.vector_stores.simple.SimpleVectorStore'> for base <class 'abc.ABC'>\n",
      "instrumenting <class 'llama_index.core.vector_stores.simple.SimpleVectorStore'> for base <class 'object'>\n",
      "instrumenting <class 'llama_index.core.vector_stores.simple.SimpleVectorStoreData'> for base <class 'dataclasses_json.api.DataClassJsonMixin'>\n",
      "instrumenting <class 'llama_index.core.vector_stores.simple.SimpleVectorStoreData'> for base <class 'abc.ABC'>\n",
      "instrumenting <class 'llama_index.core.vector_stores.simple.SimpleVectorStoreData'> for base <class 'object'>\n",
      "instrumenting <class 'llama_index.core.indices.vector_store.base.VectorStoreIndex'> for base <class 'llama_index.core.indices.vector_store.base.VectorStoreIndex'>\n",
      "instrumenting <class 'llama_index.core.indices.vector_store.base.VectorStoreIndex'> for base <class 'llama_index.core.indices.base.BaseIndex'>\n",
      "instrumenting <class 'llama_index.core.indices.vector_store.base.VectorStoreIndex'> for base <class 'typing.Generic'>\n",
      "instrumenting <class 'llama_index.core.indices.vector_store.base.VectorStoreIndex'> for base <class 'abc.ABC'>\n",
      "instrumenting <class 'llama_index.core.indices.vector_store.base.VectorStoreIndex'> for base <class 'object'>\n",
      "instrumenting <class 'llama_index.core.graph_stores.simple.SimpleGraphStore'> for base <class 'llama_index.core.graph_stores.types.GraphStore'>\n",
      "instrumenting <class 'llama_index.core.graph_stores.simple.SimpleGraphStore'> for base <class 'typing.Protocol'>\n",
      "instrumenting <class 'llama_index.core.graph_stores.simple.SimpleGraphStore'> for base <class 'typing.Generic'>\n",
      "instrumenting <class 'llama_index.core.graph_stores.simple.SimpleGraphStore'> for base <class 'object'>\n",
      "instrumenting <class 'llama_index.core.node_parser.text.sentence_window.SentenceWindowNodeParser'> for base <class 'llama_index.core.node_parser.text.sentence_window.SentenceWindowNodeParser'>\n",
      "instrumenting <class 'llama_index.core.node_parser.text.sentence_window.SentenceWindowNodeParser'> for base <class 'llama_index.core.node_parser.interface.NodeParser'>\n",
      "instrumenting <class 'llama_index.core.node_parser.text.sentence_window.SentenceWindowNodeParser'> for base <class 'llama_index.core.schema.TransformComponent'>\n",
      "instrumenting <class 'llama_index.core.node_parser.text.sentence_window.SentenceWindowNodeParser'> for base <class 'llama_index.core.schema.BaseComponent'>\n",
      "instrumenting <class 'llama_index.core.node_parser.text.sentence_window.SentenceWindowNodeParser'> for base <class 'pydantic.main.BaseModel'>\n",
      "instrumenting <class 'llama_index.core.node_parser.text.sentence_window.SentenceWindowNodeParser'> for base <class 'llama_index_instrumentation.DispatcherSpanMixin'>\n",
      "instrumenting <class 'llama_index.core.node_parser.text.sentence_window.SentenceWindowNodeParser'> for base <class 'abc.ABC'>\n",
      "instrumenting <class 'llama_index.core.node_parser.text.sentence_window.SentenceWindowNodeParser'> for base <class 'object'>\n",
      "instrumenting <class 'llama_index.core.storage.docstore.simple_docstore.SimpleDocumentStore'> for base <class 'llama_index.core.storage.docstore.keyval_docstore.KVDocumentStore'>\n",
      "instrumenting <class 'llama_index.core.storage.docstore.simple_docstore.SimpleDocumentStore'> for base <class 'llama_index.core.storage.docstore.types.BaseDocumentStore'>\n",
      "instrumenting <class 'llama_index.core.storage.docstore.simple_docstore.SimpleDocumentStore'> for base <class 'abc.ABC'>\n",
      "instrumenting <class 'llama_index.core.storage.docstore.simple_docstore.SimpleDocumentStore'> for base <class 'object'>\n",
      "instrumenting <class 'llama_index.core.data_structs.data_structs.IndexDict'> for base <class 'llama_index.core.data_structs.data_structs.IndexStruct'>\n",
      "instrumenting <class 'llama_index.core.data_structs.data_structs.IndexDict'> for base <class 'dataclasses_json.api.DataClassJsonMixin'>\n",
      "instrumenting <class 'llama_index.core.data_structs.data_structs.IndexDict'> for base <class 'abc.ABC'>\n",
      "instrumenting <class 'llama_index.core.data_structs.data_structs.IndexDict'> for base <class 'object'>\n",
      "instrumenting <class 'llama_index.core.storage.docstore.types.RefDocInfo'> for base <class 'llama_index.core.storage.docstore.types.RefDocInfo'>\n",
      "instrumenting <class 'llama_index.core.storage.docstore.types.RefDocInfo'> for base <class 'dataclasses_json.api.DataClassJsonMixin'>\n",
      "instrumenting <class 'llama_index.core.storage.docstore.types.RefDocInfo'> for base <class 'abc.ABC'>\n",
      "instrumenting <class 'llama_index.core.storage.docstore.types.RefDocInfo'> for base <class 'object'>\n",
      "instrumenting <class 'llama_index.core.storage.storage_context.StorageContext'> for base <class 'object'>\n",
      "instrumenting <class 'llama_index.core.indices.vector_store.retrievers.retriever.VectorIndexRetriever'> for base <class 'llama_index.core.indices.vector_store.retrievers.retriever.VectorIndexRetriever'>\n",
      "\tinstrumenting retrieve\n",
      "\tinstrumenting _retrieve\n",
      "\tinstrumenting _aretrieve\n",
      "instrumenting <class 'llama_index.core.indices.vector_store.retrievers.retriever.VectorIndexRetriever'> for base <class 'llama_index.core.base.base_retriever.BaseRetriever'>\n",
      "\tinstrumenting retrieve\n",
      "\tinstrumenting _retrieve\n",
      "\tinstrumenting _aretrieve\n",
      "instrumenting <class 'llama_index.core.indices.vector_store.retrievers.retriever.VectorIndexRetriever'> for base <class 'llama_index.core.base.query_pipeline.query.ChainableMixin'>\n",
      "instrumenting <class 'llama_index.core.indices.vector_store.retrievers.retriever.VectorIndexRetriever'> for base <class 'llama_index.core.prompts.mixin.PromptMixin'>\n",
      "instrumenting <class 'llama_index.core.indices.vector_store.retrievers.retriever.VectorIndexRetriever'> for base <class 'llama_index_instrumentation.DispatcherSpanMixin'>\n",
      "instrumenting <class 'llama_index.core.indices.vector_store.retrievers.retriever.VectorIndexRetriever'> for base <class 'abc.ABC'>\n",
      "instrumenting <class 'llama_index.core.indices.vector_store.retrievers.retriever.VectorIndexRetriever'> for base <class 'object'>\n",
      "instrumenting <class 'llama_index.llms.openai.base.OpenAI'> for base <class 'llama_index.llms.openai.base.OpenAI'>\n",
      "\tinstrumenting chat\n",
      "\tinstrumenting complete\n",
      "\tinstrumenting stream_chat\n",
      "\tinstrumenting stream_complete\n",
      "\tinstrumenting achat\n",
      "\tinstrumenting acomplete\n",
      "\tinstrumenting astream_chat\n",
      "\tinstrumenting astream_complete\n",
      "instrumenting <class 'llama_index.llms.openai.base.OpenAI'> for base <class 'llama_index.core.llms.function_calling.FunctionCallingLLM'>\n",
      "\tinstrumenting chat\n",
      "\tinstrumenting complete\n",
      "\tinstrumenting stream_chat\n",
      "\tinstrumenting stream_complete\n",
      "\tinstrumenting achat\n",
      "\tinstrumenting acomplete\n",
      "\tinstrumenting astream_chat\n",
      "\tinstrumenting astream_complete\n",
      "instrumenting <class 'llama_index.llms.openai.base.OpenAI'> for base <class 'llama_index.core.llms.llm.LLM'>\n",
      "\tinstrumenting chat\n",
      "\tinstrumenting complete\n",
      "\tinstrumenting stream_chat\n",
      "\tinstrumenting stream_complete\n",
      "\tinstrumenting achat\n",
      "\tinstrumenting acomplete\n",
      "\tinstrumenting astream_chat\n",
      "\tinstrumenting astream_complete\n",
      "instrumenting <class 'llama_index.llms.openai.base.OpenAI'> for base <class 'llama_index.core.base.llms.base.BaseLLM'>\n",
      "\tinstrumenting chat\n",
      "\tinstrumenting complete\n",
      "\tinstrumenting stream_chat\n",
      "\tinstrumenting stream_complete\n",
      "\tinstrumenting achat\n",
      "\tinstrumenting acomplete\n",
      "\tinstrumenting astream_chat\n",
      "\tinstrumenting astream_complete\n",
      "instrumenting <class 'llama_index.llms.openai.base.OpenAI'> for base <class 'llama_index.core.base.query_pipeline.query.ChainableMixin'>\n",
      "instrumenting <class 'llama_index.llms.openai.base.OpenAI'> for base <class 'llama_index.core.schema.BaseComponent'>\n",
      "instrumenting <class 'llama_index.llms.openai.base.OpenAI'> for base <class 'pydantic.main.BaseModel'>\n",
      "instrumenting <class 'llama_index.llms.openai.base.OpenAI'> for base <class 'llama_index_instrumentation.DispatcherSpanMixin'>\n",
      "instrumenting <class 'llama_index.llms.openai.base.OpenAI'> for base <class 'abc.ABC'>\n",
      "instrumenting <class 'llama_index.llms.openai.base.OpenAI'> for base <class 'object'>\n",
      "instrumenting <class 'llama_index.core.base.llms.types.LLMMetadata'> for base <class 'llama_index.core.base.llms.types.LLMMetadata'>\n",
      "instrumenting <class 'llama_index.core.base.llms.types.LLMMetadata'> for base <class 'pydantic.main.BaseModel'>\n",
      "instrumenting <class 'llama_index.core.base.llms.types.LLMMetadata'> for base <class 'object'>\n",
      "instrumenting <class 'llama_index.core.indices.prompt_helper.PromptHelper'> for base <class 'llama_index.core.indices.prompt_helper.PromptHelper'>\n",
      "instrumenting <class 'llama_index.core.indices.prompt_helper.PromptHelper'> for base <class 'llama_index.core.schema.BaseComponent'>\n",
      "instrumenting <class 'llama_index.core.indices.prompt_helper.PromptHelper'> for base <class 'pydantic.main.BaseModel'>\n",
      "instrumenting <class 'llama_index.core.indices.prompt_helper.PromptHelper'> for base <class 'object'>\n",
      "instrumenting <class 'llama_index.core.response_synthesizers.compact_and_refine.CompactAndRefine'> for base <class 'llama_index.core.response_synthesizers.compact_and_refine.CompactAndRefine'>\n",
      "\tinstrumenting get_response\n",
      "instrumenting <class 'llama_index.core.response_synthesizers.compact_and_refine.CompactAndRefine'> for base <class 'llama_index.core.response_synthesizers.refine.Refine'>\n",
      "\tinstrumenting get_response\n",
      "instrumenting <class 'llama_index.core.response_synthesizers.compact_and_refine.CompactAndRefine'> for base <class 'llama_index.core.response_synthesizers.base.BaseSynthesizer'>\n",
      "\tinstrumenting get_response\n",
      "instrumenting <class 'llama_index.core.response_synthesizers.compact_and_refine.CompactAndRefine'> for base <class 'llama_index.core.base.query_pipeline.query.ChainableMixin'>\n",
      "instrumenting <class 'llama_index.core.response_synthesizers.compact_and_refine.CompactAndRefine'> for base <class 'llama_index.core.prompts.mixin.PromptMixin'>\n",
      "instrumenting <class 'llama_index.core.response_synthesizers.compact_and_refine.CompactAndRefine'> for base <class 'llama_index_instrumentation.DispatcherSpanMixin'>\n",
      "instrumenting <class 'llama_index.core.response_synthesizers.compact_and_refine.CompactAndRefine'> for base <class 'abc.ABC'>\n",
      "instrumenting <class 'llama_index.core.response_synthesizers.compact_and_refine.CompactAndRefine'> for base <class 'object'>\n",
      "instrumenting <class 'llama_index.core.prompts.base.SelectorPromptTemplate'> for base <class 'llama_index.core.prompts.base.BasePromptTemplate'>\n",
      "instrumenting <class 'llama_index.core.prompts.base.SelectorPromptTemplate'> for base <class 'llama_index.core.base.query_pipeline.query.ChainableMixin'>\n",
      "instrumenting <class 'llama_index.core.prompts.base.SelectorPromptTemplate'> for base <class 'pydantic.main.BaseModel'>\n",
      "instrumenting <class 'llama_index.core.prompts.base.SelectorPromptTemplate'> for base <class 'abc.ABC'>\n",
      "instrumenting <class 'llama_index.core.prompts.base.SelectorPromptTemplate'> for base <class 'object'>\n",
      "instrumenting <class 'llama_index.core.prompts.base.SelectorPromptTemplate'> for base <class 'llama_index.core.prompts.base.BasePromptTemplate'>\n",
      "instrumenting <class 'llama_index.core.prompts.base.SelectorPromptTemplate'> for base <class 'llama_index.core.base.query_pipeline.query.ChainableMixin'>\n",
      "instrumenting <class 'llama_index.core.prompts.base.SelectorPromptTemplate'> for base <class 'pydantic.main.BaseModel'>\n",
      "instrumenting <class 'llama_index.core.prompts.base.SelectorPromptTemplate'> for base <class 'abc.ABC'>\n",
      "instrumenting <class 'llama_index.core.prompts.base.SelectorPromptTemplate'> for base <class 'object'>\n",
      "instrumenting <class 'llama_index.core.query_engine.retriever_query_engine.RetrieverQueryEngine'> for base <class 'llama_index.core.query_engine.retriever_query_engine.RetrieverQueryEngine'>\n",
      "\tinstrumenting query\n",
      "\tinstrumenting aquery\n",
      "\tinstrumenting synthesize\n",
      "\tinstrumenting asynthesize\n",
      "\tinstrumenting retrieve\n",
      "instrumenting <class 'llama_index.core.query_engine.retriever_query_engine.RetrieverQueryEngine'> for base <class 'llama_index.core.base.base_query_engine.BaseQueryEngine'>\n",
      "\tinstrumenting query\n",
      "\tinstrumenting aquery\n",
      "\tinstrumenting synthesize\n",
      "\tinstrumenting asynthesize\n",
      "\tinstrumenting retrieve\n",
      "instrumenting <class 'llama_index.core.query_engine.retriever_query_engine.RetrieverQueryEngine'> for base <class 'llama_index.core.base.query_pipeline.query.ChainableMixin'>\n",
      "instrumenting <class 'llama_index.core.query_engine.retriever_query_engine.RetrieverQueryEngine'> for base <class 'llama_index.core.prompts.mixin.PromptMixin'>\n",
      "instrumenting <class 'llama_index.core.query_engine.retriever_query_engine.RetrieverQueryEngine'> for base <class 'llama_index_instrumentation.DispatcherSpanMixin'>\n",
      "instrumenting <class 'llama_index.core.query_engine.retriever_query_engine.RetrieverQueryEngine'> for base <class 'abc.ABC'>\n",
      "instrumenting <class 'llama_index.core.query_engine.retriever_query_engine.RetrieverQueryEngine'> for base <class 'object'>\n",
      "instrumenting <class 'llama_index.core.postprocessor.metadata_replacement.MetadataReplacementPostProcessor'> for base <class 'llama_index.core.postprocessor.metadata_replacement.MetadataReplacementPostProcessor'>\n",
      "\tinstrumenting _postprocess_nodes\n",
      "instrumenting <class 'llama_index.core.postprocessor.metadata_replacement.MetadataReplacementPostProcessor'> for base <class 'llama_index.core.postprocessor.types.BaseNodePostprocessor'>\n",
      "\tinstrumenting _postprocess_nodes\n",
      "instrumenting <class 'llama_index.core.postprocessor.metadata_replacement.MetadataReplacementPostProcessor'> for base <class 'llama_index.core.base.query_pipeline.query.ChainableMixin'>\n",
      "instrumenting <class 'llama_index.core.postprocessor.metadata_replacement.MetadataReplacementPostProcessor'> for base <class 'llama_index.core.schema.BaseComponent'>\n",
      "instrumenting <class 'llama_index.core.postprocessor.metadata_replacement.MetadataReplacementPostProcessor'> for base <class 'pydantic.main.BaseModel'>\n",
      "instrumenting <class 'llama_index.core.postprocessor.metadata_replacement.MetadataReplacementPostProcessor'> for base <class 'llama_index_instrumentation.DispatcherSpanMixin'>\n",
      "instrumenting <class 'llama_index.core.postprocessor.metadata_replacement.MetadataReplacementPostProcessor'> for base <class 'abc.ABC'>\n",
      "instrumenting <class 'llama_index.core.postprocessor.metadata_replacement.MetadataReplacementPostProcessor'> for base <class 'object'>\n",
      "instrumenting <class 'llama_index.core.postprocessor.sbert_rerank.SentenceTransformerRerank'> for base <class 'llama_index.core.postprocessor.sbert_rerank.SentenceTransformerRerank'>\n",
      "\tinstrumenting _postprocess_nodes\n",
      "instrumenting <class 'llama_index.core.postprocessor.sbert_rerank.SentenceTransformerRerank'> for base <class 'llama_index.core.postprocessor.types.BaseNodePostprocessor'>\n",
      "\tinstrumenting _postprocess_nodes\n",
      "instrumenting <class 'llama_index.core.postprocessor.sbert_rerank.SentenceTransformerRerank'> for base <class 'llama_index.core.base.query_pipeline.query.ChainableMixin'>\n",
      "instrumenting <class 'llama_index.core.postprocessor.sbert_rerank.SentenceTransformerRerank'> for base <class 'llama_index.core.schema.BaseComponent'>\n",
      "instrumenting <class 'llama_index.core.postprocessor.sbert_rerank.SentenceTransformerRerank'> for base <class 'pydantic.main.BaseModel'>\n",
      "instrumenting <class 'llama_index.core.postprocessor.sbert_rerank.SentenceTransformerRerank'> for base <class 'llama_index_instrumentation.DispatcherSpanMixin'>\n",
      "instrumenting <class 'llama_index.core.postprocessor.sbert_rerank.SentenceTransformerRerank'> for base <class 'abc.ABC'>\n",
      "instrumenting <class 'llama_index.core.postprocessor.sbert_rerank.SentenceTransformerRerank'> for base <class 'object'>\n"
     ]
    }
   ],
   "source": [
    "tru_recorder = TruLlama(\n",
    "    sentence_window_engine,\n",
    "    app_id=\"App_1\",\n",
    "    feedbacks=[\n",
    "        f_qa_relevance,\n",
    "        f_qs_relevance,\n",
    "        f_groundedness\n",
    "    ]\n",
    ")"
   ]
  },
  {
   "cell_type": "code",
   "execution_count": 28,
   "id": "86194045-309a-4707-9eea-e095fa570047",
   "metadata": {},
   "outputs": [],
   "source": [
    "eval_questions = []\n",
    "\n",
    "with open('eval_questions.txt', 'r') as file:\n",
    "    for line in file:\n",
    "        # Remove newline character and convert to integer\n",
    "        item = line.strip()\n",
    "        eval_questions.append(item)"
   ]
  },
  {
   "cell_type": "code",
   "execution_count": 29,
   "id": "a9eee413-ac56-43c4-b0ca-75537d9351c5",
   "metadata": {},
   "outputs": [
    {
     "data": {
      "text/plain": [
       "['What are the keys to building a career in AI?',\n",
       " 'How can teamwork contribute to success in AI?',\n",
       " 'What is the importance of networking in AI?',\n",
       " 'What are some good habits to develop for a successful career?',\n",
       " 'How can altruism be beneficial in building a career?',\n",
       " 'What is imposter syndrome and how does it relate to AI?',\n",
       " 'Who are some accomplished individuals who have experienced imposter syndrome?',\n",
       " 'What is the first step to becoming good at AI?',\n",
       " 'What are some common challenges in AI?',\n",
       " 'Is it normal to find parts of AI challenging?']"
      ]
     },
     "execution_count": 29,
     "metadata": {},
     "output_type": "execute_result"
    }
   ],
   "source": [
    "eval_questions"
   ]
  },
  {
   "cell_type": "code",
   "execution_count": 30,
   "id": "e4f298f8-548e-49d8-a0eb-e2669496e8d1",
   "metadata": {},
   "outputs": [],
   "source": [
    "eval_questions.append(\"How can I be successful in AI?\")"
   ]
  },
  {
   "cell_type": "code",
   "execution_count": 31,
   "id": "cebb6236-e664-44a2-8ffe-9263aac9fb66",
   "metadata": {},
   "outputs": [
    {
     "data": {
      "text/plain": [
       "['What are the keys to building a career in AI?',\n",
       " 'How can teamwork contribute to success in AI?',\n",
       " 'What is the importance of networking in AI?',\n",
       " 'What are some good habits to develop for a successful career?',\n",
       " 'How can altruism be beneficial in building a career?',\n",
       " 'What is imposter syndrome and how does it relate to AI?',\n",
       " 'Who are some accomplished individuals who have experienced imposter syndrome?',\n",
       " 'What is the first step to becoming good at AI?',\n",
       " 'What are some common challenges in AI?',\n",
       " 'Is it normal to find parts of AI challenging?',\n",
       " 'How can I be successful in AI?']"
      ]
     },
     "execution_count": 31,
     "metadata": {},
     "output_type": "execute_result"
    }
   ],
   "source": [
    "eval_questions"
   ]
  },
  {
   "cell_type": "code",
   "execution_count": 32,
   "id": "77b69806-07cf-49e5-b1a4-00688a7ff5a7",
   "metadata": {},
   "outputs": [],
   "source": [
    "for question in eval_questions:\n",
    "    with tru_recorder as recording:\n",
    "        sentence_window_engine.query(question)"
   ]
  },
  {
   "cell_type": "code",
   "execution_count": 33,
   "id": "b4c32800-3e0a-415a-8a91-848e445ba242",
   "metadata": {},
   "outputs": [],
   "source": [
    "records, feedback = tru.get_records_and_feedback(app_ids=[])"
   ]
  },
  {
   "cell_type": "code",
   "execution_count": 34,
   "id": "b0198674-2f88-447a-980f-233c1d47b836",
   "metadata": {},
   "outputs": [
    {
     "data": {
      "text/html": [
       "<div>\n",
       "<style scoped>\n",
       "    .dataframe tbody tr th:only-of-type {\n",
       "        vertical-align: middle;\n",
       "    }\n",
       "\n",
       "    .dataframe tbody tr th {\n",
       "        vertical-align: top;\n",
       "    }\n",
       "\n",
       "    .dataframe thead th {\n",
       "        text-align: right;\n",
       "    }\n",
       "</style>\n",
       "<table border=\"1\" class=\"dataframe\">\n",
       "  <thead>\n",
       "    <tr style=\"text-align: right;\">\n",
       "      <th></th>\n",
       "      <th>app_name</th>\n",
       "      <th>app_version</th>\n",
       "      <th>app_id</th>\n",
       "      <th>app_json</th>\n",
       "      <th>type</th>\n",
       "      <th>record_id</th>\n",
       "      <th>input</th>\n",
       "      <th>output</th>\n",
       "      <th>tags</th>\n",
       "      <th>record_json</th>\n",
       "      <th>...</th>\n",
       "      <th>Answer Relevance</th>\n",
       "      <th>Answer Relevance_calls</th>\n",
       "      <th>Answer Relevance feedback cost in USD</th>\n",
       "      <th>Groundedness</th>\n",
       "      <th>Groundedness_calls</th>\n",
       "      <th>Groundedness feedback cost in USD</th>\n",
       "      <th>latency</th>\n",
       "      <th>total_tokens</th>\n",
       "      <th>total_cost</th>\n",
       "      <th>cost_currency</th>\n",
       "    </tr>\n",
       "  </thead>\n",
       "  <tbody>\n",
       "    <tr>\n",
       "      <th>0</th>\n",
       "      <td>App_1</td>\n",
       "      <td>base</td>\n",
       "      <td>app_hash_9a8bbe93b76fc0a0eca1a6fc7bd3027e</td>\n",
       "      <td>{'tru_class_info': {'name': 'TruLlama', 'modul...</td>\n",
       "      <td>RetrieverQueryEngine(llama_index.core.query_en...</td>\n",
       "      <td>record_hash_ee38f7f27a552547677be06ceda65335</td>\n",
       "      <td>How can I be successful in AI?</td>\n",
       "      <td>To be successful in AI, it is important to foc...</td>\n",
       "      <td>-</td>\n",
       "      <td>{'record_id': 'record_hash_ee38f7f27a552547677...</td>\n",
       "      <td>...</td>\n",
       "      <td>NaN</td>\n",
       "      <td>NaN</td>\n",
       "      <td>NaN</td>\n",
       "      <td>NaN</td>\n",
       "      <td>NaN</td>\n",
       "      <td>NaN</td>\n",
       "      <td>3.053206</td>\n",
       "      <td>1831</td>\n",
       "      <td>0.002810</td>\n",
       "      <td>USD</td>\n",
       "    </tr>\n",
       "    <tr>\n",
       "      <th>1</th>\n",
       "      <td>App_1</td>\n",
       "      <td>base</td>\n",
       "      <td>app_hash_9a8bbe93b76fc0a0eca1a6fc7bd3027e</td>\n",
       "      <td>{'tru_class_info': {'name': 'TruLlama', 'modul...</td>\n",
       "      <td>RetrieverQueryEngine(llama_index.core.query_en...</td>\n",
       "      <td>record_hash_0ee54d7edac650165f27e12f13b00f57</td>\n",
       "      <td>Is it normal to find parts of AI challenging?</td>\n",
       "      <td>It is normal to find parts of AI challenging.</td>\n",
       "      <td>-</td>\n",
       "      <td>{'record_id': 'record_hash_0ee54d7edac650165f2...</td>\n",
       "      <td>...</td>\n",
       "      <td>1.000000</td>\n",
       "      <td>[{'args': {'prompt': 'Is it normal to find par...</td>\n",
       "      <td>0.0</td>\n",
       "      <td>NaN</td>\n",
       "      <td>NaN</td>\n",
       "      <td>NaN</td>\n",
       "      <td>2.047881</td>\n",
       "      <td>2118</td>\n",
       "      <td>0.003182</td>\n",
       "      <td>USD</td>\n",
       "    </tr>\n",
       "    <tr>\n",
       "      <th>2</th>\n",
       "      <td>App_1</td>\n",
       "      <td>base</td>\n",
       "      <td>app_hash_9a8bbe93b76fc0a0eca1a6fc7bd3027e</td>\n",
       "      <td>{'tru_class_info': {'name': 'TruLlama', 'modul...</td>\n",
       "      <td>RetrieverQueryEngine(llama_index.core.query_en...</td>\n",
       "      <td>record_hash_96bf1e249c1383d1433ebd0437daa9da</td>\n",
       "      <td>What are some common challenges in AI?</td>\n",
       "      <td>Some common challenges in AI include experienc...</td>\n",
       "      <td>-</td>\n",
       "      <td>{'record_id': 'record_hash_96bf1e249c1383d1433...</td>\n",
       "      <td>...</td>\n",
       "      <td>1.000000</td>\n",
       "      <td>[{'args': {'prompt': 'What are some common cha...</td>\n",
       "      <td>0.0</td>\n",
       "      <td>NaN</td>\n",
       "      <td>NaN</td>\n",
       "      <td>NaN</td>\n",
       "      <td>2.370252</td>\n",
       "      <td>2173</td>\n",
       "      <td>0.003285</td>\n",
       "      <td>USD</td>\n",
       "    </tr>\n",
       "    <tr>\n",
       "      <th>3</th>\n",
       "      <td>App_1</td>\n",
       "      <td>base</td>\n",
       "      <td>app_hash_9a8bbe93b76fc0a0eca1a6fc7bd3027e</td>\n",
       "      <td>{'tru_class_info': {'name': 'TruLlama', 'modul...</td>\n",
       "      <td>RetrieverQueryEngine(llama_index.core.query_en...</td>\n",
       "      <td>record_hash_e15da715cb9e98c176c83b6ec9c6af08</td>\n",
       "      <td>What is the first step to becoming good at AI?</td>\n",
       "      <td>Learning foundational technical skills.</td>\n",
       "      <td>-</td>\n",
       "      <td>{'record_id': 'record_hash_e15da715cb9e98c176c...</td>\n",
       "      <td>...</td>\n",
       "      <td>0.666667</td>\n",
       "      <td>[{'args': {'prompt': 'What is the first step t...</td>\n",
       "      <td>0.0</td>\n",
       "      <td>0.5</td>\n",
       "      <td>[{'args': {'source': 'Here’s a framework for c...</td>\n",
       "      <td>0.000032</td>\n",
       "      <td>1.916715</td>\n",
       "      <td>1696</td>\n",
       "      <td>0.002547</td>\n",
       "      <td>USD</td>\n",
       "    </tr>\n",
       "    <tr>\n",
       "      <th>4</th>\n",
       "      <td>App_1</td>\n",
       "      <td>base</td>\n",
       "      <td>app_hash_9a8bbe93b76fc0a0eca1a6fc7bd3027e</td>\n",
       "      <td>{'tru_class_info': {'name': 'TruLlama', 'modul...</td>\n",
       "      <td>RetrieverQueryEngine(llama_index.core.query_en...</td>\n",
       "      <td>record_hash_7d48fcd34874a8ae59416612b5ae9583</td>\n",
       "      <td>Who are some accomplished individuals who have...</td>\n",
       "      <td>Former Facebook COO Sheryl Sandberg, U.S. firs...</td>\n",
       "      <td>-</td>\n",
       "      <td>{'record_id': 'record_hash_7d48fcd34874a8ae594...</td>\n",
       "      <td>...</td>\n",
       "      <td>1.000000</td>\n",
       "      <td>[{'args': {'prompt': 'Who are some accomplishe...</td>\n",
       "      <td>0.0</td>\n",
       "      <td>0.5</td>\n",
       "      <td>[{'args': {'source': 'PAGE 37\n",
       "Overcoming Impos...</td>\n",
       "      <td>0.000087</td>\n",
       "      <td>2.490092</td>\n",
       "      <td>2185</td>\n",
       "      <td>0.003299</td>\n",
       "      <td>USD</td>\n",
       "    </tr>\n",
       "  </tbody>\n",
       "</table>\n",
       "<p>5 rows × 25 columns</p>\n",
       "</div>"
      ],
      "text/plain": [
       "  app_name app_version                                     app_id  \\\n",
       "0    App_1        base  app_hash_9a8bbe93b76fc0a0eca1a6fc7bd3027e   \n",
       "1    App_1        base  app_hash_9a8bbe93b76fc0a0eca1a6fc7bd3027e   \n",
       "2    App_1        base  app_hash_9a8bbe93b76fc0a0eca1a6fc7bd3027e   \n",
       "3    App_1        base  app_hash_9a8bbe93b76fc0a0eca1a6fc7bd3027e   \n",
       "4    App_1        base  app_hash_9a8bbe93b76fc0a0eca1a6fc7bd3027e   \n",
       "\n",
       "                                            app_json  \\\n",
       "0  {'tru_class_info': {'name': 'TruLlama', 'modul...   \n",
       "1  {'tru_class_info': {'name': 'TruLlama', 'modul...   \n",
       "2  {'tru_class_info': {'name': 'TruLlama', 'modul...   \n",
       "3  {'tru_class_info': {'name': 'TruLlama', 'modul...   \n",
       "4  {'tru_class_info': {'name': 'TruLlama', 'modul...   \n",
       "\n",
       "                                                type  \\\n",
       "0  RetrieverQueryEngine(llama_index.core.query_en...   \n",
       "1  RetrieverQueryEngine(llama_index.core.query_en...   \n",
       "2  RetrieverQueryEngine(llama_index.core.query_en...   \n",
       "3  RetrieverQueryEngine(llama_index.core.query_en...   \n",
       "4  RetrieverQueryEngine(llama_index.core.query_en...   \n",
       "\n",
       "                                      record_id  \\\n",
       "0  record_hash_ee38f7f27a552547677be06ceda65335   \n",
       "1  record_hash_0ee54d7edac650165f27e12f13b00f57   \n",
       "2  record_hash_96bf1e249c1383d1433ebd0437daa9da   \n",
       "3  record_hash_e15da715cb9e98c176c83b6ec9c6af08   \n",
       "4  record_hash_7d48fcd34874a8ae59416612b5ae9583   \n",
       "\n",
       "                                               input  \\\n",
       "0                     How can I be successful in AI?   \n",
       "1      Is it normal to find parts of AI challenging?   \n",
       "2             What are some common challenges in AI?   \n",
       "3     What is the first step to becoming good at AI?   \n",
       "4  Who are some accomplished individuals who have...   \n",
       "\n",
       "                                              output tags  \\\n",
       "0  To be successful in AI, it is important to foc...    -   \n",
       "1      It is normal to find parts of AI challenging.    -   \n",
       "2  Some common challenges in AI include experienc...    -   \n",
       "3            Learning foundational technical skills.    -   \n",
       "4  Former Facebook COO Sheryl Sandberg, U.S. firs...    -   \n",
       "\n",
       "                                         record_json  ... Answer Relevance  \\\n",
       "0  {'record_id': 'record_hash_ee38f7f27a552547677...  ...              NaN   \n",
       "1  {'record_id': 'record_hash_0ee54d7edac650165f2...  ...         1.000000   \n",
       "2  {'record_id': 'record_hash_96bf1e249c1383d1433...  ...         1.000000   \n",
       "3  {'record_id': 'record_hash_e15da715cb9e98c176c...  ...         0.666667   \n",
       "4  {'record_id': 'record_hash_7d48fcd34874a8ae594...  ...         1.000000   \n",
       "\n",
       "                              Answer Relevance_calls  \\\n",
       "0                                                NaN   \n",
       "1  [{'args': {'prompt': 'Is it normal to find par...   \n",
       "2  [{'args': {'prompt': 'What are some common cha...   \n",
       "3  [{'args': {'prompt': 'What is the first step t...   \n",
       "4  [{'args': {'prompt': 'Who are some accomplishe...   \n",
       "\n",
       "  Answer Relevance feedback cost in USD Groundedness  \\\n",
       "0                                   NaN          NaN   \n",
       "1                                   0.0          NaN   \n",
       "2                                   0.0          NaN   \n",
       "3                                   0.0          0.5   \n",
       "4                                   0.0          0.5   \n",
       "\n",
       "                                  Groundedness_calls  \\\n",
       "0                                                NaN   \n",
       "1                                                NaN   \n",
       "2                                                NaN   \n",
       "3  [{'args': {'source': 'Here’s a framework for c...   \n",
       "4  [{'args': {'source': 'PAGE 37\n",
       "Overcoming Impos...   \n",
       "\n",
       "   Groundedness feedback cost in USD   latency  total_tokens  total_cost  \\\n",
       "0                                NaN  3.053206          1831    0.002810   \n",
       "1                                NaN  2.047881          2118    0.003182   \n",
       "2                                NaN  2.370252          2173    0.003285   \n",
       "3                           0.000032  1.916715          1696    0.002547   \n",
       "4                           0.000087  2.490092          2185    0.003299   \n",
       "\n",
       "  cost_currency  \n",
       "0           USD  \n",
       "1           USD  \n",
       "2           USD  \n",
       "3           USD  \n",
       "4           USD  \n",
       "\n",
       "[5 rows x 25 columns]"
      ]
     },
     "execution_count": 34,
     "metadata": {},
     "output_type": "execute_result"
    }
   ],
   "source": [
    "records.head()"
   ]
  },
  {
   "cell_type": "code",
   "execution_count": 35,
   "id": "6aef2943-29ee-405a-9f7f-394d264e69af",
   "metadata": {},
   "outputs": [
    {
     "data": {
      "text/html": [
       "<div>\n",
       "<style scoped>\n",
       "    .dataframe tbody tr th:only-of-type {\n",
       "        vertical-align: middle;\n",
       "    }\n",
       "\n",
       "    .dataframe tbody tr th {\n",
       "        vertical-align: top;\n",
       "    }\n",
       "\n",
       "    .dataframe thead th {\n",
       "        text-align: right;\n",
       "    }\n",
       "</style>\n",
       "<table border=\"1\" class=\"dataframe\">\n",
       "  <thead>\n",
       "    <tr style=\"text-align: right;\">\n",
       "      <th></th>\n",
       "      <th>input</th>\n",
       "      <th>output</th>\n",
       "      <th>Groundedness</th>\n",
       "      <th>Answer Relevance</th>\n",
       "    </tr>\n",
       "  </thead>\n",
       "  <tbody>\n",
       "    <tr>\n",
       "      <th>0</th>\n",
       "      <td>How can I be successful in AI?</td>\n",
       "      <td>To be successful in AI, it is important to focus on building a strong professional network or community, rather than just networking. Additionally, developing good habits in various aspects of life such as learning, personal relationships, and self-care can contribute to long-term success. Furthermore, aiming to lift others during your own journey and practicing altruism can lead to better outcomes. Building a portfolio of projects that show skill progression, from simple to complex undertakings, is crucial when looking for a job in AI. Effective communication, leadership skills, and the ability to work in teams are also key factors in achieving success in the field of AI.</td>\n",
       "      <td>NaN</td>\n",
       "      <td>NaN</td>\n",
       "    </tr>\n",
       "    <tr>\n",
       "      <th>1</th>\n",
       "      <td>Is it normal to find parts of AI challenging?</td>\n",
       "      <td>It is normal to find parts of AI challenging.</td>\n",
       "      <td>NaN</td>\n",
       "      <td>1.000000</td>\n",
       "    </tr>\n",
       "    <tr>\n",
       "      <th>2</th>\n",
       "      <td>What are some common challenges in AI?</td>\n",
       "      <td>Some common challenges in AI include experiencing imposter syndrome, struggling with technical complexities, facing difficulties in understanding and implementing algorithms, finding research papers challenging to read, making mistakes in tuning neural network hyperparameters, and feeling overwhelmed by the complexity of the field.</td>\n",
       "      <td>NaN</td>\n",
       "      <td>1.000000</td>\n",
       "    </tr>\n",
       "    <tr>\n",
       "      <th>3</th>\n",
       "      <td>What is the first step to becoming good at AI?</td>\n",
       "      <td>Learning foundational technical skills.</td>\n",
       "      <td>0.500000</td>\n",
       "      <td>0.666667</td>\n",
       "    </tr>\n",
       "    <tr>\n",
       "      <th>4</th>\n",
       "      <td>Who are some accomplished individuals who have experienced imposter syndrome?</td>\n",
       "      <td>Former Facebook COO Sheryl Sandberg, U.S. first lady Michelle Obama, actor Tom Hanks, and Atlassian co-CEO Mike Cannon-Brookes are some accomplished individuals who have experienced imposter syndrome.</td>\n",
       "      <td>0.500000</td>\n",
       "      <td>1.000000</td>\n",
       "    </tr>\n",
       "    <tr>\n",
       "      <th>5</th>\n",
       "      <td>What is imposter syndrome and how does it relate to AI?</td>\n",
       "      <td>Imposter syndrome is when someone doubts their abilities and feels like a fraud, despite their success or accomplishments in a particular field. In the context of AI, newcomers to the field may experience imposter syndrome, questioning if they truly belong in the AI community even if they have achieved success. It is highlighted that imposter syndrome is common among many individuals, including accomplished figures, and that it should not discourage anyone from growing in AI. The message conveyed is that experiencing challenges and doubts in AI is normal, and it is important to support and welcome everyone who wants to be part of the AI community.</td>\n",
       "      <td>0.777778</td>\n",
       "      <td>1.000000</td>\n",
       "    </tr>\n",
       "    <tr>\n",
       "      <th>6</th>\n",
       "      <td>How can altruism be beneficial in building a career?</td>\n",
       "      <td>Helping others during each step of your own career journey can lead to better outcomes for yourself.</td>\n",
       "      <td>0.500000</td>\n",
       "      <td>0.666667</td>\n",
       "    </tr>\n",
       "    <tr>\n",
       "      <th>7</th>\n",
       "      <td>What are some good habits to develop for a successful career?</td>\n",
       "      <td>Good habits to develop for a successful career include working in teams effectively, building strong interpersonal and communication skills, focusing on networking and building a community rather than just personal connections, maintaining personal discipline in areas like eating, exercise, sleep, and self-care, and practicing altruism by helping others along the way.</td>\n",
       "      <td>0.500000</td>\n",
       "      <td>1.000000</td>\n",
       "    </tr>\n",
       "    <tr>\n",
       "      <th>8</th>\n",
       "      <td>What is the importance of networking in AI?</td>\n",
       "      <td>Networking is crucial in AI as it helps individuals build a strong professional network that can provide support, guidance, and opportunities. By connecting with others in the field, individuals can gain valuable insights, collaborate on projects, and stay updated on industry trends. Building a community and fostering genuine relationships can propel one's career forward and create a supportive environment for growth and success in the field of AI.</td>\n",
       "      <td>0.416667</td>\n",
       "      <td>1.000000</td>\n",
       "    </tr>\n",
       "    <tr>\n",
       "      <th>9</th>\n",
       "      <td>How can teamwork contribute to success in AI?</td>\n",
       "      <td>Teamwork can contribute to success in AI by enabling individuals to collaborate effectively, influence others, and be influenced by team members. The ability to work in teams allows for sharing of ideas, pooling of expertise, and leveraging diverse perspectives to tackle complex AI projects. Interpersonal and communication skills play a crucial role in fostering a collaborative environment where team members can work together towards achieving common goals in AI endeavors.</td>\n",
       "      <td>0.833333</td>\n",
       "      <td>1.000000</td>\n",
       "    </tr>\n",
       "    <tr>\n",
       "      <th>10</th>\n",
       "      <td>What are the keys to building a career in AI?</td>\n",
       "      <td>Teamwork, networking, job search, personal discipline, and altruism are the keys to building a career in AI.</td>\n",
       "      <td>0.500000</td>\n",
       "      <td>0.333333</td>\n",
       "    </tr>\n",
       "  </tbody>\n",
       "</table>\n",
       "</div>"
      ],
      "text/plain": [
       "                                                                            input  \\\n",
       "0                                                  How can I be successful in AI?   \n",
       "1                                   Is it normal to find parts of AI challenging?   \n",
       "2                                          What are some common challenges in AI?   \n",
       "3                                  What is the first step to becoming good at AI?   \n",
       "4   Who are some accomplished individuals who have experienced imposter syndrome?   \n",
       "5                         What is imposter syndrome and how does it relate to AI?   \n",
       "6                            How can altruism be beneficial in building a career?   \n",
       "7                   What are some good habits to develop for a successful career?   \n",
       "8                                     What is the importance of networking in AI?   \n",
       "9                                   How can teamwork contribute to success in AI?   \n",
       "10                                  What are the keys to building a career in AI?   \n",
       "\n",
       "                                                                                                                                                                                                                                                                                                                                                                                                                                                                                                                                                                                                                                                                                                       output  \\\n",
       "0   To be successful in AI, it is important to focus on building a strong professional network or community, rather than just networking. Additionally, developing good habits in various aspects of life such as learning, personal relationships, and self-care can contribute to long-term success. Furthermore, aiming to lift others during your own journey and practicing altruism can lead to better outcomes. Building a portfolio of projects that show skill progression, from simple to complex undertakings, is crucial when looking for a job in AI. Effective communication, leadership skills, and the ability to work in teams are also key factors in achieving success in the field of AI.   \n",
       "1                                                                                                                                                                                                                                                                                                                                                                                                                                                                                                                                                                                                                                                               It is normal to find parts of AI challenging.   \n",
       "2                                                                                                                                                                                                                                                                                                                                                               Some common challenges in AI include experiencing imposter syndrome, struggling with technical complexities, facing difficulties in understanding and implementing algorithms, finding research papers challenging to read, making mistakes in tuning neural network hyperparameters, and feeling overwhelmed by the complexity of the field.   \n",
       "3                                                                                                                                                                                                                                                                                                                                                                                                                                                                                                                                                                                                                                                                     Learning foundational technical skills.   \n",
       "4                                                                                                                                                                                                                                                                                                                                                                                                                                                                                                    Former Facebook COO Sheryl Sandberg, U.S. first lady Michelle Obama, actor Tom Hanks, and Atlassian co-CEO Mike Cannon-Brookes are some accomplished individuals who have experienced imposter syndrome.   \n",
       "5                             Imposter syndrome is when someone doubts their abilities and feels like a fraud, despite their success or accomplishments in a particular field. In the context of AI, newcomers to the field may experience imposter syndrome, questioning if they truly belong in the AI community even if they have achieved success. It is highlighted that imposter syndrome is common among many individuals, including accomplished figures, and that it should not discourage anyone from growing in AI. The message conveyed is that experiencing challenges and doubts in AI is normal, and it is important to support and welcome everyone who wants to be part of the AI community.   \n",
       "6                                                                                                                                                                                                                                                                                                                                                                                                                                                                                                                                                                                                        Helping others during each step of your own career journey can lead to better outcomes for yourself.   \n",
       "7                                                                                                                                                                                                                                                                                                                          Good habits to develop for a successful career include working in teams effectively, building strong interpersonal and communication skills, focusing on networking and building a community rather than just personal connections, maintaining personal discipline in areas like eating, exercise, sleep, and self-care, and practicing altruism by helping others along the way.   \n",
       "8                                                                                                                                                                                                                                        Networking is crucial in AI as it helps individuals build a strong professional network that can provide support, guidance, and opportunities. By connecting with others in the field, individuals can gain valuable insights, collaborate on projects, and stay updated on industry trends. Building a community and fostering genuine relationships can propel one's career forward and create a supportive environment for growth and success in the field of AI.   \n",
       "9                                                                                                                                                                                                               Teamwork can contribute to success in AI by enabling individuals to collaborate effectively, influence others, and be influenced by team members. The ability to work in teams allows for sharing of ideas, pooling of expertise, and leveraging diverse perspectives to tackle complex AI projects. Interpersonal and communication skills play a crucial role in fostering a collaborative environment where team members can work together towards achieving common goals in AI endeavors.   \n",
       "10                                                                                                                                                                                                                                                                                                                                                                                                                                                                                                                                                                                               Teamwork, networking, job search, personal discipline, and altruism are the keys to building a career in AI.   \n",
       "\n",
       "    Groundedness  Answer Relevance  \n",
       "0            NaN               NaN  \n",
       "1            NaN          1.000000  \n",
       "2            NaN          1.000000  \n",
       "3       0.500000          0.666667  \n",
       "4       0.500000          1.000000  \n",
       "5       0.777778          1.000000  \n",
       "6       0.500000          0.666667  \n",
       "7       0.500000          1.000000  \n",
       "8       0.416667          1.000000  \n",
       "9       0.833333          1.000000  \n",
       "10      0.500000          0.333333  "
      ]
     },
     "execution_count": 35,
     "metadata": {},
     "output_type": "execute_result"
    }
   ],
   "source": [
    "pd.set_option(\"display.max_colwidth\", None)\n",
    "records[[\"input\", \"output\"] + feedback]"
   ]
  },
  {
   "cell_type": "code",
   "execution_count": 36,
   "id": "b0eecba8-d121-4b27-a170-113c7b006257",
   "metadata": {},
   "outputs": [
    {
     "data": {
      "text/html": [
       "<div>\n",
       "<style scoped>\n",
       "    .dataframe tbody tr th:only-of-type {\n",
       "        vertical-align: middle;\n",
       "    }\n",
       "\n",
       "    .dataframe tbody tr th {\n",
       "        vertical-align: top;\n",
       "    }\n",
       "\n",
       "    .dataframe thead th {\n",
       "        text-align: right;\n",
       "    }\n",
       "</style>\n",
       "<table border=\"1\" class=\"dataframe\">\n",
       "  <thead>\n",
       "    <tr style=\"text-align: right;\">\n",
       "      <th></th>\n",
       "      <th></th>\n",
       "      <th>Answer Relevance</th>\n",
       "      <th>Groundedness</th>\n",
       "      <th>latency</th>\n",
       "      <th>total_cost</th>\n",
       "    </tr>\n",
       "    <tr>\n",
       "      <th>app_name</th>\n",
       "      <th>app_version</th>\n",
       "      <th></th>\n",
       "      <th></th>\n",
       "      <th></th>\n",
       "      <th></th>\n",
       "    </tr>\n",
       "  </thead>\n",
       "  <tbody>\n",
       "    <tr>\n",
       "      <th>App_1</th>\n",
       "      <th>base</th>\n",
       "      <td>0.878788</td>\n",
       "      <td>0.603535</td>\n",
       "      <td>3.380495</td>\n",
       "      <td>0.002899</td>\n",
       "    </tr>\n",
       "  </tbody>\n",
       "</table>\n",
       "</div>"
      ],
      "text/plain": [
       "                      Answer Relevance  Groundedness   latency  total_cost\n",
       "app_name app_version                                                      \n",
       "App_1    base                 0.878788      0.603535  3.380495    0.002899"
      ]
     },
     "execution_count": 36,
     "metadata": {},
     "output_type": "execute_result"
    }
   ],
   "source": [
    "tru.get_leaderboard(app_ids=[])"
   ]
  },
  {
   "cell_type": "code",
   "execution_count": 38,
   "id": "cd7fa2cf-4bfa-40e2-9ff0-ee84037f24a3",
   "metadata": {},
   "outputs": [],
   "source": [
    "# tru.run_dashboard()"
   ]
  },
  {
   "cell_type": "code",
   "execution_count": null,
   "id": "907f2b74-164b-495a-bf68-3723fe12ee57",
   "metadata": {},
   "outputs": [],
   "source": []
  }
 ],
 "metadata": {
  "kernelspec": {
   "display_name": "Python 3 (ipykernel)",
   "language": "python",
   "name": "python3"
  },
  "language_info": {
   "codemirror_mode": {
    "name": "ipython",
    "version": 3
   },
   "file_extension": ".py",
   "mimetype": "text/x-python",
   "name": "python",
   "nbconvert_exporter": "python",
   "pygments_lexer": "ipython3",
   "version": "3.10.18"
  }
 },
 "nbformat": 4,
 "nbformat_minor": 5
}
