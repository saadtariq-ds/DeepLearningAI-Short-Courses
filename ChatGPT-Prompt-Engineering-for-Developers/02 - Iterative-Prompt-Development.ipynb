{
 "cells": [
  {
   "cell_type": "markdown",
   "id": "e6678bf6-6b05-407a-8a55-e7be9ade3ad6",
   "metadata": {},
   "source": [
    "## Libraries and Setup"
   ]
  },
  {
   "cell_type": "code",
   "execution_count": 1,
   "id": "d33da475-797c-4af6-a1a6-efdcbd5fff4d",
   "metadata": {},
   "outputs": [],
   "source": [
    "import openai\n",
    "import os\n",
    "from dotenv import load_dotenv, find_dotenv"
   ]
  },
  {
   "cell_type": "code",
   "execution_count": 2,
   "id": "7b11b4a9-1a35-4eca-b99c-c4be16a9e0a2",
   "metadata": {},
   "outputs": [],
   "source": [
    "load_dotenv(find_dotenv())\n",
    "\n",
    "openai_api_key = os.getenv(\"OPENAI_API_KEY\")"
   ]
  },
  {
   "cell_type": "code",
   "execution_count": 3,
   "id": "096a1199-c450-41a2-a7e2-e51e32484ad9",
   "metadata": {},
   "outputs": [],
   "source": [
    "client = openai.OpenAI()\n",
    "\n",
    "def get_completion(prompt, model=\"gpt-3.5-turbo\"):\n",
    "    messages = [{\"role\": \"user\", \"content\": prompt}]\n",
    "    response = client.chat.completions.create(\n",
    "        model=model,\n",
    "        messages=messages,\n",
    "        temperature=0\n",
    "    )\n",
    "    return response.choices[0].message.content"
   ]
  },
  {
   "cell_type": "markdown",
   "id": "fdafe34c-fbcc-481f-a497-4383f520e8a3",
   "metadata": {},
   "source": [
    "# Iterative Prompt Development"
   ]
  },
  {
   "cell_type": "markdown",
   "id": "058ff789-84c4-477d-9418-4a97e9b97896",
   "metadata": {},
   "source": [
    "## Generate a marketing product description from a product fact sheet"
   ]
  },
  {
   "cell_type": "code",
   "execution_count": 4,
   "id": "b17acb17-ca73-4e20-9298-52230206a09a",
   "metadata": {},
   "outputs": [],
   "source": [
    "fact_sheet_chair = \"\"\"\n",
    "OVERVIEW\n",
    "- Part of a beautiful family of mid-century inspired office furniture, \n",
    "including filing cabinets, desks, bookcases, meeting tables, and more.\n",
    "- Several options of shell color and base finishes.\n",
    "- Available with plastic back and front upholstery (SWC-100) \n",
    "or full upholstery (SWC-110) in 10 fabric and 6 leather options.\n",
    "- Base finish options are: stainless steel, matte black, \n",
    "gloss white, or chrome.\n",
    "- Chair is available with or without armrests.\n",
    "- Suitable for home or business settings.\n",
    "- Qualified for contract use.\n",
    "\n",
    "CONSTRUCTION\n",
    "- 5-wheel plastic coated aluminum base.\n",
    "- Pneumatic chair adjust for easy raise/lower action.\n",
    "\n",
    "DIMENSIONS\n",
    "- WIDTH 53 CM | 20.87”\n",
    "- DEPTH 51 CM | 20.08”\n",
    "- HEIGHT 80 CM | 31.50”\n",
    "- SEAT HEIGHT 44 CM | 17.32”\n",
    "- SEAT DEPTH 41 CM | 16.14”\n",
    "\n",
    "OPTIONS\n",
    "- Soft or hard-floor caster options.\n",
    "- Two choices of seat foam densities: \n",
    " medium (1.8 lb/ft3) or high (2.8 lb/ft3)\n",
    "- Armless or 8 position PU armrests \n",
    "\n",
    "MATERIALS\n",
    "SHELL BASE GLIDER\n",
    "- Cast Aluminum with modified nylon PA6/PA66 coating.\n",
    "- Shell thickness: 10 mm.\n",
    "SEAT\n",
    "- HD36 foam\n",
    "\n",
    "COUNTRY OF ORIGIN\n",
    "- Italy\n",
    "\"\"\""
   ]
  },
  {
   "cell_type": "code",
   "execution_count": 5,
   "id": "8329790b-8007-44b7-98d4-9964c0e5db4c",
   "metadata": {},
   "outputs": [
    {
     "name": "stdout",
     "output_type": "stream",
     "text": [
      "Introducing our stylish and versatile mid-century inspired office chair, perfect for both home and business settings. This chair is part of a beautiful family of office furniture that includes filing cabinets, desks, bookcases, meeting tables, and more.\n",
      "\n",
      "Customize your chair with several options of shell color and base finishes to suit your personal style. Choose between plastic back and front upholstery or full upholstery in a variety of fabric and leather options. The base finish options include stainless steel, matte black, gloss white, or chrome. You can also choose to have the chair with or without armrests.\n",
      "\n",
      "Constructed with a 5-wheel plastic coated aluminum base and a pneumatic chair adjust for easy raise/lower action, this chair is both durable and functional. The dimensions of the chair are as follows: WIDTH 53 CM | 20.87”, DEPTH 51 CM | 20.08”, HEIGHT 80 CM | 31.50”, SEAT HEIGHT 44 CM | 17.32”, SEAT DEPTH 41 CM | 16.14”.\n",
      "\n",
      "Choose between soft or hard-floor caster options, two seat foam densities (medium or high), and armless or 8 position PU armrests for added comfort. The materials used in the construction of this chair include cast aluminum with modified nylon PA6/PA66 coating for the shell base glider and HD36 foam for the seat.\n",
      "\n",
      "This high-quality chair is made in Italy and is qualified for contract use. Elevate your workspace with our stylish and functional mid-century inspired office chair today!\n"
     ]
    }
   ],
   "source": [
    "prompt = f\"\"\"\n",
    "Your task is to help a marketing team create a description for a retail website of a product based \\ \n",
    "on a technical fact sheet.\n",
    "\n",
    "Write a product description based on the information  provided in the technical specifications \\ \n",
    "delimited by triple backticks.\n",
    "\n",
    "Technical specifications: ```{fact_sheet_chair}```\n",
    "\"\"\"\n",
    "\n",
    "response = get_completion(prompt)\n",
    "print(response)"
   ]
  },
  {
   "cell_type": "markdown",
   "id": "d9d65a17-8a15-4bee-96a4-9cbd1df9069b",
   "metadata": {},
   "source": [
    "### Issue 1: The Text is too Long"
   ]
  },
  {
   "cell_type": "code",
   "execution_count": 6,
   "id": "23ab5302-5bcc-4d81-81f0-99a12cb4b01d",
   "metadata": {},
   "outputs": [
    {
     "name": "stdout",
     "output_type": "stream",
     "text": [
      "Introducing our versatile and stylish mid-century inspired office chair. Available in a variety of colors and finishes, with options for upholstery and armrests. Designed for both home and business use, this chair features a durable construction and adjustable height for maximum comfort. Made in Italy.\n"
     ]
    }
   ],
   "source": [
    "prompt = f\"\"\"\n",
    "Your task is to help a marketing team create a description for a retail website of a product based \\ \n",
    "on a technical fact sheet.\n",
    "\n",
    "Write a product description based on the information provided in the technical specifications \\ \n",
    "delimited by triple backticks.\n",
    "\n",
    "Use at most 50 words.\n",
    "\n",
    "Technical specifications: ```{fact_sheet_chair}```\n",
    "\"\"\"\n",
    "\n",
    "response = get_completion(prompt)\n",
    "print(response)"
   ]
  },
  {
   "cell_type": "code",
   "execution_count": 7,
   "id": "38ea858d-0af6-4a15-bbb4-26a45c08ce16",
   "metadata": {},
   "outputs": [
    {
     "data": {
      "text/plain": [
       "45"
      ]
     },
     "execution_count": 7,
     "metadata": {},
     "output_type": "execute_result"
    }
   ],
   "source": [
    "len(response.split())"
   ]
  },
  {
   "cell_type": "markdown",
   "id": "de2d9b70-0143-4d21-892c-766572563a36",
   "metadata": {},
   "source": [
    "### Issue 2: Text Focuses on the Wrong Details\n",
    "\n",
    "Ask it to focus on the aspects that are relevant to the intended audience."
   ]
  },
  {
   "cell_type": "code",
   "execution_count": 8,
   "id": "a6610fb9-b131-42d5-8581-f907adb655cc",
   "metadata": {},
   "outputs": [
    {
     "name": "stdout",
     "output_type": "stream",
     "text": [
      "Introducing our versatile and stylish office chair, part of a mid-century inspired furniture collection. Choose from a variety of shell colors and base finishes to suit your space. Constructed with a durable aluminum base and high-density foam seat for comfort. Made in Italy, perfect for home or business use.\n"
     ]
    }
   ],
   "source": [
    "prompt = f\"\"\"\n",
    "Your task is to help a marketing team create a description for a retail website of a product based \\ \n",
    "on a technical fact sheet.\n",
    "\n",
    "Write a product description based on the information provided in the technical specifications \\ \n",
    "delimited by triple backticks.\n",
    "\n",
    "The description is intended for furniture retailers, so should be technical in nature and focus \\ \n",
    "on the materials the product is constructed from.\n",
    "\n",
    "Use at most 50 words.\n",
    "\n",
    "Technical specifications: ```{fact_sheet_chair}```\n",
    "\"\"\"\n",
    "\n",
    "response = get_completion(prompt)\n",
    "print(response)"
   ]
  },
  {
   "cell_type": "code",
   "execution_count": 9,
   "id": "2e9ca0f4-23d3-4f8c-b2b1-04fa65c125f2",
   "metadata": {},
   "outputs": [
    {
     "name": "stdout",
     "output_type": "stream",
     "text": [
      "Introducing our versatile mid-century office chair, available in various shell colors and base finishes. Choose between plastic or full upholstery in a range of fabrics and leathers. With a durable aluminum base and adjustable height, this chair is perfect for any home or business. \n",
      "\n",
      "Product IDs: SWC-100, SWC-110\n"
     ]
    }
   ],
   "source": [
    "prompt = f\"\"\"\n",
    "Your task is to help a marketing team create a description for a retail website of a product based \\ \n",
    "on a technical fact sheet.\n",
    "\n",
    "Write a product description based on the information provided in the technical specifications \\ \n",
    "delimited by triple backticks.\n",
    "\n",
    "The description is intended for furniture retailers, so should be technical in nature and focus \\ \n",
    "on the materials the product is constructed from.\n",
    "\n",
    "At the end of the description, include every 7-character Product ID in the technical specification.\n",
    "\n",
    "Use at most 50 words.\n",
    "\n",
    "Technical specifications: ```{fact_sheet_chair}```\n",
    "\"\"\"\n",
    "\n",
    "response = get_completion(prompt)\n",
    "print(response)"
   ]
  },
  {
   "cell_type": "markdown",
   "id": "6d02d05e-c7e8-4522-b64e-f6b79c6b8776",
   "metadata": {},
   "source": [
    "### Issue 3: Description needs a Table of Dimensions\n",
    "\n",
    "Ask it to extract information and organize it in a table."
   ]
  },
  {
   "cell_type": "code",
   "execution_count": 10,
   "id": "3c961571-a441-4002-9376-bc543f0f850d",
   "metadata": {},
   "outputs": [
    {
     "name": "stdout",
     "output_type": "stream",
     "text": [
      "```html\n",
      "<div>\n",
      "  <p>This mid-century inspired office chair is a versatile and stylish addition to any workspace. \n",
      "  With options for shell color, base finish, and upholstery type, you can customize this chair to \n",
      "  fit your aesthetic perfectly. The chair is constructed with a durable 5-wheel plastic coated aluminum \n",
      "  base and features a pneumatic chair adjust for easy raise/lower action. The seat is made with HD36 foam \n",
      "  for comfort and longevity. Whether for home or business use, this chair is a great choice for any setting.</p>\n",
      "  \n",
      "  <p>Product IDs: SWC-100, SWC-110</p>\n",
      "  \n",
      "  <h2>Product Dimensions</h2>\n",
      "  <table>\n",
      "    <tr>\n",
      "      <td>WIDTH</td>\n",
      "      <td>20.87\"</td>\n",
      "    </tr>\n",
      "    <tr>\n",
      "      <td>DEPTH</td>\n",
      "      <td>20.08\"</td>\n",
      "    </tr>\n",
      "    <tr>\n",
      "      <td>HEIGHT</td>\n",
      "      <td>31.50\"</td>\n",
      "    </tr>\n",
      "    <tr>\n",
      "      <td>SEAT HEIGHT</td>\n",
      "      <td>17.32\"</td>\n",
      "    </tr>\n",
      "    <tr>\n",
      "      <td>SEAT DEPTH</td>\n",
      "      <td>16.14\"</td>\n",
      "    </tr>\n",
      "  </table>\n",
      "</div>\n",
      "```\n"
     ]
    }
   ],
   "source": [
    "prompt = f\"\"\"\n",
    "Your task is to help a marketing team create a description for a retail website of a product based \\ \n",
    "on a technical fact sheet.\n",
    "\n",
    "Write a product description based on the information provided in the technical specifications \\ \n",
    "delimited by triple backticks.\n",
    "\n",
    "The description is intended for furniture retailers, so should be technical in nature and focus \\ \n",
    "on the materials the product is constructed from.\n",
    "\n",
    "At the end of the description, include every 7-character Product ID in the technical specification.\n",
    "\n",
    "After the description, include a table that gives the product's dimensions. The table should have two columns. \\ \n",
    "In the first column include the name of the dimension. In the second column include the measurements in inches only.\n",
    "\n",
    "Give the table the title 'Product Dimensions'.\n",
    "\n",
    "Format everything as HTML that can be used in a website. Place the description in a <div> element.\n",
    "\n",
    "Technical specifications: ```{fact_sheet_chair}```\n",
    "\"\"\"\n",
    "\n",
    "response = get_completion(prompt)\n",
    "print(response)"
   ]
  },
  {
   "cell_type": "code",
   "execution_count": 11,
   "id": "b1345188-ab19-448e-b157-15588bcabec9",
   "metadata": {},
   "outputs": [],
   "source": [
    "from IPython.display import display, HTML"
   ]
  },
  {
   "cell_type": "code",
   "execution_count": 12,
   "id": "a0142717-d763-433a-99be-44278f95ef1d",
   "metadata": {},
   "outputs": [
    {
     "data": {
      "text/html": [
       "```html\n",
       "<div>\n",
       "  <p>This mid-century inspired office chair is a versatile and stylish addition to any workspace. \n",
       "  With options for shell color, base finish, and upholstery type, you can customize this chair to \n",
       "  fit your aesthetic perfectly. The chair is constructed with a durable 5-wheel plastic coated aluminum \n",
       "  base and features a pneumatic chair adjust for easy raise/lower action. The seat is made with HD36 foam \n",
       "  for comfort and longevity. Whether for home or business use, this chair is a great choice for any setting.</p>\n",
       "  \n",
       "  <p>Product IDs: SWC-100, SWC-110</p>\n",
       "  \n",
       "  <h2>Product Dimensions</h2>\n",
       "  <table>\n",
       "    <tr>\n",
       "      <td>WIDTH</td>\n",
       "      <td>20.87\"</td>\n",
       "    </tr>\n",
       "    <tr>\n",
       "      <td>DEPTH</td>\n",
       "      <td>20.08\"</td>\n",
       "    </tr>\n",
       "    <tr>\n",
       "      <td>HEIGHT</td>\n",
       "      <td>31.50\"</td>\n",
       "    </tr>\n",
       "    <tr>\n",
       "      <td>SEAT HEIGHT</td>\n",
       "      <td>17.32\"</td>\n",
       "    </tr>\n",
       "    <tr>\n",
       "      <td>SEAT DEPTH</td>\n",
       "      <td>16.14\"</td>\n",
       "    </tr>\n",
       "  </table>\n",
       "</div>\n",
       "```"
      ],
      "text/plain": [
       "<IPython.core.display.HTML object>"
      ]
     },
     "metadata": {},
     "output_type": "display_data"
    }
   ],
   "source": [
    "display(HTML(response))"
   ]
  },
  {
   "cell_type": "code",
   "execution_count": null,
   "id": "0f70110e-f443-43e9-a6c6-c31780dde16b",
   "metadata": {},
   "outputs": [],
   "source": []
  }
 ],
 "metadata": {
  "kernelspec": {
   "display_name": "Python 3 (ipykernel)",
   "language": "python",
   "name": "python3"
  },
  "language_info": {
   "codemirror_mode": {
    "name": "ipython",
    "version": 3
   },
   "file_extension": ".py",
   "mimetype": "text/x-python",
   "name": "python",
   "nbconvert_exporter": "python",
   "pygments_lexer": "ipython3",
   "version": "3.11.11"
  }
 },
 "nbformat": 4,
 "nbformat_minor": 5
}
