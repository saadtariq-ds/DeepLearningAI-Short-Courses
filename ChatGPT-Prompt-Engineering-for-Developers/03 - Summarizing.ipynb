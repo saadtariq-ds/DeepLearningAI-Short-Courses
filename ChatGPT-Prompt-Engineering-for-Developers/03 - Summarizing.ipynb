{
 "cells": [
  {
   "cell_type": "markdown",
   "id": "37362a4f-2730-4fd7-ab42-6c7a2e193cd7",
   "metadata": {},
   "source": [
    "## Libraries and Setup"
   ]
  },
  {
   "cell_type": "code",
   "execution_count": 1,
   "id": "16fd3aca-fc7a-43ab-a4d3-cd471e2b0c3a",
   "metadata": {},
   "outputs": [],
   "source": [
    "import openai\n",
    "import os\n",
    "from dotenv import load_dotenv, find_dotenv"
   ]
  },
  {
   "cell_type": "code",
   "execution_count": 2,
   "id": "d0b9b35b-dda0-4a4d-9561-e994dbd19ef1",
   "metadata": {},
   "outputs": [],
   "source": [
    "load_dotenv(find_dotenv())\n",
    "\n",
    "openai_api_key = os.getenv(\"OPENAI_API_KEY\")"
   ]
  },
  {
   "cell_type": "code",
   "execution_count": 3,
   "id": "3b33419c-be83-4f32-9fed-559de9c27d48",
   "metadata": {},
   "outputs": [],
   "source": [
    "client = openai.OpenAI()\n",
    "\n",
    "def get_completion(prompt, model=\"gpt-3.5-turbo\"):\n",
    "    messages = [{\"role\": \"user\", \"content\": prompt}]\n",
    "    response = client.chat.completions.create(\n",
    "        model=model,\n",
    "        messages=messages,\n",
    "        temperature=0\n",
    "    )\n",
    "    return response.choices[0].message.content"
   ]
  },
  {
   "cell_type": "markdown",
   "id": "ea5e8a4f-b5b6-4954-8eba-8ad2778d69dc",
   "metadata": {},
   "source": [
    "# Text to Summarize"
   ]
  },
  {
   "cell_type": "code",
   "execution_count": 4,
   "id": "798b8bf0-f141-4540-84c0-36219f2d7af8",
   "metadata": {},
   "outputs": [],
   "source": [
    "prod_review = \"\"\"\n",
    "Got this panda plush toy for my daughter's birthday, who loves it and takes it everywhere. It's soft and \\ \n",
    "super cute, and its face has a friendly look. It's a bit small for what I paid though. I think there \\ \n",
    "might be other options that are bigger for the same price. It arrived a day earlier than expected, \\ \n",
    "so I got to play with it myself before I gave it to her.\n",
    "\"\"\""
   ]
  },
  {
   "cell_type": "markdown",
   "id": "bc2186ac-8afd-4706-b99b-fe3732308eb9",
   "metadata": {},
   "source": [
    "## Summarize with a word/sentence/character limit"
   ]
  },
  {
   "cell_type": "code",
   "execution_count": 5,
   "id": "0d2e20ba-6074-44c5-845d-68dec2adde98",
   "metadata": {},
   "outputs": [
    {
     "name": "stdout",
     "output_type": "stream",
     "text": [
      "Summary: \n",
      "Soft and cute panda plush toy loved by daughter, but smaller than expected for the price. Arrived early, allowing for personal enjoyment before gifting.\n"
     ]
    }
   ],
   "source": [
    "prompt = f\"\"\"\n",
    "Your task is to generate a short summary of a product review from an ecommerce site. \n",
    "\n",
    "Summarize the review below, delimited by triple backticks, in at most 30 words. \n",
    "\n",
    "Review: ```{prod_review}```\n",
    "\"\"\"\n",
    "\n",
    "response = get_completion(prompt)\n",
    "print(response)"
   ]
  },
  {
   "cell_type": "markdown",
   "id": "c60e1f53-4e2b-47b1-b4b2-cb1d1ce3d2a7",
   "metadata": {},
   "source": [
    "## Summarize with a focus on shipping and delivery"
   ]
  },
  {
   "cell_type": "code",
   "execution_count": 6,
   "id": "8caaffd1-8f05-4e65-a8ec-7af655ba1d82",
   "metadata": {},
   "outputs": [
    {
     "name": "stdout",
     "output_type": "stream",
     "text": [
      "The customer received the panda plush toy a day earlier than expected, allowing them to enjoy it before gifting it.\n"
     ]
    }
   ],
   "source": [
    "prompt = f\"\"\"\n",
    "Your task is to generate a short summary of a product review from an ecommerce site to give feedback to the \\\n",
    "Shipping deparmtment. \n",
    "\n",
    "Summarize the review below, delimited by triple backticks, in at most 30 words, and focusing on any aspects \\\n",
    "that mention shipping and delivery of the product. \n",
    "\n",
    "Review: ```{prod_review}```\n",
    "\"\"\"\n",
    "\n",
    "response = get_completion(prompt)\n",
    "print(response)"
   ]
  },
  {
   "cell_type": "markdown",
   "id": "98d1507e-5c68-494b-84b2-afe307298c6d",
   "metadata": {},
   "source": [
    "## Summarize with a focus on price and value"
   ]
  },
  {
   "cell_type": "code",
   "execution_count": 7,
   "id": "17917791-dc31-4626-801d-609d6b5b2bbf",
   "metadata": {},
   "outputs": [
    {
     "name": "stdout",
     "output_type": "stream",
     "text": [
      "The panda plush toy is loved for its softness and cuteness, but some customers may find it small for the price.\n"
     ]
    }
   ],
   "source": [
    "prompt = f\"\"\"\n",
    "Your task is to generate a short summary of a product review from an ecommerce site to give feedback to the \\\n",
    "pricing deparmtment, responsible for determining the price of the product.  \n",
    "\n",
    "Summarize the review below, delimited by triple \n",
    "backticks, in at most 30 words, and focusing on any aspects that are relevant to the price and perceived value. \n",
    "\n",
    "Review: ```{prod_review}```\n",
    "\"\"\"\n",
    "\n",
    "response = get_completion(prompt)\n",
    "print(response)"
   ]
  },
  {
   "cell_type": "markdown",
   "id": "0e8a53eb-9c0c-4138-ac9a-c9a45ce3a79c",
   "metadata": {},
   "source": [
    "# Extracting Information"
   ]
  },
  {
   "cell_type": "code",
   "execution_count": 8,
   "id": "43d732a0-2d03-4352-b632-45b487b955d1",
   "metadata": {},
   "outputs": [
    {
     "name": "stdout",
     "output_type": "stream",
     "text": [
      "Feedback: The customer received the panda plush toy a day earlier than expected, which was a positive surprise. Delivery was prompt.\n"
     ]
    }
   ],
   "source": [
    "prompt = f\"\"\"\n",
    "Your task is to extract relevant information from a product review from an ecommerce site to give \\\n",
    "feedback to the Shipping department. \n",
    "\n",
    "From the review below, delimited by triple quotes extract the information relevant to shipping and \\ \n",
    "delivery. Limit to 30 words. \n",
    "\n",
    "Review: ```{prod_review}```\n",
    "\"\"\"\n",
    "\n",
    "response = get_completion(prompt)\n",
    "print(response)"
   ]
  },
  {
   "cell_type": "markdown",
   "id": "f4ce2f6d-aa6d-4f59-85d5-266bcfbcb9cb",
   "metadata": {},
   "source": [
    "# Summarize Multiple Product Reviews"
   ]
  },
  {
   "cell_type": "code",
   "execution_count": 9,
   "id": "73be0d3f-0734-4374-af97-0348d3b568de",
   "metadata": {},
   "outputs": [],
   "source": [
    "review_1 = \"\"\"\n",
    "Got this panda plush toy for my daughter's birthday, who loves it and takes it everywhere. It's soft and \\ \n",
    "super cute, and its face has a friendly look. It's a bit small for what I paid though. I think there \\ \n",
    "might be other options that are bigger for the same price. It arrived a day earlier than expected, \\ \n",
    "so I got to play with it myself before I gave it to her.\n",
    "\"\"\"\n",
    "\n",
    "# review for a standing lamp\n",
    "review_2 = \"\"\"\n",
    "Needed a nice lamp for my bedroom, and this one had additional storage and not too high of a price \\\n",
    "point. Got it fast - arrived in 2 days. The string to the lamp broke during the transit and the company \\\n",
    "happily sent over a new one. Came within a few days as well. It was easy to put together. Then I had a \\\n",
    "missing part, so I contacted their support and they very quickly got me the missing piece! Seems to me \\\n",
    "to be a great company that cares about their customers and products. \n",
    "\"\"\"\n",
    "\n",
    "# review for an electric toothbrush\n",
    "review_3 = \"\"\"\n",
    "My dental hygienist recommended an electric toothbrush, which is why I got this. The battery life seems to be \\\n",
    "pretty impressive so far. After initial charging and leaving the charger plugged in for the first week to \\\n",
    "condition the battery, I've unplugged the charger and been using it for twice daily brushing for the last \\\n",
    "3 weeks all on the same charge. But the toothbrush head is too small. I’ve seen baby toothbrushes bigger than \\\n",
    "this one. I wish the head was bigger with different length bristles to get between teeth better because \\\n",
    "this one doesn’t.  Overall if you can get this one around the $50 mark, it's a good deal. The manufactuer's \\\n",
    "replacements heads are pretty expensive, but you can get generic ones that're more reasonably priced. This \\\n",
    "toothbrush makes me feel like I've been to the dentist every day. My teeth feel sparkly clean! \n",
    "\"\"\"\n",
    "\n",
    "# review for a blender\n",
    "review_4 = \"\"\"\n",
    "So, they still had the 17 piece system on seasonal sale for around $49 in the month of November, about \\\n",
    "half off, but for some reason (call it price gouging) around the second week of December the prices all went \\\n",
    "up to about anywhere from between $70-$89 for the same system. And the 11 piece system went up around $10 or \\\n",
    "so in price also from the earlier sale price of $29. So it looks okay, but if you look at the base, the part \\\n",
    "where the blade locks into place doesn’t look as good as in previous editions from a few years ago, but I \\\n",
    "plan to be very gentle with it (example, I crush very hard items like beans, ice, rice, etc. in the \\ \n",
    "blender first then pulverize them in the serving size I want in the blender then switch to the whipping \\\n",
    "blade for a finer flour, and use the cross cutting blade first when making smoothies, then use the flat blade \\\n",
    "if I need them finer/less pulpy). Special tip when making smoothies, finely cut and freeze the fruits and \\\n",
    "vegetables (if using spinach-lightly stew soften the \\spinach then freeze until ready for use-and if making \\\n",
    "sorbet, use a small to medium sized food processor) that you plan to use that way you can avoid adding so \\\n",
    "much ice if at all-when making your smoothie. After about a year, the motor was making a funny noise. \\\n",
    "I called customer service but the warranty expired already, so I had to buy another one. FYI: The overall \\\n",
    "quality has gone done in these types of products, so they are kind of counting on brand recognition and \\\n",
    "consumer loyalty to maintain sales. Got it in about two days.\n",
    "\"\"\""
   ]
  },
  {
   "cell_type": "code",
   "execution_count": 10,
   "id": "4ef0cc57-8901-4735-bb8b-ce782698380c",
   "metadata": {},
   "outputs": [],
   "source": [
    "reviews = [review_1, review_2, review_3, review_4]"
   ]
  },
  {
   "cell_type": "code",
   "execution_count": 11,
   "id": "bf413712-a2c0-43eb-922c-23f79af8782a",
   "metadata": {},
   "outputs": [
    {
     "name": "stdout",
     "output_type": "stream",
     "text": [
      "0 ```\n",
      "Adorable panda plush toy loved by daughter, soft and cute, but smaller than expected for the price.\n",
      "``` \n",
      "\n",
      "1 Summary: \n",
      "Affordable lamp with storage, fast delivery. Company provided excellent customer service, promptly replacing broken parts. Great experience. \n",
      "\n",
      "2 Impressive battery life, small toothbrush head, good deal for $50, generic replacement heads available, leaves teeth feeling clean. \n",
      "\n",
      "3 Review: Prices increased post-sale, quality decline noted, motor issue after a year, frozen fruits tip for smoothies, quick delivery. \n",
      "\n"
     ]
    }
   ],
   "source": [
    "for i in range(len(reviews)):\n",
    "    prompt = f\"\"\"\n",
    "    Your task is to generate a short summary of a product review from an ecommerce site. \n",
    "\n",
    "    Summarize the review below, delimited by triple backticks in at most 20 words. \n",
    "\n",
    "    Review: ```{reviews[i]}```\n",
    "    \"\"\"\n",
    "\n",
    "    response = get_completion(prompt)\n",
    "    print(i, response, \"\\n\")"
   ]
  },
  {
   "cell_type": "code",
   "execution_count": null,
   "id": "decd2445-13cc-44c6-ac3f-442ca88e81a4",
   "metadata": {},
   "outputs": [],
   "source": []
  }
 ],
 "metadata": {
  "kernelspec": {
   "display_name": "Python 3 (ipykernel)",
   "language": "python",
   "name": "python3"
  },
  "language_info": {
   "codemirror_mode": {
    "name": "ipython",
    "version": 3
   },
   "file_extension": ".py",
   "mimetype": "text/x-python",
   "name": "python",
   "nbconvert_exporter": "python",
   "pygments_lexer": "ipython3",
   "version": "3.11.11"
  }
 },
 "nbformat": 4,
 "nbformat_minor": 5
}
