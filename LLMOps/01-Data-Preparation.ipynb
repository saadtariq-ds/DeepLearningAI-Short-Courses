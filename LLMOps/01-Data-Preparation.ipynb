{
 "cells": [
  {
   "cell_type": "markdown",
   "id": "eaa9c554-c03f-42e0-a623-f8cc0300aba1",
   "metadata": {},
   "source": [
    "## Setup and Import Libraries"
   ]
  },
  {
   "cell_type": "code",
   "execution_count": 1,
   "id": "7ec20744-a63d-45b8-b30a-b428f5279739",
   "metadata": {},
   "outputs": [],
   "source": [
    "import vertexai\n",
    "import datetime\n",
    "import pandas as pd\n",
    "from utils import authenticate\n",
    "from google.cloud import bigquery\n",
    "from sklearn.model_selection import train_test_split\n",
    "\n",
    "import warnings\n",
    "warnings.filterwarnings('ignore')"
   ]
  },
  {
   "cell_type": "code",
   "execution_count": 2,
   "id": "49a2ef2b-ac39-494d-ab13-fd96a84a3a1e",
   "metadata": {},
   "outputs": [],
   "source": [
    "credentials, PROJECT_ID = authenticate()"
   ]
  },
  {
   "cell_type": "code",
   "execution_count": 3,
   "id": "a5f80244-8ba8-4f7e-b9d2-cf7f3c5d8da3",
   "metadata": {},
   "outputs": [],
   "source": [
    "REGION = 'us-central1'"
   ]
  },
  {
   "cell_type": "code",
   "execution_count": 4,
   "id": "7f042a58-fdc3-4edc-ade8-bd683fd92a3c",
   "metadata": {},
   "outputs": [],
   "source": [
    "vertexai.init(\n",
    "    project=PROJECT_ID,\n",
    "    location=REGION,\n",
    "    credentials=credentials\n",
    ")"
   ]
  },
  {
   "cell_type": "markdown",
   "id": "9ac3993e-be9d-4d78-8de3-510adaefd060",
   "metadata": {},
   "source": [
    "## Using Data Warehouse"
   ]
  },
  {
   "cell_type": "code",
   "execution_count": 5,
   "id": "8613b60c-8c5c-4311-a2d6-9554c331b182",
   "metadata": {},
   "outputs": [],
   "source": [
    "bq_client = bigquery.Client(\n",
    "    project=PROJECT_ID,\n",
    "    credentials=credentials\n",
    ")"
   ]
  },
  {
   "cell_type": "markdown",
   "id": "3751c837-2ca9-4ff8-b9b3-5aa87a3cabaa",
   "metadata": {},
   "source": [
    "## Stack Overflow Public Dataset"
   ]
  },
  {
   "cell_type": "code",
   "execution_count": 6,
   "id": "4ff49c39-0556-4637-b893-d568df88394f",
   "metadata": {},
   "outputs": [],
   "source": [
    "QUERY_TABLES = \"\"\"\n",
    "SELECT\n",
    "  table_name\n",
    "FROM\n",
    "  `bigquery-public-data.stackoverflow.INFORMATION_SCHEMA.TABLES`\n",
    "\"\"\""
   ]
  },
  {
   "cell_type": "code",
   "execution_count": 7,
   "id": "f5cd7486-678e-46ec-9237-f707ced02a18",
   "metadata": {},
   "outputs": [],
   "source": [
    "query_job = bq_client.query(QUERY_TABLES)"
   ]
  },
  {
   "cell_type": "code",
   "execution_count": 8,
   "id": "f43faa0a-e6e4-4fbc-b180-ded8ce76984b",
   "metadata": {},
   "outputs": [
    {
     "name": "stdout",
     "output_type": "stream",
     "text": [
      "posts_answers\n",
      "users\n",
      "posts_orphaned_tag_wiki\n",
      "posts_tag_wiki\n",
      "stackoverflow_posts\n",
      "posts_questions\n",
      "comments\n",
      "posts_tag_wiki_excerpt\n",
      "posts_wiki_placeholder\n",
      "posts_privilege_wiki\n",
      "post_history\n",
      "badges\n",
      "post_links\n",
      "tags\n",
      "votes\n",
      "posts_moderator_nomination\n"
     ]
    }
   ],
   "source": [
    "for row in query_job:\n",
    "    for value in row.values():\n",
    "        print(value)"
   ]
  },
  {
   "cell_type": "markdown",
   "id": "1c7e38de-56cd-48fe-9c8f-0782508dc9fc",
   "metadata": {},
   "source": [
    "## Data Retrieval"
   ]
  },
  {
   "cell_type": "code",
   "execution_count": 9,
   "id": "8487d599-13f3-4de6-beb6-20c6734911d0",
   "metadata": {},
   "outputs": [],
   "source": [
    "INSPECT_QUERY = \"\"\"\n",
    "SELECT\n",
    "    *\n",
    "FROM\n",
    "    `bigquery-public-data.stackoverflow.posts_questions`\n",
    "LIMIT 3\n",
    "\"\"\""
   ]
  },
  {
   "cell_type": "code",
   "execution_count": 10,
   "id": "52082497-f29c-4325-874f-722ea0e5261c",
   "metadata": {},
   "outputs": [],
   "source": [
    "query_job = bq_client.query(INSPECT_QUERY)"
   ]
  },
  {
   "cell_type": "code",
   "execution_count": 11,
   "id": "61e49da9-2de7-4037-9036-ff98d98122c4",
   "metadata": {},
   "outputs": [
    {
     "data": {
      "text/html": [
       "<div>\n",
       "<style scoped>\n",
       "    .dataframe tbody tr th:only-of-type {\n",
       "        vertical-align: middle;\n",
       "    }\n",
       "\n",
       "    .dataframe tbody tr th {\n",
       "        vertical-align: top;\n",
       "    }\n",
       "\n",
       "    .dataframe thead th {\n",
       "        text-align: right;\n",
       "    }\n",
       "</style>\n",
       "<table border=\"1\" class=\"dataframe\">\n",
       "  <thead>\n",
       "    <tr style=\"text-align: right;\">\n",
       "      <th></th>\n",
       "      <th>id</th>\n",
       "      <th>title</th>\n",
       "      <th>body</th>\n",
       "      <th>accepted_answer_id</th>\n",
       "      <th>answer_count</th>\n",
       "      <th>comment_count</th>\n",
       "      <th>community_owned_date</th>\n",
       "      <th>creation_date</th>\n",
       "      <th>favorite_count</th>\n",
       "      <th>last_activity_date</th>\n",
       "      <th>last_edit_date</th>\n",
       "      <th>last_editor_display_name</th>\n",
       "      <th>last_editor_user_id</th>\n",
       "      <th>owner_display_name</th>\n",
       "      <th>owner_user_id</th>\n",
       "      <th>parent_id</th>\n",
       "      <th>post_type_id</th>\n",
       "      <th>score</th>\n",
       "      <th>tags</th>\n",
       "      <th>view_count</th>\n",
       "    </tr>\n",
       "  </thead>\n",
       "  <tbody>\n",
       "    <tr>\n",
       "      <th>0</th>\n",
       "      <td>73842327</td>\n",
       "      <td>Unable to start ypserv in Ubuntu</td>\n",
       "      <td>&lt;p&gt;I was trying to configure NIS master Server...</td>\n",
       "      <td>NaN</td>\n",
       "      <td>0</td>\n",
       "      <td>0</td>\n",
       "      <td>NaT</td>\n",
       "      <td>2022-09-25 05:56:32.863000+00:00</td>\n",
       "      <td>NaN</td>\n",
       "      <td>2022-09-25 05:56:32.863000+00:00</td>\n",
       "      <td>NaT</td>\n",
       "      <td>None</td>\n",
       "      <td>NaN</td>\n",
       "      <td>None</td>\n",
       "      <td>16454187</td>\n",
       "      <td>None</td>\n",
       "      <td>1</td>\n",
       "      <td>0</td>\n",
       "      <td>linux|ubuntu|linux-kernel|nis</td>\n",
       "      <td>1</td>\n",
       "    </tr>\n",
       "    <tr>\n",
       "      <th>1</th>\n",
       "      <td>73629682</td>\n",
       "      <td>Error Running Stable Diffusion from the comman...</td>\n",
       "      <td>&lt;p&gt;I installed Stable Diffusion v1.4 by follow...</td>\n",
       "      <td>NaN</td>\n",
       "      <td>2</td>\n",
       "      <td>0</td>\n",
       "      <td>NaT</td>\n",
       "      <td>2022-09-07 03:10:19.647000+00:00</td>\n",
       "      <td>NaN</td>\n",
       "      <td>2022-09-11 01:53:22.703000+00:00</td>\n",
       "      <td>NaT</td>\n",
       "      <td>None</td>\n",
       "      <td>NaN</td>\n",
       "      <td>None</td>\n",
       "      <td>13025866</td>\n",
       "      <td>None</td>\n",
       "      <td>1</td>\n",
       "      <td>1</td>\n",
       "      <td>python|windows|pytorch|command-line-interface</td>\n",
       "      <td>1281</td>\n",
       "    </tr>\n",
       "    <tr>\n",
       "      <th>2</th>\n",
       "      <td>73535922</td>\n",
       "      <td>Input contains NaN, infinity or a value too la...</td>\n",
       "      <td>&lt;p&gt;my dataframe does not contain NAN or infite...</td>\n",
       "      <td>NaN</td>\n",
       "      <td>0</td>\n",
       "      <td>0</td>\n",
       "      <td>NaT</td>\n",
       "      <td>2022-08-30 00:24:31.970000+00:00</td>\n",
       "      <td>NaN</td>\n",
       "      <td>2022-08-30 00:24:31.970000+00:00</td>\n",
       "      <td>NaT</td>\n",
       "      <td>None</td>\n",
       "      <td>NaN</td>\n",
       "      <td>None</td>\n",
       "      <td>19874740</td>\n",
       "      <td>None</td>\n",
       "      <td>1</td>\n",
       "      <td>0</td>\n",
       "      <td>dataframe</td>\n",
       "      <td>2</td>\n",
       "    </tr>\n",
       "  </tbody>\n",
       "</table>\n",
       "</div>"
      ],
      "text/plain": [
       "         id                                              title  \\\n",
       "0  73842327                   Unable to start ypserv in Ubuntu   \n",
       "1  73629682  Error Running Stable Diffusion from the comman...   \n",
       "2  73535922  Input contains NaN, infinity or a value too la...   \n",
       "\n",
       "                                                body  accepted_answer_id  \\\n",
       "0  <p>I was trying to configure NIS master Server...                 NaN   \n",
       "1  <p>I installed Stable Diffusion v1.4 by follow...                 NaN   \n",
       "2  <p>my dataframe does not contain NAN or infite...                 NaN   \n",
       "\n",
       "   answer_count  comment_count community_owned_date  \\\n",
       "0             0              0                  NaT   \n",
       "1             2              0                  NaT   \n",
       "2             0              0                  NaT   \n",
       "\n",
       "                     creation_date  favorite_count  \\\n",
       "0 2022-09-25 05:56:32.863000+00:00             NaN   \n",
       "1 2022-09-07 03:10:19.647000+00:00             NaN   \n",
       "2 2022-08-30 00:24:31.970000+00:00             NaN   \n",
       "\n",
       "                last_activity_date last_edit_date last_editor_display_name  \\\n",
       "0 2022-09-25 05:56:32.863000+00:00            NaT                     None   \n",
       "1 2022-09-11 01:53:22.703000+00:00            NaT                     None   \n",
       "2 2022-08-30 00:24:31.970000+00:00            NaT                     None   \n",
       "\n",
       "   last_editor_user_id owner_display_name  owner_user_id parent_id  \\\n",
       "0                  NaN               None       16454187      None   \n",
       "1                  NaN               None       13025866      None   \n",
       "2                  NaN               None       19874740      None   \n",
       "\n",
       "   post_type_id  score                                           tags  \\\n",
       "0             1      0                  linux|ubuntu|linux-kernel|nis   \n",
       "1             1      1  python|windows|pytorch|command-line-interface   \n",
       "2             1      0                                      dataframe   \n",
       "\n",
       "   view_count  \n",
       "0           1  \n",
       "1        1281  \n",
       "2           2  "
      ]
     },
     "execution_count": 11,
     "metadata": {},
     "output_type": "execute_result"
    }
   ],
   "source": [
    "stack_overflow_df = query_job.result().to_arrow().to_pandas()\n",
    "\n",
    "stack_overflow_df.head()"
   ]
  },
  {
   "cell_type": "markdown",
   "id": "9b7f1642-af62-40da-a155-011f8e922d59",
   "metadata": {},
   "source": [
    "## Dealing with Large Datasets\n",
    "- Large datasets for LLMs often don't fit into memory.\n",
    "- Select all of the columns and rows of the table posts_questions."
   ]
  },
  {
   "cell_type": "code",
   "execution_count": 12,
   "id": "d0295dcf-ce06-4301-abba-8a5eb717d592",
   "metadata": {},
   "outputs": [],
   "source": [
    "QUERY_ALL = \"\"\"\n",
    "SELECT\n",
    "    *\n",
    "FROM\n",
    "    `bigquery-public-data.stackoverflow.posts_questions` q\n",
    "\"\"\""
   ]
  },
  {
   "cell_type": "code",
   "execution_count": 13,
   "id": "fce2c205-1dc2-49ab-8f01-194c91b2bf4a",
   "metadata": {},
   "outputs": [],
   "source": [
    "query_job = bq_client.query(QUERY_ALL)"
   ]
  },
  {
   "cell_type": "code",
   "execution_count": 14,
   "id": "5a7dbbf0-5502-4a7e-9141-cbea54ae3171",
   "metadata": {},
   "outputs": [
    {
     "name": "stdout",
     "output_type": "stream",
     "text": [
      "The DataFrame is too large to load into memory. 403 GET https://bigquery.googleapis.com/bigquery/v2/projects/spherical-jetty-465410-u7/queries/f9c1ba32-71d0-4fd0-9dcc-5b265835eddb?maxResults=0&location=US&prettyPrint=false: Response too large to return. Consider specifying a destination table in your job configuration. For more details, see https://cloud.google.com/bigquery/troubleshooting-errors\n",
      "\n",
      "Location: US\n",
      "Job ID: f9c1ba32-71d0-4fd0-9dcc-5b265835eddb\n",
      "\n"
     ]
    }
   ],
   "source": [
    "try:\n",
    "    stack_overflow_df = query_job.result().to_arrow().to_pandas()\n",
    "except Exception as e:\n",
    "    print('The DataFrame is too large to load into memory.', e)"
   ]
  },
  {
   "cell_type": "markdown",
   "id": "f1c23f2e-0b33-476a-900d-76794383b55b",
   "metadata": {},
   "source": [
    "## Joining Tables and Query Optimization\n",
    "\n",
    "When working with (large) data, query optimizing is needed in order to save time and resources."
   ]
  },
  {
   "cell_type": "code",
   "execution_count": 15,
   "id": "bcf3b6d0-d806-4f2f-a978-f2bfd461118f",
   "metadata": {},
   "outputs": [],
   "source": [
    "QUERY = \"\"\"\n",
    "SELECT\n",
    "    CONCAT(q.title, q.body) as input_text,\n",
    "    a.body AS output_text\n",
    "FROM\n",
    "    `bigquery-public-data.stackoverflow.posts_questions` q\n",
    "JOIN\n",
    "    `bigquery-public-data.stackoverflow.posts_answers` a\n",
    "ON\n",
    "    q.accepted_answer_id = a.id\n",
    "WHERE\n",
    "    q.accepted_answer_id IS NOT NULL AND\n",
    "    REGEXP_CONTAINS(q.tags, \"python\") AND\n",
    "    a.creation_date >= \"2020-01-01\"\n",
    "LIMIT\n",
    "    10000\n",
    "\"\"\""
   ]
  },
  {
   "cell_type": "code",
   "execution_count": 16,
   "id": "5e8a356f-e486-4d0b-acd1-278536e7d02c",
   "metadata": {},
   "outputs": [],
   "source": [
    "query_job = bq_client.query(QUERY)"
   ]
  },
  {
   "cell_type": "code",
   "execution_count": 17,
   "id": "aca1fd06-cb96-4a8f-a30f-253588583776",
   "metadata": {},
   "outputs": [
    {
     "data": {
      "text/html": [
       "<div>\n",
       "<style scoped>\n",
       "    .dataframe tbody tr th:only-of-type {\n",
       "        vertical-align: middle;\n",
       "    }\n",
       "\n",
       "    .dataframe tbody tr th {\n",
       "        vertical-align: top;\n",
       "    }\n",
       "\n",
       "    .dataframe thead th {\n",
       "        text-align: right;\n",
       "    }\n",
       "</style>\n",
       "<table border=\"1\" class=\"dataframe\">\n",
       "  <thead>\n",
       "    <tr style=\"text-align: right;\">\n",
       "      <th></th>\n",
       "      <th>input_text</th>\n",
       "      <th>output_text</th>\n",
       "    </tr>\n",
       "  </thead>\n",
       "  <tbody>\n",
       "    <tr>\n",
       "      <th>0</th>\n",
       "      <td>Django - count number of inline elements in cl...</td>\n",
       "      <td>&lt;p&gt;you can use the reverse lookup with using &lt;...</td>\n",
       "    </tr>\n",
       "    <tr>\n",
       "      <th>1</th>\n",
       "      <td>Unexpected output of python3 built-in max for ...</td>\n",
       "      <td>&lt;p&gt;The code for &lt;code&gt;max&lt;/code&gt; (and &lt;code&gt;mi...</td>\n",
       "    </tr>\n",
       "  </tbody>\n",
       "</table>\n",
       "</div>"
      ],
      "text/plain": [
       "                                          input_text  \\\n",
       "0  Django - count number of inline elements in cl...   \n",
       "1  Unexpected output of python3 built-in max for ...   \n",
       "\n",
       "                                         output_text  \n",
       "0  <p>you can use the reverse lookup with using <...  \n",
       "1  <p>The code for <code>max</code> (and <code>mi...  "
      ]
     },
     "execution_count": 17,
     "metadata": {},
     "output_type": "execute_result"
    }
   ],
   "source": [
    "stack_overflow_df = query_job.result().to_arrow().to_pandas()\n",
    "\n",
    "stack_overflow_df.head(2)"
   ]
  },
  {
   "cell_type": "markdown",
   "id": "99e254d2-5a80-40f9-8c74-5a08f80dd94a",
   "metadata": {},
   "source": [
    "## Adding Instructions\n",
    "\n",
    "- Instructions for LLMs have been shown to improve model performance and generalization to unseen tasks (Google, 2022).\n",
    "- Wihtout the instruction, it is only question and answer. Model might not understand what to do.\n",
    "- With the instructions, the model gets a guideline as to what task to perform."
   ]
  },
  {
   "cell_type": "code",
   "execution_count": 18,
   "id": "87d0474d-d7eb-40e9-8406-6524cf231331",
   "metadata": {},
   "outputs": [],
   "source": [
    "INSTRUCTION_TEMPLATE = f\"\"\"\\\n",
    "Please answer the following Stackoverflow question on Python. \\\n",
    "Answer it like you are a developer answering Stackoverflow questions.\n",
    "\n",
    "Stackoverflow question:\n",
    "\"\"\""
   ]
  },
  {
   "cell_type": "code",
   "execution_count": 19,
   "id": "54fec2a1-6677-448b-a9f8-50c71376bdce",
   "metadata": {},
   "outputs": [
    {
     "data": {
      "text/html": [
       "<div>\n",
       "<style scoped>\n",
       "    .dataframe tbody tr th:only-of-type {\n",
       "        vertical-align: middle;\n",
       "    }\n",
       "\n",
       "    .dataframe tbody tr th {\n",
       "        vertical-align: top;\n",
       "    }\n",
       "\n",
       "    .dataframe thead th {\n",
       "        text-align: right;\n",
       "    }\n",
       "</style>\n",
       "<table border=\"1\" class=\"dataframe\">\n",
       "  <thead>\n",
       "    <tr style=\"text-align: right;\">\n",
       "      <th></th>\n",
       "      <th>input_text</th>\n",
       "      <th>output_text</th>\n",
       "      <th>input_text_instruct</th>\n",
       "    </tr>\n",
       "  </thead>\n",
       "  <tbody>\n",
       "    <tr>\n",
       "      <th>0</th>\n",
       "      <td>Django - count number of inline elements in cl...</td>\n",
       "      <td>&lt;p&gt;you can use the reverse lookup with using &lt;...</td>\n",
       "      <td>Please answer the following Stackoverflow ques...</td>\n",
       "    </tr>\n",
       "    <tr>\n",
       "      <th>1</th>\n",
       "      <td>Unexpected output of python3 built-in max for ...</td>\n",
       "      <td>&lt;p&gt;The code for &lt;code&gt;max&lt;/code&gt; (and &lt;code&gt;mi...</td>\n",
       "      <td>Please answer the following Stackoverflow ques...</td>\n",
       "    </tr>\n",
       "  </tbody>\n",
       "</table>\n",
       "</div>"
      ],
      "text/plain": [
       "                                          input_text  \\\n",
       "0  Django - count number of inline elements in cl...   \n",
       "1  Unexpected output of python3 built-in max for ...   \n",
       "\n",
       "                                         output_text  \\\n",
       "0  <p>you can use the reverse lookup with using <...   \n",
       "1  <p>The code for <code>max</code> (and <code>mi...   \n",
       "\n",
       "                                 input_text_instruct  \n",
       "0  Please answer the following Stackoverflow ques...  \n",
       "1  Please answer the following Stackoverflow ques...  "
      ]
     },
     "execution_count": 19,
     "metadata": {},
     "output_type": "execute_result"
    }
   ],
   "source": [
    "stack_overflow_df['input_text_instruct'] = INSTRUCTION_TEMPLATE + ' ' + stack_overflow_df['input_text']\n",
    "\n",
    "stack_overflow_df.head(2)"
   ]
  },
  {
   "cell_type": "markdown",
   "id": "d1ecab4f-ab8c-4a4c-9e5c-c5e44dc7a3aa",
   "metadata": {},
   "source": [
    "## Dataset for Tuning"
   ]
  },
  {
   "cell_type": "code",
   "execution_count": 21,
   "id": "5baaf3ce-6dc8-4984-a551-d7a96476d11f",
   "metadata": {},
   "outputs": [],
   "source": [
    "train, evaluation = train_test_split(\n",
    "    stack_overflow_df,\n",
    "    test_size=0.2,\n",
    "    random_state=42\n",
    ")"
   ]
  },
  {
   "cell_type": "markdown",
   "id": "550af044-51ed-4de6-94e0-a08b2cdf2295",
   "metadata": {},
   "source": [
    "## Different Datasets and Flow\n",
    "\n",
    "- Versioning data is important.\n",
    "- It allows for reproducibility, traceability, and maintainability of machine learning models.\n",
    "- Get the timestamp."
   ]
  },
  {
   "cell_type": "code",
   "execution_count": 30,
   "id": "b2adbf73-65c4-442d-a836-51418c8525a0",
   "metadata": {},
   "outputs": [],
   "source": [
    "date = datetime.datetime.now().strftime(\"%Y-%m-%d_%H-%M-%S\")"
   ]
  },
  {
   "cell_type": "markdown",
   "id": "d605eef7-ddab-4eac-b28f-804ca498f16c",
   "metadata": {},
   "source": [
    "- Generate a jsonl file.\n",
    "- Name it as tune_data_stack_overflow_python_qa-{date}"
   ]
  },
  {
   "cell_type": "code",
   "execution_count": 31,
   "id": "2dc93b66-4745-4a49-8059-c62d8065e754",
   "metadata": {},
   "outputs": [],
   "source": [
    "cols = ['input_text_instruct','output_text']\n",
    "\n",
    "tune_jsonl = train[cols].to_json(orient=\"records\", lines=True)"
   ]
  },
  {
   "cell_type": "code",
   "execution_count": 32,
   "id": "bb8c04a6-206a-4ee4-904f-402a884dfd69",
   "metadata": {},
   "outputs": [],
   "source": [
    "training_data_filename = f\"tune_data_stack_overflow_python_qa-{date}.jsonl\""
   ]
  },
  {
   "cell_type": "code",
   "execution_count": 33,
   "id": "ea8f92a5-115d-438c-aabe-0384786f32c1",
   "metadata": {},
   "outputs": [],
   "source": [
    "with open(training_data_filename, \"w\") as f:\n",
    "    f.write(tune_jsonl)"
   ]
  },
  {
   "cell_type": "code",
   "execution_count": null,
   "id": "722091c6-1fa4-41d0-9b08-77bade45fd91",
   "metadata": {},
   "outputs": [],
   "source": []
  }
 ],
 "metadata": {
  "kernelspec": {
   "display_name": "Python 3 (ipykernel)",
   "language": "python",
   "name": "python3"
  },
  "language_info": {
   "codemirror_mode": {
    "name": "ipython",
    "version": 3
   },
   "file_extension": ".py",
   "mimetype": "text/x-python",
   "name": "python",
   "nbconvert_exporter": "python",
   "pygments_lexer": "ipython3",
   "version": "3.10.18"
  }
 },
 "nbformat": 4,
 "nbformat_minor": 5
}
