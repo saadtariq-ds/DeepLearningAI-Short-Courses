{
 "cells": [
  {
   "cell_type": "markdown",
   "id": "5c8a72cc-3db0-4fe8-919c-df65ad34c522",
   "metadata": {},
   "source": [
    "## Setup and Import Libraries"
   ]
  },
  {
   "cell_type": "code",
   "execution_count": 1,
   "id": "9783983b-52f2-44de-b655-bd8965cbad99",
   "metadata": {},
   "outputs": [],
   "source": [
    "import datetime\n",
    "import vertexai\n",
    "from kfp import dsl\n",
    "from kfp import compiler\n",
    "from utils import authenticate\n",
    "from google.cloud.aiplatform import PipelineJob\n",
    "from google.oauth2 import service_account\n",
    "from google.cloud import aiplatform, storage\n",
    "\n",
    "import warnings\n",
    "warnings.filterwarnings('ignore')"
   ]
  },
  {
   "cell_type": "code",
   "execution_count": 2,
   "id": "e76a12fe-284d-4512-a526-e08f7b8dd733",
   "metadata": {},
   "outputs": [],
   "source": [
    "credentials, PROJECT_ID = authenticate()"
   ]
  },
  {
   "cell_type": "code",
   "execution_count": 3,
   "id": "f473d82e-fa8e-4496-a277-b0eccd41142c",
   "metadata": {},
   "outputs": [],
   "source": [
    "REGION = 'us-central1'"
   ]
  },
  {
   "cell_type": "code",
   "execution_count": 4,
   "id": "9f762cfb-ba2f-4479-b98e-8a3cd3f0ca6f",
   "metadata": {},
   "outputs": [],
   "source": [
    "vertexai.init(\n",
    "    project=PROJECT_ID,\n",
    "    location=REGION,\n",
    "    credentials=credentials\n",
    ")"
   ]
  },
  {
   "cell_type": "markdown",
   "id": "b9f6ab60-8d98-459a-b175-f69895e68113",
   "metadata": {},
   "source": [
    "## Kubeflow Pipelines\n",
    "\n",
    "- Kubeflow pipelines consist of two key concepts: Components and pipelines.\n",
    "- Pipeline components are like self-contained sets of code that perform various steps in your ML workflow, such as, the first step could be preprocessing data, and second step could betraining a model."
   ]
  },
  {
   "cell_type": "markdown",
   "id": "26ce7a76-a082-465a-a752-6c8bbb843ccf",
   "metadata": {},
   "source": [
    "### Simple Pipeline Example\n",
    "\n",
    "#### Build the Pipeline"
   ]
  },
  {
   "cell_type": "code",
   "execution_count": 8,
   "id": "7521759d-19e4-46ad-adde-8775320cdad6",
   "metadata": {},
   "outputs": [],
   "source": [
    "### Simple example: component 1\n",
    "@dsl.component\n",
    "def say_hello(name: str) -> str:\n",
    "    hello_text = f'Hello, {name}!'\n",
    "    \n",
    "    return hello_text"
   ]
  },
  {
   "cell_type": "markdown",
   "id": "423771ce-0688-4485-b957-3a3644b36235",
   "metadata": {},
   "source": [
    "- Since we \"wrapped\" this `say_hello` function in the decorator `@dsl.component`, the function will not actually return a string.\n",
    "- The function will return a `PipelineTask` object."
   ]
  },
  {
   "cell_type": "code",
   "execution_count": 9,
   "id": "9f31f270-148c-4a11-899f-76fa57d18e14",
   "metadata": {},
   "outputs": [
    {
     "name": "stdout",
     "output_type": "stream",
     "text": [
      "<kfp.dsl.pipeline_task.PipelineTask object at 0x000002C4D946CA60>\n"
     ]
    }
   ],
   "source": [
    "hello_task = say_hello(name=\"Erwin\")\n",
    "print(hello_task)"
   ]
  },
  {
   "cell_type": "markdown",
   "id": "bb01798f-686c-47c4-94d3-57f6633d3941",
   "metadata": {},
   "source": [
    "- The object that we'll use to pass the information in `hello_text` to other components in the pipeline is `PipelineTask.output`, which will be a built-in data type:\n",
    "> `['String', 'Integer', 'Float', 'Boolean', 'List', 'Dict']`"
   ]
  },
  {
   "cell_type": "code",
   "execution_count": 10,
   "id": "7fd00b0c-0a30-4f63-9bbe-21a1dc1641d7",
   "metadata": {},
   "outputs": [
    {
     "name": "stdout",
     "output_type": "stream",
     "text": [
      "{{channel:task=say-hello;name=Output;type=String;}}\n"
     ]
    }
   ],
   "source": [
    "print(hello_task.output)"
   ]
  },
  {
   "cell_type": "markdown",
   "id": "22c7c384-378d-4719-8a47-57b779bfc07d",
   "metadata": {},
   "source": [
    "- Note when passing in values to the a `dsl.component` function, you have to specify the argument names (keyword arguments), and can't use positional arguments."
   ]
  },
  {
   "cell_type": "code",
   "execution_count": 11,
   "id": "45b08ce2-1b1b-4874-9358-71bc1e421d48",
   "metadata": {},
   "outputs": [
    {
     "ename": "TypeError",
     "evalue": "Components must be instantiated using keyword arguments. Positional parameters are not allowed (found 1 such parameters for component \"say-hello\").",
     "output_type": "error",
     "traceback": [
      "\u001b[1;31m---------------------------------------------------------------------------\u001b[0m",
      "\u001b[1;31mTypeError\u001b[0m                                 Traceback (most recent call last)",
      "Cell \u001b[1;32mIn[11], line 2\u001b[0m\n\u001b[0;32m      1\u001b[0m \u001b[38;5;66;03m# this will give an error and ask you to specify the parameter name\u001b[39;00m\n\u001b[1;32m----> 2\u001b[0m hello_task \u001b[38;5;241m=\u001b[39m \u001b[43msay_hello\u001b[49m\u001b[43m(\u001b[49m\u001b[38;5;124;43m\"\u001b[39;49m\u001b[38;5;124;43mErwin\u001b[39;49m\u001b[38;5;124;43m\"\u001b[39;49m\u001b[43m)\u001b[49m\n",
      "File \u001b[1;32m~\\anaconda3\\envs\\LLMOps-Env\\lib\\site-packages\\kfp\\dsl\\base_component.py:75\u001b[0m, in \u001b[0;36mBaseComponent.__call__\u001b[1;34m(self, *args, **kwargs)\u001b[0m\n\u001b[0;32m     72\u001b[0m task_inputs \u001b[38;5;241m=\u001b[39m {}\n\u001b[0;32m     74\u001b[0m \u001b[38;5;28;01mif\u001b[39;00m args:\n\u001b[1;32m---> 75\u001b[0m     \u001b[38;5;28;01mraise\u001b[39;00m \u001b[38;5;167;01mTypeError\u001b[39;00m(\n\u001b[0;32m     76\u001b[0m         \u001b[38;5;124m'\u001b[39m\u001b[38;5;124mComponents must be instantiated using keyword arguments. Positional \u001b[39m\u001b[38;5;124m'\u001b[39m\n\u001b[0;32m     77\u001b[0m         \u001b[38;5;124mf\u001b[39m\u001b[38;5;124m'\u001b[39m\u001b[38;5;124mparameters are not allowed (found \u001b[39m\u001b[38;5;132;01m{\u001b[39;00m\u001b[38;5;28mlen\u001b[39m(args)\u001b[38;5;132;01m}\u001b[39;00m\u001b[38;5;124m such parameters for \u001b[39m\u001b[38;5;124m'\u001b[39m\n\u001b[0;32m     78\u001b[0m         \u001b[38;5;124mf\u001b[39m\u001b[38;5;124m'\u001b[39m\u001b[38;5;124mcomponent \u001b[39m\u001b[38;5;124m\"\u001b[39m\u001b[38;5;132;01m{\u001b[39;00m\u001b[38;5;28mself\u001b[39m\u001b[38;5;241m.\u001b[39mname\u001b[38;5;132;01m}\u001b[39;00m\u001b[38;5;124m\"\u001b[39m\u001b[38;5;124m).\u001b[39m\u001b[38;5;124m'\u001b[39m)\n\u001b[0;32m     80\u001b[0m \u001b[38;5;28;01mfor\u001b[39;00m k, v \u001b[38;5;129;01min\u001b[39;00m kwargs\u001b[38;5;241m.\u001b[39mitems():\n\u001b[0;32m     81\u001b[0m     \u001b[38;5;28;01mif\u001b[39;00m k \u001b[38;5;129;01mnot\u001b[39;00m \u001b[38;5;129;01min\u001b[39;00m \u001b[38;5;28mself\u001b[39m\u001b[38;5;241m.\u001b[39m_component_inputs:\n",
      "\u001b[1;31mTypeError\u001b[0m: Components must be instantiated using keyword arguments. Positional parameters are not allowed (found 1 such parameters for component \"say-hello\")."
     ]
    }
   ],
   "source": [
    "# this will give an error and ask you to specify the parameter name\n",
    "hello_task = say_hello(\"Erwin\")"
   ]
  },
  {
   "cell_type": "markdown",
   "id": "2442b3cc-b63d-4b3a-a479-e12d5e219635",
   "metadata": {},
   "source": [
    "- The second component is dependent on the first component\n",
    "- Take the output of the first component and pass it to the second component."
   ]
  },
  {
   "cell_type": "code",
   "execution_count": 12,
   "id": "c16fed1a-d0f9-4d8d-a163-588041a82fa2",
   "metadata": {},
   "outputs": [],
   "source": [
    "### Simple example: component 2\n",
    "@dsl.component\n",
    "def how_are_you(hello_text: str) -> str:\n",
    "    \n",
    "    how_are_you = f\"{hello_text}. How are you?\"\n",
    "    \n",
    "    return how_are_you"
   ]
  },
  {
   "cell_type": "markdown",
   "id": "ff3c9777-5c59-4a01-80e5-c7da9deb7a39",
   "metadata": {},
   "source": [
    "- Notice that when we pass in the return value from the `say_hello` function, we want to pass in the PipelineTask.output object, and not the PipelineTask object itself."
   ]
  },
  {
   "cell_type": "code",
   "execution_count": 13,
   "id": "611636f6-c1f4-4055-8794-8a89ad8638d6",
   "metadata": {},
   "outputs": [
    {
     "name": "stdout",
     "output_type": "stream",
     "text": [
      "<kfp.dsl.pipeline_task.PipelineTask object at 0x000002C4D94A9A20>\n",
      "{{channel:task=how-are-you;name=Output;type=String;}}\n"
     ]
    }
   ],
   "source": [
    "how_task = how_are_you(hello_text=hello_task.output)\n",
    "print(how_task)\n",
    "print(how_task.output)"
   ]
  },
  {
   "cell_type": "code",
   "execution_count": 14,
   "id": "cdcad49d-bdff-40dd-9a02-4be90185aa72",
   "metadata": {},
   "outputs": [
    {
     "ename": "ValueError",
     "evalue": "Constant argument inputs must be one of type ['String', 'Integer', 'Float', 'Boolean', 'List', 'Dict'] Got: <kfp.dsl.pipeline_task.PipelineTask object at 0x000002C4D946CA60> of type <class 'kfp.dsl.pipeline_task.PipelineTask'>.",
     "output_type": "error",
     "traceback": [
      "\u001b[1;31m---------------------------------------------------------------------------\u001b[0m",
      "\u001b[1;31mValueError\u001b[0m                                Traceback (most recent call last)",
      "Cell \u001b[1;32mIn[14], line 2\u001b[0m\n\u001b[0;32m      1\u001b[0m \u001b[38;5;66;03m# This will give an error and ask you to pass in a built-in data type\u001b[39;00m\n\u001b[1;32m----> 2\u001b[0m how_task \u001b[38;5;241m=\u001b[39m \u001b[43mhow_are_you\u001b[49m\u001b[43m(\u001b[49m\u001b[43mhello_text\u001b[49m\u001b[38;5;241;43m=\u001b[39;49m\u001b[43mhello_task\u001b[49m\u001b[43m)\u001b[49m\n\u001b[0;32m      3\u001b[0m \u001b[38;5;28mprint\u001b[39m(how_task)\n\u001b[0;32m      4\u001b[0m \u001b[38;5;28mprint\u001b[39m(how_task\u001b[38;5;241m.\u001b[39moutput)\n",
      "File \u001b[1;32m~\\anaconda3\\envs\\LLMOps-Env\\lib\\site-packages\\kfp\\dsl\\base_component.py:100\u001b[0m, in \u001b[0;36mBaseComponent.__call__\u001b[1;34m(self, *args, **kwargs)\u001b[0m\n\u001b[0;32m     93\u001b[0m     arguments \u001b[38;5;241m=\u001b[39m \u001b[38;5;124m'\u001b[39m\u001b[38;5;124m, \u001b[39m\u001b[38;5;124m'\u001b[39m\u001b[38;5;241m.\u001b[39mjoin(\n\u001b[0;32m     94\u001b[0m         arg_name\u001b[38;5;241m.\u001b[39mreplace(\u001b[38;5;124m'\u001b[39m\u001b[38;5;124m-\u001b[39m\u001b[38;5;124m'\u001b[39m, \u001b[38;5;124m'\u001b[39m\u001b[38;5;124m_\u001b[39m\u001b[38;5;124m'\u001b[39m) \u001b[38;5;28;01mfor\u001b[39;00m arg_name \u001b[38;5;129;01min\u001b[39;00m missing_arguments)\n\u001b[0;32m     96\u001b[0m     \u001b[38;5;28;01mraise\u001b[39;00m \u001b[38;5;167;01mTypeError\u001b[39;00m(\n\u001b[0;32m     97\u001b[0m         \u001b[38;5;124mf\u001b[39m\u001b[38;5;124m'\u001b[39m\u001b[38;5;132;01m{\u001b[39;00m\u001b[38;5;28mself\u001b[39m\u001b[38;5;241m.\u001b[39mname\u001b[38;5;132;01m}\u001b[39;00m\u001b[38;5;124m() missing \u001b[39m\u001b[38;5;132;01m{\u001b[39;00m\u001b[38;5;28mlen\u001b[39m(missing_arguments)\u001b[38;5;132;01m}\u001b[39;00m\u001b[38;5;124m required \u001b[39m\u001b[38;5;124m'\u001b[39m\n\u001b[0;32m     98\u001b[0m         \u001b[38;5;124mf\u001b[39m\u001b[38;5;124m'\u001b[39m\u001b[38;5;132;01m{\u001b[39;00margument_or_arguments\u001b[38;5;132;01m}\u001b[39;00m\u001b[38;5;124m: \u001b[39m\u001b[38;5;132;01m{\u001b[39;00marguments\u001b[38;5;132;01m}\u001b[39;00m\u001b[38;5;124m.\u001b[39m\u001b[38;5;124m'\u001b[39m)\n\u001b[1;32m--> 100\u001b[0m \u001b[38;5;28;01mreturn\u001b[39;00m \u001b[43mpipeline_task\u001b[49m\u001b[38;5;241;43m.\u001b[39;49m\u001b[43mPipelineTask\u001b[49m\u001b[43m(\u001b[49m\n\u001b[0;32m    101\u001b[0m \u001b[43m    \u001b[49m\u001b[43mcomponent_spec\u001b[49m\u001b[38;5;241;43m=\u001b[39;49m\u001b[38;5;28;43mself\u001b[39;49m\u001b[38;5;241;43m.\u001b[39;49m\u001b[43mcomponent_spec\u001b[49m\u001b[43m,\u001b[49m\n\u001b[0;32m    102\u001b[0m \u001b[43m    \u001b[49m\u001b[43margs\u001b[49m\u001b[38;5;241;43m=\u001b[39;49m\u001b[43mtask_inputs\u001b[49m\u001b[43m,\u001b[49m\n\u001b[0;32m    103\u001b[0m \u001b[43m\u001b[49m\u001b[43m)\u001b[49m\n",
      "File \u001b[1;32m~\\anaconda3\\envs\\LLMOps-Env\\lib\\site-packages\\kfp\\dsl\\pipeline_task.py:86\u001b[0m, in \u001b[0;36mPipelineTask.__init__\u001b[1;34m(self, component_spec, args)\u001b[0m\n\u001b[0;32m     80\u001b[0m         \u001b[38;5;28;01mraise\u001b[39;00m \u001b[38;5;167;01mValueError\u001b[39;00m(\n\u001b[0;32m     81\u001b[0m             \u001b[38;5;124mf\u001b[39m\u001b[38;5;124m'\u001b[39m\u001b[38;5;124mComponent \u001b[39m\u001b[38;5;132;01m{\u001b[39;00mcomponent_spec\u001b[38;5;241m.\u001b[39mname\u001b[38;5;132;01m!r}\u001b[39;00m\u001b[38;5;124m got an unexpected input:\u001b[39m\u001b[38;5;124m'\u001b[39m\n\u001b[0;32m     82\u001b[0m             \u001b[38;5;124mf\u001b[39m\u001b[38;5;124m'\u001b[39m\u001b[38;5;124m \u001b[39m\u001b[38;5;132;01m{\u001b[39;00minput_name\u001b[38;5;132;01m!r}\u001b[39;00m\u001b[38;5;124m.\u001b[39m\u001b[38;5;124m'\u001b[39m)\n\u001b[0;32m     84\u001b[0m     input_spec \u001b[38;5;241m=\u001b[39m component_spec\u001b[38;5;241m.\u001b[39minputs[input_name]\n\u001b[1;32m---> 86\u001b[0m     \u001b[43mtype_utils\u001b[49m\u001b[38;5;241;43m.\u001b[39;49m\u001b[43mverify_type_compatibility\u001b[49m\u001b[43m(\u001b[49m\n\u001b[0;32m     87\u001b[0m \u001b[43m        \u001b[49m\u001b[43mgiven_value\u001b[49m\u001b[38;5;241;43m=\u001b[39;49m\u001b[43margument_value\u001b[49m\u001b[43m,\u001b[49m\n\u001b[0;32m     88\u001b[0m \u001b[43m        \u001b[49m\u001b[43mexpected_spec\u001b[49m\u001b[38;5;241;43m=\u001b[39;49m\u001b[43minput_spec\u001b[49m\u001b[43m,\u001b[49m\n\u001b[0;32m     89\u001b[0m \u001b[43m        \u001b[49m\u001b[43merror_message_prefix\u001b[49m\u001b[38;5;241;43m=\u001b[39;49m\u001b[43m(\u001b[49m\n\u001b[0;32m     90\u001b[0m \u001b[43m            \u001b[49m\u001b[38;5;124;43mf\u001b[39;49m\u001b[38;5;124;43m'\u001b[39;49m\u001b[38;5;124;43mIncompatible argument passed to the input \u001b[39;49m\u001b[38;5;124;43m'\u001b[39;49m\n\u001b[0;32m     91\u001b[0m \u001b[43m            \u001b[49m\u001b[38;5;124;43mf\u001b[39;49m\u001b[38;5;124;43m'\u001b[39;49m\u001b[38;5;132;43;01m{\u001b[39;49;00m\u001b[43minput_name\u001b[49m\u001b[38;5;132;43;01m!r}\u001b[39;49;00m\u001b[38;5;124;43m of component \u001b[39;49m\u001b[38;5;132;43;01m{\u001b[39;49;00m\u001b[43mcomponent_spec\u001b[49m\u001b[38;5;241;43m.\u001b[39;49m\u001b[43mname\u001b[49m\u001b[38;5;132;43;01m!r}\u001b[39;49;00m\u001b[38;5;124;43m: \u001b[39;49m\u001b[38;5;124;43m'\u001b[39;49m\u001b[43m)\u001b[49m\u001b[43m,\u001b[49m\n\u001b[0;32m     92\u001b[0m \u001b[43m    \u001b[49m\u001b[43m)\u001b[49m\n\u001b[0;32m     94\u001b[0m \u001b[38;5;28mself\u001b[39m\u001b[38;5;241m.\u001b[39mcomponent_spec \u001b[38;5;241m=\u001b[39m component_spec\n\u001b[0;32m     96\u001b[0m \u001b[38;5;28mself\u001b[39m\u001b[38;5;241m.\u001b[39m_task_spec \u001b[38;5;241m=\u001b[39m structures\u001b[38;5;241m.\u001b[39mTaskSpec(\n\u001b[0;32m     97\u001b[0m     name\u001b[38;5;241m=\u001b[39m\u001b[38;5;28mself\u001b[39m\u001b[38;5;241m.\u001b[39m_register_task_handler(),\n\u001b[0;32m     98\u001b[0m     inputs\u001b[38;5;241m=\u001b[39m\u001b[38;5;28mdict\u001b[39m(args\u001b[38;5;241m.\u001b[39mitems()),\n\u001b[0;32m     99\u001b[0m     dependent_tasks\u001b[38;5;241m=\u001b[39m[],\n\u001b[0;32m    100\u001b[0m     component_ref\u001b[38;5;241m=\u001b[39mcomponent_spec\u001b[38;5;241m.\u001b[39mname,\n\u001b[0;32m    101\u001b[0m     enable_caching\u001b[38;5;241m=\u001b[39m\u001b[38;5;28;01mTrue\u001b[39;00m)\n",
      "File \u001b[1;32m~\\anaconda3\\envs\\LLMOps-Env\\lib\\site-packages\\kfp\\dsl\\types\\type_utils.py:260\u001b[0m, in \u001b[0;36mverify_type_compatibility\u001b[1;34m(given_value, expected_spec, error_message_prefix, checks_input, raise_on_error)\u001b[0m\n\u001b[0;32m    258\u001b[0m \u001b[38;5;66;03m# extract and normalize types\u001b[39;00m\n\u001b[0;32m    259\u001b[0m expected_type \u001b[38;5;241m=\u001b[39m expected_spec\u001b[38;5;241m.\u001b[39mtype\n\u001b[1;32m--> 260\u001b[0m given_type \u001b[38;5;241m=\u001b[39m \u001b[43m_get_type_string_from_component_argument\u001b[49m\u001b[43m(\u001b[49m\u001b[43mgiven_value\u001b[49m\u001b[43m)\u001b[49m\n\u001b[0;32m    262\u001b[0m given_is_param \u001b[38;5;241m=\u001b[39m is_parameter_type(\u001b[38;5;28mstr\u001b[39m(given_type))\n\u001b[0;32m    263\u001b[0m \u001b[38;5;28;01mif\u001b[39;00m given_is_param:\n",
      "File \u001b[1;32m~\\anaconda3\\envs\\LLMOps-Env\\lib\\site-packages\\kfp\\dsl\\types\\type_utils.py:230\u001b[0m, in \u001b[0;36m_get_type_string_from_component_argument\u001b[1;34m(argument_value)\u001b[0m\n\u001b[0;32m    227\u001b[0m \u001b[38;5;28;01mif\u001b[39;00m argument_type \u001b[38;5;129;01min\u001b[39;00m _TYPE_TO_TYPE_NAME:\n\u001b[0;32m    228\u001b[0m     \u001b[38;5;28;01mreturn\u001b[39;00m _TYPE_TO_TYPE_NAME[argument_type]\n\u001b[1;32m--> 230\u001b[0m \u001b[38;5;28;01mraise\u001b[39;00m \u001b[38;5;167;01mValueError\u001b[39;00m(\n\u001b[0;32m    231\u001b[0m     \u001b[38;5;124mf\u001b[39m\u001b[38;5;124m'\u001b[39m\u001b[38;5;124mConstant argument inputs must be one of type \u001b[39m\u001b[38;5;132;01m{\u001b[39;00m\u001b[38;5;28mlist\u001b[39m(_TYPE_TO_TYPE_NAME\u001b[38;5;241m.\u001b[39mvalues())\u001b[38;5;132;01m}\u001b[39;00m\u001b[38;5;124m Got: \u001b[39m\u001b[38;5;132;01m{\u001b[39;00margument_value\u001b[38;5;132;01m!r}\u001b[39;00m\u001b[38;5;124m of type \u001b[39m\u001b[38;5;132;01m{\u001b[39;00m\u001b[38;5;28mtype\u001b[39m(argument_value)\u001b[38;5;132;01m!r}\u001b[39;00m\u001b[38;5;124m.\u001b[39m\u001b[38;5;124m'\u001b[39m\n\u001b[0;32m    232\u001b[0m )\n",
      "\u001b[1;31mValueError\u001b[0m: Constant argument inputs must be one of type ['String', 'Integer', 'Float', 'Boolean', 'List', 'Dict'] Got: <kfp.dsl.pipeline_task.PipelineTask object at 0x000002C4D946CA60> of type <class 'kfp.dsl.pipeline_task.PipelineTask'>."
     ]
    }
   ],
   "source": [
    "# This will give an error and ask you to pass in a built-in data type\n",
    "how_task = how_are_you(hello_text=hello_task)\n",
    "print(how_task)\n",
    "print(how_task.output)"
   ]
  },
  {
   "cell_type": "markdown",
   "id": "7fa719ba-e284-4054-9975-fdc6b25c0259",
   "metadata": {},
   "source": [
    "- Define the pipeline.\n",
    "- Notice how the input to `say_hello` is just `recipient`, since that is already a built-in data type (a String).\n",
    "- Recall that to get the value from a PipelineTask object, you'll use `PipelineTask.output` to pass in that value to another Pipeline Component function.\n",
    "- Notice that Pipeline function should return the PipelineTask.output as well."
   ]
  },
  {
   "cell_type": "code",
   "execution_count": 15,
   "id": "120b72ad-c506-4b5a-bf1d-6bc204c5faf6",
   "metadata": {},
   "outputs": [],
   "source": [
    "### Simple example: pipeline\n",
    "@dsl.pipeline\n",
    "def hello_pipeline(recipient: str) -> str:\n",
    "    \n",
    "    # notice, just recipient and not recipient.output\n",
    "    hello_task = say_hello(name=recipient)\n",
    "    \n",
    "    # notice .output\n",
    "    how_task = how_are_you(hello_text=hello_task.output)\n",
    "    \n",
    "    # notice .output\n",
    "    return how_task.output "
   ]
  },
  {
   "cell_type": "markdown",
   "id": "73b31137-4fb3-40ec-936a-2d43f45591f1",
   "metadata": {},
   "source": [
    "- If you run this pipeline function, you'll see that the return value (`task.output` was a String) is again wrapped inside a PipelineTask object."
   ]
  },
  {
   "cell_type": "code",
   "execution_count": 16,
   "id": "62a8642d-73c2-41c4-b643-bf7922419e83",
   "metadata": {},
   "outputs": [
    {
     "name": "stdout",
     "output_type": "stream",
     "text": [
      "<kfp.dsl.pipeline_task.PipelineTask object at 0x000002C4D952B7C0>\n"
     ]
    }
   ],
   "source": [
    "pipeline_output = hello_pipeline(recipient=\"Erwin\")\n",
    "print(pipeline_output)"
   ]
  },
  {
   "cell_type": "markdown",
   "id": "170527bd-4535-4b24-a7a5-417b007203dc",
   "metadata": {},
   "source": [
    "- Note that if you tried to return a PipelineTask object instead of the PipelineTask.output, you'd get an error message"
   ]
  },
  {
   "cell_type": "code",
   "execution_count": 17,
   "id": "afa71c71-8042-4d57-9b9e-c3b87120e93f",
   "metadata": {},
   "outputs": [
    {
     "ename": "ValueError",
     "evalue": "Got unknown pipeline output: <kfp.dsl.pipeline_task.PipelineTask object at 0x000002C4D952A8C0>",
     "output_type": "error",
     "traceback": [
      "\u001b[1;31m---------------------------------------------------------------------------\u001b[0m",
      "\u001b[1;31mValueError\u001b[0m                                Traceback (most recent call last)",
      "Cell \u001b[1;32mIn[17], line 3\u001b[0m\n\u001b[0;32m      1\u001b[0m \u001b[38;5;66;03m### Pipeline with wrong return value type\u001b[39;00m\n\u001b[0;32m      2\u001b[0m \u001b[38;5;129;43m@dsl\u001b[39;49m\u001b[38;5;241;43m.\u001b[39;49m\u001b[43mpipeline\u001b[49m\n\u001b[1;32m----> 3\u001b[0m \u001b[38;5;28;43;01mdef\u001b[39;49;00m\u001b[38;5;250;43m \u001b[39;49m\u001b[38;5;21;43mhello_pipeline_with_error\u001b[39;49m\u001b[43m(\u001b[49m\u001b[43mrecipient\u001b[49m\u001b[43m:\u001b[49m\u001b[43m \u001b[49m\u001b[38;5;28;43mstr\u001b[39;49m\u001b[43m)\u001b[49m\u001b[43m \u001b[49m\u001b[38;5;241;43m-\u001b[39;49m\u001b[38;5;241;43m>\u001b[39;49m\u001b[43m \u001b[49m\u001b[38;5;28;43mstr\u001b[39;49m\u001b[43m:\u001b[49m\n\u001b[0;32m      4\u001b[0m \u001b[43m    \u001b[49m\u001b[43mhello_task\u001b[49m\u001b[43m \u001b[49m\u001b[38;5;241;43m=\u001b[39;49m\u001b[43m \u001b[49m\u001b[43msay_hello\u001b[49m\u001b[43m(\u001b[49m\u001b[43mname\u001b[49m\u001b[38;5;241;43m=\u001b[39;49m\u001b[43mrecipient\u001b[49m\u001b[43m)\u001b[49m\n\u001b[0;32m      5\u001b[0m \u001b[43m    \u001b[49m\u001b[43mhow_task\u001b[49m\u001b[43m \u001b[49m\u001b[38;5;241;43m=\u001b[39;49m\u001b[43m \u001b[49m\u001b[43mhow_are_you\u001b[49m\u001b[43m(\u001b[49m\u001b[43mhello_text\u001b[49m\u001b[38;5;241;43m=\u001b[39;49m\u001b[43mhello_task\u001b[49m\u001b[38;5;241;43m.\u001b[39;49m\u001b[43moutput\u001b[49m\u001b[43m)\u001b[49m\n",
      "File \u001b[1;32m~\\anaconda3\\envs\\LLMOps-Env\\lib\\site-packages\\kfp\\dsl\\pipeline_context.py:65\u001b[0m, in \u001b[0;36mpipeline\u001b[1;34m(func, name, description, pipeline_root, display_name)\u001b[0m\n\u001b[0;32m     62\u001b[0m \u001b[38;5;28;01mif\u001b[39;00m pipeline_root:\n\u001b[0;32m     63\u001b[0m     func\u001b[38;5;241m.\u001b[39mpipeline_root \u001b[38;5;241m=\u001b[39m pipeline_root\n\u001b[1;32m---> 65\u001b[0m \u001b[38;5;28;01mreturn\u001b[39;00m \u001b[43mcomponent_factory\u001b[49m\u001b[38;5;241;43m.\u001b[39;49m\u001b[43mcreate_graph_component_from_func\u001b[49m\u001b[43m(\u001b[49m\n\u001b[0;32m     66\u001b[0m \u001b[43m    \u001b[49m\u001b[43mfunc\u001b[49m\u001b[43m,\u001b[49m\n\u001b[0;32m     67\u001b[0m \u001b[43m    \u001b[49m\u001b[43mname\u001b[49m\u001b[38;5;241;43m=\u001b[39;49m\u001b[43mname\u001b[49m\u001b[43m,\u001b[49m\n\u001b[0;32m     68\u001b[0m \u001b[43m    \u001b[49m\u001b[43mdescription\u001b[49m\u001b[38;5;241;43m=\u001b[39;49m\u001b[43mdescription\u001b[49m\u001b[43m,\u001b[49m\n\u001b[0;32m     69\u001b[0m \u001b[43m    \u001b[49m\u001b[43mdisplay_name\u001b[49m\u001b[38;5;241;43m=\u001b[39;49m\u001b[43mdisplay_name\u001b[49m\u001b[43m,\u001b[49m\n\u001b[0;32m     70\u001b[0m \u001b[43m\u001b[49m\u001b[43m)\u001b[49m\n",
      "File \u001b[1;32m~\\anaconda3\\envs\\LLMOps-Env\\lib\\site-packages\\kfp\\dsl\\component_factory.py:669\u001b[0m, in \u001b[0;36mcreate_graph_component_from_func\u001b[1;34m(func, name, description, display_name)\u001b[0m\n\u001b[0;32m    658\u001b[0m \u001b[38;5;250m\u001b[39m\u001b[38;5;124;03m\"\"\"Implementation for the @pipeline decorator.\u001b[39;00m\n\u001b[0;32m    659\u001b[0m \n\u001b[0;32m    660\u001b[0m \u001b[38;5;124;03mThe decorator is defined under pipeline_context.py. See the\u001b[39;00m\n\u001b[0;32m    661\u001b[0m \u001b[38;5;124;03mdecorator for the canonical documentation for this function.\u001b[39;00m\n\u001b[0;32m    662\u001b[0m \u001b[38;5;124;03m\"\"\"\u001b[39;00m\n\u001b[0;32m    664\u001b[0m component_spec \u001b[38;5;241m=\u001b[39m extract_component_interface(\n\u001b[0;32m    665\u001b[0m     func,\n\u001b[0;32m    666\u001b[0m     description\u001b[38;5;241m=\u001b[39mdescription,\n\u001b[0;32m    667\u001b[0m     name\u001b[38;5;241m=\u001b[39mname,\n\u001b[0;32m    668\u001b[0m )\n\u001b[1;32m--> 669\u001b[0m \u001b[38;5;28;01mreturn\u001b[39;00m \u001b[43mgraph_component\u001b[49m\u001b[38;5;241;43m.\u001b[39;49m\u001b[43mGraphComponent\u001b[49m\u001b[43m(\u001b[49m\n\u001b[0;32m    670\u001b[0m \u001b[43m    \u001b[49m\u001b[43mcomponent_spec\u001b[49m\u001b[38;5;241;43m=\u001b[39;49m\u001b[43mcomponent_spec\u001b[49m\u001b[43m,\u001b[49m\n\u001b[0;32m    671\u001b[0m \u001b[43m    \u001b[49m\u001b[43mpipeline_func\u001b[49m\u001b[38;5;241;43m=\u001b[39;49m\u001b[43mfunc\u001b[49m\u001b[43m,\u001b[49m\n\u001b[0;32m    672\u001b[0m \u001b[43m    \u001b[49m\u001b[43mdisplay_name\u001b[49m\u001b[38;5;241;43m=\u001b[39;49m\u001b[43mdisplay_name\u001b[49m\u001b[43m,\u001b[49m\n\u001b[0;32m    673\u001b[0m \u001b[43m\u001b[49m\u001b[43m)\u001b[49m\n",
      "File \u001b[1;32m~\\anaconda3\\envs\\LLMOps-Env\\lib\\site-packages\\kfp\\dsl\\graph_component.py:68\u001b[0m, in \u001b[0;36mGraphComponent.__init__\u001b[1;34m(self, component_spec, pipeline_func, display_name)\u001b[0m\n\u001b[0;32m     65\u001b[0m pipeline_group \u001b[38;5;241m=\u001b[39m dsl_pipeline\u001b[38;5;241m.\u001b[39mgroups[\u001b[38;5;241m0\u001b[39m]\n\u001b[0;32m     66\u001b[0m pipeline_group\u001b[38;5;241m.\u001b[39mname \u001b[38;5;241m=\u001b[39m uuid\u001b[38;5;241m.\u001b[39muuid4()\u001b[38;5;241m.\u001b[39mhex\n\u001b[1;32m---> 68\u001b[0m pipeline_spec, platform_spec \u001b[38;5;241m=\u001b[39m \u001b[43mbuilder\u001b[49m\u001b[38;5;241;43m.\u001b[39;49m\u001b[43mcreate_pipeline_spec\u001b[49m\u001b[43m(\u001b[49m\n\u001b[0;32m     69\u001b[0m \u001b[43m    \u001b[49m\u001b[43mpipeline\u001b[49m\u001b[38;5;241;43m=\u001b[39;49m\u001b[43mdsl_pipeline\u001b[49m\u001b[43m,\u001b[49m\n\u001b[0;32m     70\u001b[0m \u001b[43m    \u001b[49m\u001b[43mcomponent_spec\u001b[49m\u001b[38;5;241;43m=\u001b[39;49m\u001b[38;5;28;43mself\u001b[39;49m\u001b[38;5;241;43m.\u001b[39;49m\u001b[43mcomponent_spec\u001b[49m\u001b[43m,\u001b[49m\n\u001b[0;32m     71\u001b[0m \u001b[43m    \u001b[49m\u001b[43mpipeline_outputs\u001b[49m\u001b[38;5;241;43m=\u001b[39;49m\u001b[43mpipeline_outputs\u001b[49m\u001b[43m,\u001b[49m\n\u001b[0;32m     72\u001b[0m \u001b[43m\u001b[49m\u001b[43m)\u001b[49m\n\u001b[0;32m     74\u001b[0m pipeline_root \u001b[38;5;241m=\u001b[39m \u001b[38;5;28mgetattr\u001b[39m(pipeline_func, \u001b[38;5;124m'\u001b[39m\u001b[38;5;124mpipeline_root\u001b[39m\u001b[38;5;124m'\u001b[39m, \u001b[38;5;28;01mNone\u001b[39;00m)\n\u001b[0;32m     75\u001b[0m \u001b[38;5;28;01mif\u001b[39;00m pipeline_root \u001b[38;5;129;01mis\u001b[39;00m \u001b[38;5;129;01mnot\u001b[39;00m \u001b[38;5;28;01mNone\u001b[39;00m:\n",
      "File \u001b[1;32m~\\anaconda3\\envs\\LLMOps-Env\\lib\\site-packages\\kfp\\compiler\\pipeline_spec_builder.py:1838\u001b[0m, in \u001b[0;36mcreate_pipeline_spec\u001b[1;34m(pipeline, component_spec, pipeline_outputs)\u001b[0m\n\u001b[0;32m   1832\u001b[0m pipeline_spec\u001b[38;5;241m.\u001b[39mroot\u001b[38;5;241m.\u001b[39mCopyFrom(\n\u001b[0;32m   1833\u001b[0m     _build_component_spec_from_component_spec_structure(component_spec))\n\u001b[0;32m   1835\u001b[0m \u001b[38;5;66;03m# TODO: add validation of returned outputs -- it's possible to return\u001b[39;00m\n\u001b[0;32m   1836\u001b[0m \u001b[38;5;66;03m# an output from a task in a condition group, for example, which isn't\u001b[39;00m\n\u001b[0;32m   1837\u001b[0m \u001b[38;5;66;03m# caught until submission time using Vertex SDK client\u001b[39;00m\n\u001b[1;32m-> 1838\u001b[0m pipeline_outputs_dict \u001b[38;5;241m=\u001b[39m \u001b[43mconvert_pipeline_outputs_to_dict\u001b[49m\u001b[43m(\u001b[49m\u001b[43mpipeline_outputs\u001b[49m\u001b[43m)\u001b[49m\n\u001b[0;32m   1839\u001b[0m validate_pipeline_outputs_dict(pipeline_outputs_dict)\n\u001b[0;32m   1841\u001b[0m root_group \u001b[38;5;241m=\u001b[39m pipeline\u001b[38;5;241m.\u001b[39mgroups[\u001b[38;5;241m0\u001b[39m]\n",
      "File \u001b[1;32m~\\anaconda3\\envs\\LLMOps-Env\\lib\\site-packages\\kfp\\compiler\\pipeline_spec_builder.py:1941\u001b[0m, in \u001b[0;36mconvert_pipeline_outputs_to_dict\u001b[1;34m(pipeline_outputs)\u001b[0m\n\u001b[0;32m   1939\u001b[0m     \u001b[38;5;28;01mreturn\u001b[39;00m \u001b[38;5;28mdict\u001b[39m(pipeline_outputs\u001b[38;5;241m.\u001b[39m_asdict())\n\u001b[0;32m   1940\u001b[0m \u001b[38;5;28;01melse\u001b[39;00m:\n\u001b[1;32m-> 1941\u001b[0m     \u001b[38;5;28;01mraise\u001b[39;00m \u001b[38;5;167;01mValueError\u001b[39;00m(\u001b[38;5;124mf\u001b[39m\u001b[38;5;124m'\u001b[39m\u001b[38;5;124mGot unknown pipeline output: \u001b[39m\u001b[38;5;132;01m{\u001b[39;00mpipeline_outputs\u001b[38;5;132;01m}\u001b[39;00m\u001b[38;5;124m'\u001b[39m)\n",
      "\u001b[1;31mValueError\u001b[0m: Got unknown pipeline output: <kfp.dsl.pipeline_task.PipelineTask object at 0x000002C4D952A8C0>"
     ]
    }
   ],
   "source": [
    "### Pipeline with wrong return value type\n",
    "@dsl.pipeline\n",
    "def hello_pipeline_with_error(recipient: str) -> str:\n",
    "    hello_task = say_hello(name=recipient)\n",
    "    how_task = how_are_you(hello_text=hello_task.output)\n",
    "\n",
    "    return how_task \n",
    "    # returning the PipelineTask object itself will give you an error"
   ]
  },
  {
   "cell_type": "markdown",
   "id": "9c542c2a-e9f4-4dc3-b276-1ac42f1bdacd",
   "metadata": {},
   "source": [
    "#### Implement the Pipeline"
   ]
  },
  {
   "cell_type": "markdown",
   "id": "8a7b05a3-8ab8-4c56-a93b-8b363e3791c2",
   "metadata": {},
   "source": [
    "##### Implement the pipeline\n",
    "\n",
    "- A pipeline is a set of components that you orchestrate.\n",
    "- It lets you define the order of execution and how data flows from one step to another.\n",
    "- Compile the pipeline into a yaml file, `pipeline.yaml`"
   ]
  },
  {
   "cell_type": "code",
   "execution_count": 18,
   "id": "1374bbe1-0561-4afb-8fff-4878c9648410",
   "metadata": {},
   "outputs": [],
   "source": [
    "compiler.Compiler().compile(hello_pipeline, 'pipeline.yaml')"
   ]
  },
  {
   "cell_type": "code",
   "execution_count": 19,
   "id": "028d03cc-c203-416f-a713-15567ea7b6e9",
   "metadata": {},
   "outputs": [],
   "source": [
    "pipeline_arguments = {\n",
    "    \"recipient\": \"World!\",\n",
    "}"
   ]
  },
  {
   "cell_type": "code",
   "execution_count": 20,
   "id": "2103ef64-35fb-490c-8bb8-2eef8ce678e3",
   "metadata": {
    "scrolled": true
   },
   "outputs": [
    {
     "name": "stdout",
     "output_type": "stream",
     "text": [
      "# PIPELINE DEFINITION\n",
      "# Name: hello-pipeline\n",
      "# Inputs:\n",
      "#    recipient: str\n",
      "# Outputs:\n",
      "#    Output: str\n",
      "components:\n",
      "  comp-how-are-you:\n",
      "    executorLabel: exec-how-are-you\n",
      "    inputDefinitions:\n",
      "      parameters:\n",
      "        hello_text:\n",
      "          parameterType: STRING\n",
      "    outputDefinitions:\n",
      "      parameters:\n",
      "        Output:\n",
      "          parameterType: STRING\n",
      "  comp-say-hello:\n",
      "    executorLabel: exec-say-hello\n",
      "    inputDefinitions:\n",
      "      parameters:\n",
      "        name:\n",
      "          parameterType: STRING\n",
      "    outputDefinitions:\n",
      "      parameters:\n",
      "        Output:\n",
      "          parameterType: STRING\n",
      "deploymentSpec:\n",
      "  executors:\n",
      "    exec-how-are-you:\n",
      "      container:\n",
      "        args:\n",
      "        - --executor_input\n",
      "        - '{{$}}'\n",
      "        - --function_to_execute\n",
      "        - how_are_you\n",
      "        command:\n",
      "        - sh\n",
      "        - -c\n",
      "        - \"\\nif ! [ -x \\\"$(command -v pip)\\\" ]; then\\n    python3 -m ensurepip ||\\\n",
      "          \\ python3 -m ensurepip --user || apt-get install python3-pip\\nfi\\n\\nPIP_DISABLE_PIP_VERSION_CHECK=1\\\n",
      "          \\ python3 -m pip install --quiet --no-warn-script-location 'kfp==2.4.0'\\\n",
      "          \\ '--no-deps' 'typing-extensions>=3.7.4,<5; python_version<\\\"3.9\\\"' && \\\"\\\n",
      "          $0\\\" \\\"$@\\\"\\n\"\n",
      "        - sh\n",
      "        - -ec\n",
      "        - 'program_path=$(mktemp -d)\n",
      "\n",
      "\n",
      "          printf \"%s\" \"$0\" > \"$program_path/ephemeral_component.py\"\n",
      "\n",
      "          _KFP_RUNTIME=true python3 -m kfp.dsl.executor_main                         --component_module_path                         \"$program_path/ephemeral_component.py\"                         \"$@\"\n",
      "\n",
      "          '\n",
      "        - \"\\nimport kfp\\nfrom kfp import dsl\\nfrom kfp.dsl import *\\nfrom typing import\\\n",
      "          \\ *\\n\\ndef how_are_you(hello_text: str) -> str:\\n\\n    how_are_you = f\\\"\\\n",
      "          {hello_text}. How are you?\\\"\\n\\n    return how_are_you\\n\\n\"\n",
      "        image: python:3.7\n",
      "    exec-say-hello:\n",
      "      container:\n",
      "        args:\n",
      "        - --executor_input\n",
      "        - '{{$}}'\n",
      "        - --function_to_execute\n",
      "        - say_hello\n",
      "        command:\n",
      "        - sh\n",
      "        - -c\n",
      "        - \"\\nif ! [ -x \\\"$(command -v pip)\\\" ]; then\\n    python3 -m ensurepip ||\\\n",
      "          \\ python3 -m ensurepip --user || apt-get install python3-pip\\nfi\\n\\nPIP_DISABLE_PIP_VERSION_CHECK=1\\\n",
      "          \\ python3 -m pip install --quiet --no-warn-script-location 'kfp==2.4.0'\\\n",
      "          \\ '--no-deps' 'typing-extensions>=3.7.4,<5; python_version<\\\"3.9\\\"' && \\\"\\\n",
      "          $0\\\" \\\"$@\\\"\\n\"\n",
      "        - sh\n",
      "        - -ec\n",
      "        - 'program_path=$(mktemp -d)\n",
      "\n",
      "\n",
      "          printf \"%s\" \"$0\" > \"$program_path/ephemeral_component.py\"\n",
      "\n",
      "          _KFP_RUNTIME=true python3 -m kfp.dsl.executor_main                         --component_module_path                         \"$program_path/ephemeral_component.py\"                         \"$@\"\n",
      "\n",
      "          '\n",
      "        - \"\\nimport kfp\\nfrom kfp import dsl\\nfrom kfp.dsl import *\\nfrom typing import\\\n",
      "          \\ *\\n\\ndef say_hello(name: str) -> str:\\n    hello_text = f'Hello, {name}!'\\n\\\n",
      "          \\n    return hello_text\\n\\n\"\n",
      "        image: python:3.7\n",
      "pipelineInfo:\n",
      "  name: hello-pipeline\n",
      "root:\n",
      "  dag:\n",
      "    outputs:\n",
      "      parameters:\n",
      "        Output:\n",
      "          valueFromParameter:\n",
      "            outputParameterKey: Output\n",
      "            producerSubtask: how-are-you\n",
      "    tasks:\n",
      "      how-are-you:\n",
      "        cachingOptions:\n",
      "          enableCache: true\n",
      "        componentRef:\n",
      "          name: comp-how-are-you\n",
      "        dependentTasks:\n",
      "        - say-hello\n",
      "        inputs:\n",
      "          parameters:\n",
      "            hello_text:\n",
      "              taskOutputParameter:\n",
      "                outputParameterKey: Output\n",
      "                producerTask: say-hello\n",
      "        taskInfo:\n",
      "          name: how-are-you\n",
      "      say-hello:\n",
      "        cachingOptions:\n",
      "          enableCache: true\n",
      "        componentRef:\n",
      "          name: comp-say-hello\n",
      "        inputs:\n",
      "          parameters:\n",
      "            name:\n",
      "              componentInputParameter: recipient\n",
      "        taskInfo:\n",
      "          name: say-hello\n",
      "  inputDefinitions:\n",
      "    parameters:\n",
      "      recipient:\n",
      "        parameterType: STRING\n",
      "  outputDefinitions:\n",
      "    parameters:\n",
      "      Output:\n",
      "        parameterType: STRING\n",
      "schemaVersion: 2.1.0\n",
      "sdkVersion: kfp-2.4.0\n"
     ]
    }
   ],
   "source": [
    "!type pipeline.yaml"
   ]
  },
  {
   "cell_type": "code",
   "execution_count": 21,
   "id": "2c9d0e98-71cd-4e6a-9920-12366a34f3aa",
   "metadata": {
    "scrolled": true
   },
   "outputs": [],
   "source": [
    "# job = PipelineJob(\n",
    "#     template_path=\"pipeline.yaml\",\n",
    "#     display_name=\"demo_pipeline\",\n",
    "#     parameter_values=pipeline_arguments,\n",
    "#     project=project_id,\n",
    "#     location=\"us-central1\",\n",
    "#     pipeline_root=\"./\",\n",
    "# )\n",
    "\n",
    "# job.submit()\n",
    "\n",
    "# job.state"
   ]
  },
  {
   "cell_type": "markdown",
   "id": "519a0e86-34a5-4cca-9e39-6c99ce21cb64",
   "metadata": {},
   "source": [
    "## Real-life Pipeline Example\n",
    "\n",
    "### Automation and Orchestration of a Supervised Tuning Pipeline.\n",
    "\n",
    "- Reuse an existing Kubeflow Pipeline for Parameter-Efficient Fine-Tuning (PEFT) for a foundation model from Google, called [PaLM 2](https://ai.google/discover/palm2/). \n",
    "- Advantage of reusing a pipleline means you do not have to build it from scratch, you can only specify some of the parameters."
   ]
  },
  {
   "cell_type": "code",
   "execution_count": 22,
   "id": "e7987df7-bda2-4344-8633-d9217873c621",
   "metadata": {},
   "outputs": [],
   "source": [
    "TRAINING_DATA_URI = \"./tune_data_stack_overflow_python_qa.jsonl\" \n",
    "EVAUATION_DATA_URI = \"./tune_eval_data_stack_overflow_python_qa.jsonl\"  "
   ]
  },
  {
   "cell_type": "markdown",
   "id": "8230a172-90b8-4431-a9be-be1b8b32d8dc",
   "metadata": {},
   "source": [
    "- Provide the model with a version.\n",
    "- Versioning model allows for:\n",
    "  - Reproducibility: Reproduce your results and ensure your models perform as expected.\n",
    "  - Auditing: Track changes to your models.\n",
    "  - Rollbacks: Roll back to a previous version of your model"
   ]
  },
  {
   "cell_type": "code",
   "execution_count": 23,
   "id": "2d17194a-7c32-4628-8c55-4c718e68d290",
   "metadata": {},
   "outputs": [],
   "source": [
    "template_path = 'https://us-kfp.pkg.dev/ml-pipeline/\\\n",
    "large-language-model-pipelines/tune-large-model/v2.0.0'"
   ]
  },
  {
   "cell_type": "code",
   "execution_count": 24,
   "id": "f06d4b0f-de87-42bc-8232-37281913ac05",
   "metadata": {},
   "outputs": [],
   "source": [
    "date = datetime.datetime.now().strftime(\"%Y-%m-%d_%H-%M-%S\")"
   ]
  },
  {
   "cell_type": "code",
   "execution_count": 25,
   "id": "89101514-b46a-445d-9f82-8718ab6ecc01",
   "metadata": {},
   "outputs": [],
   "source": [
    "MODEL_NAME = f\"deep-learning-ai-model-{date}\""
   ]
  },
  {
   "cell_type": "markdown",
   "id": "c708d9e5-8f0d-4dec-8240-531ff349d156",
   "metadata": {},
   "source": [
    "- This example uses two PaLM model parameters:\n",
    "  - `TRAINING_STEPS`: Number of training steps to use when tuning the model. For extractive QA you can set it from 100-500. \n",
    "  - `EVALUATION_INTERVAL`: The interval determines how frequently a trained model is evaluated against the created *evaluation set* to assess its performance and identify issues. Default will be 20, which means after every 20 training steps, the model is evaluated on the evaluation dataset."
   ]
  },
  {
   "cell_type": "code",
   "execution_count": 26,
   "id": "14f988b4-9058-4de5-8ba5-c5c509bd3dda",
   "metadata": {},
   "outputs": [],
   "source": [
    "TRAINING_STEPS = 200\n",
    "EVALUATION_INTERVAL = 20"
   ]
  },
  {
   "cell_type": "markdown",
   "id": "3bfea0f4-00aa-4758-a552-c55b4f605fd3",
   "metadata": {},
   "source": [
    "- Define the arguments, the input that goes into the pipeline."
   ]
  },
  {
   "cell_type": "code",
   "execution_count": 27,
   "id": "71a349f5-b23d-40f7-831b-22766bea8d24",
   "metadata": {},
   "outputs": [],
   "source": [
    "pipeline_arguments = {\n",
    "    \"model_display_name\": MODEL_NAME,\n",
    "    \"location\": REGION,\n",
    "    \"large_model_reference\": \"text-bison@001\",\n",
    "    \"project\": PROJECT_ID,\n",
    "    \"train_steps\": TRAINING_STEPS,\n",
    "    \"dataset_uri\": TRAINING_DATA_URI,\n",
    "    \"evaluation_interval\": EVALUATION_INTERVAL,\n",
    "    \"evaluation_data_uri\": EVAUATION_DATA_URI,\n",
    "}"
   ]
  },
  {
   "cell_type": "markdown",
   "id": "0a7ae81d-3e9d-4131-bf78-be0f648c51a9",
   "metadata": {},
   "source": [
    "The code is provided below (for the real-life example from above). Keep in mind, **running this execution is time consuming and expensive**:"
   ]
  },
  {
   "cell_type": "code",
   "execution_count": 28,
   "id": "1a9c8454-4aaa-4dc1-b351-841da1dc390c",
   "metadata": {},
   "outputs": [],
   "source": [
    "# pipeline_root \"./\"\n",
    "\n",
    "# job = PipelineJob(\n",
    "#         template_path=template_path,\n",
    "#         display_name=f\"deep_learning_ai_pipeline-{date}\",\n",
    "#         parameter_values=pipeline_arguments,\n",
    "#         location=REGION,\n",
    "#         pipeline_root=pipeline_root,\n",
    "#         enable_caching=True,\n",
    "# )\n",
    "\n",
    "# job.submit()\n",
    "\n",
    "# job.state"
   ]
  },
  {
   "cell_type": "code",
   "execution_count": null,
   "id": "1983a680-7555-425b-bdf9-849c1fe5cbbf",
   "metadata": {},
   "outputs": [],
   "source": []
  }
 ],
 "metadata": {
  "kernelspec": {
   "display_name": "Python 3 (ipykernel)",
   "language": "python",
   "name": "python3"
  },
  "language_info": {
   "codemirror_mode": {
    "name": "ipython",
    "version": 3
   },
   "file_extension": ".py",
   "mimetype": "text/x-python",
   "name": "python",
   "nbconvert_exporter": "python",
   "pygments_lexer": "ipython3",
   "version": "3.10.18"
  }
 },
 "nbformat": 4,
 "nbformat_minor": 5
}
