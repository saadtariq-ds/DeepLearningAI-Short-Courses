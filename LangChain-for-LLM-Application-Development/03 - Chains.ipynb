{
 "cells": [
  {
   "cell_type": "markdown",
   "id": "beef701e-ad56-4b56-b55b-f8480db45926",
   "metadata": {},
   "source": [
    "## Libraries and Setup"
   ]
  },
  {
   "cell_type": "code",
   "execution_count": 1,
   "id": "44d14a68-3f60-4436-82bb-d60b8969a2b2",
   "metadata": {},
   "outputs": [],
   "source": [
    "import os\n",
    "import pandas as pd\n",
    "from langchain_openai  import ChatOpenAI\n",
    "from langchain.prompts import ChatPromptTemplate, PromptTemplate\n",
    "from langchain.chains import LLMChain\n",
    "from langchain.chains import SimpleSequentialChain\n",
    "from langchain.chains import SequentialChain\n",
    "from langchain.chains.router import MultiPromptChain\n",
    "from langchain.chains.router.llm_router import LLMRouterChain,RouterOutputParser\n",
    "\n",
    "from dotenv import load_dotenv, find_dotenv"
   ]
  },
  {
   "cell_type": "code",
   "execution_count": 2,
   "id": "2b559dba-425c-43f9-87a2-1e7ded28609d",
   "metadata": {},
   "outputs": [],
   "source": [
    "_ = load_dotenv(find_dotenv())"
   ]
  },
  {
   "cell_type": "code",
   "execution_count": 3,
   "id": "cce34d10-a95e-4d9a-bf13-3ad775e59c00",
   "metadata": {},
   "outputs": [],
   "source": [
    "llm_model = \"gpt-4o-mini\""
   ]
  },
  {
   "cell_type": "code",
   "execution_count": 4,
   "id": "74462f72-2895-4803-b62d-7c3d9e743c07",
   "metadata": {},
   "outputs": [],
   "source": [
    "llm = ChatOpenAI(temperature=0, model=llm_model)"
   ]
  },
  {
   "cell_type": "code",
   "execution_count": 5,
   "id": "0a7e180c-3795-4edf-945f-5af0264d6c2d",
   "metadata": {},
   "outputs": [
    {
     "data": {
      "text/html": [
       "<div>\n",
       "<style scoped>\n",
       "    .dataframe tbody tr th:only-of-type {\n",
       "        vertical-align: middle;\n",
       "    }\n",
       "\n",
       "    .dataframe tbody tr th {\n",
       "        vertical-align: top;\n",
       "    }\n",
       "\n",
       "    .dataframe thead th {\n",
       "        text-align: right;\n",
       "    }\n",
       "</style>\n",
       "<table border=\"1\" class=\"dataframe\">\n",
       "  <thead>\n",
       "    <tr style=\"text-align: right;\">\n",
       "      <th></th>\n",
       "      <th>Product</th>\n",
       "      <th>Review</th>\n",
       "    </tr>\n",
       "  </thead>\n",
       "  <tbody>\n",
       "    <tr>\n",
       "      <th>0</th>\n",
       "      <td>Queen Size Sheet Set</td>\n",
       "      <td>I ordered a king size set. My only criticism w...</td>\n",
       "    </tr>\n",
       "    <tr>\n",
       "      <th>1</th>\n",
       "      <td>Waterproof Phone Pouch</td>\n",
       "      <td>I loved the waterproof sac, although the openi...</td>\n",
       "    </tr>\n",
       "    <tr>\n",
       "      <th>2</th>\n",
       "      <td>Luxury Air Mattress</td>\n",
       "      <td>This mattress had a small hole in the top of i...</td>\n",
       "    </tr>\n",
       "    <tr>\n",
       "      <th>3</th>\n",
       "      <td>Pillows Insert</td>\n",
       "      <td>This is the best throw pillow fillers on Amazo...</td>\n",
       "    </tr>\n",
       "    <tr>\n",
       "      <th>4</th>\n",
       "      <td>Milk Frother Handheld\\r\\n</td>\n",
       "      <td>I loved this product. But they only seem to l...</td>\n",
       "    </tr>\n",
       "  </tbody>\n",
       "</table>\n",
       "</div>"
      ],
      "text/plain": [
       "                     Product  \\\n",
       "0       Queen Size Sheet Set   \n",
       "1     Waterproof Phone Pouch   \n",
       "2        Luxury Air Mattress   \n",
       "3             Pillows Insert   \n",
       "4  Milk Frother Handheld\\r\\n   \n",
       "\n",
       "                                              Review  \n",
       "0  I ordered a king size set. My only criticism w...  \n",
       "1  I loved the waterproof sac, although the openi...  \n",
       "2  This mattress had a small hole in the top of i...  \n",
       "3  This is the best throw pillow fillers on Amazo...  \n",
       "4   I loved this product. But they only seem to l...  "
      ]
     },
     "execution_count": 5,
     "metadata": {},
     "output_type": "execute_result"
    }
   ],
   "source": [
    "df = pd.read_csv('Data.csv')\n",
    "df.head()"
   ]
  },
  {
   "cell_type": "markdown",
   "id": "34761dd6-1d8b-488b-8aa4-613f3010a505",
   "metadata": {},
   "source": [
    "# LLM Chain"
   ]
  },
  {
   "cell_type": "code",
   "execution_count": 6,
   "id": "f891ca99-0118-440c-b4a0-0cb9fcd10e4a",
   "metadata": {},
   "outputs": [],
   "source": [
    "llm = ChatOpenAI(temperature=0.9, model=llm_model)"
   ]
  },
  {
   "cell_type": "code",
   "execution_count": 7,
   "id": "12be6f30-2d51-4b74-ab3d-8e74e77ba4c4",
   "metadata": {},
   "outputs": [],
   "source": [
    "template=\"What is the best name to describe \\\n",
    "a company that makes {product}?\""
   ]
  },
  {
   "cell_type": "code",
   "execution_count": 8,
   "id": "9aaae6a1-bdfc-4d32-8211-7f70b4d0388a",
   "metadata": {},
   "outputs": [],
   "source": [
    "prompt = ChatPromptTemplate.from_template(\n",
    "    template=template\n",
    ")"
   ]
  },
  {
   "cell_type": "code",
   "execution_count": 9,
   "id": "5d30d22c-9f69-4d3c-9531-b164775fe711",
   "metadata": {},
   "outputs": [],
   "source": [
    "chain = prompt | llm"
   ]
  },
  {
   "cell_type": "code",
   "execution_count": 10,
   "id": "86484892-b3d5-4fdc-8202-7f97ba48b718",
   "metadata": {},
   "outputs": [
    {
     "data": {
      "text/plain": [
       "\"Choosing a name for a company that specializes in queen size sheet sets can be both fun and strategic. It’s important to convey comfort, quality, and a focus on bedding. Here are some suggestions:\\n\\n1. **Queen's Comfort**\\n2. **Majestic Sheets**\\n3. **Regal Rest**\\n4. **Dreamy Queen Sheets**\\n5. **Serene Slumber**\\n6. **Lavish Linens**\\n7. **Royal Bed Essentials**\\n8. **Bedtime Bliss**\\n9. **Queen's Haven**\\n10. **Supreme Sheet Co.**\\n\\nRemember to check the availability of the name as a domain if you plan to create a website, and consider how it might fit into your branding and marketing strategy!\""
      ]
     },
     "execution_count": 10,
     "metadata": {},
     "output_type": "execute_result"
    }
   ],
   "source": [
    "product = \"Queen Size Sheet Set\"\n",
    "response = chain.invoke(product)\n",
    "response.content"
   ]
  },
  {
   "cell_type": "markdown",
   "id": "1eb6e9a5-7927-4bf8-9fc5-2be33ab9ba7a",
   "metadata": {},
   "source": [
    "# Simple Sequential Chain"
   ]
  },
  {
   "cell_type": "code",
   "execution_count": 11,
   "id": "37039ce7-ae5b-416f-a5a9-e52d7117edbc",
   "metadata": {},
   "outputs": [],
   "source": [
    "llm = ChatOpenAI(temperature=0.9, model=llm_model)"
   ]
  },
  {
   "cell_type": "code",
   "execution_count": 13,
   "id": "232123f6-9d9f-468a-b6f1-d1dd7ff4b851",
   "metadata": {},
   "outputs": [],
   "source": [
    "# prompt template 1\n",
    "first_template = \"What is the best name to describe \\\n",
    "a company that makes {product}?\"\n",
    "\n",
    "\n",
    "first_prompt = ChatPromptTemplate.from_template(\n",
    "    template=first_template\n",
    ")\n",
    "\n",
    "# Chain 1\n",
    "chain_one = LLMChain(\n",
    "    llm=llm,\n",
    "    prompt=first_prompt\n",
    ")"
   ]
  },
  {
   "cell_type": "code",
   "execution_count": 14,
   "id": "411f97ac-1cb0-4ee1-acec-60f1f778bf14",
   "metadata": {},
   "outputs": [],
   "source": [
    "# prompt template 2\n",
    "second_template = \"Write a 20 words description for the following \\\n",
    "company:{company_name}\"\n",
    "\n",
    "second_prompt = ChatPromptTemplate.from_template(\n",
    "    template=second_template\n",
    ")\n",
    "\n",
    "# chain 2\n",
    "chain_two = LLMChain(\n",
    "    llm=llm,\n",
    "    prompt=second_prompt\n",
    ")"
   ]
  },
  {
   "cell_type": "code",
   "execution_count": 15,
   "id": "499bb904-4e8a-40bd-aacc-2f014434f042",
   "metadata": {},
   "outputs": [],
   "source": [
    "overall_simple_chain = SimpleSequentialChain(\n",
    "    chains=[chain_one, chain_two],\n",
    "    verbose=True\n",
    ")"
   ]
  },
  {
   "cell_type": "code",
   "execution_count": 16,
   "id": "631913fe-c449-4577-884c-7297c1342d25",
   "metadata": {},
   "outputs": [
    {
     "data": {
      "text/plain": [
       "'Queen Size Sheet Set'"
      ]
     },
     "execution_count": 16,
     "metadata": {},
     "output_type": "execute_result"
    }
   ],
   "source": [
    "product"
   ]
  },
  {
   "cell_type": "code",
   "execution_count": 17,
   "id": "0b78d0b5-1276-4170-9fcd-c26dd892c422",
   "metadata": {},
   "outputs": [
    {
     "name": "stdout",
     "output_type": "stream",
     "text": [
      "\n",
      "\n",
      "\u001b[1m> Entering new SimpleSequentialChain chain...\u001b[0m\n",
      "\u001b[36;1m\u001b[1;3mChoosing a name for a company that specializes in queen size sheet sets should evoke comfort, quality, and the specific product focus. Here are some ideas:\n",
      "\n",
      "1. **Queen Comforts**\n",
      "2. **Majestic Sheets**\n",
      "3. **Regal Rest**\n",
      "4. **Queen's Touch Bedding**\n",
      "5. **Dreamy Duvets**\n",
      "6. **Sovereign Sheets**\n",
      "7. **Royal Slumber**\n",
      "8. **Serene Sleep Sets**\n",
      "9. **Cosy Queen Collection**\n",
      "10. **PureSheet Queen Co.**\n",
      "\n",
      "Make sure to check for availability of the name and consider how it reflects your brand's identity!\u001b[0m\n",
      "\u001b[33;1m\u001b[1;3mQueen Comforts offers luxurious queen size sheet sets designed for ultimate comfort and quality, transforming your sleep experience into royalty.\u001b[0m\n",
      "\n",
      "\u001b[1m> Finished chain.\u001b[0m\n"
     ]
    },
    {
     "data": {
      "text/plain": [
       "{'input': 'Queen Size Sheet Set',\n",
       " 'output': 'Queen Comforts offers luxurious queen size sheet sets designed for ultimate comfort and quality, transforming your sleep experience into royalty.'}"
      ]
     },
     "execution_count": 17,
     "metadata": {},
     "output_type": "execute_result"
    }
   ],
   "source": [
    "overall_simple_chain.invoke(product)"
   ]
  },
  {
   "cell_type": "markdown",
   "id": "108a1d16-23aa-430f-91cf-1404d8af2c47",
   "metadata": {},
   "source": [
    "# Sequential Chain"
   ]
  },
  {
   "cell_type": "code",
   "execution_count": 18,
   "id": "b9ca0c5c-9b0f-49bb-9328-ace4288a8b50",
   "metadata": {},
   "outputs": [],
   "source": [
    "llm = ChatOpenAI(temperature=0.9, model=llm_model)"
   ]
  },
  {
   "cell_type": "code",
   "execution_count": 19,
   "id": "4211b014-2986-4700-aa3b-cc499e14abf4",
   "metadata": {},
   "outputs": [],
   "source": [
    "# prompt template 1: translate to english\n",
    "first_template = \"Translate the following review to english:\"\n",
    "\"\\n\\n{Review}\"\n",
    "\n",
    "first_prompt = ChatPromptTemplate.from_template(\n",
    "    template=first_template\n",
    ")\n",
    "\n",
    "# chain 1: input= Review and output= English_Review\n",
    "chain_one = LLMChain(\n",
    "    llm=llm, \n",
    "    prompt=first_prompt, \n",
    "    output_key=\"English_Review\"\n",
    ")"
   ]
  },
  {
   "cell_type": "code",
   "execution_count": 20,
   "id": "7eab2417-f5af-43ca-8709-55bce67aa9a1",
   "metadata": {},
   "outputs": [],
   "source": [
    "second_template = \"Can you summarize the following review in 1 sentence:\"\n",
    "\"\\n\\n{English_Review}\"\n",
    "\n",
    "second_prompt = ChatPromptTemplate.from_template(\n",
    "    template=second_template\n",
    ")\n",
    "# chain 2: input= English_Review and output= summary\n",
    "chain_two = LLMChain(\n",
    "    llm=llm, prompt=second_prompt, \n",
    "    output_key=\"summary\"\n",
    ")"
   ]
  },
  {
   "cell_type": "code",
   "execution_count": 21,
   "id": "7100ce12-8c6e-444d-a45b-46a6687542f7",
   "metadata": {},
   "outputs": [],
   "source": [
    "# prompt template 3: translate to english\n",
    "third_template = \"What language is the following review:\\n\\n{Review}\"\n",
    "\n",
    "third_prompt = ChatPromptTemplate.from_template(\n",
    "    template=third_template\n",
    ")\n",
    "\n",
    "# chain 2: input= English_Review and output= summary\n",
    "chain_three = LLMChain(\n",
    "    llm=llm, \n",
    "    prompt=third_prompt, \n",
    "    output_key=\"language\"\n",
    ")"
   ]
  },
  {
   "cell_type": "code",
   "execution_count": 22,
   "id": "ba18b25d-41f7-48b3-a22a-e6daba979b1b",
   "metadata": {},
   "outputs": [],
   "source": [
    "# prompt template 4: follow up message\n",
    "fourth_template = \"Write a follow up response to the following \"\\\n",
    "    \"summary in the specified language: \"\\\n",
    "    \"\\n\\nSummary: {summary}\\n\\nLanguage: {language}\"\n",
    "\n",
    "fourth_prompt = ChatPromptTemplate.from_template(\n",
    "    template=fourth_template\n",
    ")\n",
    "\n",
    "# chain 4: input= summary, language and output= followup_message\n",
    "chain_four = LLMChain(\n",
    "    llm=llm, \n",
    "    prompt=fourth_prompt,\n",
    "    output_key=\"followup_message\"\n",
    ")"
   ]
  },
  {
   "cell_type": "code",
   "execution_count": 23,
   "id": "854d7f46-3271-4db8-9df2-fe6a14cce280",
   "metadata": {},
   "outputs": [],
   "source": [
    "overall_chain = SequentialChain(\n",
    "    chains=[chain_one, chain_two, chain_three, chain_four],\n",
    "    input_variables=[\"Review\"],\n",
    "    output_variables=[\"English_Review\", \"summary\",\"followup_message\"],\n",
    "    verbose=True\n",
    ")"
   ]
  },
  {
   "cell_type": "code",
   "execution_count": 24,
   "id": "6bf9f947-4ba8-4d20-ba23-eb953b3fca83",
   "metadata": {},
   "outputs": [
    {
     "data": {
      "text/plain": [
       "\"Je trouve le goût médiocre. La mousse ne tient pas, c'est bizarre. J'achète les mêmes dans le commerce et le goût est bien meilleur...\\r\\nVieux lot ou contrefaçon !?\""
      ]
     },
     "execution_count": 24,
     "metadata": {},
     "output_type": "execute_result"
    }
   ],
   "source": [
    "review = df.Review[5]\n",
    "review"
   ]
  },
  {
   "cell_type": "code",
   "execution_count": 25,
   "id": "3ef1ca73-6c05-4800-9377-79557dd4f400",
   "metadata": {},
   "outputs": [
    {
     "name": "stdout",
     "output_type": "stream",
     "text": [
      "\n",
      "\n",
      "\u001b[1m> Entering new SequentialChain chain...\u001b[0m\n",
      "\n",
      "\u001b[1m> Finished chain.\u001b[0m\n"
     ]
    },
    {
     "data": {
      "text/plain": [
       "{'Review': \"Je trouve le goût médiocre. La mousse ne tient pas, c'est bizarre. J'achète les mêmes dans le commerce et le goût est bien meilleur...\\r\\nVieux lot ou contrefaçon !?\",\n",
       " 'English_Review': 'Of course! Please provide the review that you would like me to translate to English.',\n",
       " 'summary': \"Of course! Please provide the review you'd like me to summarize.\",\n",
       " 'followup_message': 'Bien sûr ! Veuillez fournir le texte de la critique en français, et je me ferai un plaisir de le résumer pour vous.'}"
      ]
     },
     "execution_count": 25,
     "metadata": {},
     "output_type": "execute_result"
    }
   ],
   "source": [
    "overall_chain.invoke(review)"
   ]
  },
  {
   "cell_type": "markdown",
   "id": "60903707-5a5a-4e1b-bec9-5edbf56618dd",
   "metadata": {},
   "source": [
    "# Router Chain"
   ]
  },
  {
   "cell_type": "code",
   "execution_count": 26,
   "id": "48723f99-d7a6-46d6-80b1-0be44aba9efc",
   "metadata": {},
   "outputs": [],
   "source": [
    "physics_template = \"\"\"You are a very smart physics professor. \\\n",
    "You are great at answering questions about physics in a concise\\\n",
    "and easy to understand manner. \\\n",
    "When you don't know the answer to a question you admit\\\n",
    "that you don't know.\n",
    "\n",
    "Here is a question:\n",
    "{input}\"\"\"\n",
    "\n",
    "\n",
    "math_template = \"\"\"You are a very good mathematician. \\\n",
    "You are great at answering math questions. \\\n",
    "You are so good because you are able to break down \\\n",
    "hard problems into their component parts, \n",
    "answer the component parts, and then put them together\\\n",
    "to answer the broader question.\n",
    "\n",
    "Here is a question:\n",
    "{input}\"\"\"\n",
    "\n",
    "history_template = \"\"\"You are a very good historian. \\\n",
    "You have an excellent knowledge of and understanding of people,\\\n",
    "events and contexts from a range of historical periods. \\\n",
    "You have the ability to think, reflect, debate, discuss and \\\n",
    "evaluate the past. You have a respect for historical evidence\\\n",
    "and the ability to make use of it to support your explanations \\\n",
    "and judgements.\n",
    "\n",
    "Here is a question:\n",
    "{input}\"\"\"\n",
    "\n",
    "computerscience_template = \"\"\" You are a successful computer scientist.\\\n",
    "You have a passion for creativity, collaboration,\\\n",
    "forward-thinking, confidence, strong problem-solving capabilities,\\\n",
    "understanding of theories and algorithms, and excellent communication \\\n",
    "skills. You are great at answering coding questions. \\\n",
    "You are so good because you know how to solve a problem by \\\n",
    "describing the solution in imperative steps \\\n",
    "that a machine can easily interpret and you know how to \\\n",
    "choose a solution that has a good balance between \\\n",
    "time complexity and space complexity. \n",
    "\n",
    "Here is a question:\n",
    "{input}\"\"\""
   ]
  },
  {
   "cell_type": "code",
   "execution_count": 27,
   "id": "03e4d2ea-c50e-43ac-95c1-f0834b645e5e",
   "metadata": {},
   "outputs": [],
   "source": [
    "prompt_infos = [\n",
    "    {\n",
    "        \"name\": \"physics\", \n",
    "        \"description\": \"Good for answering questions about physics\", \n",
    "        \"prompt_template\": physics_template\n",
    "    },\n",
    "    {\n",
    "        \"name\": \"math\", \n",
    "        \"description\": \"Good for answering math questions\", \n",
    "        \"prompt_template\": math_template\n",
    "    },\n",
    "    {\n",
    "        \"name\": \"history\", \n",
    "        \"description\": \"Good for answering history questions\", \n",
    "        \"prompt_template\": history_template\n",
    "    },\n",
    "    {\n",
    "        \"name\": \"computer science\", \n",
    "        \"description\": \"Good for answering computer science questions\", \n",
    "        \"prompt_template\": computerscience_template\n",
    "    }\n",
    "]"
   ]
  },
  {
   "cell_type": "code",
   "execution_count": 28,
   "id": "9bc19d8e-5c44-472a-b580-778b05fb8c3b",
   "metadata": {},
   "outputs": [
    {
     "data": {
      "text/plain": [
       "'physics: Good for answering questions about physics\\nmath: Good for answering math questions\\nhistory: Good for answering history questions\\ncomputer science: Good for answering computer science questions'"
      ]
     },
     "execution_count": 28,
     "metadata": {},
     "output_type": "execute_result"
    }
   ],
   "source": [
    "destination_chains = {}\n",
    "for p_info in prompt_infos:\n",
    "    name = p_info[\"name\"]\n",
    "    prompt_template = p_info[\"prompt_template\"]\n",
    "    prompt = ChatPromptTemplate.from_template(template=prompt_template)\n",
    "    chain = LLMChain(llm=llm, prompt=prompt)\n",
    "    destination_chains[name] = chain  \n",
    "    \n",
    "destinations = [f\"{p['name']}: {p['description']}\" for p in prompt_infos]\n",
    "destinations_str = \"\\n\".join(destinations)\n",
    "destinations_str"
   ]
  },
  {
   "cell_type": "code",
   "execution_count": 29,
   "id": "536c9c29-4a42-44ec-95dc-0a13beb431fa",
   "metadata": {},
   "outputs": [],
   "source": [
    "default_prompt = ChatPromptTemplate.from_template(\"{input}\")\n",
    "default_chain = LLMChain(llm=llm, prompt=default_prompt)"
   ]
  },
  {
   "cell_type": "code",
   "execution_count": 30,
   "id": "c1e62105-6e9c-4c7f-ac11-75574ec98991",
   "metadata": {},
   "outputs": [],
   "source": [
    "MULTI_PROMPT_ROUTER_TEMPLATE = \"\"\"Given a raw text input to a \\\n",
    "language model select the model prompt best suited for the input. \\\n",
    "You will be given the names of the available prompts and a \\\n",
    "description of what the prompt is best suited for. \\\n",
    "You may also revise the original input if you think that revising\\\n",
    "it will ultimately lead to a better response from the language model.\n",
    "\n",
    "<< FORMATTING >>\n",
    "Return a markdown code snippet with a JSON object formatted to look like:\n",
    "```json\n",
    "{{{{\n",
    "    \"destination\": string \\ name of the prompt to use or \"DEFAULT\"\n",
    "    \"next_inputs\": string \\ a potentially modified version of the original input\n",
    "}}}}\n",
    "```\n",
    "\n",
    "REMEMBER: \"destination\" MUST be one of the candidate prompt \\\n",
    "names specified below OR it can be \"DEFAULT\" if the input is not\\\n",
    "well suited for any of the candidate prompts.\n",
    "REMEMBER: \"next_inputs\" can just be the original input \\\n",
    "if you don't think any modifications are needed.\n",
    "\n",
    "<< CANDIDATE PROMPTS >>\n",
    "{destinations}\n",
    "\n",
    "<< INPUT >>\n",
    "{{input}}\n",
    "\n",
    "<< OUTPUT (remember to include the ```json)>>\"\"\""
   ]
  },
  {
   "cell_type": "code",
   "execution_count": 31,
   "id": "57cc9641-9c24-4cdc-bdd9-3dc7b9ee2073",
   "metadata": {},
   "outputs": [],
   "source": [
    "router_template = MULTI_PROMPT_ROUTER_TEMPLATE.format(\n",
    "    destinations=destinations_str\n",
    ")\n",
    "\n",
    "router_prompt = PromptTemplate(\n",
    "    template=router_template,\n",
    "    input_variables=[\"input\"],\n",
    "    output_parser=RouterOutputParser(),\n",
    ")\n",
    "\n",
    "router_chain = LLMRouterChain.from_llm(llm, router_prompt)"
   ]
  },
  {
   "cell_type": "code",
   "execution_count": 33,
   "id": "27829399-bb9a-475f-b86a-3f5cd17addab",
   "metadata": {},
   "outputs": [],
   "source": [
    "chain = MultiPromptChain(\n",
    "    router_chain=router_chain, \n",
    "    destination_chains=destination_chains, \n",
    "    default_chain=default_chain, \n",
    "    verbose=True\n",
    ")"
   ]
  },
  {
   "cell_type": "code",
   "execution_count": 34,
   "id": "3dd532f9-1ab1-44f9-af6c-11c48512d35b",
   "metadata": {},
   "outputs": [
    {
     "name": "stdout",
     "output_type": "stream",
     "text": [
      "\n",
      "\n",
      "\u001b[1m> Entering new MultiPromptChain chain...\u001b[0m\n",
      "physics: {'input': 'What is black body radiation?'}\n",
      "\u001b[1m> Finished chain.\u001b[0m\n"
     ]
    },
    {
     "data": {
      "text/plain": [
       "{'input': 'What is black body radiation?',\n",
       " 'text': 'Black body radiation refers to the electromagnetic radiation emitted by an idealized object known as a \"black body.\" A black body absorbs all incident radiation, regardless of frequency or angle, and re-emits energy in a characteristic spectrum that depends only on its temperature.\\n\\nThe key points about black body radiation are:\\n\\n1. **Temperature Dependence**: The spectrum of radiation emitted by a black body is determined by its temperature. As the temperature increases, the peak wavelength of the emitted radiation shifts to shorter wavelengths (this is described by Wien\\'s Law).\\n\\n2. **Planck\\'s Law**: The distribution of emitted radiation across different wavelengths can be described by Planck\\'s Law, which quantifies the intensity of radiation emitted at various wavelengths for a given temperature.\\n\\n3. **Stefan-Boltzmann Law**: The total energy radiated per unit surface area of a black body per unit time (its power output) is proportional to the fourth power of its temperature (measured in Kelvin).\\n\\n4. **Quantum Mechanics**: Black body radiation played a crucial role in the development of quantum mechanics. The classical physics approach could not explain the observed spectrum of black body radiation, leading to the introduction of quantized energy levels by Max Planck.\\n\\nIn summary, black body radiation is a fundamental concept in physics that describes how objects emit radiation based on their temperature, and it has significant implications in both classical and modern physics.'}"
      ]
     },
     "execution_count": 34,
     "metadata": {},
     "output_type": "execute_result"
    }
   ],
   "source": [
    "# Physics Question\n",
    "chain.invoke(\"What is black body radiation?\")"
   ]
  },
  {
   "cell_type": "code",
   "execution_count": 35,
   "id": "6119aa26-249c-4d1b-ba1f-20b848558e90",
   "metadata": {},
   "outputs": [
    {
     "name": "stdout",
     "output_type": "stream",
     "text": [
      "\n",
      "\n",
      "\u001b[1m> Entering new MultiPromptChain chain...\u001b[0m\n",
      "math: {'input': 'what is 2 + 2'}\n",
      "\u001b[1m> Finished chain.\u001b[0m\n"
     ]
    },
    {
     "data": {
      "text/plain": [
       "{'input': 'what is 2 + 2',\n",
       " 'text': 'To solve the problem \\\\(2 + 2\\\\), we can break it down into its component parts.\\n\\n1. **Identify the numbers**: We have two numbers, which are 2 and 2.\\n2. **Understand the operation**: The operation here is addition, which combines the two numbers.\\n3. **Perform the addition**: When we add 2 and 2 together, we count up from 2 by 2: \\n   \\\\[\\n   2 + 2 = 4\\n   \\\\]\\n\\nPutting it all together, the answer to \\\\(2 + 2\\\\) is \\\\(4\\\\).'}"
      ]
     },
     "execution_count": 35,
     "metadata": {},
     "output_type": "execute_result"
    }
   ],
   "source": [
    "# Maths Question\n",
    "chain.invoke(\"what is 2 + 2\")"
   ]
  },
  {
   "cell_type": "code",
   "execution_count": 36,
   "id": "fb6aa07a-1ef3-4d80-8786-33b63b52ed9a",
   "metadata": {},
   "outputs": [
    {
     "name": "stdout",
     "output_type": "stream",
     "text": [
      "\n",
      "\n",
      "\u001b[1m> Entering new MultiPromptChain chain...\u001b[0m\n",
      "history: {'input': 'For how many years did the British rule the Indian subcontinent?'}\n",
      "\u001b[1m> Finished chain.\u001b[0m\n"
     ]
    },
    {
     "data": {
      "text/plain": [
       "{'input': 'For how many years did the British rule the Indian subcontinent?',\n",
       " 'text': 'The British rule in the Indian subcontinent is generally considered to have begun in 1858 and lasted until 1947. This period covers approximately 89 years. However, British involvement in India began much earlier, with the establishment of the British East India Company in the early 17th century. The company gradually extended its control, and by the mid-19th century, it was the dominant power in India.\\n\\nIf we include the earlier period of British involvement before direct rule, one might consider British influence in India from around 1600 when the East India Company was formed, leading to approximately 347 years of British presence in some form. However, the direct colonial governance through the British Crown began in 1858 after the Indian Rebellion of 1857 and ended with Indian independence and the partition of British India in 1947.'}"
      ]
     },
     "execution_count": 36,
     "metadata": {},
     "output_type": "execute_result"
    }
   ],
   "source": [
    "# History Question\n",
    "chain.invoke(\"For how many years Bristishers ruled sub-continent\")"
   ]
  },
  {
   "cell_type": "code",
   "execution_count": 37,
   "id": "4b0100d0-d24b-4027-87df-9885253c74b4",
   "metadata": {},
   "outputs": [
    {
     "name": "stdout",
     "output_type": "stream",
     "text": [
      "\n",
      "\n",
      "\u001b[1m> Entering new MultiPromptChain chain...\u001b[0m\n",
      "computer science: {'input': 'What is the difference between Cache, RAM, and ROM?'}\n",
      "\u001b[1m> Finished chain.\u001b[0m\n"
     ]
    },
    {
     "data": {
      "text/plain": [
       "{'input': 'What is the difference between Cache, RAM, and ROM?',\n",
       " 'text': \"Certainly! Let's break down the differences between Cache, RAM, and ROM in a clear and structured way:\\n\\n### 1. Cache\\n\\n**Definition:** \\nCache is a small-sized type of volatile memory that provides high-speed data access to the CPU. It stores frequently accessed data and instructions to reduce the time it takes to fetch them from the main memory (RAM).\\n\\n**Characteristics:**\\n- **Speed:** Extremely fast, faster than RAM.\\n- **Size:** Very small compared to RAM, typically measured in kilobytes (KB) to megabytes (MB).\\n- **Volatility:** Volatile memory, meaning it loses its contents when power is turned off.\\n- **Levels:** Usually has multiple levels (L1, L2, L3) based on proximity to the CPU core, with L1 being the smallest and fastest.\\n\\n**Use Cases:** \\n- Reduces latency for frequently accessed data and instructions by storing data that the processor is likely to reuse.\\n\\n### 2. RAM (Random Access Memory)\\n\\n**Definition:** \\nRAM is a type of volatile memory that the computer uses to store data that is actively being used or processed. It allows for read and write operations and serves as the main memory for running applications and the operating system.\\n\\n**Characteristics:**\\n- **Speed:** Slower than cache but faster than storage (like HDDs or SSDs).\\n- **Size:** Typically larger than cache, ranging from gigabytes (GB) to terabytes (TB).\\n- **Volatility:** Volatile memory; it loses its content when power is lost.\\n- **Access Type:** Provides fast random access to any location within the memory.\\n\\n**Use Cases:** \\n- Temporarily holds data and programs that the CPU is currently processing or needs to access, improving performance and multitasking capabilities.\\n\\n### 3. ROM (Read-Only Memory)\\n\\n**Definition:** \\nROM is a type of non-volatile memory that is used primarily to store firmware or software that is not expected to change frequently. It retains its contents even when the computer is powered off.\\n\\n**Characteristics:**\\n- **Speed:** Slower than RAM and cache but generally faster than storage in certain contexts.\\n- **Size:** Typically smaller than RAM, often measured in megabytes (MB).\\n- **Volatility:** Non-volatile memory; retains its data without power.\\n- **Access Type:** Data is usually written during manufacturing and is not meant to be modified frequently.\\n\\n**Use Cases:**\\n- Stores critical system firmware and bootloader programs that are essential for starting the computer and initializing hardware.\\n\\n### Summary of Differences\\n\\n| Feature        | Cache                | RAM                 | ROM                 |\\n|----------------|----------------------|---------------------|---------------------|\\n| **Volatility**  | Volatile             | Volatile            | Non-volatile        |\\n| **Speed**       | Fastest              | Faster than storage  | Slower than cache   |\\n| **Size**        | Small (KB to MB)     | Larger (GB to TB)   | Smaller (MB)        |\\n| **Access**      | Limited to CPU use   | General-purpose      | Read mostly, not writable during normal operation |\\n| **Purpose**     | Speed up CPU access   | Active data storage   | Store firmware       |\\n\\nIn conclusion, cache, RAM, and ROM each serve distinct purposes in a computer system, balancing speed, size, and volatility to optimize performance and reliability.\"}"
      ]
     },
     "execution_count": 37,
     "metadata": {},
     "output_type": "execute_result"
    }
   ],
   "source": [
    "# Computer Science Question\n",
    "chain.invoke(\"What is the difference between Cache, RAM and ROM\")"
   ]
  },
  {
   "cell_type": "code",
   "execution_count": 38,
   "id": "c553ae82-52fa-4211-8988-bf594f93047e",
   "metadata": {},
   "outputs": [
    {
     "name": "stdout",
     "output_type": "stream",
     "text": [
      "\n",
      "\n",
      "\u001b[1m> Entering new MultiPromptChain chain...\u001b[0m\n",
      "None: {'input': 'Why does every cell in our body contain DNA?'}\n",
      "\u001b[1m> Finished chain.\u001b[0m\n"
     ]
    },
    {
     "data": {
      "text/plain": [
       "{'input': 'Why does every cell in our body contain DNA?',\n",
       " 'text': 'Every cell in our body contains DNA because DNA carries the genetic information essential for the development, functioning, and reproduction of all living organisms. Here are some reasons why DNA is present in every cell:\\n\\n1. **Genetic Blueprint**: DNA contains the instructions for building and maintaining an organism. It encodes the information needed to produce proteins, which perform a vast array of functions in the body.\\n\\n2. **Cell Function and Identity**: Each cell type in the body expresses specific genes that determine its function and identity (for example, muscle cells, nerve cells, and skin cells). Despite the variation in function, the underlying DNA is the same in all cells, ensuring a consistent genetic foundation.\\n\\n3. **Cell Division and Growth**: When cells divide, they need to replicate their DNA so that each daughter cell receives a complete set of genetic instructions. This ensures that all cells in a multicellular organism can grow and develop properly.\\n\\n4. **Repair and Maintenance**: DNA is vital for the repair and maintenance of tissues. Cells can repair damaged DNA and also replace worn-out or dead cells, maintaining the overall health of the organism.\\n\\n5. **Inheritance**: DNA is passed from parents to offspring, allowing for the transmission of genetic traits. Every cell in an organism carries this inherited genetic material, ensuring continuity across generations.\\n\\n6. **Regulatory Mechanisms**: The presence of DNA in every cell allows for the regulation of gene expression, enabling cells to respond to environmental changes and maintain homeostasis.\\n\\nIn summary, the presence of DNA in every cell is crucial for ensuring that all cells have access to the genetic instructions necessary for their specific roles and for the overall functioning of the organism.'}"
      ]
     },
     "execution_count": 38,
     "metadata": {},
     "output_type": "execute_result"
    }
   ],
   "source": [
    "# Default Chain\n",
    "chain.invoke(\"Why does every cell in our body contain DNA?\")"
   ]
  },
  {
   "cell_type": "code",
   "execution_count": null,
   "id": "c560bd6c-8c8a-4226-9f46-8b872f7e35a1",
   "metadata": {},
   "outputs": [],
   "source": []
  }
 ],
 "metadata": {
  "kernelspec": {
   "display_name": "Python 3 (ipykernel)",
   "language": "python",
   "name": "python3"
  },
  "language_info": {
   "codemirror_mode": {
    "name": "ipython",
    "version": 3
   },
   "file_extension": ".py",
   "mimetype": "text/x-python",
   "name": "python",
   "nbconvert_exporter": "python",
   "pygments_lexer": "ipython3",
   "version": "3.11.11"
  }
 },
 "nbformat": 4,
 "nbformat_minor": 5
}
