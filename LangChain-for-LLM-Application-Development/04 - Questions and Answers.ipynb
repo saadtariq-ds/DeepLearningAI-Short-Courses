{
 "cells": [
  {
   "cell_type": "markdown",
   "id": "928ccbe6-6959-413c-81a4-92442832c650",
   "metadata": {},
   "source": [
    "## Libraries and Setup"
   ]
  },
  {
   "cell_type": "code",
   "execution_count": 1,
   "id": "457e51b8-0963-4eff-8f7c-64a5bd13f063",
   "metadata": {},
   "outputs": [],
   "source": [
    "import os\n",
    "import pandas as pd\n",
    "from langchain_openai import ChatOpenAI, OpenAI, OpenAIEmbeddings\n",
    "from langchain.prompts import ChatPromptTemplate, PromptTemplate\n",
    "from langchain.document_loaders import CSVLoader\n",
    "from langchain.chains import RetrievalQA\n",
    "from langchain.vectorstores import DocArrayInMemorySearch\n",
    "from IPython.display import display, Markdown\n",
    "from langchain.indexes import VectorstoreIndexCreator\n",
    "\n",
    "from dotenv import load_dotenv, find_dotenv"
   ]
  },
  {
   "cell_type": "code",
   "execution_count": 2,
   "id": "e44a9308-5ae6-43ce-9013-1b3d5faa98ae",
   "metadata": {},
   "outputs": [],
   "source": [
    "_ = load_dotenv(find_dotenv())"
   ]
  },
  {
   "cell_type": "code",
   "execution_count": 3,
   "id": "8d7ad772-2391-463a-aa04-e9be5deae60f",
   "metadata": {},
   "outputs": [],
   "source": [
    "llm_model = \"gpt-3.5-turbo\""
   ]
  },
  {
   "cell_type": "code",
   "execution_count": 4,
   "id": "b3ecc4f3-e883-4161-8e89-4105ceff7234",
   "metadata": {},
   "outputs": [],
   "source": [
    "embeddings = OpenAIEmbeddings()"
   ]
  },
  {
   "cell_type": "code",
   "execution_count": 5,
   "id": "a085d4de-3fce-4771-b9d7-13a955c5d060",
   "metadata": {},
   "outputs": [],
   "source": [
    "file = 'OutdoorClothingCatalog_1000.csv'\n",
    "loader = CSVLoader(file_path=file, encoding='utf-8')"
   ]
  },
  {
   "cell_type": "code",
   "execution_count": 6,
   "id": "bfaefe1f-09b2-4f14-a49b-cf1585522b5c",
   "metadata": {},
   "outputs": [
    {
     "data": {
      "text/plain": [
       "<langchain_community.document_loaders.csv_loader.CSVLoader at 0x1cd7153b890>"
      ]
     },
     "execution_count": 6,
     "metadata": {},
     "output_type": "execute_result"
    }
   ],
   "source": [
    "loader"
   ]
  },
  {
   "cell_type": "markdown",
   "id": "853a3aa8-333d-4be9-b1c8-98bc10e70b9c",
   "metadata": {},
   "source": [
    "# Vector Store Index Creator"
   ]
  },
  {
   "cell_type": "code",
   "execution_count": 9,
   "id": "4eece562-6957-4fb5-be6a-576426f39198",
   "metadata": {},
   "outputs": [],
   "source": [
    "index = VectorstoreIndexCreator(\n",
    "    vectorstore_cls=DocArrayInMemorySearch,\n",
    "    embedding=embeddings\n",
    ").from_loaders([loader])"
   ]
  },
  {
   "cell_type": "code",
   "execution_count": 10,
   "id": "3d1be93f-e2b8-4b50-a8fe-82e7e1cfa47b",
   "metadata": {},
   "outputs": [],
   "source": [
    "query =\"Please create a markdown table listing all the shirts that offer sun protection. \\\n",
    "For each shirt, include the name, sun protection rating, and any other relevant details. After the table, provide a brief \\\n",
    "summary of the features of each shirt.\""
   ]
  },
  {
   "cell_type": "code",
   "execution_count": 11,
   "id": "b954ba9e-7c30-46dc-9e46-85a208dbb829",
   "metadata": {},
   "outputs": [],
   "source": [
    "llm_replacement_model = OpenAI(\n",
    "    temperature=0, \n",
    "    model='gpt-3.5-turbo-instruct'\n",
    ")\n",
    "\n",
    "response = index.query(\n",
    "    query, \n",
    "    llm = llm_replacement_model\n",
    ")"
   ]
  },
  {
   "cell_type": "code",
   "execution_count": 12,
   "id": "aac732c6-5e0c-45ea-82b1-cb9664dfbf1f",
   "metadata": {},
   "outputs": [
    {
     "data": {
      "text/markdown": [
       "\n",
       "\n",
       "| Name | Sun Protection Rating | Additional Details |\n",
       "| --- | --- | --- |\n",
       "| Sun Shield Shirt by | UPF 50+ | Made of 78% nylon and 22% Lycra Xtra Life fiber, wicks moisture, fits comfortably over swimsuit, abrasion resistant |\n",
       "| Men's Tropical Plaid Short-Sleeve Shirt | UPF 50+ | Made of 100% polyester, wrinkle-resistant, front and back cape venting, two front bellows pockets |\n",
       "| Men's Plaid Tropic Shirt, Short-Sleeve | UPF 50+ | Made of 52% polyester and 48% nylon, SunSmart technology blocks 98% of UV rays, wrinkle-free, front and back cape venting, two front bellows pockets |\n",
       "| Men's TropicVibe Shirt, Short-Sleeve | UPF 50+ | Made of 71% nylon and 29% polyester, wrinkle-resistant, front and back cape venting, two front bellows pockets |\n",
       "\n",
       "The Sun Shield Shirt by offers UPF 50+ sun protection and is made of a high-performance fabric that wicks moisture and is abrasion resistant. The Men's Tropical Plaid Short-Sleeve Shirt is"
      ],
      "text/plain": [
       "<IPython.core.display.Markdown object>"
      ]
     },
     "metadata": {},
     "output_type": "display_data"
    }
   ],
   "source": [
    "display(Markdown(response))"
   ]
  },
  {
   "cell_type": "markdown",
   "id": "9db759cb-1e5a-43a8-91e2-5398a0128ec4",
   "metadata": {},
   "source": [
    "# Step by Step"
   ]
  },
  {
   "cell_type": "code",
   "execution_count": 13,
   "id": "e097bda5-2b78-43ce-b010-e8d8bbf61166",
   "metadata": {},
   "outputs": [],
   "source": [
    "loader = CSVLoader(file_path=file, encoding='utf-8')"
   ]
  },
  {
   "cell_type": "code",
   "execution_count": 14,
   "id": "7ba20279-e585-4632-be9c-17c7eb1eb5aa",
   "metadata": {},
   "outputs": [
    {
     "data": {
      "text/plain": [
       "Document(metadata={'source': 'OutdoorClothingCatalog_1000.csv', 'row': 0}, page_content=\": 0\\nname: Women's Campside Oxfords\\ndescription: This ultracomfortable lace-to-toe Oxford boasts a super-soft canvas, thick cushioning, and quality construction for a broken-in feel from the first time you put them on. \\r\\n\\r\\nSize & Fit: Order regular shoe size. For half sizes not offered, order up to next whole size. \\r\\n\\r\\nSpecs: Approx. weight: 1 lb.1 oz. per pair. \\r\\n\\r\\nConstruction: Soft canvas material for a broken-in feel and look. Comfortable EVA innersole with Cleansport NXT® antimicrobial odor control. Vintage hunt, fish and camping motif on innersole. Moderate arch contour of innersole. EVA foam midsole for cushioning and support. Chain-tread-inspired molded rubber outsole with modified chain-tread pattern. Imported. \\r\\n\\r\\nQuestions? Please contact us for any inquiries.\")"
      ]
     },
     "execution_count": 14,
     "metadata": {},
     "output_type": "execute_result"
    }
   ],
   "source": [
    "docs = loader.load()\n",
    "docs[0]"
   ]
  },
  {
   "cell_type": "code",
   "execution_count": 15,
   "id": "157d8b25-73e4-4d07-95fd-5ac83b9d3fce",
   "metadata": {},
   "outputs": [],
   "source": [
    "embed = embeddings.embed_query(\"Hi my name is Saad Tariq\")"
   ]
  },
  {
   "cell_type": "code",
   "execution_count": 16,
   "id": "9e06be9e-eb0b-47fc-97a0-0fcdb124ae2c",
   "metadata": {},
   "outputs": [
    {
     "name": "stdout",
     "output_type": "stream",
     "text": [
      "1536\n"
     ]
    }
   ],
   "source": [
    "print(len(embed))"
   ]
  },
  {
   "cell_type": "code",
   "execution_count": 17,
   "id": "ad4f56c7-5cf0-4628-9dcd-a39cb75fac3b",
   "metadata": {},
   "outputs": [
    {
     "name": "stdout",
     "output_type": "stream",
     "text": [
      "[-0.010844825766980648, -0.012418035417795181, -0.02741510234773159, -0.03672540560364723, -0.009078189730644226]\n"
     ]
    }
   ],
   "source": [
    "print(embed[:5])"
   ]
  },
  {
   "cell_type": "markdown",
   "id": "61321e30-a15d-45f8-aad2-24687ac12969",
   "metadata": {},
   "source": [
    "## Vector Store"
   ]
  },
  {
   "cell_type": "code",
   "execution_count": 18,
   "id": "723d3283-257e-4787-9801-0fff62ed705b",
   "metadata": {},
   "outputs": [],
   "source": [
    "db = DocArrayInMemorySearch.from_documents(\n",
    "    docs, \n",
    "    embeddings\n",
    ")"
   ]
  },
  {
   "cell_type": "code",
   "execution_count": 19,
   "id": "75fc39d5-2197-4a0e-b4a3-90f3c7cd7678",
   "metadata": {},
   "outputs": [],
   "source": [
    "query = \"Please suggest a shirt with sunblocking\""
   ]
  },
  {
   "cell_type": "code",
   "execution_count": 20,
   "id": "9f1f1fcd-f507-4b6c-abb8-bcbaef841c42",
   "metadata": {},
   "outputs": [],
   "source": [
    "docs = db.similarity_search(query)"
   ]
  },
  {
   "cell_type": "code",
   "execution_count": 21,
   "id": "c9de6e13-b6e3-4285-93c1-a92dcecaca89",
   "metadata": {},
   "outputs": [
    {
     "data": {
      "text/plain": [
       "4"
      ]
     },
     "execution_count": 21,
     "metadata": {},
     "output_type": "execute_result"
    }
   ],
   "source": [
    "len(docs)"
   ]
  },
  {
   "cell_type": "code",
   "execution_count": 22,
   "id": "d3cb7038-9d3e-492b-925c-3e85094a527f",
   "metadata": {},
   "outputs": [
    {
     "data": {
      "text/plain": [
       "Document(metadata={'source': 'OutdoorClothingCatalog_1000.csv', 'row': 255}, page_content=': 255\\nname: Sun Shield Shirt by\\ndescription: \"Block the sun, not the fun – our high-performance sun shirt is guaranteed to protect from harmful UV rays. \\r\\n\\r\\nSize & Fit: Slightly Fitted: Softly shapes the body. Falls at hip.\\r\\n\\r\\nFabric & Care: 78% nylon, 22% Lycra Xtra Life fiber. UPF 50+ rated – the highest rated sun protection possible. Handwash, line dry.\\r\\n\\r\\nAdditional Features: Wicks moisture for quick-drying comfort. Fits comfortably over your favorite swimsuit. Abrasion resistant for season after season of wear. Imported.\\r\\n\\r\\nSun Protection That Won\\'t Wear Off\\r\\nOur high-performance fabric provides SPF 50+ sun protection, blocking 98% of the sun\\'s harmful rays. This fabric is recommended by The Skin Cancer Foundation as an effective UV protectant.')"
      ]
     },
     "execution_count": 22,
     "metadata": {},
     "output_type": "execute_result"
    }
   ],
   "source": [
    "docs[0]"
   ]
  },
  {
   "cell_type": "markdown",
   "id": "e166a4c4-0d04-4a29-bed4-a3e33d1f0f20",
   "metadata": {},
   "source": [
    "## Retriever"
   ]
  },
  {
   "cell_type": "code",
   "execution_count": 23,
   "id": "55d19eff-68b5-4955-aa97-bd5095ad425b",
   "metadata": {},
   "outputs": [],
   "source": [
    "retriever = db.as_retriever()"
   ]
  },
  {
   "cell_type": "code",
   "execution_count": 24,
   "id": "7c067741-1ccf-4d0c-a97a-02215c780303",
   "metadata": {},
   "outputs": [],
   "source": [
    "llm = ChatOpenAI(temperature = 0.0, model=llm_model)"
   ]
  },
  {
   "cell_type": "code",
   "execution_count": 25,
   "id": "08107834-e223-4450-bca2-95532ec5a9e2",
   "metadata": {},
   "outputs": [],
   "source": [
    "qdocs = \"\".join([docs[i].page_content for i in range(len(docs))])"
   ]
  },
  {
   "cell_type": "code",
   "execution_count": 26,
   "id": "5e728c4d-8894-41df-a67a-b1fb748c4936",
   "metadata": {},
   "outputs": [
    {
     "data": {
      "text/plain": [
       "AIMessage(content=\"| Shirt Name                        | Sun Protection Rating | Additional Details                                                                                           |\\n|-----------------------------------|-----------------------|--------------------------------------------------------------------------------------------------------------|\\n| Sun Shield Shirt                  | UPF 50+              | Wicks moisture, fits comfortably over swimsuit, abrasion resistant                                           |\\n| Men's Plaid Tropic Shirt          | UPF 50+              | Wrinkle-free, evaporates perspiration, front and back cape venting, two front bellows pockets                |\\n| Men's TropicVibe Shirt            | UPF 50+              | Wrinkle resistant, front and back cape venting, two front bellows pockets                                    |\\n| Men's Tropical Plaid Short-Sleeve | UPF 50+              | Wrinkle-resistant, front and back cape venting, two front bellows pockets                                    |\\n\\nSummary:\\n- Sun Shield Shirt: Offers UPF 50+ sun protection, wicks moisture, fits comfortably over swimsuit, and is abrasion resistant.\\n- Men's Plaid Tropic Shirt: Provides UPF 50+ sun protection, is wrinkle-free, evaporates perspiration, and has front and back cape venting with two front bellows pockets.\\n- Men's TropicVibe Shirt: Features UPF 50+ sun protection, is wrinkle resistant, has front and back cape venting, and includes two front bellows pockets.\\n- Men's Tropical Plaid Short-Sleeve Shirt: Offers UPF 50+ sun protection, is wrinkle-resistant, has front and back cape venting, and includes two front bellows pockets.\", additional_kwargs={'refusal': None}, response_metadata={'token_usage': {'completion_tokens': 320, 'prompt_tokens': 712, 'total_tokens': 1032, 'completion_tokens_details': {'accepted_prediction_tokens': 0, 'audio_tokens': 0, 'reasoning_tokens': 0, 'rejected_prediction_tokens': 0}, 'prompt_tokens_details': {'audio_tokens': 0, 'cached_tokens': 0}}, 'model_name': 'gpt-3.5-turbo-0125', 'system_fingerprint': None, 'finish_reason': 'stop', 'logprobs': None}, id='run-37506009-7ec9-49d8-892a-fdbcd6c93b0f-0', usage_metadata={'input_tokens': 712, 'output_tokens': 320, 'total_tokens': 1032, 'input_token_details': {'audio': 0, 'cache_read': 0}, 'output_token_details': {'audio': 0, 'reasoning': 0}})"
      ]
     },
     "execution_count": 26,
     "metadata": {},
     "output_type": "execute_result"
    }
   ],
   "source": [
    "response = llm.invoke(f\"{qdocs} Question: Please create a markdown table listing all the shirts that offer sun protection. \\\n",
    "For each shirt, include the name, sun protection rating, and any other relevant details. After the table, provide a brief \\\n",
    "summary of the features of each shirt.\") \n",
    "response"
   ]
  },
  {
   "cell_type": "code",
   "execution_count": 27,
   "id": "83dea377-f934-4db8-a396-a8188abe8acb",
   "metadata": {},
   "outputs": [
    {
     "data": {
      "text/markdown": [
       "| Shirt Name                        | Sun Protection Rating | Additional Details                                                                                           |\n",
       "|-----------------------------------|-----------------------|--------------------------------------------------------------------------------------------------------------|\n",
       "| Sun Shield Shirt                  | UPF 50+              | Wicks moisture, fits comfortably over swimsuit, abrasion resistant                                           |\n",
       "| Men's Plaid Tropic Shirt          | UPF 50+              | Wrinkle-free, evaporates perspiration, front and back cape venting, two front bellows pockets                |\n",
       "| Men's TropicVibe Shirt            | UPF 50+              | Wrinkle resistant, front and back cape venting, two front bellows pockets                                    |\n",
       "| Men's Tropical Plaid Short-Sleeve | UPF 50+              | Wrinkle-resistant, front and back cape venting, two front bellows pockets                                    |\n",
       "\n",
       "Summary:\n",
       "- Sun Shield Shirt: Offers UPF 50+ sun protection, wicks moisture, fits comfortably over swimsuit, and is abrasion resistant.\n",
       "- Men's Plaid Tropic Shirt: Provides UPF 50+ sun protection, is wrinkle-free, evaporates perspiration, and has front and back cape venting with two front bellows pockets.\n",
       "- Men's TropicVibe Shirt: Features UPF 50+ sun protection, is wrinkle resistant, has front and back cape venting, and includes two front bellows pockets.\n",
       "- Men's Tropical Plaid Short-Sleeve Shirt: Offers UPF 50+ sun protection, is wrinkle-resistant, has front and back cape venting, and includes two front bellows pockets."
      ],
      "text/plain": [
       "<IPython.core.display.Markdown object>"
      ]
     },
     "metadata": {},
     "output_type": "display_data"
    }
   ],
   "source": [
    "display(Markdown(response.content))"
   ]
  },
  {
   "cell_type": "markdown",
   "id": "0840ece5-354b-4849-8198-d26a664f28af",
   "metadata": {},
   "source": [
    "## Retrieval QA Chain"
   ]
  },
  {
   "cell_type": "code",
   "execution_count": 28,
   "id": "247c19f0-f26d-4d48-b048-e37ab61173fe",
   "metadata": {},
   "outputs": [],
   "source": [
    "qa_stuff = RetrievalQA.from_chain_type(\n",
    "    llm=llm, \n",
    "    chain_type=\"stuff\", \n",
    "    retriever=retriever, \n",
    "    verbose=True\n",
    ")"
   ]
  },
  {
   "cell_type": "code",
   "execution_count": 29,
   "id": "1ad36e34-93fc-47ce-adab-a38f400896dd",
   "metadata": {},
   "outputs": [],
   "source": [
    "query =  \"Please create a markdown table listing all the shirts that offer sun protection. \\\n",
    "For each shirt, include the name, sun protection rating, and any other relevant details. After the table, provide a brief \\\n",
    "summary of the features of each shirt.\""
   ]
  },
  {
   "cell_type": "code",
   "execution_count": 30,
   "id": "037c3c7f-09a5-454f-9b81-468b318397d7",
   "metadata": {},
   "outputs": [
    {
     "name": "stdout",
     "output_type": "stream",
     "text": [
      "\n",
      "\n",
      "\u001b[1m> Entering new RetrievalQA chain...\u001b[0m\n",
      "\n",
      "\u001b[1m> Finished chain.\u001b[0m\n"
     ]
    },
    {
     "data": {
      "text/plain": [
       "{'query': 'Please create a markdown table listing all the shirts that offer sun protection. For each shirt, include the name, sun protection rating, and any other relevant details. After the table, provide a brief summary of the features of each shirt.',\n",
       " 'result': \"| Name                                | Sun Protection Rating | Additional Details                                                                                                      |\\n|-------------------------------------|-----------------------|------------------------------------------------------------------------------------------------------------------------|\\n| Sun Shield Shirt by                 | UPF 50+              | Made of 78% nylon, 22% Lycra Xtra Life fiber. Wicks moisture, abrasion-resistant, fits comfortably over swimsuit.       |\\n| Men's Tropical Plaid Short-Sleeve   | UPF 50+              | Made of 100% polyester, wrinkle-resistant. Front and back cape venting, two front bellows pockets.                        |\\n| Men's Plaid Tropic Shirt, Short-Sleeve | UPF 50+            | Made of 52% polyester, 48% nylon. Wrinkle-free, quick-drying. Front and back cape venting, two front bellows pockets.     |\\n| Men's TropicVibe Shirt, Short-Sleeve | UPF 50+              | Shell: 71% Nylon, 29% Polyester. Lining: 100% Polyester knit mesh. Wrinkle-resistant, front and back cape venting.        |\\n\\n**Sun Shield Shirt by:** This shirt offers UPF 50+ sun protection, made of nylon and Lycra Xtra Life fiber. It wicks moisture, is abrasion-resistant, and fits comfortably over swimsuits.\\n\\n**Men's Tropical Plaid Short-Sleeve Shirt:** With a UPF 50+ rating, this shirt is made of polyester and is wrinkle-resistant. It features front and back cape venting and two front bellows pockets.\\n\\n**Men's Plaid Tropic Shirt, Short-Sleeve:** Providing UPF 50+ coverage, this shirt is a blend of polyester and nylon. It is wrinkle-free, quick-drying, and has front and back cape venting with two front bellows pockets.\\n\\n**Men's TropicVibe Shirt, Short-Sleeve:** This shirt has a UPF 50+ rating, made of nylon, polyester, and knit mesh lining. It is wrinkle-resistant, with front and back cape venting and two front bellows pockets.\"}"
      ]
     },
     "execution_count": 30,
     "metadata": {},
     "output_type": "execute_result"
    }
   ],
   "source": [
    "response = qa_stuff.invoke(query)\n",
    "response"
   ]
  },
  {
   "cell_type": "code",
   "execution_count": 31,
   "id": "94aca0fa-23ed-41d2-9ef4-20d854150fdd",
   "metadata": {},
   "outputs": [
    {
     "data": {
      "text/markdown": [
       "| Name                                | Sun Protection Rating | Additional Details                                                                                                      |\n",
       "|-------------------------------------|-----------------------|------------------------------------------------------------------------------------------------------------------------|\n",
       "| Sun Shield Shirt by                 | UPF 50+              | Made of 78% nylon, 22% Lycra Xtra Life fiber. Wicks moisture, abrasion-resistant, fits comfortably over swimsuit.       |\n",
       "| Men's Tropical Plaid Short-Sleeve   | UPF 50+              | Made of 100% polyester, wrinkle-resistant. Front and back cape venting, two front bellows pockets.                        |\n",
       "| Men's Plaid Tropic Shirt, Short-Sleeve | UPF 50+            | Made of 52% polyester, 48% nylon. Wrinkle-free, quick-drying. Front and back cape venting, two front bellows pockets.     |\n",
       "| Men's TropicVibe Shirt, Short-Sleeve | UPF 50+              | Shell: 71% Nylon, 29% Polyester. Lining: 100% Polyester knit mesh. Wrinkle-resistant, front and back cape venting.        |\n",
       "\n",
       "**Sun Shield Shirt by:** This shirt offers UPF 50+ sun protection, made of nylon and Lycra Xtra Life fiber. It wicks moisture, is abrasion-resistant, and fits comfortably over swimsuits.\n",
       "\n",
       "**Men's Tropical Plaid Short-Sleeve Shirt:** With a UPF 50+ rating, this shirt is made of polyester and is wrinkle-resistant. It features front and back cape venting and two front bellows pockets.\n",
       "\n",
       "**Men's Plaid Tropic Shirt, Short-Sleeve:** Providing UPF 50+ coverage, this shirt is a blend of polyester and nylon. It is wrinkle-free, quick-drying, and has front and back cape venting with two front bellows pockets.\n",
       "\n",
       "**Men's TropicVibe Shirt, Short-Sleeve:** This shirt has a UPF 50+ rating, made of nylon, polyester, and knit mesh lining. It is wrinkle-resistant, with front and back cape venting and two front bellows pockets."
      ],
      "text/plain": [
       "<IPython.core.display.Markdown object>"
      ]
     },
     "metadata": {},
     "output_type": "display_data"
    }
   ],
   "source": [
    "display(Markdown(response['result']))"
   ]
  },
  {
   "cell_type": "code",
   "execution_count": 32,
   "id": "95dd0797-0f09-4933-a46f-bf60bd9fa375",
   "metadata": {},
   "outputs": [
    {
     "data": {
      "text/plain": [
       "\"| Name                                | Sun Protection Rating | Additional Details                                                                                           |\\n|-------------------------------------|-----------------------|--------------------------------------------------------------------------------------------------------------|\\n| Sun Shield Shirt by                 | UPF 50+              | Made of 78% nylon, 22% Lycra Xtra Life fiber. Wicks moisture, abrasion-resistant, fits comfortably over swimsuit. |\\n| Men's Tropical Plaid Short-Sleeve   | UPF 50+              | Made of 100% polyester, wrinkle-resistant. Front and back cape venting, two front bellows pockets.              |\\n| Men's Plaid Tropic Shirt, Short-Sleeve | UPF 50+            | Made of 52% polyester, 48% nylon. Wrinkle-free, quick-drying, front and back cape venting, two front bellows pockets. |\\n| Men's TropicVibe Shirt, Short-Sleeve | UPF 50+              | Shell: 71% Nylon, 29% Polyester. Lining: 100% Polyester knit mesh. Wrinkle-resistant, front and back cape venting, two front bellows pockets. |\\n\\n**Sun Shield Shirt by:** Made of nylon and Lycra Xtra Life fiber, this shirt offers UPF 50+ sun protection. It wicks moisture, is abrasion-resistant, and fits comfortably over swimsuits.\\n\\n**Men's Tropical Plaid Short-Sleeve Shirt:** This shirt is made of 100% polyester, is wrinkle-resistant, and provides UPF 50+ sun protection. It features front and back cape venting and two front bellows pockets.\\n\\n**Men's Plaid Tropic Shirt, Short-Sleeve:** With a blend of polyester and nylon, this shirt offers UPF 50+ sun protection. It is wrinkle-free, quick-drying, and has front and back cape venting with two front bellows pockets.\\n\\n**Men's TropicVibe Shirt, Short-Sleeve:** Made of nylon and polyester, this shirt has UPF 50+ sun protection. It is wrinkle-resistant, has front and back cape venting, and two front bellows pockets.\""
      ]
     },
     "execution_count": 32,
     "metadata": {},
     "output_type": "execute_result"
    }
   ],
   "source": [
    "response = index.query(query, llm=llm)\n",
    "response"
   ]
  },
  {
   "cell_type": "code",
   "execution_count": null,
   "id": "91ee4bb4-9c89-45b3-b03e-5153a21a1e09",
   "metadata": {},
   "outputs": [],
   "source": []
  }
 ],
 "metadata": {
  "kernelspec": {
   "display_name": "Python 3 (ipykernel)",
   "language": "python",
   "name": "python3"
  },
  "language_info": {
   "codemirror_mode": {
    "name": "ipython",
    "version": 3
   },
   "file_extension": ".py",
   "mimetype": "text/x-python",
   "name": "python",
   "nbconvert_exporter": "python",
   "pygments_lexer": "ipython3",
   "version": "3.11.11"
  }
 },
 "nbformat": 4,
 "nbformat_minor": 5
}
