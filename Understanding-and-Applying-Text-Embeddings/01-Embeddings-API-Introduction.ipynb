{
 "cells": [
  {
   "cell_type": "markdown",
   "id": "12eefd1c-4aa8-415e-911d-45f287efd864",
   "metadata": {},
   "source": [
    "## Setup and Import Libraries"
   ]
  },
  {
   "cell_type": "code",
   "execution_count": 17,
   "id": "21944c89-53c1-4c8f-98a9-e0be8edf54ff",
   "metadata": {},
   "outputs": [],
   "source": [
    "import numpy as np\n",
    "import vertexai\n",
    "from utils import authenticate\n",
    "from vertexai.language_models import TextEmbeddingModel\n",
    "from sklearn.metrics.pairwise import cosine_similarity"
   ]
  },
  {
   "cell_type": "code",
   "execution_count": 2,
   "id": "99b8c3d8-d0cb-4a5e-b8df-ebca25477137",
   "metadata": {},
   "outputs": [],
   "source": [
    "credentials, PROJECT_ID = authenticate()"
   ]
  },
  {
   "cell_type": "code",
   "execution_count": 3,
   "id": "cc2bdfbd-b605-4088-8048-0f94797aec93",
   "metadata": {},
   "outputs": [
    {
     "name": "stdout",
     "output_type": "stream",
     "text": [
      "spherical-jetty-465410-u7\n"
     ]
    }
   ],
   "source": [
    "print(PROJECT_ID)"
   ]
  },
  {
   "cell_type": "code",
   "execution_count": 4,
   "id": "96b03734-dead-401d-aee6-c466c2b88df3",
   "metadata": {},
   "outputs": [],
   "source": [
    "REGION = 'us-central1'"
   ]
  },
  {
   "cell_type": "code",
   "execution_count": 5,
   "id": "6e922f53-9bcd-4b80-ad74-662700848700",
   "metadata": {},
   "outputs": [],
   "source": [
    "vertexai.init(\n",
    "    project=PROJECT_ID, \n",
    "    location=REGION, \n",
    "    credentials=credentials\n",
    ")"
   ]
  },
  {
   "cell_type": "markdown",
   "id": "b3940b72-239b-4529-9760-1cd5b7f8041d",
   "metadata": {},
   "source": [
    "## Use Embedding Model"
   ]
  },
  {
   "cell_type": "code",
   "execution_count": 7,
   "id": "a5eaef09-7ba8-48c8-8110-93f68a3a1dce",
   "metadata": {},
   "outputs": [],
   "source": [
    "embedding_model = TextEmbeddingModel.from_pretrained(\"text-embedding-005\")"
   ]
  },
  {
   "cell_type": "code",
   "execution_count": 8,
   "id": "e27f53dc-6a4e-47e9-8dd2-65a8d7107da4",
   "metadata": {},
   "outputs": [],
   "source": [
    "embedding = embedding_model.get_embeddings([\"life\"])"
   ]
  },
  {
   "cell_type": "code",
   "execution_count": 9,
   "id": "2b264390-846e-422c-a6ae-e066ea86c9d1",
   "metadata": {},
   "outputs": [
    {
     "name": "stdout",
     "output_type": "stream",
     "text": [
      "Length = 768\n",
      "[-0.03913220763206482, 0.011950427666306496, -0.033064886927604675, -0.01965772733092308, 0.005785454995930195, 0.0117251668125391, 0.03553176298737526, -0.03931012004613876, -0.021659476682543755, -0.006962527055293322]\n"
     ]
    }
   ],
   "source": [
    "vector = embedding[0].values\n",
    "print(f\"Length = {len(vector)}\")\n",
    "print(vector[:10])"
   ]
  },
  {
   "cell_type": "code",
   "execution_count": 10,
   "id": "ed399ea3-d3f8-4a8e-87f1-695f22cbb8c7",
   "metadata": {},
   "outputs": [
    {
     "name": "stdout",
     "output_type": "stream",
     "text": [
      "Length = 768\n",
      "[-0.07483217120170593, 0.022149646654725075, 0.05012010037899017, -0.024886615574359894, 0.008297066204249859, 0.004097355995327234, -0.0024798335507512093, -0.008898804895579815, 0.012297150678932667, 0.021235981956124306]\n"
     ]
    }
   ],
   "source": [
    "embedding = embedding_model.get_embeddings([\"What is the meaning of life?\"])\n",
    "vector = embedding[0].values\n",
    "print(f\"Length = {len(vector)}\")\n",
    "print(vector[:10])"
   ]
  },
  {
   "cell_type": "markdown",
   "id": "22ab8e22-d85e-48cc-9087-9cde10092030",
   "metadata": {},
   "source": [
    "## Similarity"
   ]
  },
  {
   "cell_type": "code",
   "execution_count": 11,
   "id": "15dbe1f7-8538-4f47-b86d-6d35f06d483e",
   "metadata": {},
   "outputs": [],
   "source": [
    "emb_1 = embedding_model.get_embeddings([\"What is the meaning of life?\"]) # 42!\n",
    "emb_2 = embedding_model.get_embeddings([\"How does one spend their time well on Earth?\"])\n",
    "emb_3 = embedding_model.get_embeddings([\"Would you like a salad?\"])\n",
    "\n",
    "vec_1 = [emb_1[0].values]\n",
    "vec_2 = [emb_2[0].values]\n",
    "vec_3 = [emb_3[0].values]"
   ]
  },
  {
   "cell_type": "code",
   "execution_count": 12,
   "id": "ef0e6f33-e5eb-4816-a46a-9a4b5d5dcbc5",
   "metadata": {},
   "outputs": [
    {
     "name": "stdout",
     "output_type": "stream",
     "text": [
      "[[0.60462254]]\n",
      "[[0.40394714]]\n",
      "[[0.46909041]]\n"
     ]
    }
   ],
   "source": [
    "print(cosine_similarity(vec_1,vec_2)) \n",
    "print(cosine_similarity(vec_2,vec_3))\n",
    "print(cosine_similarity(vec_1,vec_3))"
   ]
  },
  {
   "cell_type": "markdown",
   "id": "5f0d6061-c8be-41cf-a3a5-fd449f196b84",
   "metadata": {},
   "source": [
    "## From word to sentence embeddings\n",
    "\n",
    "- One possible way to calculate sentence embeddings from word embeddings is to take the average of the word embeddings.\n",
    "- This ignores word order and context, so two sentences with different meanings, but the same set of words will end up with the same sentence embedding."
   ]
  },
  {
   "cell_type": "code",
   "execution_count": 13,
   "id": "b5f38b39-6f05-4df0-a4e6-6827d9c61e7a",
   "metadata": {},
   "outputs": [],
   "source": [
    "in_1 = \"The kids play in the park.\"\n",
    "in_2 = \"The play was for kids in the park.\""
   ]
  },
  {
   "cell_type": "markdown",
   "id": "92652678-97ed-476f-865d-c25b5165b980",
   "metadata": {},
   "source": [
    "- Remove stop words like [\"the\", \"in\", \"for\", \"an\", \"is\"] and punctuation."
   ]
  },
  {
   "cell_type": "code",
   "execution_count": 14,
   "id": "378522de-ea11-44b4-b62f-359fcb1293a8",
   "metadata": {},
   "outputs": [],
   "source": [
    "in_pp_1 = [\"kids\", \"play\", \"park\"]\n",
    "in_pp_2 = [\"play\", \"kids\", \"park\"]"
   ]
  },
  {
   "cell_type": "markdown",
   "id": "56a5bcb5-0844-4254-a745-eb835421200b",
   "metadata": {},
   "source": [
    "- Generate one embedding for each word. So this is a list of three lists."
   ]
  },
  {
   "cell_type": "code",
   "execution_count": 15,
   "id": "c4c434a5-cb89-4b03-949c-020366d18fc2",
   "metadata": {},
   "outputs": [],
   "source": [
    "embeddings_1 = [emb.values for emb in embedding_model.get_embeddings(in_pp_1)]"
   ]
  },
  {
   "cell_type": "markdown",
   "id": "30821391-0fed-4674-a5cf-75e2a4aea371",
   "metadata": {},
   "source": [
    "- Use numpy to convert this list of lists into a 2D array of 3 rows and 768 columns."
   ]
  },
  {
   "cell_type": "code",
   "execution_count": 18,
   "id": "31de3248-82b8-4ac3-a14e-7715896ebe5e",
   "metadata": {},
   "outputs": [
    {
     "name": "stdout",
     "output_type": "stream",
     "text": [
      "(3, 768)\n"
     ]
    }
   ],
   "source": [
    "emb_array_1 = np.stack(embeddings_1)\n",
    "print(emb_array_1.shape)"
   ]
  },
  {
   "cell_type": "code",
   "execution_count": 19,
   "id": "1af6960e-accf-4017-8ff8-de561b4ccf7b",
   "metadata": {},
   "outputs": [
    {
     "name": "stdout",
     "output_type": "stream",
     "text": [
      "(3, 768)\n"
     ]
    }
   ],
   "source": [
    "embeddings_2 = [emb.values for emb in embedding_model.get_embeddings(in_pp_2)]\n",
    "emb_array_2 = np.stack(embeddings_2)\n",
    "print(emb_array_2.shape)"
   ]
  },
  {
   "cell_type": "markdown",
   "id": "7271fba8-2656-4e84-8ca3-46f8711af359",
   "metadata": {},
   "source": [
    "- Take the average embedding across the 3 word embeddings\n",
    "- You'll get a single embedding of length 768."
   ]
  },
  {
   "cell_type": "code",
   "execution_count": 20,
   "id": "53dc9c5e-09d7-4f07-a61b-65004e4be693",
   "metadata": {},
   "outputs": [
    {
     "name": "stdout",
     "output_type": "stream",
     "text": [
      "(768,)\n"
     ]
    }
   ],
   "source": [
    "emb_1_mean = emb_array_1.mean(axis = 0) \n",
    "print(emb_1_mean.shape)"
   ]
  },
  {
   "cell_type": "code",
   "execution_count": 21,
   "id": "7caad49e-bdbe-4bc6-81dd-3a87a00d885c",
   "metadata": {},
   "outputs": [
    {
     "name": "stdout",
     "output_type": "stream",
     "text": [
      "(768,)\n"
     ]
    }
   ],
   "source": [
    "emb_2_mean = emb_array_2.mean(axis = 0)\n",
    "print(emb_2_mean.shape)"
   ]
  },
  {
   "cell_type": "code",
   "execution_count": 22,
   "id": "10a8108e-b859-42f4-99c0-23a7f351a3fd",
   "metadata": {},
   "outputs": [
    {
     "name": "stdout",
     "output_type": "stream",
     "text": [
      "[-0.04184873 -0.00628616 -0.00435847 -0.06600513]\n",
      "[-0.04184873 -0.00628616 -0.00435847 -0.06600513]\n"
     ]
    }
   ],
   "source": [
    "print(emb_1_mean[:4])\n",
    "print(emb_2_mean[:4])"
   ]
  },
  {
   "cell_type": "markdown",
   "id": "0e4de3ba-c45b-4d71-80a2-e377e37fb935",
   "metadata": {},
   "source": [
    "**Get sentence embeddings from the model.**\n",
    "\n",
    "- These sentence embeddings account for word order and context.\n",
    "- Verify that the sentence embeddings are not the same."
   ]
  },
  {
   "cell_type": "code",
   "execution_count": 23,
   "id": "92c8fea2-56d4-46d4-95ab-d69c2b437b96",
   "metadata": {},
   "outputs": [
    {
     "name": "stdout",
     "output_type": "stream",
     "text": [
      "The kids play in the park.\n",
      "The play was for kids in the park.\n"
     ]
    }
   ],
   "source": [
    "print(in_1)\n",
    "print(in_2)"
   ]
  },
  {
   "cell_type": "code",
   "execution_count": 24,
   "id": "04398075-81e9-47cc-8de9-255872ef098b",
   "metadata": {},
   "outputs": [],
   "source": [
    "embedding_1 = embedding_model.get_embeddings([in_1])\n",
    "embedding_2 = embedding_model.get_embeddings([in_2])"
   ]
  },
  {
   "cell_type": "code",
   "execution_count": 25,
   "id": "34109227-f775-4c15-9e0f-09aa640baa1c",
   "metadata": {},
   "outputs": [
    {
     "name": "stdout",
     "output_type": "stream",
     "text": [
      "[-0.07484156638383865, -0.04629531502723694, 0.002040080027654767, -0.06604499369859695]\n"
     ]
    }
   ],
   "source": [
    "vector_1 = embedding_1[0].values\n",
    "print(vector_1[:4])"
   ]
  },
  {
   "cell_type": "code",
   "execution_count": 26,
   "id": "8b946db8-4f60-422c-95e4-62f949e7fe55",
   "metadata": {},
   "outputs": [
    {
     "name": "stdout",
     "output_type": "stream",
     "text": [
      "[-0.06621360033750534, -0.00042614544508978724, 0.04016496241092682, -0.08443807810544968]\n"
     ]
    }
   ],
   "source": [
    "vector_2 = embedding_2[0].values\n",
    "print(vector_2[:4])"
   ]
  },
  {
   "cell_type": "code",
   "execution_count": null,
   "id": "20d95c52-7d12-4d78-ab33-e80bb3450430",
   "metadata": {},
   "outputs": [],
   "source": []
  }
 ],
 "metadata": {
  "kernelspec": {
   "display_name": "Python 3 (ipykernel)",
   "language": "python",
   "name": "python3"
  },
  "language_info": {
   "codemirror_mode": {
    "name": "ipython",
    "version": 3
   },
   "file_extension": ".py",
   "mimetype": "text/x-python",
   "name": "python",
   "nbconvert_exporter": "python",
   "pygments_lexer": "ipython3",
   "version": "3.10.18"
  }
 },
 "nbformat": 4,
 "nbformat_minor": 5
}
