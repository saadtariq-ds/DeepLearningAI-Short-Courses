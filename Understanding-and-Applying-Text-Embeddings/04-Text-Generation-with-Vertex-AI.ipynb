{
 "cells": [
  {
   "cell_type": "markdown",
   "id": "7af47eae-78bf-4f45-9c4c-9b78b5509eb7",
   "metadata": {},
   "source": [
    "## Setup and Import Libraries"
   ]
  },
  {
   "cell_type": "code",
   "execution_count": 2,
   "id": "2d210946-7ca5-49e7-8e45-852f88b27620",
   "metadata": {},
   "outputs": [],
   "source": [
    "import vertexai\n",
    "from vertexai.generative_models import GenerativeModel, GenerationConfig\n",
    "from utils import authenticate"
   ]
  },
  {
   "cell_type": "code",
   "execution_count": 3,
   "id": "3130d602-419a-4451-a5cb-ed072092dcb0",
   "metadata": {},
   "outputs": [],
   "source": [
    "credentials, PROJECT_ID = authenticate()"
   ]
  },
  {
   "cell_type": "code",
   "execution_count": 4,
   "id": "b82ec02e-47a5-4050-8456-7dbe726a86ed",
   "metadata": {},
   "outputs": [],
   "source": [
    "REGION = 'us-central1'"
   ]
  },
  {
   "cell_type": "code",
   "execution_count": 5,
   "id": "4b8cfe0b-184e-4450-b27c-4318de40ff24",
   "metadata": {},
   "outputs": [],
   "source": [
    "vertexai.init(\n",
    "    project=PROJECT_ID, \n",
    "    location=REGION, \n",
    "    credentials=credentials\n",
    ")"
   ]
  },
  {
   "cell_type": "code",
   "execution_count": 7,
   "id": "7dbc59c8-9fd2-4eac-8376-f599405574b4",
   "metadata": {},
   "outputs": [],
   "source": [
    "model = GenerativeModel(\"gemini-2.5-flash\")"
   ]
  },
  {
   "cell_type": "markdown",
   "id": "3a2fde3d-2d31-4ee3-a11b-0f4059110c90",
   "metadata": {},
   "source": [
    "## Question Answering"
   ]
  },
  {
   "cell_type": "code",
   "execution_count": 8,
   "id": "197dc39c-4aae-43a4-bb54-6e69378a396c",
   "metadata": {},
   "outputs": [],
   "source": [
    "prompt = \"I'm a high school student. \\\n",
    "Recommend me a programming activity to improve my skills.\""
   ]
  },
  {
   "cell_type": "code",
   "execution_count": 9,
   "id": "dd2a8801-d791-460e-af1e-d116ed77c324",
   "metadata": {
    "scrolled": true
   },
   "outputs": [
    {
     "name": "stdout",
     "output_type": "stream",
     "text": [
      "That's a fantastic goal! As a high school student, focusing on practical application and building a portfolio can be incredibly beneficial for college applications and future careers.\n",
      "\n",
      "Here are a few programming activity recommendations, tailored to provide different kinds of skill development:\n",
      "\n",
      "---\n",
      "\n",
      "### **Top Recommendation: Build a Personal Project that Solves a Real Problem (or is just fun!)**\n",
      "\n",
      "This is, hands down, the best way to improve. It forces you to learn, problem-solve, and apply concepts in a tangible way.\n",
      "\n",
      "**Why it's great:**\n",
      "*   **Practical Application:** You're not just doing exercises; you're building something real.\n",
      "*   **Problem Solving:** You'll hit roadblocks and learn how to debug and find solutions.\n",
      "*   **Full Stack Experience (even if simple):** You'll touch on planning, designing, coding, testing, and deploying.\n",
      "*   **Portfolio Builder:** A finished project, even a simple one, looks great on college applications.\n",
      "*   **Motivation:** It's much more engaging when you're building something *you* care about.\n",
      "\n",
      "**Project Ideas (start small!):**\n",
      "\n",
      "1.  **Web-Based To-Do List/Planner:**\n",
      "    *   **Skills:** HTML, CSS, JavaScript (frontend); maybe Python/Flask or Node.js/Express (backend) for saving data; database (SQLite).\n",
      "    *   **Why:** Introduces web development basics, data persistence, user interaction. You can make it as simple or complex as you like (e.g., adding user accounts, due dates, categories).\n",
      "\n",
      "2.  **Simple 2D Game (e.g., Pong, Space Invaders clone, Snake):**\n",
      "    *   **Skills:** Python (with Pygame library), JavaScript (with HTML5 Canvas), or a game engine like Godot (free and open source).\n",
      "    *   **Why:** Great for logic, loops, conditionals, object-oriented programming (OOP) concepts, and visual feedback. Highly rewarding when it works!\n",
      "\n",
      "3.  **Personal Utility/Automation Script:**\n",
      "    *   **Skills:** Python (excellent for this), Bash scripting.\n",
      "    *   **Why:** Solves a personal pain point, teaches file I/O, API interaction, and system automation.\n",
      "        *   **Ideas:**\n",
      "            *   A script to organize files in a folder (e.g., move all `.jpg` files to an \"Images\" folder).\n",
      "            *   A simple weather app that gets data from an API.\n",
      "            *   A program that renames multiple files according to a pattern.\n",
      "            *   A script that fetches news headlines from a specific source.\n",
      "\n",
      "4.  **Interactive Data Visualization:**\n",
      "    *   **Skills:** Python (with libraries like Matplotlib, Seaborn, Plotly) or JavaScript (with D3.js).\n",
      "    *   **Why:** Learn how to collect, clean, and represent data visually. Good for scientific or analytical interests.\n",
      "        *   **Ideas:** Visualize your school's sports team stats, analyze public datasets (e.g., global temperatures, movie ratings).\n",
      "\n",
      "**How to approach a project:**\n",
      "\n",
      "1.  **Brainstorm:** What problem can you solve? What interests you?\n",
      "2.  **Start Simple:** Don't try to build the next Facebook. Build the core functionality first.\n",
      "3.  **Break It Down:** Divide the project into small, manageable tasks.\n",
      "4.  **Learn as You Go:** You won't know everything. Google is your best friend. Look up tutorials for specific components.\n",
      "5.  **Use Version Control (Git/GitHub):** Even for personal projects, learn to use Git. It's an industry standard and lets you track your progress, experiment, and easily share your code.\n",
      "6.  **Show It Off:** Once it's done (or even halfway), share it with friends, family, or online.\n",
      "\n",
      "---\n",
      "\n",
      "### **Other Excellent Activities to Diversify Your Skills:**\n",
      "\n",
      "1.  **Competitive Programming / Algorithmic Challenges:**\n",
      "    *   **What:** Solving programming puzzles with specific constraints (e.g., time limits, memory limits).\n",
      "    *   **Why:** Sharpen your problem-solving skills, improve your understanding of algorithms and data structures (essential for efficient code), and practice thinking logically under pressure.\n",
      "    *   **Where:**\n",
      "        *   **HackerRank / LeetCode:** Great for practicing specific concepts and preparing for interviews (start with easy problems).\n",
      "        *   **Codeforces / AtCoder:** More competitive contests, good for stretching your abilities.\n",
      "        *   **USACO (USA Computing Olympiad):** If you're in the US and serious about competitive programming, this is a fantastic program with structured learning.\n",
      "\n",
      "2.  **Contribute to Open Source:**\n",
      "    *   **What:** Finding existing open-source projects on GitHub and contributing bug fixes, new features, or documentation.\n",
      "    *   **Why:** Learn to read and understand large codebases, collaborate with other developers, understand real-world software development workflows, and gain experience with Git in a collaborative environment.\n",
      "    *   **How:** Look for projects with \"good first issue\" or \"help wanted\" labels on GitHub. Start with documentation fixes or small bug fixes.\n",
      "\n",
      "3.  **Participate in a Hackathon:**\n",
      "    *   **What:** Intense, time-limited events (usually 24-48 hours) where teams build a project from scratch based on a theme.\n",
      "    *   **Why:** Forces rapid learning, teamwork, prototyping, and presentation skills. It's a high-energy, fun way to apply your skills and network.\n",
      "    *   **Where:** Look for local high school hackathons, events organized by Major League Hacking (MLH), or college hackathons that allow high schoolers.\n",
      "\n",
      "4.  **Create Educational Content (Blog/Tutorials):**\n",
      "    *   **What:** Write blog posts, create video tutorials, or build interactive examples explaining a programming concept or how to build a small project.\n",
      "    *   **Why:** \"To teach is to learn twice.\" Explaining concepts to others forces you to deeply understand them yourself. It also builds your communication skills and creates a public record of your knowledge.\n",
      "\n",
      "---\n",
      "\n",
      "**General Tips for All Activities:**\n",
      "\n",
      "*   **Start Small, Iterate:** Don't try to build something huge initially. Get a basic version working, then add features.\n",
      "*   **Embrace Errors:** Errors are your friends! They tell you what's wrong. Learning to read error messages and debug is a crucial skill.\n",
      "*   **Google is Your Best Friend:** Don't be afraid to search for solutions, examples, or explanations. \"How to do X in Python,\" \"TypeError: Y,\" etc.\n",
      "*   **Join a Community:** Online forums (Stack Overflow, Reddit communities like r/learnprogramming), Discord servers, or local coding clubs can provide support and inspiration.\n",
      "*   **Consistency over Intensity:** 30 minutes every day is often more effective than 6 hours once a week.\n",
      "*   **Have Fun!** If it's not enjoyable, you'll lose motivation. Pick activities that genuinely excite you.\n",
      "\n",
      "Good luck! You're on a great path. Choose the activity that excites you the most, and just start building!\n"
     ]
    }
   ],
   "source": [
    "response = model.generate_content(prompt)\n",
    "print(response.text)"
   ]
  },
  {
   "cell_type": "markdown",
   "id": "5b97205f-7a01-43c3-8311-ed680b33aab2",
   "metadata": {},
   "source": [
    "### Classify and Elaborate\n",
    "\n",
    "For more predictability of the language model's response, you can also ask the language model to choose among a list of answers and then elaborate on its answer."
   ]
  },
  {
   "cell_type": "code",
   "execution_count": 10,
   "id": "06f8e080-52db-4398-8810-c78fee12b154",
   "metadata": {},
   "outputs": [],
   "source": [
    "prompt = \"\"\"I'm a high school student. \\\n",
    "Which of these activities do you suggest and why:\n",
    "a) learn Python\n",
    "b) learn Javascript\n",
    "c) learn Fortran\n",
    "\"\"\""
   ]
  },
  {
   "cell_type": "code",
   "execution_count": 11,
   "id": "bc2724cb-dac0-4a97-a7d3-fa1c05e659cc",
   "metadata": {
    "scrolled": true
   },
   "outputs": [
    {
     "name": "stdout",
     "output_type": "stream",
     "text": [
      "This is a fantastic question and shows great initiative! As a high school student looking to dip your toes into programming, making the right choice for your first language can significantly impact your learning experience and future interests.\n",
      "\n",
      "Out of the three options, I strongly recommend you start with **a) learn Python**.\n",
      "\n",
      "Here's why, breaking down each option:\n",
      "\n",
      "---\n",
      "\n",
      "### **a) Learn Python (Strongly Recommended for you)**\n",
      "\n",
      "**Why it's the best choice for a high school student:**\n",
      "\n",
      "1.  **Beginner-Friendly Syntax:** Python is famous for its readability. Its syntax is clean, intuitive, and often compared to plain English. This means you'll spend less time wrestling with complex grammar rules and more time understanding programming concepts (like loops, variables, functions, etc.).\n",
      "    *   *Example:* Printing \"Hello, World!\" in Python is simply `print(\"Hello, World!\")`. No semicolons, no curly braces.\n",
      "\n",
      "2.  **Versatility and Wide Applications:** Python is incredibly versatile. Once you learn the basics, you can:\n",
      "    *   Build **web applications** (using frameworks like Django or Flask).\n",
      "    *   Work with **data science and artificial intelligence** (it's the dominant language in these fields with libraries like NumPy, Pandas, TensorFlow, PyTorch).\n",
      "    *   Automate repetitive tasks (scripting).\n",
      "    *   Develop **games** (e.g., with Pygame).\n",
      "    *   Perform scientific computing.\n",
      "    *   Do simple command-line tools.\n",
      "    This breadth of application means you can explore many different areas and find what truly interests you, making your learning relevant for many potential career paths or college majors.\n",
      "\n",
      "3.  **Massive Community and Resources:** Because of its popularity, Python has an enormous and supportive community. This means:\n",
      "    *   Countless free online tutorials, courses (e.g., Codecademy, freeCodeCamp, CS50 Python, official Python documentation).\n",
      "    *   An abundance of libraries and frameworks to help you build things faster.\n",
      "    *   Easy to find answers to your questions on forums like Stack Overflow.\n",
      "\n",
      "4.  **High Demand:** Python skills are highly sought after in many industries, from tech giants to research institutions. Learning Python now will give you a valuable head start.\n",
      "\n",
      "5.  **Excellent Foundation:** Learning Python first provides a strong foundation in core programming logic and computational thinking that is transferable to almost any other language you might learn later.\n",
      "\n",
      "---\n",
      "\n",
      "### **b) Learn JavaScript (Recommended as a Second Language)**\n",
      "\n",
      "**Why it's important, but perhaps not ideal as a *first* language:**\n",
      "\n",
      "1.  **Ubiquitous in Web Development:** JavaScript is the language of the web browser. If you want to make interactive websites, build dynamic user interfaces (UIs), or work with front-end web development, JavaScript is absolutely essential. With Node.js, it can also be used for back-end development.\n",
      "\n",
      "2.  **Immediate Visual Feedback:** Building web pages can be very engaging because you see your results instantly in a browser, which can be highly motivating.\n",
      "\n",
      "**Why it might be a *trickier first language* than Python:**\n",
      "\n",
      "*   **Asynchronous Nature:** JavaScript handles many operations asynchronously (things happen in the background without blocking the main program). While powerful, this concept can be confusing for absolute beginners.\n",
      "*   **DOM Manipulation:** To make interactive web pages, you'll quickly need to learn about the Document Object Model (DOM) and how to manipulate it, which adds another layer of complexity beyond core programming concepts.\n",
      "*   **\"Quirks\":** Historically, JavaScript has had some idiosyncratic behaviors that can surprise newcomers (though modern JS has improved significantly).\n",
      "\n",
      "**My Advice:** Once you have a solid grasp of programming fundamentals from Python, diving into JavaScript for web development will be much smoother and more rewarding.\n",
      "\n",
      "---\n",
      "\n",
      "### **c) Learn Fortran (Not Recommended for a General High School Student)**\n",
      "\n",
      "**Why it's not the right choice for you:**\n",
      "\n",
      "1.  **Niche Application:** Fortran (Formula Translation) is one of the oldest programming languages, developed in the 1950s. It is still highly relevant and widely used in very specific domains:\n",
      "    *   **High-Performance Computing (HPC):** For complex numerical simulations, scientific research (physics, chemistry, meteorology, aerospace), and supercomputing applications where raw computational speed is paramount.\n",
      "    *   **Legacy Codebases:** Many established scientific and engineering projects still rely on Fortran.\n",
      "\n",
      "2.  **Steeper Learning Curve for General Purpose:** Its syntax can feel more verbose and less modern compared to Python or JavaScript. It's a compiled language, which means the development cycle can be a bit slower for beginners (write code, compile, run, debug, repeat). Concepts like explicit memory management can be challenging.\n",
      "\n",
      "3.  **Limited General Utility:** Unless you have a very specific interest in computational physics, numerical analysis, or working with extremely fast scientific simulations, Fortran won't be useful for general application development, web development, or data science. You won't find many beginner-friendly resources or immediate practical projects outside its niche.\n",
      "\n",
      "**My Advice:** Unless you are absolutely certain that you want to pursue a very specific scientific or engineering field in college that heavily relies on HPC (and your future professors might even teach it to you then), avoid Fortran for now. It's not a good \"first language\" to give you a broad understanding or immediate practical skills.\n",
      "\n",
      "---\n",
      "\n",
      "### **In Summary & Next Steps:**\n",
      "\n",
      "**Start with Python.** It will give you the best combination of an easy learning curve, broad applicability, and a welcoming community.\n",
      "\n",
      "**Once you feel comfortable with Python's fundamentals:**\n",
      "\n",
      "*   If you want to build websites and web applications, **learn JavaScript**.\n",
      "*   If you want to specialize in high-performance scientific computing later in college, Fortran *might* come up, but don't worry about it now.\n",
      "\n",
      "**How to get started with Python:**\n",
      "\n",
      "1.  **Install Python:** Go to `python.org` and download the latest version for your operating system.\n",
      "2.  **Choose a learning resource:**\n",
      "    *   **freeCodeCamp:** Excellent text-based and video tutorials.\n",
      "    *   **Codecademy:** Interactive browser-based courses.\n",
      "    *   **CS50's Introduction to Programming with Python:** A more in-depth university-level course, freely available online.\n",
      "    *   **Official Python Tutorial:** Good for reference.\n",
      "3.  **Start with a simple project:** Don't just learn syntax. Try to build something small:\n",
      "    *   A \"Guess the Number\" game.\n",
      "    *   A simple calculator.\n",
      "    *   A script to organize files on your computer.\n",
      "    *   A command-line rock-paper-scissors game.\n",
      "\n",
      "Good luck! This is an exciting journey you're embarking on.\n"
     ]
    }
   ],
   "source": [
    "response = model.generate_content(prompt)\n",
    "print(response.text)"
   ]
  },
  {
   "cell_type": "markdown",
   "id": "e4208522-01f0-474f-842a-fd269969ceb7",
   "metadata": {},
   "source": [
    "### Extract information and format it as a table"
   ]
  },
  {
   "cell_type": "code",
   "execution_count": 12,
   "id": "7c18e77c-4bb6-4a9b-bd0e-d12e8970b93d",
   "metadata": {},
   "outputs": [],
   "source": [
    "prompt = \"\"\" A bright and promising wildlife biologist \\\n",
    "named Jesse Plank (Amara Patel) is determined to make her \\\n",
    "mark on the world. \n",
    "Jesse moves to Texas for what she believes is her dream job, \n",
    "only to discover a dark secret that will make \\\n",
    "her question everything. \n",
    "In the new lab she quickly befriends the outgoing \\\n",
    "lab tech named Maya Jones (Chloe Nguyen), \n",
    "and the lab director Sam Porter (Fredrik Johansson). \n",
    "Together the trio work long hours on their research \\\n",
    "in a hope to change the world for good. \n",
    "Along the way they meet the comical \\\n",
    "Brenna Ode (Eleanor Garcia) who is a marketing lead \\\n",
    "at the research institute, \n",
    "and marine biologist Siri Teller (Freya Johansson).\n",
    "\n",
    "Extract the characters, their jobs \\\n",
    "and the actors who played them from the above message as a table\n",
    "\"\"\""
   ]
  },
  {
   "cell_type": "code",
   "execution_count": 13,
   "id": "fbab0c9a-6aab-41c3-84d7-993dae560260",
   "metadata": {},
   "outputs": [
    {
     "name": "stdout",
     "output_type": "stream",
     "text": [
      "Here is the extracted information in a table:\n",
      "\n",
      "| Character     | Actor           | Job                 |\n",
      "| :------------ | :-------------- | :------------------ |\n",
      "| Jesse Plank   | Amara Patel     | Wildlife Biologist  |\n",
      "| Maya Jones    | Chloe Nguyen    | Lab Tech            |\n",
      "| Sam Porter    | Fredrik Johansson| Lab Director        |\n",
      "| Brenna Ode    | Eleanor Garcia  | Marketing Lead      |\n",
      "| Siri Teller   | Freya Johansson | Marine Biologist    |\n"
     ]
    }
   ],
   "source": [
    "response = model.generate_content(prompt)\n",
    "print(response.text)"
   ]
  },
  {
   "cell_type": "markdown",
   "id": "4236825c-5815-4148-a1b2-6311b9ac1985",
   "metadata": {},
   "source": [
    "## Adjusting Creativity/Randomness\n",
    "\n",
    "- You can control the behavior of the language model's decoding strategy by adjusting the temperature, top-k, and top-n parameters.\n",
    "- For tasks for which you want the model to consistently output the same result for the same input, (such as classification or information extraction), set temperature to zero.\n",
    "- For tasks where you desire more creativity, such as brainstorming, summarization, choose a higher temperature (up to 1)."
   ]
  },
  {
   "cell_type": "markdown",
   "id": "0c7e1643-3bd5-47b3-a1de-5b77f5241617",
   "metadata": {},
   "source": [
    "### Temperature"
   ]
  },
  {
   "cell_type": "code",
   "execution_count": 14,
   "id": "9fe7b5b2-3642-469a-96c6-ad1ea833e0b7",
   "metadata": {},
   "outputs": [],
   "source": [
    "config = GenerationConfig(\n",
    "    temperature=0.0\n",
    ")"
   ]
  },
  {
   "cell_type": "code",
   "execution_count": 15,
   "id": "00cda99f-6824-4d34-a1c6-dafe1fee1536",
   "metadata": {},
   "outputs": [],
   "source": [
    "prompt = \"Complete the sentence: \\\n",
    "As I prepared the picture frame, \\\n",
    "I reached into my toolkit to fetch my:\""
   ]
  },
  {
   "cell_type": "code",
   "execution_count": 16,
   "id": "38bebd13-9371-4d5e-b7e4-7563c239855e",
   "metadata": {},
   "outputs": [
    {
     "name": "stdout",
     "output_type": "stream",
     "text": [
      "As I prepared the picture frame, I reached into my toolkit to fetch my:\n",
      "\n",
      "*   **screwdriver**\n",
      "*   **hammer**\n",
      "*   **tape measure**\n",
      "*   **point driver**\n",
      "*   **pliers**\n"
     ]
    }
   ],
   "source": [
    "response = model.generate_content(contents=prompt, generation_config=config)\n",
    "print(response.text)"
   ]
  },
  {
   "cell_type": "code",
   "execution_count": 17,
   "id": "da86326c-d6e1-4631-87e8-d49146f372fc",
   "metadata": {},
   "outputs": [],
   "source": [
    "config = GenerationConfig(\n",
    "    temperature=1\n",
    ")"
   ]
  },
  {
   "cell_type": "code",
   "execution_count": 18,
   "id": "9a931641-a6f3-4965-96b8-861e8f0a2984",
   "metadata": {},
   "outputs": [
    {
     "name": "stdout",
     "output_type": "stream",
     "text": [
      "**screwdriver** (for tiny screws on the backing or hanging hardware)\n",
      "**hammer** (for picture hanging nails or brads to secure the backing)\n",
      "**level** (to ensure it hangs straight)\n",
      "**tape measure** (to position it correctly on the wall)\n",
      "\n",
      "Any of these would be a logical completion! \"Screwdriver\" or \"hammer\" are probably the most common first thoughts for \"fetching\" a tool for a picture frame.\n"
     ]
    }
   ],
   "source": [
    "response = model.generate_content(contents=prompt, generation_config=config)\n",
    "print(response.text)"
   ]
  },
  {
   "cell_type": "markdown",
   "id": "cbab9abe-bed7-4d87-a961-8db349487524",
   "metadata": {},
   "source": [
    "### Top P\n",
    "\n",
    "- Top p: sample the minimum set of tokens whose probabilities add up to probability p or greater.\n",
    "- The default value for top_p is 0.95.\n",
    "- If you want to adjust top_p and top_k and see different results, remember to set temperature to be greater than zero, otherwise the model will always choose the token with the highest probability."
   ]
  },
  {
   "cell_type": "code",
   "execution_count": 19,
   "id": "5f31b1f2-d31b-4a96-a1fe-3e3bede028d9",
   "metadata": {},
   "outputs": [],
   "source": [
    "config = GenerationConfig(\n",
    "    temperature=0.9,\n",
    "    top_p=0.2\n",
    ")"
   ]
  },
  {
   "cell_type": "code",
   "execution_count": 20,
   "id": "647fccfe-1838-4793-9709-61290c406106",
   "metadata": {},
   "outputs": [],
   "source": [
    "prompt = \"Write an advertisement for jackets \\\n",
    "that involves blue elephants and avocados.\""
   ]
  },
  {
   "cell_type": "code",
   "execution_count": 21,
   "id": "2efc3e86-f4bb-4bc2-b1dc-1fc3b69f8e21",
   "metadata": {},
   "outputs": [
    {
     "name": "stdout",
     "output_type": "stream",
     "text": [
      "## Mythic Threads: Beyond the Horizon Jacket\n",
      "\n",
      "**(Image: A sleek, stylish jacket in a deep, rich blue. Subtly, almost like a watermark, a majestic blue elephant's silhouette is visible on the fabric. In the foreground, a perfectly ripe, sliced avocado rests on a smooth, dark surface, its creamy green flesh inviting.)**\n",
      "\n",
      "---\n",
      "\n",
      "**Tired of the Ordinary? What if your jacket felt... different?**\n",
      "\n",
      "Imagine a world where comfort isn't just a feeling, but an experience. Where style isn't just seen, but *felt* in every fiber. Welcome to the realm of **Mythic Threads**, and our revolutionary **Beyond the Horizon Jacket**.\n",
      "\n",
      "**Unleash Your Inner Blue Elephant.**\n",
      "Just like the legendary blue elephant – rare, powerful, and unforgettable – our jackets command attention without shouting. Crafted with an unparalleled blend of durability and presence, the **Beyond the Horizon Jacket** is built to withstand the urban jungle or the wild frontier. Its robust outer shell, inspired by the elephant's resilient hide, offers steadfast protection against wind, rain, and the unexpected. You won't just wear a jacket; you'll embody a quiet strength, a unique spirit that stands out from the herd.\n",
      "\n",
      "**Experience Avocado-Smooth Comfort.**\n",
      "Now, imagine slipping into the lining. As smooth, rich, and comforting as the perfectly ripe flesh of an avocado. Our innovative inner lining is designed for unparalleled softness, wrapping you in a gentle embrace that feels like a second skin. It's breathable, insulating, and utterly luxurious – ensuring you stay warm when it's cold, and comfortably cool when the adventure heats up. Just as an avocado nourishes your body, our jacket nourishes your sense of well-being, making every wear a moment of pure bliss.\n",
      "\n",
      "**The Mythic Fusion:**\n",
      "The **Beyond the Horizon Jacket** isn't just outerwear; it's a statement. It's the fusion of the blue elephant's legendary strength and unforgettable presence with the avocado's creamy comfort and protective essence. It's for the bold, the unique, the ones who seek more than just warmth – they seek an experience.\n",
      "\n",
      "**Features:**\n",
      "*   **Blue Elephant Durability:** Weather-resistant outer shell for ultimate protection.\n",
      "*   **Avocado-Smooth Lining:** Luxuriously soft and breathable interior for all-day comfort.\n",
      "*   **Mythic Style:** Unique design that blends classic elegance with a touch of the extraordinary.\n",
      "*   **Versatile Performance:** Perfect for city streets, mountain trails, or simply making a statement.\n",
      "\n",
      "**Don't just wear a jacket. Wear a legend.**\n",
      "\n",
      "**Mythic Threads: Beyond the Horizon Jacket.**\n",
      "**Discover Yours Today at MythicThreads.com**\n",
      "*(Available in a range of deep blues, forest greens, and charcoal grays.)*\n"
     ]
    }
   ],
   "source": [
    "response = model.generate_content(contents=prompt, generation_config=config)\n",
    "print(response.text)"
   ]
  },
  {
   "cell_type": "markdown",
   "id": "95d9c68c-4910-499b-a7f2-93516dac4b48",
   "metadata": {},
   "source": [
    "### Top k\n",
    "\n",
    "- The default value for top_k is 40.\n",
    "- You can set top_k to values between 1 and 40.\n",
    "- The decoding strategy applies top_k, then top_p, then temperature (in that order)."
   ]
  },
  {
   "cell_type": "code",
   "execution_count": 22,
   "id": "df24618f-34e2-49ec-aca5-c4090278f8e5",
   "metadata": {},
   "outputs": [],
   "source": [
    "config = GenerationConfig(\n",
    "    temperature=0.9,\n",
    "    top_p=0.7,\n",
    "    top_k=20\n",
    ")"
   ]
  },
  {
   "cell_type": "code",
   "execution_count": 23,
   "id": "9594e395-c81f-4742-9c0c-3981135e91f2",
   "metadata": {},
   "outputs": [],
   "source": [
    "prompt = \"Write an advertisement for jackets \\\n",
    "that involves blue elephants and avocados.\""
   ]
  },
  {
   "cell_type": "code",
   "execution_count": 24,
   "id": "ed18cc47-a8e1-48a4-9757-37cbad0edd6a",
   "metadata": {},
   "outputs": [
    {
     "name": "stdout",
     "output_type": "stream",
     "text": [
      "## Nimbus Wear: Beyond the Ordinary.\n",
      "\n",
      "**(Image: A whimsical, slightly surreal scene. A majestic, deep blue elephant stands calmly, perhaps with a single, perfectly ripe avocado balanced delicately on its trunk. The background is a blend of urban cool and wild nature – a city skyline under a starry night, with a hint of lush green foliage.)**\n",
      "\n",
      "---\n",
      "\n",
      "**Headline: Ever Worn a Dream?**\n",
      "\n",
      "**Body:**\n",
      "\n",
      "In a world of beige, dare to dream in cerulean.\n",
      "You know that feeling when you bite into a perfectly ripe avocado – creamy, rich, utterly satisfying? Or the awe inspired by the sheer, magnificent presence of a blue elephant, a creature of impossible beauty and quiet strength?\n",
      "\n",
      "At **Nimbus Wear**, we believe your jacket should evoke that same sense of wonder, comfort, and undeniable presence.\n",
      "\n",
      "**Introducing the Nimbus Wear Collection:**\n",
      "\n",
      "*   **The Blue Elephant Spirit:** Our jackets are crafted with the unshakeable presence of a blue elephant. Durable, resilient, and utterly unique. They stand up to the wildest winds and the sharpest city edges, protecting you with a confidence that's both bold and serene. You won't just blend in; you'll stand out, a beacon of effortless style.\n",
      "*   **The Avocado Embrace:** Slip into a Nimbus Wear jacket and experience the buttery-smooth embrace of a perfectly ripe avocado. Our plush inner linings and ergonomic designs offer unparalleled comfort, wrapping you in a warmth that feels both luxurious and natural. It's the kind of comfort that makes you want to live in your jacket, from dawn's first light to the deepest night.\n",
      "\n",
      "**Why settle for just a jacket when you can wear an experience?**\n",
      "Nimbus Wear jackets are more than just protection from the elements; they're a statement. They're for the dreamers, the doers, the ones who see the extraordinary in the everyday.\n",
      "\n",
      "**Features You'll Love:**\n",
      "*   **Weather-Resistant Outer Shells:** As tough and unique as a blue elephant's hide.\n",
      "*   **Ultra-Soft, Breathable Linings:** The creamy comfort of an avocado, all day long.\n",
      "*   **Versatile Style:** From mountain trails to urban jungles, seamlessly transition with effortless flair.\n",
      "*   **Sustainable Craftsmanship:** Because the world deserves our care, just like those rare blue elephants and precious avocados.\n",
      "\n",
      "**Don't just dress for the weather. Dress for the wonder.**\n",
      "\n",
      "---\n",
      "\n",
      "**Call to Action:**\n",
      "**Discover your new favorite jacket. Visit NimbusWear.com today!**\n",
      "*(No actual elephants or avocados were harmed in the making of this jacket, just profoundly inspired.)*\n"
     ]
    }
   ],
   "source": [
    "response = model.generate_content(contents=prompt, generation_config=config)\n",
    "print(response.text)"
   ]
  },
  {
   "cell_type": "code",
   "execution_count": null,
   "id": "3b78f0ce-081d-4d13-a61f-f88e23896dbb",
   "metadata": {},
   "outputs": [],
   "source": []
  }
 ],
 "metadata": {
  "kernelspec": {
   "display_name": "Python 3 (ipykernel)",
   "language": "python",
   "name": "python3"
  },
  "language_info": {
   "codemirror_mode": {
    "name": "ipython",
    "version": 3
   },
   "file_extension": ".py",
   "mimetype": "text/x-python",
   "name": "python",
   "nbconvert_exporter": "python",
   "pygments_lexer": "ipython3",
   "version": "3.10.18"
  }
 },
 "nbformat": 4,
 "nbformat_minor": 5
}
