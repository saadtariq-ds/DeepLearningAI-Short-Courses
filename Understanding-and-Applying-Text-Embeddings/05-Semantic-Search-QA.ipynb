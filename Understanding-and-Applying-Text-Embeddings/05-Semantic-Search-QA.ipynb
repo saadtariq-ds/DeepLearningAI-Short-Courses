{
 "cells": [
  {
   "cell_type": "markdown",
   "id": "b6d08d64-a16c-4e89-b047-25f320ae36c5",
   "metadata": {},
   "source": [
    "## Setup and Import Libraries"
   ]
  },
  {
   "cell_type": "code",
   "execution_count": 2,
   "id": "cee384cc-fb62-4539-8ea8-daef51719ae2",
   "metadata": {},
   "outputs": [],
   "source": [
    "import vertexai\n",
    "import pickle\n",
    "import time\n",
    "import pandas as pd\n",
    "import numpy as np\n",
    "from vertexai.generative_models import GenerativeModel, GenerationConfig\n",
    "from vertexai.language_models import TextEmbeddingModel\n",
    "from sklearn.metrics.pairwise import cosine_similarity\n",
    "from sklearn.metrics import pairwise_distances_argmin as distances_argmin\n",
    "from utils import authenticate, encode_text_to_embedding_batched\n",
    "from IPython.display import Markdown, display"
   ]
  },
  {
   "cell_type": "code",
   "execution_count": 3,
   "id": "8c51254a-3a8f-46f2-8c59-2da68bcfbef1",
   "metadata": {},
   "outputs": [],
   "source": [
    "credentials, PROJECT_ID = authenticate()"
   ]
  },
  {
   "cell_type": "code",
   "execution_count": 4,
   "id": "8a5589bc-d8e9-497b-9831-0177fce9f98a",
   "metadata": {},
   "outputs": [],
   "source": [
    "REGION = 'us-central1'"
   ]
  },
  {
   "cell_type": "code",
   "execution_count": 5,
   "id": "4bec266e-c943-4f72-9a76-f459e1655780",
   "metadata": {},
   "outputs": [],
   "source": [
    "vertexai.init(\n",
    "    project=PROJECT_ID, \n",
    "    location=REGION, \n",
    "    credentials=credentials\n",
    ")"
   ]
  },
  {
   "cell_type": "code",
   "execution_count": 7,
   "id": "5ab59fd2-af02-4aab-9b38-4e7f643c0a5e",
   "metadata": {},
   "outputs": [],
   "source": [
    "embedding_model = TextEmbeddingModel.from_pretrained(\"text-embedding-005\")"
   ]
  },
  {
   "cell_type": "code",
   "execution_count": 9,
   "id": "4eadce39-c7a9-4225-9059-ea0045ca9fe7",
   "metadata": {},
   "outputs": [],
   "source": [
    "model = GenerativeModel(\"gemini-2.0-flash-001\")"
   ]
  },
  {
   "cell_type": "markdown",
   "id": "208ef2df-30f3-4604-84fe-3eb8699a1968",
   "metadata": {},
   "source": [
    "## Load Stack Overflow Questions and Answers"
   ]
  },
  {
   "cell_type": "code",
   "execution_count": 10,
   "id": "e245547c-fab4-45b5-abcf-743684db10ca",
   "metadata": {},
   "outputs": [],
   "source": [
    "df = pd.read_csv('so_database_app.csv')"
   ]
  },
  {
   "cell_type": "code",
   "execution_count": 11,
   "id": "a36a8207-f9b2-4ee4-93a9-10519de68295",
   "metadata": {},
   "outputs": [
    {
     "name": "stdout",
     "output_type": "stream",
     "text": [
      "Shape: (2000, 3)\n"
     ]
    },
    {
     "data": {
      "text/html": [
       "<div>\n",
       "<style scoped>\n",
       "    .dataframe tbody tr th:only-of-type {\n",
       "        vertical-align: middle;\n",
       "    }\n",
       "\n",
       "    .dataframe tbody tr th {\n",
       "        vertical-align: top;\n",
       "    }\n",
       "\n",
       "    .dataframe thead th {\n",
       "        text-align: right;\n",
       "    }\n",
       "</style>\n",
       "<table border=\"1\" class=\"dataframe\">\n",
       "  <thead>\n",
       "    <tr style=\"text-align: right;\">\n",
       "      <th></th>\n",
       "      <th>input_text</th>\n",
       "      <th>output_text</th>\n",
       "      <th>category</th>\n",
       "    </tr>\n",
       "  </thead>\n",
       "  <tbody>\n",
       "    <tr>\n",
       "      <th>0</th>\n",
       "      <td>python's inspect.getfile returns \"&lt;string&gt;\"&lt;p&gt;...</td>\n",
       "      <td>&lt;p&gt;&lt;code&gt;&amp;lt;string&amp;gt;&lt;/code&gt; means that the ...</td>\n",
       "      <td>python</td>\n",
       "    </tr>\n",
       "    <tr>\n",
       "      <th>1</th>\n",
       "      <td>Passing parameter to function while multithrea...</td>\n",
       "      <td>&lt;p&gt;Try this and note the difference:&lt;/p&gt;\\n&lt;pre...</td>\n",
       "      <td>python</td>\n",
       "    </tr>\n",
       "    <tr>\n",
       "      <th>2</th>\n",
       "      <td>How do we test a specific method written in a ...</td>\n",
       "      <td>&lt;p&gt;Duplicate of &lt;a href=\"https://stackoverflow...</td>\n",
       "      <td>python</td>\n",
       "    </tr>\n",
       "    <tr>\n",
       "      <th>3</th>\n",
       "      <td>how can i remove the black bg color of an imag...</td>\n",
       "      <td>&lt;p&gt;The alpha channel &amp;quot;disappears&amp;quot; be...</td>\n",
       "      <td>python</td>\n",
       "    </tr>\n",
       "    <tr>\n",
       "      <th>4</th>\n",
       "      <td>How to extract each sheet within an Excel file...</td>\n",
       "      <td>&lt;p&gt;You need to specify the &lt;code&gt;index&lt;/code&gt; ...</td>\n",
       "      <td>python</td>\n",
       "    </tr>\n",
       "  </tbody>\n",
       "</table>\n",
       "</div>"
      ],
      "text/plain": [
       "                                          input_text  \\\n",
       "0  python's inspect.getfile returns \"<string>\"<p>...   \n",
       "1  Passing parameter to function while multithrea...   \n",
       "2  How do we test a specific method written in a ...   \n",
       "3  how can i remove the black bg color of an imag...   \n",
       "4  How to extract each sheet within an Excel file...   \n",
       "\n",
       "                                         output_text category  \n",
       "0  <p><code>&lt;string&gt;</code> means that the ...   python  \n",
       "1  <p>Try this and note the difference:</p>\\n<pre...   python  \n",
       "2  <p>Duplicate of <a href=\"https://stackoverflow...   python  \n",
       "3  <p>The alpha channel &quot;disappears&quot; be...   python  \n",
       "4  <p>You need to specify the <code>index</code> ...   python  "
      ]
     },
     "execution_count": 11,
     "metadata": {},
     "output_type": "execute_result"
    }
   ],
   "source": [
    "print(\"Shape: \" + str(df.shape))\n",
    "df.head()"
   ]
  },
  {
   "cell_type": "markdown",
   "id": "c8ac3498-8c6b-4998-aa66-6716492e9dcc",
   "metadata": {},
   "source": [
    "## Load Question Embeddings"
   ]
  },
  {
   "cell_type": "code",
   "execution_count": 12,
   "id": "fed8051d-9da1-45f0-875c-5169f7abc026",
   "metadata": {},
   "outputs": [
    {
     "name": "stdout",
     "output_type": "stream",
     "text": [
      "[[-0.03571156 -0.00240684  0.05860338 ... -0.03100227 -0.00855574\n",
      "  -0.01997405]\n",
      " [-0.02024316 -0.0026255   0.01940405 ... -0.02158143 -0.05655403\n",
      "  -0.01040497]\n",
      " [-0.05175979 -0.03712264  0.02699278 ... -0.07055898 -0.0402537\n",
      "   0.00092099]\n",
      " ...\n",
      " [-0.00580394 -0.01621097  0.05829635 ... -0.03350992 -0.05343556\n",
      "  -0.06016821]\n",
      " [-0.00436622 -0.02692963  0.03363771 ... -0.01686567 -0.03812337\n",
      "  -0.02329491]\n",
      " [-0.04240424 -0.01633749  0.05516777 ... -0.02697376 -0.01751165\n",
      "  -0.04558187]]\n"
     ]
    }
   ],
   "source": [
    "with open('question_embeddings_app.pkl', 'rb') as file:\n",
    "      \n",
    "    # Call load method to deserialze\n",
    "    question_embeddings = pickle.load(file)\n",
    "    print(question_embeddings)"
   ]
  },
  {
   "cell_type": "code",
   "execution_count": 13,
   "id": "ae4e2ef7-f1a3-465d-a0cd-2920f8acca2c",
   "metadata": {},
   "outputs": [
    {
     "data": {
      "text/html": [
       "<div>\n",
       "<style scoped>\n",
       "    .dataframe tbody tr th:only-of-type {\n",
       "        vertical-align: middle;\n",
       "    }\n",
       "\n",
       "    .dataframe tbody tr th {\n",
       "        vertical-align: top;\n",
       "    }\n",
       "\n",
       "    .dataframe thead th {\n",
       "        text-align: right;\n",
       "    }\n",
       "</style>\n",
       "<table border=\"1\" class=\"dataframe\">\n",
       "  <thead>\n",
       "    <tr style=\"text-align: right;\">\n",
       "      <th></th>\n",
       "      <th>input_text</th>\n",
       "      <th>output_text</th>\n",
       "      <th>category</th>\n",
       "      <th>embeddings</th>\n",
       "    </tr>\n",
       "  </thead>\n",
       "  <tbody>\n",
       "    <tr>\n",
       "      <th>0</th>\n",
       "      <td>python's inspect.getfile returns \"&lt;string&gt;\"&lt;p&gt;...</td>\n",
       "      <td>&lt;p&gt;&lt;code&gt;&amp;lt;string&amp;gt;&lt;/code&gt; means that the ...</td>\n",
       "      <td>python</td>\n",
       "      <td>[-0.03571155667304993, -0.0024068362545222044,...</td>\n",
       "    </tr>\n",
       "    <tr>\n",
       "      <th>1</th>\n",
       "      <td>Passing parameter to function while multithrea...</td>\n",
       "      <td>&lt;p&gt;Try this and note the difference:&lt;/p&gt;\\n&lt;pre...</td>\n",
       "      <td>python</td>\n",
       "      <td>[-0.020243162289261818, -0.002625499852001667,...</td>\n",
       "    </tr>\n",
       "    <tr>\n",
       "      <th>2</th>\n",
       "      <td>How do we test a specific method written in a ...</td>\n",
       "      <td>&lt;p&gt;Duplicate of &lt;a href=\"https://stackoverflow...</td>\n",
       "      <td>python</td>\n",
       "      <td>[-0.05175979062914848, -0.03712264448404312, 0...</td>\n",
       "    </tr>\n",
       "    <tr>\n",
       "      <th>3</th>\n",
       "      <td>how can i remove the black bg color of an imag...</td>\n",
       "      <td>&lt;p&gt;The alpha channel &amp;quot;disappears&amp;quot; be...</td>\n",
       "      <td>python</td>\n",
       "      <td>[0.02206624671816826, -0.028208276256918907, 0...</td>\n",
       "    </tr>\n",
       "    <tr>\n",
       "      <th>4</th>\n",
       "      <td>How to extract each sheet within an Excel file...</td>\n",
       "      <td>&lt;p&gt;You need to specify the &lt;code&gt;index&lt;/code&gt; ...</td>\n",
       "      <td>python</td>\n",
       "      <td>[-0.05498068407177925, -0.0032414537854492664,...</td>\n",
       "    </tr>\n",
       "    <tr>\n",
       "      <th>...</th>\n",
       "      <td>...</td>\n",
       "      <td>...</td>\n",
       "      <td>...</td>\n",
       "      <td>...</td>\n",
       "    </tr>\n",
       "    <tr>\n",
       "      <th>1995</th>\n",
       "      <td>Is it possible to made inline-block elements l...</td>\n",
       "      <td>&lt;p&gt;If this is only for the visual purpose then...</td>\n",
       "      <td>css</td>\n",
       "      <td>[-0.009190441109240055, -0.01732615754008293, ...</td>\n",
       "    </tr>\n",
       "    <tr>\n",
       "      <th>1996</th>\n",
       "      <td>Flip Clock code works on Codepen and doesn't w...</td>\n",
       "      <td>&lt;p&gt;You forgot to attach the CSS file for the f...</td>\n",
       "      <td>css</td>\n",
       "      <td>[-0.009033069014549255, -0.0009270847076550126...</td>\n",
       "    </tr>\n",
       "    <tr>\n",
       "      <th>1997</th>\n",
       "      <td>React Native How can I put one view in front o...</td>\n",
       "      <td>&lt;p&gt;You can do it using zIndex for example:&lt;/p&gt;...</td>\n",
       "      <td>css</td>\n",
       "      <td>[-0.005803938489407301, -0.016210969537496567,...</td>\n",
       "    </tr>\n",
       "    <tr>\n",
       "      <th>1998</th>\n",
       "      <td>setting fixed width with 100% height of the pa...</td>\n",
       "      <td>&lt;p&gt;You can use &lt;code&gt;width: calc(100% - 100px)...</td>\n",
       "      <td>css</td>\n",
       "      <td>[-0.004366223234683275, -0.02692963369190693, ...</td>\n",
       "    </tr>\n",
       "    <tr>\n",
       "      <th>1999</th>\n",
       "      <td>How to make sidebar button not bring viewpoint...</td>\n",
       "      <td>&lt;p&gt;It is quite simple, just remove that href=\"...</td>\n",
       "      <td>css</td>\n",
       "      <td>[-0.04240424185991287, -0.016337493434548378, ...</td>\n",
       "    </tr>\n",
       "  </tbody>\n",
       "</table>\n",
       "<p>2000 rows × 4 columns</p>\n",
       "</div>"
      ],
      "text/plain": [
       "                                             input_text  \\\n",
       "0     python's inspect.getfile returns \"<string>\"<p>...   \n",
       "1     Passing parameter to function while multithrea...   \n",
       "2     How do we test a specific method written in a ...   \n",
       "3     how can i remove the black bg color of an imag...   \n",
       "4     How to extract each sheet within an Excel file...   \n",
       "...                                                 ...   \n",
       "1995  Is it possible to made inline-block elements l...   \n",
       "1996  Flip Clock code works on Codepen and doesn't w...   \n",
       "1997  React Native How can I put one view in front o...   \n",
       "1998  setting fixed width with 100% height of the pa...   \n",
       "1999  How to make sidebar button not bring viewpoint...   \n",
       "\n",
       "                                            output_text category  \\\n",
       "0     <p><code>&lt;string&gt;</code> means that the ...   python   \n",
       "1     <p>Try this and note the difference:</p>\\n<pre...   python   \n",
       "2     <p>Duplicate of <a href=\"https://stackoverflow...   python   \n",
       "3     <p>The alpha channel &quot;disappears&quot; be...   python   \n",
       "4     <p>You need to specify the <code>index</code> ...   python   \n",
       "...                                                 ...      ...   \n",
       "1995  <p>If this is only for the visual purpose then...      css   \n",
       "1996  <p>You forgot to attach the CSS file for the f...      css   \n",
       "1997  <p>You can do it using zIndex for example:</p>...      css   \n",
       "1998  <p>You can use <code>width: calc(100% - 100px)...      css   \n",
       "1999  <p>It is quite simple, just remove that href=\"...      css   \n",
       "\n",
       "                                             embeddings  \n",
       "0     [-0.03571155667304993, -0.0024068362545222044,...  \n",
       "1     [-0.020243162289261818, -0.002625499852001667,...  \n",
       "2     [-0.05175979062914848, -0.03712264448404312, 0...  \n",
       "3     [0.02206624671816826, -0.028208276256918907, 0...  \n",
       "4     [-0.05498068407177925, -0.0032414537854492664,...  \n",
       "...                                                 ...  \n",
       "1995  [-0.009190441109240055, -0.01732615754008293, ...  \n",
       "1996  [-0.009033069014549255, -0.0009270847076550126...  \n",
       "1997  [-0.005803938489407301, -0.016210969537496567,...  \n",
       "1998  [-0.004366223234683275, -0.02692963369190693, ...  \n",
       "1999  [-0.04240424185991287, -0.016337493434548378, ...  \n",
       "\n",
       "[2000 rows x 4 columns]"
      ]
     },
     "execution_count": 13,
     "metadata": {},
     "output_type": "execute_result"
    }
   ],
   "source": [
    "df['embeddings'] = question_embeddings.tolist()\n",
    "df"
   ]
  },
  {
   "cell_type": "markdown",
   "id": "6d44019b-c571-480e-ba39-937a196b313c",
   "metadata": {},
   "source": [
    "## Semantic Search\n",
    "\n",
    "When a user asks a question, we can embed their query on the fly and search over all of the Stack Overflow question embeddings to find the most simliar datapoint."
   ]
  },
  {
   "cell_type": "code",
   "execution_count": 14,
   "id": "4e64a42d-f3d6-40ac-b12f-3144df18082b",
   "metadata": {},
   "outputs": [],
   "source": [
    "query = ['How to specify a variable name in Python']"
   ]
  },
  {
   "cell_type": "code",
   "execution_count": 15,
   "id": "d2202c07-ec8c-4458-874c-5cfdbd485c0b",
   "metadata": {},
   "outputs": [],
   "source": [
    "query_embedding = embedding_model.get_embeddings(query)[0].values"
   ]
  },
  {
   "cell_type": "code",
   "execution_count": 16,
   "id": "3c9ea816-1597-4684-beed-d7a05fd9b1f2",
   "metadata": {},
   "outputs": [
    {
     "data": {
      "text/plain": [
       "(1, 2000)"
      ]
     },
     "execution_count": 16,
     "metadata": {},
     "output_type": "execute_result"
    }
   ],
   "source": [
    "cosine_similarity_array = cosine_similarity(\n",
    "    [query_embedding], list(df.embeddings.values)\n",
    ")\n",
    "\n",
    "cosine_similarity_array.shape"
   ]
  },
  {
   "cell_type": "markdown",
   "id": "67ebc0de-fcb5-4a47-bfbf-54a23eaa1ffe",
   "metadata": {},
   "source": [
    "Once we have a similarity value between our query embedding and each of the database embeddings, we can extract the index with the highest value. This embedding corresponds to the Stack Overflow post that is most similiar to the question \"How to concat dataframes pandas\"."
   ]
  },
  {
   "cell_type": "code",
   "execution_count": 17,
   "id": "5429023a-d1ce-4617-a871-645b7e1388e6",
   "metadata": {},
   "outputs": [],
   "source": [
    "index_doc_cosine = np.argmax(cosine_similarity_array)"
   ]
  },
  {
   "cell_type": "code",
   "execution_count": 18,
   "id": "b8fae89c-6414-451f-80ea-0b381b05cfad",
   "metadata": {},
   "outputs": [],
   "source": [
    "index_doc_distances = distances_argmin(\n",
    "    [query_embedding], list(df.embeddings.values))[0]"
   ]
  },
  {
   "cell_type": "code",
   "execution_count": 19,
   "id": "de8b2ba4-3ea3-417b-b0f8-4804fba14e21",
   "metadata": {},
   "outputs": [
    {
     "data": {
      "text/plain": [
       "\"react native : How to increase the font?<p>In my example I want to increase the font of the variables\\nWhat is the way to increase the font of <code>elem.Sampling_Method_Code</code>\\nin my case ?</p>\\n<pre><code>var digumMethods = '';\\n    execDetailData.forEach((elem) =&gt; {\\n      digumMethods = digumMethods + '\\\\n' + elem.Sampling_Method_Code + '\\\\n' + elem.Parameters_String + '\\\\n' +__________' + '\\\\n';\\n    });\\n\\n</code></pre>\""
      ]
     },
     "execution_count": 19,
     "metadata": {},
     "output_type": "execute_result"
    }
   ],
   "source": [
    "df.input_text[index_doc_cosine]"
   ]
  },
  {
   "cell_type": "code",
   "execution_count": 20,
   "id": "6a1dec58-bc94-424f-a80a-016b694c60fd",
   "metadata": {},
   "outputs": [
    {
     "data": {
      "text/plain": [
       "\"<p>This one can help</p>\\n<pre><code>const bigTextElement = (text) =&gt; &lt;Text style={{fontSize:20}}&gt;{text}&lt;/Text&gt;;\\n\\nvar digumMethods = '';\\n    execDetailData.forEach((elem) =&gt; {\\n      digumMethods = bigTextElement(digumMethods) + '\\\\n' + elem.Sampling_Method_Code + '\\\\n' + elem.Parameters_String + '\\\\n' +__________' + '\\\\n';\\n    });\\n</code></pre>\""
      ]
     },
     "execution_count": 20,
     "metadata": {},
     "output_type": "execute_result"
    }
   ],
   "source": [
    "df.output_text[index_doc_cosine]"
   ]
  },
  {
   "cell_type": "markdown",
   "id": "dc01d9e1-c5ac-42a8-9ff6-442abd33acad",
   "metadata": {},
   "source": [
    "## Question answering with relevant context\n",
    "\n",
    "Now that we have found the most simliar Stack Overflow question, we can take the corresponding answer and use an LLM to produce a more conversational response"
   ]
  },
  {
   "cell_type": "code",
   "execution_count": 21,
   "id": "a6fcc1ad-e8d8-4df3-bb61-5595e77df0a5",
   "metadata": {},
   "outputs": [],
   "source": [
    "context = \"Question: \" + df.input_text[index_doc_cosine] +\\\n",
    "\"\\n Answer: \" + df.output_text[index_doc_cosine]"
   ]
  },
  {
   "cell_type": "code",
   "execution_count": 25,
   "id": "5aecb927-d39b-4b2d-9ac4-3618741332b1",
   "metadata": {},
   "outputs": [],
   "source": [
    "prompt = f\"\"\"Here is the context: {context}\n",
    "             Using the relevant information from the context,\n",
    "             provide an answer to the query: {query}.\"\n",
    "             If the context doesn't provide \\\n",
    "             any relevant information, \\\n",
    "             answer with \\\n",
    "             [I couldn't find a good match in the \\\n",
    "             document database for your query]\n",
    "             \"\"\""
   ]
  },
  {
   "cell_type": "code",
   "execution_count": 26,
   "id": "86cef48c-cc29-48ac-8be3-bfd3a06f9a9c",
   "metadata": {},
   "outputs": [],
   "source": [
    "config = GenerationConfig(\n",
    "    top_k=20,\n",
    "    temperature=0.8,\n",
    ")"
   ]
  },
  {
   "cell_type": "code",
   "execution_count": 27,
   "id": "b9ea0c3b-ac32-441d-915e-4ca6425c2de5",
   "metadata": {},
   "outputs": [
    {
     "data": {
      "text/markdown": [
       "[I couldn't find a good match in the document database for your query]\n"
      ],
      "text/plain": [
       "<IPython.core.display.Markdown object>"
      ]
     },
     "metadata": {},
     "output_type": "display_data"
    }
   ],
   "source": [
    "response = model.generate_content(contents=prompt, generation_config=config)\n",
    "display(Markdown(response.text))"
   ]
  },
  {
   "cell_type": "markdown",
   "id": "2749686b-53e3-4c6a-bf98-c3a08a7e1a0b",
   "metadata": {},
   "source": [
    "## When the documents don't provide useful information\n",
    "\n",
    "Our current workflow returns the most similar question from our embeddings database. But what do we do when that question isn't actually relevant when answering the user query? In other words, we don't have a good match in our database.\n",
    "\n",
    "In addition to providing a more conversational response, LLMs can help us handle these cases where the most similiar document isn't actually a reasonable answer to the user's query."
   ]
  },
  {
   "cell_type": "code",
   "execution_count": 28,
   "id": "a376c12c-e1f6-48c1-92c7-9b75d4161ceb",
   "metadata": {},
   "outputs": [],
   "source": [
    "query = ['How to make the perfect lasagna']"
   ]
  },
  {
   "cell_type": "code",
   "execution_count": 29,
   "id": "fbf8a9c0-a699-4ca0-9733-4138571b1086",
   "metadata": {},
   "outputs": [],
   "source": [
    "query_embedding = embedding_model.get_embeddings(query)[0].values"
   ]
  },
  {
   "cell_type": "code",
   "execution_count": 30,
   "id": "9631824a-4f53-484f-880a-760aacdac45f",
   "metadata": {},
   "outputs": [
    {
     "data": {
      "text/plain": [
       "(1, 2000)"
      ]
     },
     "execution_count": 30,
     "metadata": {},
     "output_type": "execute_result"
    }
   ],
   "source": [
    "cosine_similarity_array = cosine_similarity(\n",
    "    [query_embedding], list(df.embeddings.values)\n",
    ")\n",
    "\n",
    "cosine_similarity_array.shape"
   ]
  },
  {
   "cell_type": "code",
   "execution_count": 31,
   "id": "3bb086e0-efcb-46ce-8249-c3462e45b617",
   "metadata": {},
   "outputs": [],
   "source": [
    "index_doc = np.argmax(cosine_similarity_array)"
   ]
  },
  {
   "cell_type": "code",
   "execution_count": 32,
   "id": "3f800d56-1507-4e2d-bb06-1998408c0596",
   "metadata": {},
   "outputs": [],
   "source": [
    "context = df.input_text[index_doc] + \\\n",
    "\"\\n Answer: \" + df.output_text[index_doc]"
   ]
  },
  {
   "cell_type": "code",
   "execution_count": 33,
   "id": "6fdd6b98-3962-44f8-a2a1-e1e319b0d1d5",
   "metadata": {},
   "outputs": [],
   "source": [
    "prompt = f\"\"\"Here is the context: {context}\n",
    "             Using the relevant information from the context,\n",
    "             provide an answer to the query: {query}.\"\n",
    "             If the context doesn't provide \\\n",
    "             any relevant information, answer with \n",
    "             [I couldn't find a good match in the \\\n",
    "             document database for your query]\n",
    "             \"\"\""
   ]
  },
  {
   "cell_type": "code",
   "execution_count": 34,
   "id": "24924c18-83fc-4acc-8cb3-e2c2ad088cab",
   "metadata": {},
   "outputs": [],
   "source": [
    "config = GenerationConfig(\n",
    "    temperature=0.2,\n",
    ")"
   ]
  },
  {
   "cell_type": "code",
   "execution_count": 35,
   "id": "4c16d789-9a49-48e9-be5c-8278f91c4fed",
   "metadata": {},
   "outputs": [
    {
     "data": {
      "text/markdown": [
       "[I couldn't find a good match in the document database for your query]\n"
      ],
      "text/plain": [
       "<IPython.core.display.Markdown object>"
      ]
     },
     "metadata": {},
     "output_type": "display_data"
    }
   ],
   "source": [
    "response = model.generate_content(contents=prompt, generation_config=config)\n",
    "display(Markdown(response.text))"
   ]
  },
  {
   "cell_type": "code",
   "execution_count": null,
   "id": "00235b6e-c6ac-4672-a277-98126bb9c9c0",
   "metadata": {},
   "outputs": [],
   "source": []
  }
 ],
 "metadata": {
  "kernelspec": {
   "display_name": "Python 3 (ipykernel)",
   "language": "python",
   "name": "python3"
  },
  "language_info": {
   "codemirror_mode": {
    "name": "ipython",
    "version": 3
   },
   "file_extension": ".py",
   "mimetype": "text/x-python",
   "name": "python",
   "nbconvert_exporter": "python",
   "pygments_lexer": "ipython3",
   "version": "3.10.18"
  }
 },
 "nbformat": 4,
 "nbformat_minor": 5
}
